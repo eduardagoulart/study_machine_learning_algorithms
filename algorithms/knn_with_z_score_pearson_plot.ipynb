{
 "cells": [
  {
   "cell_type": "code",
   "execution_count": 1,
   "id": "e3a39540",
   "metadata": {},
   "outputs": [],
   "source": [
    "import pandas as pd\n",
    "import numpy as np\n",
    "import matplotlib.pyplot as plt\n",
    "import seaborn as sns"
   ]
  },
  {
   "cell_type": "code",
   "execution_count": 2,
   "id": "d8fc146d",
   "metadata": {},
   "outputs": [],
   "source": [
    "def round_est_values(df):\n",
    "    round_actual = np.round(df[\"est\"], decimals=0)\n",
    "    round_actual = round_actual.reset_index()\n",
    "    df = df.reset_index()[[\"index\", \"actual\", \"details\"]]\n",
    "    df = df.merge(round_actual, on=\"index\", how=\"left\")\n",
    "    df = df.set_index(\"index\")\n",
    "    grouped = df.groupby(\"est\", as_index=False).count()\n",
    "    return grouped"
   ]
  },
  {
   "cell_type": "code",
   "execution_count": 3,
   "id": "22c87c14",
   "metadata": {},
   "outputs": [],
   "source": [
    "pearson_fold_0 = pd.read_parquet(f\"../predictions/knn_with_z_score/anime_type_tv/no_filter/knn_with_z_score_pearson_0.parquet\")\n",
    "pearson_fold_1 = pd.read_parquet(f\"../predictions/knn_with_z_score/anime_type_tv/no_filter/knn_with_z_score_pearson_1.parquet\")\n",
    "pearson_fold_2 = pd.read_parquet(f\"../predictions/knn_with_z_score/anime_type_tv/no_filter/knn_with_z_score_pearson_2.parquet\")\n",
    "pearson_fold_3 = pd.read_parquet(f\"../predictions/knn_with_z_score/anime_type_tv/no_filter/knn_with_z_score_pearson_3.parquet\")\n",
    "pearson_fold_4 = pd.read_parquet(f\"../predictions/knn_with_z_score/anime_type_tv/no_filter/knn_with_z_score_pearson_4.parquet\")\n",
    "\n",
    "df = pd.concat([pearson_fold_0, pearson_fold_1, pearson_fold_2, pearson_fold_3, pearson_fold_4])"
   ]
  },
  {
   "cell_type": "markdown",
   "id": "47fffb85",
   "metadata": {},
   "source": [
    "### Pearson"
   ]
  },
  {
   "cell_type": "markdown",
   "id": "0b3cee00",
   "metadata": {},
   "source": [
    "Os gráficos são comparativo da nota real VS a nota predita. Filtrando cada nota real (de 1 a 10), quais são as notas preditas por cada algoritmo usando similaridade de pearson"
   ]
  },
  {
   "cell_type": "code",
   "execution_count": 4,
   "id": "95bdbbac",
   "metadata": {},
   "outputs": [
    {
     "name": "stdout",
     "output_type": "stream",
     "text": [
      "    est   actual  details\n",
      "0   1.0  3589060  3589060\n",
      "1   2.0   461115   461115\n",
      "2   3.0   441695   441695\n",
      "3   4.0   539885   539885\n",
      "4   5.0   917880   917880\n",
      "5   6.0  2208215  2208215\n",
      "6   7.0  5071171  5071171\n",
      "7   8.0  7073440  7073440\n",
      "8   9.0  4605725  4605725\n",
      "9  10.0  1509790  1509790\n"
     ]
    }
   ],
   "source": [
    "df_grouped = round_est_values(df)\n",
    "print(df_grouped)"
   ]
  },
  {
   "cell_type": "code",
   "execution_count": 5,
   "id": "6d8af189",
   "metadata": {},
   "outputs": [
    {
     "data": {
      "text/plain": [
       "<AxesSubplot:title={'center':'Distribuição valores preditos - (knn_with_z_score)'}, xlabel='est'>"
      ]
     },
     "execution_count": 5,
     "metadata": {},
     "output_type": "execute_result"
    },
    {
     "data": {
      "image/png": "[encoded data removed]",
      "text/plain": [
       "<Figure size 432x288 with 1 Axes>"
      ]
     },
     "metadata": {
      "needs_background": "light"
     },
     "output_type": "display_data"
    }
   ],
   "source": [
    "df_grouped.plot.bar(x='est', y='actual', title=\"Distribuição valores preditos - (knn_with_z_score)\")"
   ]
  },
  {
   "cell_type": "code",
   "execution_count": 6,
   "id": "3d4fb94a",
   "metadata": {},
   "outputs": [
    {
     "name": "stdout",
     "output_type": "stream",
     "text": [
      "    est  actual  details\n",
      "0   1.0     618      618\n",
      "1   2.0     483      483\n",
      "2   3.0     681      681\n",
      "3   4.0     962      962\n",
      "4   5.0    1369     1369\n",
      "5   6.0    1524     1524\n",
      "6   7.0    1362     1362\n",
      "7   8.0     810      810\n",
      "8   9.0     341      341\n",
      "9  10.0     103      103\n"
     ]
    }
   ],
   "source": [
    "df_actual_1 = df.loc[df[\"actual\"] == 1]\n",
    "plot_pearson_counter = round_est_values(df_actual_1)\n",
    "print(plot_pearson_counter)"
   ]
  },
  {
   "cell_type": "code",
   "execution_count": 7,
   "id": "4e504e37",
   "metadata": {},
   "outputs": [
    {
     "data": {
      "text/plain": [
       "<AxesSubplot:title={'center':'Actual 1 counter'}, xlabel='est'>"
      ]
     },
     "execution_count": 7,
     "metadata": {},
     "output_type": "execute_result"
    },
    {
     "data": {
      "image/png": "[encoded data removed]",
      "text/plain": [
       "<Figure size 432x288 with 1 Axes>"
      ]
     },
     "metadata": {
      "needs_background": "light"
     },
     "output_type": "display_data"
    }
   ],
   "source": [
    "plot_pearson_counter.plot.bar(x='est', y='actual', title=\"Actual 1 counter\")"
   ]
  },
  {
   "cell_type": "code",
   "execution_count": 8,
   "id": "d5b3e881",
   "metadata": {},
   "outputs": [
    {
     "name": "stdout",
     "output_type": "stream",
     "text": [
      "    est  actual  details\n",
      "0   1.0     319      319\n",
      "1   2.0     320      320\n",
      "2   3.0     803      803\n",
      "3   4.0    1792     1792\n",
      "4   5.0    2623     2623\n",
      "5   6.0    3010     3010\n",
      "6   7.0    2359     2359\n",
      "7   8.0    1178     1178\n",
      "8   9.0     352      352\n",
      "9  10.0      76       76\n"
     ]
    }
   ],
   "source": [
    "df_actual_2 = df.loc[df[\"actual\"] == 2]\n",
    "plot_pearson_counter_2 = round_est_values(df_actual_2)\n",
    "print(plot_pearson_counter_2)"
   ]
  },
  {
   "cell_type": "code",
   "execution_count": 9,
   "id": "47097ce1",
   "metadata": {},
   "outputs": [
    {
     "data": {
      "text/plain": [
       "<AxesSubplot:title={'center':'Actual 2 counter'}, xlabel='est'>"
      ]
     },
     "execution_count": 9,
     "metadata": {},
     "output_type": "execute_result"
    },
    {
     "data": {
      "image/png": "[encoded data removed]",
      "text/plain": [
       "<Figure size 432x288 with 1 Axes>"
      ]
     },
     "metadata": {
      "needs_background": "light"
     },
     "output_type": "display_data"
    }
   ],
   "source": [
    "plot_pearson_counter_2.plot.bar(x='est', y='actual', title=\"Actual 2 counter\")"
   ]
  },
  {
   "cell_type": "code",
   "execution_count": 10,
   "id": "148743c3",
   "metadata": {},
   "outputs": [
    {
     "name": "stdout",
     "output_type": "stream",
     "text": [
      "    est  actual  details\n",
      "0   1.0     421      421\n",
      "1   2.0     365      365\n",
      "2   3.0     995      995\n",
      "3   4.0    2835     2835\n",
      "4   5.0    5361     5361\n",
      "5   6.0    6711     6711\n",
      "6   7.0    4911     4911\n",
      "7   8.0    2241     2241\n",
      "8   9.0     541      541\n",
      "9  10.0      99       99\n"
     ]
    }
   ],
   "source": [
    "df_actual_3 = df.loc[df[\"actual\"] == 3]\n",
    "plot_pearson_counter_3 = round_est_values(df_actual_3)\n",
    "print(plot_pearson_counter_3)"
   ]
  },
  {
   "cell_type": "code",
   "execution_count": 11,
   "id": "766a09da",
   "metadata": {},
   "outputs": [
    {
     "data": {
      "text/plain": [
       "<AxesSubplot:title={'center':'Actual 3 counter'}, xlabel='est'>"
      ]
     },
     "execution_count": 11,
     "metadata": {},
     "output_type": "execute_result"
    },
    {
     "data": {
      "image/png": "[encoded data removed]",
      "text/plain": [
       "<Figure size 432x288 with 1 Axes>"
      ]
     },
     "metadata": {
      "needs_background": "light"
     },
     "output_type": "display_data"
    }
   ],
   "source": [
    "plot_pearson_counter_3.plot.bar(x='est', y='actual', title=\"Actual 3 counter\")"
   ]
  },
  {
   "cell_type": "code",
   "execution_count": 12,
   "id": "9763368d",
   "metadata": {},
   "outputs": [
    {
     "name": "stdout",
     "output_type": "stream",
     "text": [
      "    est  actual  details\n",
      "0   1.0     952      952\n",
      "1   2.0     705      705\n",
      "2   3.0    1571     1571\n",
      "3   4.0    4634     4634\n",
      "4   5.0   11979    11979\n",
      "5   6.0   19466    19466\n",
      "6   7.0   16662    16662\n",
      "7   8.0    7386     7386\n",
      "8   9.0    1902     1902\n",
      "9  10.0     260      260\n"
     ]
    }
   ],
   "source": [
    "df_actual_4 = df.loc[df[\"actual\"] == 4]\n",
    "plot_pearson_counter_4 = round_est_values(df_actual_4)\n",
    "print(plot_pearson_counter_4)"
   ]
  },
  {
   "cell_type": "code",
   "execution_count": 13,
   "id": "8f31ee3c",
   "metadata": {},
   "outputs": [
    {
     "data": {
      "text/plain": [
       "<AxesSubplot:title={'center':'Actual 4 counter'}, xlabel='est'>"
      ]
     },
     "execution_count": 13,
     "metadata": {},
     "output_type": "execute_result"
    },
    {
     "data": {
      "image/png": "[encoded data removed]",
      "text/plain": [
       "<Figure size 432x288 with 1 Axes>"
      ]
     },
     "metadata": {
      "needs_background": "light"
     },
     "output_type": "display_data"
    }
   ],
   "source": [
    "plot_pearson_counter_4.plot.bar(x='est', y='actual', title=\"Actual 4 counter\")"
   ]
  },
  {
   "cell_type": "code",
   "execution_count": 14,
   "id": "d47b8a66",
   "metadata": {},
   "outputs": [
    {
     "name": "stdout",
     "output_type": "stream",
     "text": [
      "    est  actual  details\n",
      "0   1.0    2484     2484\n",
      "1   2.0    1803     1803\n",
      "2   3.0    3152     3152\n",
      "3   4.0    7413     7413\n",
      "4   5.0   24551    24551\n",
      "5   6.0   56989    56989\n",
      "6   7.0   59859    59859\n",
      "7   8.0   27734    27734\n",
      "8   9.0    6458     6458\n",
      "9  10.0     924      924\n"
     ]
    }
   ],
   "source": [
    "df_actual_5 = df.loc[df[\"actual\"] == 5]\n",
    "plot_pearson_counter_5 = round_est_values(df_actual_5)\n",
    "print(plot_pearson_counter_5)"
   ]
  },
  {
   "cell_type": "code",
   "execution_count": 15,
   "id": "186b4675",
   "metadata": {},
   "outputs": [
    {
     "data": {
      "text/plain": [
       "<AxesSubplot:title={'center':'Actual 5 counter'}, xlabel='est'>"
      ]
     },
     "execution_count": 15,
     "metadata": {},
     "output_type": "execute_result"
    },
    {
     "data": {
      "image/png": "[encoded data removed]",
      "text/plain": [
       "<Figure size 432x288 with 1 Axes>"
      ]
     },
     "metadata": {
      "needs_background": "light"
     },
     "output_type": "display_data"
    }
   ],
   "source": [
    "plot_pearson_counter_5.plot.bar(x='est', y='actual', title=\"Actual 5 counter\")"
   ]
  },
  {
   "cell_type": "code",
   "execution_count": 16,
   "id": "9c133b82",
   "metadata": {},
   "outputs": [
    {
     "name": "stdout",
     "output_type": "stream",
     "text": [
      "    est  actual  details\n",
      "0   1.0    5141     5141\n",
      "1   2.0    3905     3905\n",
      "2   3.0    5908     5908\n",
      "3   4.0   11316    11316\n",
      "4   5.0   34920    34920\n",
      "5   6.0  121496   121496\n",
      "6   7.0  200641   200641\n",
      "7   8.0  110169   110169\n",
      "8   9.0   25578    25578\n",
      "9  10.0    3154     3154\n"
     ]
    }
   ],
   "source": [
    "df_actual_6 = df.loc[df[\"actual\"] == 6]\n",
    "plot_pearson_counter_6 = round_est_values(df_actual_6)\n",
    "print(plot_pearson_counter_6)"
   ]
  },
  {
   "cell_type": "code",
   "execution_count": 17,
   "id": "047fbe05",
   "metadata": {},
   "outputs": [
    {
     "data": {
      "text/plain": [
       "<AxesSubplot:title={'center':'Actual 6 counter'}, xlabel='est'>"
      ]
     },
     "execution_count": 17,
     "metadata": {},
     "output_type": "execute_result"
    },
    {
     "data": {
      "image/png": "[encoded data removed]",
      "text/plain": [
       "<Figure size 432x288 with 1 Axes>"
      ]
     },
     "metadata": {
      "needs_background": "light"
     },
     "output_type": "display_data"
    }
   ],
   "source": [
    "plot_pearson_counter_6.plot.bar(x='est', y='actual', title=\"Actual 6 counter\")"
   ]
  },
  {
   "cell_type": "code",
   "execution_count": 18,
   "id": "0946827e",
   "metadata": {},
   "outputs": [
    {
     "name": "stdout",
     "output_type": "stream",
     "text": [
      "    est  actual  details\n",
      "0   1.0   13964    13964\n",
      "1   2.0    9982     9982\n",
      "2   3.0   14503    14503\n",
      "3   4.0   23281    23281\n",
      "4   5.0   53079    53079\n",
      "5   6.0  189192   189192\n",
      "6   7.0  564505   564505\n",
      "7   8.0  529864   529864\n",
      "8   9.0  141558   141558\n",
      "9  10.0   16416    16416\n"
     ]
    }
   ],
   "source": [
    "df_actual_7 = df.loc[df[\"actual\"] == 7]\n",
    "plot_pearson_counter_7 = round_est_values(df_actual_7)\n",
    "print(plot_pearson_counter_7)"
   ]
  },
  {
   "cell_type": "code",
   "execution_count": 19,
   "id": "2dd5d395",
   "metadata": {},
   "outputs": [
    {
     "data": {
      "text/plain": [
       "<AxesSubplot:title={'center':'Actual 7 counter'}, xlabel='est'>"
      ]
     },
     "execution_count": 19,
     "metadata": {},
     "output_type": "execute_result"
    },
    {
     "data": {
      "image/png": "[encoded data removed]",
      "text/plain": [
       "<Figure size 432x288 with 1 Axes>"
      ]
     },
     "metadata": {
      "needs_background": "light"
     },
     "output_type": "display_data"
    }
   ],
   "source": [
    "plot_pearson_counter_7.plot.bar(x='est', y='actual', title=\"Actual 7 counter\")"
   ]
  },
  {
   "cell_type": "code",
   "execution_count": 20,
   "id": "32591dc0",
   "metadata": {},
   "outputs": [
    {
     "name": "stdout",
     "output_type": "stream",
     "text": [
      "    est  actual  details\n",
      "0   1.0   19466    19466\n",
      "1   2.0   13753    13753\n",
      "2   3.0   18824    18824\n",
      "3   4.0   26654    26654\n",
      "4   5.0   47203    47203\n",
      "5   6.0  134339   134339\n",
      "6   7.0  492521   492521\n",
      "7   8.0  944794   944794\n",
      "8   9.0  435739   435739\n",
      "9  10.0   56179    56179\n"
     ]
    }
   ],
   "source": [
    "df_actual_8 = df.loc[df[\"actual\"] == 8]\n",
    "plot_pearson_counter_8 = round_est_values(df_actual_8)\n",
    "print(plot_pearson_counter_8)"
   ]
  },
  {
   "cell_type": "code",
   "execution_count": 21,
   "id": "677f6ea0",
   "metadata": {},
   "outputs": [
    {
     "data": {
      "text/plain": [
       "<AxesSubplot:title={'center':'Actual 8 counter'}, xlabel='est'>"
      ]
     },
     "execution_count": 21,
     "metadata": {},
     "output_type": "execute_result"
    },
    {
     "data": {
      "image/png": "[encoded data removed]",
      "text/plain": [
       "<Figure size 432x288 with 1 Axes>"
      ]
     },
     "metadata": {
      "needs_background": "light"
     },
     "output_type": "display_data"
    }
   ],
   "source": [
    "plot_pearson_counter_8.plot.bar(x='est', y='actual', title=\"Actual 8 counter\")"
   ]
  },
  {
   "cell_type": "code",
   "execution_count": 22,
   "id": "79d11434",
   "metadata": {},
   "outputs": [
    {
     "name": "stdout",
     "output_type": "stream",
     "text": [
      "    est  actual  details\n",
      "0   1.0   16971    16971\n",
      "1   2.0   10512    10512\n",
      "2   3.0   13258    13258\n",
      "3   4.0   18140    18140\n",
      "4   5.0   28119    28119\n",
      "5   6.0   61430    61430\n",
      "6   7.0  193915   193915\n",
      "7   8.0  544362   544362\n",
      "8   9.0  542097   542097\n",
      "9  10.0  120584   120584\n"
     ]
    }
   ],
   "source": [
    "df_actua_9 = df.loc[df[\"actual\"] == 9]\n",
    "plot_pearson_counter_9 = round_est_values(df_actua_9)\n",
    "print(plot_pearson_counter_9)"
   ]
  },
  {
   "cell_type": "code",
   "execution_count": 23,
   "id": "8195813e",
   "metadata": {},
   "outputs": [
    {
     "data": {
      "text/plain": [
       "<AxesSubplot:title={'center':'Actual 9 counter'}, xlabel='est'>"
      ]
     },
     "execution_count": 23,
     "metadata": {},
     "output_type": "execute_result"
    },
    {
     "data": {
      "image/png": "[encoded data removed]",
      "text/plain": [
       "<Figure size 432x288 with 1 Axes>"
      ]
     },
     "metadata": {
      "needs_background": "light"
     },
     "output_type": "display_data"
    }
   ],
   "source": [
    "plot_pearson_counter_9.plot.bar(x='est', y='actual', title=\"Actual 9 counter\")"
   ]
  },
  {
   "cell_type": "code",
   "execution_count": 24,
   "id": "7ee69a50",
   "metadata": {},
   "outputs": [
    {
     "name": "stdout",
     "output_type": "stream",
     "text": [
      "    est  actual  details\n",
      "0   1.0   18360    18360\n",
      "1   2.0    9613     9613\n",
      "2   3.0   11272    11272\n",
      "3   4.0   13939    13939\n",
      "4   5.0   18287    18287\n",
      "5   6.0   33364    33364\n",
      "6   7.0   75979    75979\n",
      "7   8.0  213048   213048\n",
      "8   9.0  376372   376372\n",
      "9  10.0  279393   279393\n"
     ]
    }
   ],
   "source": [
    "df_actua_10 = df.loc[df[\"actual\"] == 10]\n",
    "plot_pearson_counter_10 = round_est_values(df_actua_10)\n",
    "print(plot_pearson_counter_10)"
   ]
  },
  {
   "cell_type": "code",
   "execution_count": 25,
   "id": "57c550c6",
   "metadata": {},
   "outputs": [
    {
     "data": {
      "text/plain": [
       "<AxesSubplot:title={'center':'Actual 10 counter'}, xlabel='est'>"
      ]
     },
     "execution_count": 25,
     "metadata": {},
     "output_type": "execute_result"
    },
    {
     "data": {
      "image/png": "[encoded data removed]",
      "text/plain": [
       "<Figure size 432x288 with 1 Axes>"
      ]
     },
     "metadata": {
      "needs_background": "light"
     },
     "output_type": "display_data"
    }
   ],
   "source": [
    "plot_pearson_counter_10.plot.bar(x='est', y='actual', title=\"Actual 10 counter\")"
   ]
  },
  {
   "cell_type": "code",
   "execution_count": 26,
   "id": "4b7463f0",
   "metadata": {},
   "outputs": [],
   "source": [
    "round_df = np.round(df[\"est\"], decimals=0)\n",
    "round_df = round_df.reset_index()\n",
    "df = df.reset_index()[[\"index\", \"actual\", \"details\"]]\n",
    "df = df.merge(round_df, on=\"index\", how=\"left\")"
   ]
  },
  {
   "cell_type": "code",
   "execution_count": 27,
   "id": "76110117",
   "metadata": {},
   "outputs": [
    {
     "name": "stdout",
     "output_type": "stream",
     "text": [
      "    est   actual  details\n",
      "0   1.0  3589060  3589060\n",
      "1   2.0   461115   461115\n",
      "2   3.0   441695   441695\n",
      "3   4.0   539885   539885\n",
      "4   5.0   917880   917880\n",
      "5   6.0  2208215  2208215\n",
      "6   7.0  5071171  5071171\n",
      "7   8.0  7073440  7073440\n",
      "8   9.0  4605725  4605725\n",
      "9  10.0  1509790  1509790\n"
     ]
    }
   ],
   "source": [
    "df = df.set_index(\"index\")\n",
    "plot_df = df.groupby(\"est\", as_index=False).count()\n",
    "print(plot_df)"
   ]
  },
  {
   "cell_type": "code",
   "execution_count": 28,
   "id": "4df0ebc3",
   "metadata": {},
   "outputs": [],
   "source": [
    "def plot_violin_graph_base(list_of_data, title):\n",
    "    # Create a figure instance\n",
    "    fig = plt.figure()\n",
    "  \n",
    "    # Create an axes instance\n",
    "    ax = fig.gca()\n",
    "    ax.set_title(title)\n",
    "    # Create the violinplot\n",
    "    violinplot = ax.violinplot(list_of_data)\n",
    "    plt.show()"
   ]
  },
  {
   "cell_type": "markdown",
   "id": "2387f0a9",
   "metadata": {},
   "source": [
    "Gráfico para o estudo de como está distribuição de notas preditas"
   ]
  },
  {
   "cell_type": "code",
   "execution_count": 29,
   "id": "9baa64dc",
   "metadata": {},
   "outputs": [
    {
     "data": {
      "image/png": "[encoded data removed]",
      "text/plain": [
       "<Figure size 432x288 with 1 Axes>"
      ]
     },
     "metadata": {
      "needs_background": "light"
     },
     "output_type": "display_data"
    }
   ],
   "source": [
    "est_df = df[\"est\"].tolist()\n",
    "plot_violin_graph_base(est_df, title=\"all folds estimation\")"
   ]
  },
  {
   "cell_type": "markdown",
   "id": "6c291100",
   "metadata": {},
   "source": [
    "é notório também que as notas reais estão amis concentradas entre 6 e 8, o que infuencia na predição. O algoritmo tende a acertar mais quando com essas notas e errar com notas entre 1 e 4"
   ]
  },
  {
   "cell_type": "code",
   "execution_count": 30,
   "id": "23f2a141",
   "metadata": {},
   "outputs": [
    {
     "data": {
      "image/png": "[encoded data removed]",
      "text/plain": [
       "<Figure size 432x288 with 1 Axes>"
      ]
     },
     "metadata": {
      "needs_background": "light"
     },
     "output_type": "display_data"
    }
   ],
   "source": [
    "est_df = df[\"actual\"].tolist()\n",
    "plot_violin_graph_base(est_df, title=\"all folds actual\")"
   ]
  },
  {
   "cell_type": "markdown",
   "id": "8da375f2",
   "metadata": {},
   "source": [
    "# Removing negative grades"
   ]
  },
  {
   "cell_type": "markdown",
   "id": "0ec3a66f",
   "metadata": {},
   "source": [
    "### Cossine"
   ]
  },
  {
   "cell_type": "code",
   "execution_count": 31,
   "id": "bbbc60c5",
   "metadata": {},
   "outputs": [],
   "source": [
    "knn_basic_0 = pd.read_parquet(f\"../predictions/knn_with_z_score/anime_type_tv/with_filter_remove_negative/knn_with_z_score_pearson_0.parquet\")\n",
    "knn_basic_1 = pd.read_parquet(f\"../predictions/knn_with_z_score/anime_type_tv/with_filter_remove_negative/knn_with_z_score_pearson_1.parquet\")\n",
    "knn_basic_2 = pd.read_parquet(f\"../predictions/knn_with_z_score/anime_type_tv/with_filter_remove_negative/knn_with_z_score_pearson_2.parquet\")\n",
    "knn_basic_3 = pd.read_parquet(f\"../predictions/knn_with_z_score/anime_type_tv/with_filter_remove_negative/knn_with_z_score_pearson_3.parquet\")\n",
    "knn_basic_4 = pd.read_parquet(f\"../predictions/knn_with_z_score/anime_type_tv/with_filter_remove_negative/knn_with_z_score_pearson_4.parquet\")\n",
    "knn_basic = pd.concat([knn_basic_0, knn_basic_1, knn_basic_2, knn_basic_3, knn_basic_4])"
   ]
  },
  {
   "cell_type": "code",
   "execution_count": 32,
   "id": "84e5b0a8",
   "metadata": {},
   "outputs": [
    {
     "name": "stdout",
     "output_type": "stream",
     "text": [
      "    est   actual  details\n",
      "0   1.0  3589920  3589920\n",
      "1   2.0   460775   460775\n",
      "2   3.0   440290   440290\n",
      "3   4.0   540525   540525\n",
      "4   5.0   918655   918655\n",
      "5   6.0  2210680  2210680\n",
      "6   7.0  5073295  5073295\n",
      "7   8.0  7068205  7068205\n",
      "8   9.0  4607630  4607630\n",
      "9  10.0  1508001  1508001\n"
     ]
    }
   ],
   "source": [
    "df_grouped = round_est_values(knn_basic)\n",
    "print(df_grouped)"
   ]
  },
  {
   "cell_type": "code",
   "execution_count": 33,
   "id": "16cefc0a",
   "metadata": {},
   "outputs": [
    {
     "data": {
      "text/plain": [
       "<AxesSubplot:title={'center':'Distribuição valores preditos (filtro -1) - knn_with_z_score'}, xlabel='est'>"
      ]
     },
     "execution_count": 33,
     "metadata": {},
     "output_type": "execute_result"
    },
    {
     "data": {
      "image/png": "[encoded data removed]",
      "text/plain": [
       "<Figure size 432x288 with 1 Axes>"
      ]
     },
     "metadata": {
      "needs_background": "light"
     },
     "output_type": "display_data"
    }
   ],
   "source": [
    "df_grouped.plot.bar(x='est', y='actual', title=\"Distribuição valores preditos (filtro -1) - knn_with_z_score\")"
   ]
  },
  {
   "cell_type": "code",
   "execution_count": 34,
   "id": "c2999b6e",
   "metadata": {},
   "outputs": [
    {
     "name": "stdout",
     "output_type": "stream",
     "text": [
      "    est  actual  details\n",
      "0   1.0     626      626\n",
      "1   2.0     487      487\n",
      "2   3.0     662      662\n",
      "3   4.0     970      970\n",
      "4   5.0    1325     1325\n",
      "5   6.0    1570     1570\n",
      "6   7.0    1364     1364\n",
      "7   8.0     831      831\n",
      "8   9.0     337      337\n",
      "9  10.0     101      101\n"
     ]
    }
   ],
   "source": [
    "df_actual_with_filter_1 = knn_basic.loc[knn_basic[\"actual\"] == 1]\n",
    "df_actual_with_filter_1_plot = round_est_values(df_actual_with_filter_1)\n",
    "print(df_actual_with_filter_1_plot)"
   ]
  },
  {
   "cell_type": "code",
   "execution_count": 35,
   "id": "0fb96551",
   "metadata": {},
   "outputs": [
    {
     "data": {
      "text/plain": [
       "<AxesSubplot:title={'center':'Actual 1 counter (filter -1)'}, xlabel='est'>"
      ]
     },
     "execution_count": 35,
     "metadata": {},
     "output_type": "execute_result"
    },
    {
     "data": {
      "image/png": "[encoded data removed]",
      "text/plain": [
       "<Figure size 432x288 with 1 Axes>"
      ]
     },
     "metadata": {
      "needs_background": "light"
     },
     "output_type": "display_data"
    }
   ],
   "source": [
    "df_actual_with_filter_1_plot.plot.bar(x='est', y='actual', title=\"Actual 1 counter (filter -1)\")"
   ]
  },
  {
   "cell_type": "code",
   "execution_count": 36,
   "id": "49bb933d",
   "metadata": {},
   "outputs": [
    {
     "name": "stdout",
     "output_type": "stream",
     "text": [
      "    est  actual  details\n",
      "0   1.0     332      332\n",
      "1   2.0     321      321\n",
      "2   3.0     790      790\n",
      "3   4.0    1674     1674\n",
      "4   5.0    2693     2693\n",
      "5   6.0    3088     3088\n",
      "6   7.0    2333     2333\n",
      "7   8.0    1157     1157\n",
      "8   9.0     384      384\n",
      "9  10.0      68       68\n"
     ]
    }
   ],
   "source": [
    "df_actual_with_filter_2 = knn_basic.loc[knn_basic[\"actual\"] == 2]\n",
    "df_actual_with_filter_2_plot = round_est_values(df_actual_with_filter_2)\n",
    "print(df_actual_with_filter_2_plot)"
   ]
  },
  {
   "cell_type": "code",
   "execution_count": 37,
   "id": "3844f54e",
   "metadata": {},
   "outputs": [
    {
     "data": {
      "text/plain": [
       "<AxesSubplot:title={'center':'Actual 2 counter (filter -1)'}, xlabel='est'>"
      ]
     },
     "execution_count": 37,
     "metadata": {},
     "output_type": "execute_result"
    },
    {
     "data": {
      "image/png": "[encoded data removed]",
      "text/plain": [
       "<Figure size 432x288 with 1 Axes>"
      ]
     },
     "metadata": {
      "needs_background": "light"
     },
     "output_type": "display_data"
    }
   ],
   "source": [
    "df_actual_with_filter_2_plot.plot.bar(x='est', y='actual', title=\"Actual 2 counter (filter -1)\")"
   ]
  },
  {
   "cell_type": "code",
   "execution_count": 38,
   "id": "4a218f67",
   "metadata": {},
   "outputs": [
    {
     "name": "stdout",
     "output_type": "stream",
     "text": [
      "    est  actual  details\n",
      "0   1.0     425      425\n",
      "1   2.0     359      359\n",
      "2   3.0    1033     1033\n",
      "3   4.0    2820     2820\n",
      "4   5.0    5383     5383\n",
      "5   6.0    6656     6656\n",
      "6   7.0    4975     4975\n",
      "7   8.0    2233     2233\n",
      "8   9.0     522      522\n",
      "9  10.0     102      102\n"
     ]
    }
   ],
   "source": [
    "df_actual_with_filter_3 = knn_basic.loc[knn_basic[\"actual\"] == 3]\n",
    "df_actual_with_filter_3_plot = round_est_values(df_actual_with_filter_3)\n",
    "print(df_actual_with_filter_3_plot)"
   ]
  },
  {
   "cell_type": "code",
   "execution_count": 39,
   "id": "5fb4dd78",
   "metadata": {},
   "outputs": [
    {
     "data": {
      "text/plain": [
       "<AxesSubplot:title={'center':'Actual 3 counter (filter -1)'}, xlabel='est'>"
      ]
     },
     "execution_count": 39,
     "metadata": {},
     "output_type": "execute_result"
    },
    {
     "data": {
      "image/png": "[encoded data removed]",
      "text/plain": [
       "<Figure size 432x288 with 1 Axes>"
      ]
     },
     "metadata": {
      "needs_background": "light"
     },
     "output_type": "display_data"
    }
   ],
   "source": [
    "df_actual_with_filter_3_plot.plot.bar(x='est', y='actual', title=\"Actual 3 counter (filter -1)\")"
   ]
  },
  {
   "cell_type": "code",
   "execution_count": 40,
   "id": "4c51f87e",
   "metadata": {},
   "outputs": [
    {
     "name": "stdout",
     "output_type": "stream",
     "text": [
      "    est  actual  details\n",
      "0   1.0     997      997\n",
      "1   2.0     695      695\n",
      "2   3.0    1584     1584\n",
      "3   4.0    4587     4587\n",
      "4   5.0   11956    11956\n",
      "5   6.0   19493    19493\n",
      "6   7.0   16839    16839\n",
      "7   8.0    7282     7282\n",
      "8   9.0    1886     1886\n",
      "9  10.0     290      290\n"
     ]
    }
   ],
   "source": [
    "df_actual_with_filter_4 = knn_basic.loc[knn_basic[\"actual\"] == 4]\n",
    "df_actual_with_filter_4_plot = round_est_values(df_actual_with_filter_4)\n",
    "print(df_actual_with_filter_4_plot)"
   ]
  },
  {
   "cell_type": "code",
   "execution_count": 41,
   "id": "c101ef76",
   "metadata": {},
   "outputs": [
    {
     "data": {
      "text/plain": [
       "<AxesSubplot:title={'center':'Actual 4 counter (filter -1)'}, xlabel='est'>"
      ]
     },
     "execution_count": 41,
     "metadata": {},
     "output_type": "execute_result"
    },
    {
     "data": {
      "image/png": "[encoded data removed]",
      "text/plain": [
       "<Figure size 432x288 with 1 Axes>"
      ]
     },
     "metadata": {
      "needs_background": "light"
     },
     "output_type": "display_data"
    }
   ],
   "source": [
    "df_actual_with_filter_4_plot.plot.bar(x='est', y='actual', title=\"Actual 4 counter (filter -1)\")"
   ]
  },
  {
   "cell_type": "code",
   "execution_count": 42,
   "id": "4475d1a8",
   "metadata": {},
   "outputs": [
    {
     "name": "stdout",
     "output_type": "stream",
     "text": [
      "    est  actual  details\n",
      "0   1.0    2542     2542\n",
      "1   2.0    1789     1789\n",
      "2   3.0    3106     3106\n",
      "3   4.0    7576     7576\n",
      "4   5.0   24496    24496\n",
      "5   6.0   57350    57350\n",
      "6   7.0   59644    59644\n",
      "7   8.0   27473    27473\n",
      "8   9.0    6496     6496\n",
      "9  10.0     921      921\n"
     ]
    }
   ],
   "source": [
    "df_actual_with_filter_5 = knn_basic.loc[knn_basic[\"actual\"] == 5]\n",
    "df_actual_with_filter_5_plot = round_est_values(df_actual_with_filter_5)\n",
    "print(df_actual_with_filter_5_plot)"
   ]
  },
  {
   "cell_type": "code",
   "execution_count": 43,
   "id": "b4695c2f",
   "metadata": {},
   "outputs": [
    {
     "data": {
      "text/plain": [
       "<AxesSubplot:title={'center':'Actual 5 counter (filter -1)'}, xlabel='est'>"
      ]
     },
     "execution_count": 43,
     "metadata": {},
     "output_type": "execute_result"
    },
    {
     "data": {
      "image/png": "[encoded data removed]",
      "text/plain": [
       "<Figure size 432x288 with 1 Axes>"
      ]
     },
     "metadata": {
      "needs_background": "light"
     },
     "output_type": "display_data"
    }
   ],
   "source": [
    "df_actual_with_filter_5_plot.plot.bar(x='est', y='actual', title=\"Actual 5 counter (filter -1)\")"
   ]
  },
  {
   "cell_type": "code",
   "execution_count": 44,
   "id": "f5d29957",
   "metadata": {},
   "outputs": [
    {
     "name": "stdout",
     "output_type": "stream",
     "text": [
      "    est  actual  details\n",
      "0   1.0    5232     5232\n",
      "1   2.0    3920     3920\n",
      "2   3.0    5902     5902\n",
      "3   4.0   11110    11110\n",
      "4   5.0   34715    34715\n",
      "5   6.0  122150   122150\n",
      "6   7.0  199625   199625\n",
      "7   8.0  110311   110311\n",
      "8   9.0   25571    25571\n",
      "9  10.0    3082     3082\n"
     ]
    }
   ],
   "source": [
    "df_actual_with_filter_6 = knn_basic.loc[knn_basic[\"actual\"] == 6]\n",
    "df_actual_with_filter_6_plot = round_est_values(df_actual_with_filter_6)\n",
    "print(df_actual_with_filter_6_plot)"
   ]
  },
  {
   "cell_type": "code",
   "execution_count": 45,
   "id": "a19b5baa",
   "metadata": {},
   "outputs": [
    {
     "data": {
      "text/plain": [
       "<AxesSubplot:title={'center':'Actual 6 counter (filter -1)'}, xlabel='est'>"
      ]
     },
     "execution_count": 45,
     "metadata": {},
     "output_type": "execute_result"
    },
    {
     "data": {
      "image/png": "[encoded data removed]",
      "text/plain": [
       "<Figure size 432x288 with 1 Axes>"
      ]
     },
     "metadata": {
      "needs_background": "light"
     },
     "output_type": "display_data"
    }
   ],
   "source": [
    "df_actual_with_filter_6_plot.plot.bar(x='est', y='actual', title=\"Actual 6 counter (filter -1)\")"
   ]
  },
  {
   "cell_type": "code",
   "execution_count": 46,
   "id": "ded75f2a",
   "metadata": {},
   "outputs": [
    {
     "name": "stdout",
     "output_type": "stream",
     "text": [
      "    est  actual  details\n",
      "0   1.0   14014    14014\n",
      "1   2.0   10105    10105\n",
      "2   3.0   14366    14366\n",
      "3   4.0   23248    23248\n",
      "4   5.0   52291    52291\n",
      "5   6.0  189816   189816\n",
      "6   7.0  565325   565325\n",
      "7   8.0  528032   528032\n",
      "8   9.0  141764   141764\n",
      "9  10.0   15937    15937\n"
     ]
    }
   ],
   "source": [
    "df_actual_with_filter_7 = knn_basic.loc[knn_basic[\"actual\"] == 7]\n",
    "df_actual_with_filter_7_plot = round_est_values(df_actual_with_filter_7)\n",
    "print(df_actual_with_filter_7_plot)"
   ]
  },
  {
   "cell_type": "code",
   "execution_count": 47,
   "id": "8f23646f",
   "metadata": {},
   "outputs": [
    {
     "data": {
      "text/plain": [
       "<AxesSubplot:title={'center':'Actual 7 counter (filter -1)'}, xlabel='est'>"
      ]
     },
     "execution_count": 47,
     "metadata": {},
     "output_type": "execute_result"
    },
    {
     "data": {
      "image/png": "[encoded data removed]",
      "text/plain": [
       "<Figure size 432x288 with 1 Axes>"
      ]
     },
     "metadata": {
      "needs_background": "light"
     },
     "output_type": "display_data"
    }
   ],
   "source": [
    "df_actual_with_filter_7_plot.plot.bar(x='est', y='actual', title=\"Actual 7 counter (filter -1)\")"
   ]
  },
  {
   "cell_type": "code",
   "execution_count": 48,
   "id": "7aaaca48",
   "metadata": {},
   "outputs": [
    {
     "name": "stdout",
     "output_type": "stream",
     "text": [
      "    est  actual  details\n",
      "0   1.0   19695    19695\n",
      "1   2.0   13493    13493\n",
      "2   3.0   18516    18516\n",
      "3   4.0   27049    27049\n",
      "4   5.0   47190    47190\n",
      "5   6.0  133788   133788\n",
      "6   7.0  492693   492693\n",
      "7   8.0  944229   944229\n",
      "8   9.0  435900   435900\n",
      "9  10.0   56153    56153\n"
     ]
    }
   ],
   "source": [
    "df_actual_with_filter_8 = knn_basic.loc[knn_basic[\"actual\"] == 8]\n",
    "df_actual_with_filter_8_plot = round_est_values(df_actual_with_filter_8)\n",
    "print(df_actual_with_filter_8_plot)"
   ]
  },
  {
   "cell_type": "code",
   "execution_count": 49,
   "id": "f80ac502",
   "metadata": {},
   "outputs": [
    {
     "data": {
      "text/plain": [
       "<AxesSubplot:title={'center':'Actual 8 counter (filter -1)'}, xlabel='est'>"
      ]
     },
     "execution_count": 49,
     "metadata": {},
     "output_type": "execute_result"
    },
    {
     "data": {
      "image/png": "[encoded data removed]",
      "text/plain": [
       "<Figure size 432x288 with 1 Axes>"
      ]
     },
     "metadata": {
      "needs_background": "light"
     },
     "output_type": "display_data"
    }
   ],
   "source": [
    "df_actual_with_filter_8_plot.plot.bar(x='est', y='actual', title=\"Actual 8 counter (filter -1)\")"
   ]
  },
  {
   "cell_type": "code",
   "execution_count": 50,
   "id": "f7043e38",
   "metadata": {},
   "outputs": [
    {
     "name": "stdout",
     "output_type": "stream",
     "text": [
      "    est  actual  details\n",
      "0   1.0   16718    16718\n",
      "1   2.0   10692    10692\n",
      "2   3.0   13415    13415\n",
      "3   4.0   18264    18264\n",
      "4   5.0   28160    28160\n",
      "5   6.0   60960    60960\n",
      "6   7.0  194408   194408\n",
      "7   8.0  543358   543358\n",
      "8   9.0  543771   543771\n",
      "9  10.0  120090   120090\n"
     ]
    }
   ],
   "source": [
    "df_actual_with_filter_9 = knn_basic.loc[knn_basic[\"actual\"] == 9]\n",
    "df_actual_with_filter_9_plot = round_est_values(df_actual_with_filter_9)\n",
    "print(df_actual_with_filter_9_plot)"
   ]
  },
  {
   "cell_type": "code",
   "execution_count": 51,
   "id": "a88e0f30",
   "metadata": {},
   "outputs": [
    {
     "data": {
      "text/plain": [
       "<AxesSubplot:title={'center':'Actual 9 counter (filter -1)'}, xlabel='est'>"
      ]
     },
     "execution_count": 51,
     "metadata": {},
     "output_type": "execute_result"
    },
    {
     "data": {
      "image/png": "[encoded data removed]",
      "text/plain": [
       "<Figure size 432x288 with 1 Axes>"
      ]
     },
     "metadata": {
      "needs_background": "light"
     },
     "output_type": "display_data"
    }
   ],
   "source": [
    "df_actual_with_filter_9_plot.plot.bar(x='est', y='actual', title=\"Actual 9 counter (filter -1)\")"
   ]
  },
  {
   "cell_type": "code",
   "execution_count": 52,
   "id": "234efc23",
   "metadata": {},
   "outputs": [
    {
     "name": "stdout",
     "output_type": "stream",
     "text": [
      "    est  actual  details\n",
      "0   1.0   18489    18489\n",
      "1   2.0    9540     9540\n",
      "2   3.0   11287    11287\n",
      "3   4.0   13905    13905\n",
      "4   5.0   18309    18309\n",
      "5   6.0   33154    33154\n",
      "6   7.0   76127    76127\n",
      "7   8.0  213154   213154\n",
      "8   9.0  374637   374637\n",
      "9  10.0  279017   279017\n"
     ]
    }
   ],
   "source": [
    "df_actual_with_filter_10 = knn_basic.loc[knn_basic[\"actual\"] == 10]\n",
    "df_actual_with_filter_10_plot = round_est_values(df_actual_with_filter_10)\n",
    "print(df_actual_with_filter_10_plot)"
   ]
  },
  {
   "cell_type": "code",
   "execution_count": 53,
   "id": "a698359b",
   "metadata": {},
   "outputs": [
    {
     "data": {
      "text/plain": [
       "<AxesSubplot:title={'center':'Actual 10 counter (filter -1)'}, xlabel='est'>"
      ]
     },
     "execution_count": 53,
     "metadata": {},
     "output_type": "execute_result"
    },
    {
     "data": {
      "image/png": "[encoded data removed]",
      "text/plain": [
       "<Figure size 432x288 with 1 Axes>"
      ]
     },
     "metadata": {
      "needs_background": "light"
     },
     "output_type": "display_data"
    }
   ],
   "source": [
    "df_actual_with_filter_10_plot.plot.bar(x='est', y='actual', title=\"Actual 10 counter (filter -1)\")"
   ]
  },
  {
   "cell_type": "code",
   "execution_count": 54,
   "id": "01771018",
   "metadata": {},
   "outputs": [],
   "source": [
    "round_df = np.round(knn_basic[\"est\"], decimals=0)\n",
    "round_df = round_df.reset_index()\n",
    "knn_basic = knn_basic.reset_index()[[\"index\", \"actual\", \"details\"]]\n",
    "knn_basic = knn_basic.merge(round_df, on=\"index\", how=\"left\")\n",
    "knn_basic = knn_basic.set_index(\"index\")"
   ]
  },
  {
   "cell_type": "code",
   "execution_count": 55,
   "id": "1a714544",
   "metadata": {},
   "outputs": [
    {
     "data": {
      "image/png": "[encoded data removed]",
      "text/plain": [
       "<Figure size 432x288 with 1 Axes>"
      ]
     },
     "metadata": {
      "needs_background": "light"
     },
     "output_type": "display_data"
    }
   ],
   "source": [
    "est_df = knn_basic[\"est\"].tolist()\n",
    "plot_violin_graph_base(est_df, title=\"(knn_with_means) Estimation (filter -1)\")"
   ]
  },
  {
   "cell_type": "code",
   "execution_count": null,
   "id": "a1e61e79",
   "metadata": {},
   "outputs": [],
   "source": []
  }
 ],
 "metadata": {
  "kernelspec": {
   "display_name": "Python 3",
   "language": "python",
   "name": "python3"
  },
  "language_info": {
   "codemirror_mode": {
    "name": "ipython",
    "version": 3
   },
   "file_extension": ".py",
   "mimetype": "text/x-python",
   "name": "python",
   "nbconvert_exporter": "python",
   "pygments_lexer": "ipython3",
   "version": "3.6.5"
  }
 },
 "nbformat": 4,
 "nbformat_minor": 5
}
