{
 "cells": [
  {
   "cell_type": "code",
   "execution_count": 1,
   "id": "2bf9e0dc",
   "metadata": {},
   "outputs": [],
   "source": [
    "import pandas as pd\n",
    "import numpy as np\n",
    "import matplotlib.pyplot as plt\n",
    "import seaborn as sns"
   ]
  },
  {
   "cell_type": "code",
   "execution_count": 2,
   "id": "77aaecbb",
   "metadata": {},
   "outputs": [],
   "source": [
    "def set_axis_style(ax, labels):\n",
    "    ax.xaxis.set_tick_params(direction='out')\n",
    "    ax.xaxis.set_ticks_position('bottom')\n",
    "    ax.set_xticks(np.arange(1, len(labels) + 1))\n",
    "    ax.set_xticklabels(labels)\n",
    "    ax.set_xlim(0.25, len(labels) + 0.75)\n",
    "    \n",
    "def plot_violin_graph(list_of_data, title):\n",
    "    # Create a figure instance\n",
    "    label = [\"Cossine\", \"MSD\", \"Pearson\", \"Pearson Baseline\"]\n",
    "    fig = plt.figure()\n",
    "  \n",
    "    # Create an axes instance\n",
    "    ax = fig.gca()\n",
    "    ax.set_title(title)\n",
    "    set_axis_style(ax, label)\n",
    "    # Create the violinplot\n",
    "    violinplot = ax.violinplot(list_of_data)\n",
    "    plt.show()\n",
    "    "
   ]
  },
  {
   "cell_type": "code",
   "execution_count": 3,
   "id": "c3a6b768",
   "metadata": {},
   "outputs": [],
   "source": [
    "cossine_fold_0 = pd.read_parquet(f\"../predictions/knn_with_means/anime_type_tv/no_filter/knn_with_means_cosine_0.parquet\")\n",
    "cossine_fold_1 = pd.read_parquet(f\"../predictions/knn_with_means/anime_type_tv/no_filter/knn_with_means_cosine_1.parquet\")\n",
    "cossine_fold_2 = pd.read_parquet(f\"../predictions/knn_with_means/anime_type_tv/no_filter/knn_with_means_cosine_2.parquet\")\n",
    "cossine_fold_3 = pd.read_parquet(f\"../predictions/knn_with_means/anime_type_tv/no_filter/knn_with_means_cosine_3.parquet\")\n",
    "cossine_fold_4 = pd.read_parquet(f\"../predictions/knn_with_means/anime_type_tv/no_filter/knn_with_means_cosine_4.parquet\")\n",
    "\n",
    "cossine = pd.concat([cossine_fold_0, cossine_fold_1, cossine_fold_2, cossine_fold_3, cossine_fold_4])"
   ]
  },
  {
   "cell_type": "code",
   "execution_count": 4,
   "id": "6c478949",
   "metadata": {},
   "outputs": [],
   "source": [
    "msd_fold_0 = pd.read_parquet(f\"../predictions/knn_with_means/anime_type_tv/no_filter/knn_with_means_msd_0.parquet\")\n",
    "msd_fold_1 = pd.read_parquet(f\"../predictions/knn_with_means/anime_type_tv/no_filter/knn_with_means_msd_1.parquet\")\n",
    "msd_fold_2 = pd.read_parquet(f\"../predictions/knn_with_means/anime_type_tv/no_filter/knn_with_means_msd_2.parquet\")\n",
    "msd_fold_3 = pd.read_parquet(f\"../predictions/knn_with_means/anime_type_tv/no_filter/knn_with_means_msd_3.parquet\")\n",
    "msd_fold_4 = pd.read_parquet(f\"../predictions/knn_with_means/anime_type_tv/no_filter/knn_with_means_msd_4.parquet\")\n",
    "\n",
    "msd = pd.concat([msd_fold_0, msd_fold_1, msd_fold_2, msd_fold_3, msd_fold_4])"
   ]
  },
  {
   "cell_type": "code",
   "execution_count": 5,
   "id": "55c550d1",
   "metadata": {},
   "outputs": [],
   "source": [
    "pearson_baseline_fold_0 = pd.read_parquet(f\"../predictions/knn_with_means/anime_type_tv/no_filter/knn_with_means_pearson_baseline_0.parquet\")\n",
    "pearson_baseline_fold_1 = pd.read_parquet(f\"../predictions/knn_with_means/anime_type_tv/no_filter/knn_with_means_pearson_baseline_1.parquet\")\n",
    "pearson_baseline_fold_2 = pd.read_parquet(f\"../predictions/knn_with_means/anime_type_tv/no_filter/knn_with_means_pearson_baseline_2.parquet\")\n",
    "pearson_baseline_fold_3 = pd.read_parquet(f\"../predictions/knn_with_means/anime_type_tv/no_filter/knn_with_means_pearson_baseline_3.parquet\")\n",
    "pearson_baseline_fold_4 = pd.read_parquet(f\"../predictions/knn_with_means/anime_type_tv/no_filter/knn_with_means_pearson_baseline_4.parquet\")\n",
    "\n",
    "pearson_baseline = pd.concat([pearson_baseline_fold_0, pearson_baseline_fold_1, pearson_baseline_fold_2, pearson_baseline_fold_3, pearson_baseline_fold_4])"
   ]
  },
  {
   "cell_type": "code",
   "execution_count": 6,
   "id": "149f9b4c",
   "metadata": {},
   "outputs": [],
   "source": [
    "pearson_fold_0 = pd.read_parquet(f\"../predictions/knn_with_means/anime_type_tv/no_filter/knn_with_means_pearson_0.parquet\")\n",
    "pearson_fold_1 = pd.read_parquet(f\"../predictions/knn_with_means/anime_type_tv/no_filter/knn_with_means_pearson_1.parquet\")\n",
    "pearson_fold_2 = pd.read_parquet(f\"../predictions/knn_with_means/anime_type_tv/no_filter/knn_with_means_pearson_2.parquet\")\n",
    "pearson_fold_3 = pd.read_parquet(f\"../predictions/knn_with_means/anime_type_tv/no_filter/knn_with_means_pearson_3.parquet\")\n",
    "pearson_fold_4 = pd.read_parquet(f\"../predictions/knn_with_means/anime_type_tv/no_filter/knn_with_means_pearson_4.parquet\")\n",
    "\n",
    "pearson = pd.concat([pearson_fold_0, pearson_fold_1, pearson_fold_2, pearson_fold_3, pearson_fold_4])"
   ]
  },
  {
   "cell_type": "code",
   "execution_count": 7,
   "id": "a7d96f84",
   "metadata": {},
   "outputs": [],
   "source": [
    "est_list = [\n",
    "    cossine[\"est\"].to_list(),\n",
    "    msd[\"est\"].to_list(),\n",
    "    pearson[\"est\"].to_list(),\n",
    "    pearson_baseline[\"est\"].to_list(),\n",
    "]"
   ]
  },
  {
   "cell_type": "code",
   "execution_count": 8,
   "id": "33fbcb01",
   "metadata": {},
   "outputs": [
    {
     "data": {
      "image/png": "[encoded data removed]",
      "text/plain": [
       "<Figure size 432x288 with 1 Axes>"
      ]
     },
     "metadata": {
      "needs_background": "light"
     },
     "output_type": "display_data"
    }
   ],
   "source": [
    "plot_violin_graph(est_list, title=\"Comparação KNN similaridades\")"
   ]
  },
  {
   "cell_type": "code",
   "execution_count": 9,
   "id": "794300f7",
   "metadata": {},
   "outputs": [],
   "source": [
    "def round_est_values(df):\n",
    "    round_actual = np.round(df[\"est\"], decimals=0)\n",
    "    round_actual = round_actual.reset_index()\n",
    "    df = df.reset_index()[[\"index\", \"actual\", \"details\"]]\n",
    "    df = df.merge(round_actual, on=\"index\", how=\"left\")\n",
    "    df = df.set_index(\"index\")\n",
    "    grouped = df.groupby(\"est\", as_index=False).count()\n",
    "    return grouped"
   ]
  },
  {
   "cell_type": "code",
   "execution_count": 10,
   "id": "1bf792ec",
   "metadata": {},
   "outputs": [
    {
     "name": "stdout",
     "output_type": "stream",
     "text": [
      "    est   actual  details\n",
      "0   1.0  3560080  3560080\n",
      "1   2.0   443585   443585\n",
      "2   3.0   429495   429495\n",
      "3   4.0   518900   518900\n",
      "4   5.0   886150   886150\n",
      "5   6.0  2163930  2163930\n",
      "6   7.0  5194900  5194900\n",
      "7   8.0  7432945  7432945\n",
      "8   9.0  4634091  4634091\n",
      "9  10.0  1153900  1153900\n"
     ]
    }
   ],
   "source": [
    "cossine_grouped = round_est_values(cossine)\n",
    "print(cossine_grouped)"
   ]
  },
  {
   "cell_type": "code",
   "execution_count": 11,
   "id": "68ec2316",
   "metadata": {},
   "outputs": [
    {
     "name": "stdout",
     "output_type": "stream",
     "text": [
      "    est   actual  details\n",
      "0   1.0  3579365  3579365\n",
      "1   2.0   458366   458366\n",
      "2   3.0   437400   437400\n",
      "3   4.0   545655   545655\n",
      "4   5.0   920800   920800\n",
      "5   6.0  2147070  2147070\n",
      "6   7.0  5014240  5014240\n",
      "7   8.0  7218390  7218390\n",
      "8   9.0  4709275  4709275\n",
      "9  10.0  1387415  1387415\n"
     ]
    }
   ],
   "source": [
    "msd_grouped = round_est_values(msd)\n",
    "print(msd_grouped)"
   ]
  },
  {
   "cell_type": "code",
   "execution_count": 12,
   "id": "6724c0bd",
   "metadata": {},
   "outputs": [
    {
     "name": "stdout",
     "output_type": "stream",
     "text": [
      "    est   actual  details\n",
      "0   1.0  3676550  3676550\n",
      "1   2.0   363370   363370\n",
      "2   3.0   375470   375470\n",
      "3   4.0   488700   488700\n",
      "4   5.0   898090   898090\n",
      "5   6.0  2214175  2214175\n",
      "6   7.0  5148136  5148136\n",
      "7   8.0  7212455  7212455\n",
      "8   9.0  4727660  4727660\n",
      "9  10.0  1313370  1313370\n"
     ]
    }
   ],
   "source": [
    "pearson_baseline_grouped = round_est_values(pearson_baseline)\n",
    "print(pearson_baseline_grouped)"
   ]
  },
  {
   "cell_type": "code",
   "execution_count": 13,
   "id": "b561a494",
   "metadata": {},
   "outputs": [
    {
     "name": "stdout",
     "output_type": "stream",
     "text": [
      "    est   actual  details\n",
      "0   1.0  3618381  3618381\n",
      "1   2.0   447220   447220\n",
      "2   3.0   433450   433450\n",
      "3   4.0   537355   537355\n",
      "4   5.0   909120   909120\n",
      "5   6.0  2186550  2186550\n",
      "6   7.0  5045990  5045990\n",
      "7   8.0  7084640  7084640\n",
      "8   9.0  4614760  4614760\n",
      "9  10.0  1540510  1540510\n"
     ]
    }
   ],
   "source": [
    "pearson_grouped = round_est_values(pearson)\n",
    "print(pearson_grouped)"
   ]
  },
  {
   "cell_type": "code",
   "execution_count": 14,
   "id": "97a28863",
   "metadata": {},
   "outputs": [],
   "source": [
    "cossine_grouped = cossine_grouped.rename(columns={\"actual\": \"cossine\"})\n",
    "msd_grouped = msd_grouped.rename(columns={\"actual\": \"msd\"})\n",
    "pearson_baseline_grouped = pearson_baseline_grouped.rename(columns={\"actual\": \"pearson baseline\"})\n",
    "pearson_grouped = pearson_grouped.rename(columns={\"actual\": \"pearson\"})"
   ]
  },
  {
   "cell_type": "code",
   "execution_count": 15,
   "id": "5bec1839",
   "metadata": {},
   "outputs": [
    {
     "data": {
      "text/plain": [
       "<matplotlib.legend.Legend at 0x30f308be0>"
      ]
     },
     "execution_count": 15,
     "metadata": {},
     "output_type": "execute_result"
    },
    {
     "data": {
      "image/png": "[encoded data removed]",
      "text/plain": [
       "<Figure size 432x288 with 4 Axes>"
      ]
     },
     "metadata": {
      "needs_background": "light"
     },
     "output_type": "display_data"
    }
   ],
   "source": [
    "fig, ax = plt.subplots()\n",
    "ax1 = ax.twinx()\n",
    "ax2 = ax.twinx()\n",
    "ax3 = ax.twinx()\n",
    "\n",
    "cossine_grouped.plot(x=\"est\", y=[\"cossine\"], ax=ax2, ls=\"dashdot\", color=\"purple\")\n",
    "msd_grouped.plot(x=\"est\", y=[\"msd\"], ax=ax3, ls=\"dotted\", color=\"green\")\n",
    "pearson_baseline_grouped.plot(x=\"est\", y=[\"pearson baseline\"], ax=ax)\n",
    "pearson_grouped.plot(x=\"est\", y=[\"pearson\"], ax=ax1, ls=\"dashed\", color=\"red\")\n",
    "fig.legend(loc=\"upper right\", bbox_to_anchor=(1,1), bbox_transform=ax.transAxes)"
   ]
  }
 ],
 "metadata": {
  "kernelspec": {
   "display_name": "Python 3",
   "language": "python",
   "name": "python3"
  },
  "language_info": {
   "codemirror_mode": {
    "name": "ipython",
    "version": 3
   },
   "file_extension": ".py",
   "mimetype": "text/x-python",
   "name": "python",
   "nbconvert_exporter": "python",
   "pygments_lexer": "ipython3",
   "version": "3.6.5"
  }
 },
 "nbformat": 4,
 "nbformat_minor": 5
}
