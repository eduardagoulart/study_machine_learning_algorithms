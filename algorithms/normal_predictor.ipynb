{
 "cells": [
  {
   "cell_type": "code",
   "execution_count": 1,
   "id": "2a0da2dd",
   "metadata": {},
   "outputs": [],
   "source": [
    "import pandas as pd\n",
    "import numpy as np\n",
    "from surprise import NormalPredictor\n",
    "from surprise import accuracy\n",
    "from surprise.model_selection import cross_validate\n",
    "from surprise.model_selection import train_test_split\n",
    "from surprise.model_selection import KFold\n",
    "\n",
    "from read_and_split_data import split_data, filter_animes_without_grade"
   ]
  },
  {
   "cell_type": "code",
   "execution_count": 2,
   "id": "1877aaab",
   "metadata": {},
   "outputs": [],
   "source": [
    "def get_dataset():\n",
    "    anime = pd.read_parquet(\"../datasets/anime.parquet\")\n",
    "    anime = anime[[\"anime_id\", \"type\"]]\n",
    "    users = pd.read_parquet(\"../datasets/users.parquet\")\n",
    "    base_df = users.merge(anime, on=\"anime_id\", how=\"left\")\n",
    "    return base_df\n",
    "\n",
    "base_df = get_dataset()\n",
    "data = split_data(base_df)"
   ]
  },
  {
   "cell_type": "code",
   "execution_count": 3,
   "id": "2d42c7f1",
   "metadata": {},
   "outputs": [],
   "source": [
    "kf = KFold(n_splits=5)"
   ]
  },
  {
   "cell_type": "code",
   "execution_count": 4,
   "id": "41b766af",
   "metadata": {},
   "outputs": [],
   "source": [
    "def predict_and_error(data, algo, path):\n",
    "    fold = 0\n",
    "    predictions_list = []\n",
    "    for trainset, testset in kf.split(data):\n",
    "        algo.fit(trainset)\n",
    "        predictions = algo.test(testset)\n",
    "        predictions_list.append(predictions)\n",
    "        # Mean Squared Error\n",
    "        accuracy.rmse(predictions, verbose=True)\n",
    "        # Mean Absolute Erro\n",
    "        accuracy.mse(predictions, verbose=True)\n",
    "        # Mean Absolute Erro\n",
    "        accuracy.mae(predictions, verbose=True)\n",
    "        # Fraction of Concordant Pairs\n",
    "        accuracy.fcp(predictions, verbose=True)\n",
    "        base_df = pd.DataFrame(columns=[\"user\", \"anime\", \"actual\", \"est\", \"details\"], data=predictions)\n",
    "        base_df.to_csv(f\"{path}_{fold}.csv\")\n",
    "        base_df.to_parquet(f\"{path}_{fold}.parquet\")\n",
    "        fold += 1\n",
    "    return predictions"
   ]
  },
  {
   "cell_type": "code",
   "execution_count": 5,
   "id": "8fe581e6",
   "metadata": {},
   "outputs": [],
   "source": [
    "algo_normal_predictor = NormalPredictor()"
   ]
  },
  {
   "cell_type": "code",
   "execution_count": 6,
   "id": "99037458",
   "metadata": {},
   "outputs": [
    {
     "name": "stdout",
     "output_type": "stream",
     "text": [
      "RMSE: 4.6742\n",
      "MSE: 21.8481\n",
      "MAE:  3.7090\n",
      "FCP:  0.4881\n",
      "RMSE: 4.6716\n",
      "MSE: 21.8235\n",
      "MAE:  3.7085\n",
      "FCP:  0.4865\n",
      "RMSE: 4.6686\n",
      "MSE: 21.7959\n",
      "MAE:  3.7055\n",
      "FCP:  0.4880\n",
      "RMSE: 4.6655\n",
      "MSE: 21.7673\n",
      "MAE:  3.7036\n",
      "FCP:  0.4880\n",
      "RMSE: 4.6659\n",
      "MSE: 21.7707\n",
      "MAE:  3.7032\n",
      "FCP:  0.4871\n"
     ]
    }
   ],
   "source": [
    "predictions = predict_and_error(data, algo_normal_predictor, path=\"../predictions/normal_predictor/anime_type_tv/no_filter/normal_predictor\")"
   ]
  },
  {
   "cell_type": "code",
   "execution_count": 7,
   "id": "c41d1f51",
   "metadata": {},
   "outputs": [],
   "source": [
    "base_df_without_negative = filter_animes_without_grade(base_df)"
   ]
  },
  {
   "cell_type": "code",
   "execution_count": 8,
   "id": "7be812c0",
   "metadata": {},
   "outputs": [
    {
     "name": "stdout",
     "output_type": "stream",
     "text": [
      "RMSE: 4.6707\n",
      "MSE: 21.8155\n",
      "MAE:  3.7051\n",
      "FCP:  0.4881\n",
      "RMSE: 4.6699\n",
      "MSE: 21.8083\n",
      "MAE:  3.7064\n",
      "FCP:  0.4855\n",
      "RMSE: 4.6798\n",
      "MSE: 21.9005\n",
      "MAE:  3.7142\n",
      "FCP:  0.4873\n",
      "RMSE: 4.6738\n",
      "MSE: 21.8446\n",
      "MAE:  3.7099\n",
      "FCP:  0.4882\n",
      "RMSE: 4.6727\n",
      "MSE: 21.8338\n",
      "MAE:  3.7084\n",
      "FCP:  0.4880\n"
     ]
    }
   ],
   "source": [
    "predictions_without_negative = predict_and_error(data, algo_normal_predictor, path=\"../predictions/normal_predictor/anime_type_tv/with_filter_remove_negative/normal_predictor\")"
   ]
  }
 ],
 "metadata": {
  "kernelspec": {
   "display_name": "Python 3",
   "language": "python",
   "name": "python3"
  },
  "language_info": {
   "codemirror_mode": {
    "name": "ipython",
    "version": 3
   },
   "file_extension": ".py",
   "mimetype": "text/x-python",
   "name": "python",
   "nbconvert_exporter": "python",
   "pygments_lexer": "ipython3",
   "version": "3.6.5"
  }
 },
 "nbformat": 4,
 "nbformat_minor": 5
}
