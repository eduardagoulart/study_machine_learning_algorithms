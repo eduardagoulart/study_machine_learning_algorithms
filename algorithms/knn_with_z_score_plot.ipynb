{
 "cells": [
  {
   "cell_type": "code",
   "execution_count": 1,
   "id": "c177f5f3",
   "metadata": {},
   "outputs": [],
   "source": [
    "import pandas as pd\n",
    "import numpy as np\n",
    "import matplotlib.pyplot as plt\n",
    "import seaborn as sns"
   ]
  },
  {
   "cell_type": "markdown",
   "id": "a38776c3",
   "metadata": {},
   "source": [
    "### Cosine"
   ]
  },
  {
   "cell_type": "code",
   "execution_count": 2,
   "id": "15bf6c35",
   "metadata": {},
   "outputs": [],
   "source": [
    "cossine_fold_0 = pd.read_parquet(f\"../predictions/knn_with_z_score/anime_type_tv/no_filter/knn_with_z_score_cosine_0.parquet\")\n",
    "cossine_fold_1 = pd.read_parquet(f\"../predictions/knn_with_z_score/anime_type_tv/no_filter/knn_with_z_score_cosine_1.parquet\")\n",
    "cossine_fold_2 = pd.read_parquet(f\"../predictions/knn_with_z_score/anime_type_tv/no_filter/knn_with_z_score_cosine_2.parquet\")\n",
    "cossine_fold_3 = pd.read_parquet(f\"../predictions/knn_with_z_score/anime_type_tv/no_filter/knn_with_z_score_cosine_3.parquet\")\n",
    "\n",
    "df = pd.concat([cossine_fold_0, cossine_fold_1, cossine_fold_2, cossine_fold_3])"
   ]
  },
  {
   "cell_type": "code",
   "execution_count": 3,
   "id": "b03f05d0",
   "metadata": {},
   "outputs": [],
   "source": [
    "df_actual_1 = df.loc[df[\"actual\"] == 1]"
   ]
  },
  {
   "cell_type": "code",
   "execution_count": 4,
   "id": "fe3268ef",
   "metadata": {},
   "outputs": [],
   "source": [
    "round_actual_1 = np.round(df_actual_1[\"est\"], decimals=0)\n",
    "round_actual_1 = round_actual_1.reset_index()"
   ]
  },
  {
   "cell_type": "code",
   "execution_count": 5,
   "id": "7446c9a7",
   "metadata": {},
   "outputs": [],
   "source": [
    "df_actual_1 = df_actual_1.reset_index()[[\"index\", \"actual\", \"details\"]]\n",
    "df_actual_1 = df_actual_1.merge(round_actual_1, on=\"index\", how=\"left\")"
   ]
  },
  {
   "cell_type": "code",
   "execution_count": 6,
   "id": "5ee53507",
   "metadata": {},
   "outputs": [
    {
     "name": "stdout",
     "output_type": "stream",
     "text": [
      "         actual                                            details  est\n",
      "index                                                                  \n",
      "506         1.0  {'actual_k': 7.0, 'reason': None, 'was_impossi...  8.0\n",
      "1245        1.0  {'actual_k': 7.0, 'reason': None, 'was_impossi...  6.0\n",
      "2509        1.0  {'actual_k': 7.0, 'reason': None, 'was_impossi...  5.0\n",
      "2562        1.0  {'actual_k': 7.0, 'reason': None, 'was_impossi...  5.0\n",
      "3349        1.0  {'actual_k': 7.0, 'reason': None, 'was_impossi...  6.0\n",
      "...         ...                                                ...  ...\n",
      "1054247     1.0  {'actual_k': 7.0, 'reason': None, 'was_impossi...  5.0\n",
      "1054791     1.0  {'actual_k': 7.0, 'reason': None, 'was_impossi...  6.0\n",
      "1055739     1.0  {'actual_k': 7.0, 'reason': None, 'was_impossi...  2.0\n",
      "1055808     1.0  {'actual_k': 7.0, 'reason': None, 'was_impossi...  8.0\n",
      "1056293     1.0  {'actual_k': 7.0, 'reason': None, 'was_impossi...  6.0\n",
      "\n",
      "[6600 rows x 3 columns]\n"
     ]
    }
   ],
   "source": [
    "df_actual_1 = df_actual_1.set_index(\"index\")\n",
    "print(df_actual_1)"
   ]
  },
  {
   "cell_type": "code",
   "execution_count": 7,
   "id": "dd195bd4",
   "metadata": {},
   "outputs": [],
   "source": [
    "plot_cosine_counter = df_actual_1.groupby(\"est\", as_index=False).count()"
   ]
  },
  {
   "cell_type": "code",
   "execution_count": 8,
   "id": "7337c0e7",
   "metadata": {},
   "outputs": [
    {
     "data": {
      "text/plain": [
       "<AxesSubplot:title={'center':'Actual 1 counter'}, xlabel='est'>"
      ]
     },
     "execution_count": 8,
     "metadata": {},
     "output_type": "execute_result"
    },
    {
     "data": {
      "image/png": "[encoded data removed]",
      "text/plain": [
       "<Figure size 432x288 with 1 Axes>"
      ]
     },
     "metadata": {
      "needs_background": "light"
     },
     "output_type": "display_data"
    }
   ],
   "source": [
    "plot_cosine_counter.plot.bar(x='est', y='actual', title=\"Actual 1 counter\")"
   ]
  },
  {
   "cell_type": "code",
   "execution_count": 9,
   "id": "6d0d9efb",
   "metadata": {},
   "outputs": [],
   "source": [
    "df_actual_2 = df.loc[df[\"actual\"] == 2]\n",
    "round_actual_2 = np.round(df_actual_2[\"est\"], decimals=0)\n",
    "round_actual_2 = round_actual_2.reset_index()"
   ]
  },
  {
   "cell_type": "code",
   "execution_count": 10,
   "id": "61dc9f9b",
   "metadata": {},
   "outputs": [],
   "source": [
    "df_actual_2 = df_actual_2.reset_index()[[\"index\", \"actual\", \"details\"]]\n",
    "df_actual_2 = df_actual_2.merge(round_actual_2, on=\"index\", how=\"left\")"
   ]
  },
  {
   "cell_type": "code",
   "execution_count": 11,
   "id": "80504703",
   "metadata": {},
   "outputs": [
    {
     "name": "stdout",
     "output_type": "stream",
     "text": [
      "    est  actual  details\n",
      "0   1.0     240      240\n",
      "1   2.0     255      255\n",
      "2   3.0     573      573\n",
      "3   4.0    1252     1252\n",
      "4   5.0    2072     2072\n",
      "5   6.0    2555     2555\n",
      "6   7.0    1985     1985\n",
      "7   8.0     998      998\n",
      "8   9.0     274      274\n",
      "9  10.0      29       29\n"
     ]
    }
   ],
   "source": [
    "df_actual_2 = df_actual_2.set_index(\"index\")\n",
    "plot_cosine_counter_2 = df_actual_2.groupby(\"est\", as_index=False).count()\n",
    "print(plot_cosine_counter_2)"
   ]
  },
  {
   "cell_type": "code",
   "execution_count": 12,
   "id": "b57eebbc",
   "metadata": {},
   "outputs": [
    {
     "name": "stdout",
     "output_type": "stream",
     "text": [
      "10233\n"
     ]
    }
   ],
   "source": [
    "print(sum(plot_cosine_counter_2[\"actual\"]))"
   ]
  },
  {
   "cell_type": "code",
   "execution_count": 13,
   "id": "0358d06a",
   "metadata": {},
   "outputs": [
    {
     "data": {
      "text/plain": [
       "<AxesSubplot:title={'center':'Actual 2 counter'}, xlabel='est'>"
      ]
     },
     "execution_count": 13,
     "metadata": {},
     "output_type": "execute_result"
    },
    {
     "data": {
      "image/png": "[encoded data removed]",
      "text/plain": [
       "<Figure size 432x288 with 1 Axes>"
      ]
     },
     "metadata": {
      "needs_background": "light"
     },
     "output_type": "display_data"
    }
   ],
   "source": [
    "plot_cosine_counter_2.plot.bar(x='est', y='actual', title=\"Actual 2 counter\")"
   ]
  },
  {
   "cell_type": "code",
   "execution_count": 14,
   "id": "8f51421b",
   "metadata": {},
   "outputs": [],
   "source": [
    "df_actual_3 = df.loc[df[\"actual\"] == 3]\n",
    "round_actual_3 = np.round(df_actual_3[\"est\"], decimals=0)\n",
    "round_actual_3 = round_actual_3.reset_index()"
   ]
  },
  {
   "cell_type": "code",
   "execution_count": 15,
   "id": "e7585baa",
   "metadata": {},
   "outputs": [],
   "source": [
    "df_actual_3 = df_actual_3.reset_index()[[\"index\", \"actual\", \"details\"]]\n",
    "df_actual_3 = df_actual_3.merge(round_actual_3, on=\"index\", how=\"left\")"
   ]
  },
  {
   "cell_type": "code",
   "execution_count": 16,
   "id": "47e301ed",
   "metadata": {},
   "outputs": [
    {
     "name": "stdout",
     "output_type": "stream",
     "text": [
      "    est  actual  details\n",
      "0   1.0     354      354\n",
      "1   2.0     292      292\n",
      "2   3.0     723      723\n",
      "3   4.0    2024     2024\n",
      "4   5.0    4075     4075\n",
      "5   6.0    5423     5423\n",
      "6   7.0    4288     4288\n",
      "7   8.0    1810     1810\n",
      "8   9.0     436      436\n",
      "9  10.0      52       52\n"
     ]
    }
   ],
   "source": [
    "df_actual_3 = df_actual_3.set_index(\"index\")\n",
    "plot_cosine_counter_3 = df_actual_3.groupby(\"est\", as_index=False).count()\n",
    "print(plot_cosine_counter_3)"
   ]
  },
  {
   "cell_type": "code",
   "execution_count": 17,
   "id": "114f4d5c",
   "metadata": {},
   "outputs": [
    {
     "name": "stdout",
     "output_type": "stream",
     "text": [
      "19477\n"
     ]
    }
   ],
   "source": [
    "print(sum(plot_cosine_counter_3[\"actual\"]))"
   ]
  },
  {
   "cell_type": "code",
   "execution_count": 18,
   "id": "e7eb4a80",
   "metadata": {},
   "outputs": [
    {
     "data": {
      "text/plain": [
       "<AxesSubplot:title={'center':'Actual 3 counter'}, xlabel='est'>"
      ]
     },
     "execution_count": 18,
     "metadata": {},
     "output_type": "execute_result"
    },
    {
     "data": {
      "image/png": "[encoded data removed]",
      "text/plain": [
       "<Figure size 432x288 with 1 Axes>"
      ]
     },
     "metadata": {
      "needs_background": "light"
     },
     "output_type": "display_data"
    }
   ],
   "source": [
    "plot_cosine_counter_3.plot.bar(x='est', y='actual', title=\"Actual 3 counter\")"
   ]
  },
  {
   "cell_type": "code",
   "execution_count": 19,
   "id": "08d2464b",
   "metadata": {},
   "outputs": [],
   "source": [
    "df_actual_4 = df.loc[df[\"actual\"] == 4]\n",
    "round_actual_4 = np.round(df_actual_4[\"est\"], decimals=0)\n",
    "round_actual_4 = round_actual_4.reset_index()"
   ]
  },
  {
   "cell_type": "code",
   "execution_count": 20,
   "id": "99322c5a",
   "metadata": {},
   "outputs": [],
   "source": [
    "df_actual_4 = df_actual_4.reset_index()[[\"index\", \"actual\", \"details\"]]\n",
    "df_actual_4 = df_actual_4.merge(round_actual_4, on=\"index\", how=\"left\")"
   ]
  },
  {
   "cell_type": "code",
   "execution_count": 21,
   "id": "e42593ce",
   "metadata": {},
   "outputs": [
    {
     "name": "stdout",
     "output_type": "stream",
     "text": [
      "    est  actual  details\n",
      "0   1.0     746      746\n",
      "1   2.0     522      522\n",
      "2   3.0    1138     1138\n",
      "3   4.0    3245     3245\n",
      "4   5.0    8849     8849\n",
      "5   6.0   15544    15544\n",
      "6   7.0   14002    14002\n",
      "7   8.0    6116     6116\n",
      "8   9.0    1408     1408\n",
      "9  10.0     153      153\n"
     ]
    }
   ],
   "source": [
    "df_actual_4 = df_actual_4.set_index(\"index\")\n",
    "plot_cosine_counter_4 = df_actual_4.groupby(\"est\", as_index=False).count()\n",
    "print(plot_cosine_counter_4)"
   ]
  },
  {
   "cell_type": "code",
   "execution_count": 22,
   "id": "1e8b531e",
   "metadata": {},
   "outputs": [
    {
     "name": "stdout",
     "output_type": "stream",
     "text": [
      "51723\n"
     ]
    }
   ],
   "source": [
    "print(sum(plot_cosine_counter_4[\"actual\"]))"
   ]
  },
  {
   "cell_type": "code",
   "execution_count": 23,
   "id": "7b7bac64",
   "metadata": {},
   "outputs": [
    {
     "data": {
      "text/plain": [
       "<AxesSubplot:title={'center':'Actual 4 counter'}, xlabel='est'>"
      ]
     },
     "execution_count": 23,
     "metadata": {},
     "output_type": "execute_result"
    },
    {
     "data": {
      "image/png": "[encoded data removed]",
      "text/plain": [
       "<Figure size 432x288 with 1 Axes>"
      ]
     },
     "metadata": {
      "needs_background": "light"
     },
     "output_type": "display_data"
    }
   ],
   "source": [
    "plot_cosine_counter_4.plot.bar(x='est', y='actual', title=\"Actual 4 counter\")"
   ]
  },
  {
   "cell_type": "code",
   "execution_count": 24,
   "id": "b5b01531",
   "metadata": {},
   "outputs": [],
   "source": [
    "df_actual_5 = df.loc[df[\"actual\"] == 5]\n",
    "round_actual_5 = np.round(df_actual_5[\"est\"], decimals=0)\n",
    "round_actual_5 = round_actual_5.reset_index()"
   ]
  },
  {
   "cell_type": "code",
   "execution_count": 25,
   "id": "ad94ab4c",
   "metadata": {},
   "outputs": [],
   "source": [
    "df_actual_5 = df_actual_5.reset_index()[[\"index\", \"actual\", \"details\"]]\n",
    "df_actual_5 = df_actual_5.merge(round_actual_4, on=\"index\", how=\"left\")"
   ]
  },
  {
   "cell_type": "code",
   "execution_count": 26,
   "id": "0e904df4",
   "metadata": {},
   "outputs": [
    {
     "name": "stdout",
     "output_type": "stream",
     "text": [
      "    est  actual  details\n",
      "0   1.0      72       72\n",
      "1   2.0      49       49\n",
      "2   3.0      88       88\n",
      "3   4.0     310      310\n",
      "4   5.0     778      778\n",
      "5   6.0    1439     1439\n",
      "6   7.0    1366     1366\n",
      "7   8.0     575      575\n",
      "8   9.0     138      138\n",
      "9  10.0       9        9\n"
     ]
    }
   ],
   "source": [
    "df_actual_5 = df_actual_5.set_index(\"index\")\n",
    "plot_cosine_counter_5 = df_actual_5.groupby(\"est\", as_index=False).count()\n",
    "print(plot_cosine_counter_5)"
   ]
  },
  {
   "cell_type": "code",
   "execution_count": 27,
   "id": "2ca554f0",
   "metadata": {},
   "outputs": [
    {
     "name": "stdout",
     "output_type": "stream",
     "text": [
      "4824\n"
     ]
    }
   ],
   "source": [
    "print(sum(plot_cosine_counter_5[\"actual\"]))"
   ]
  },
  {
   "cell_type": "code",
   "execution_count": 28,
   "id": "1034a88a",
   "metadata": {},
   "outputs": [
    {
     "data": {
      "text/plain": [
       "<AxesSubplot:title={'center':'Actual 5 counter'}, xlabel='est'>"
      ]
     },
     "execution_count": 28,
     "metadata": {},
     "output_type": "execute_result"
    },
    {
     "data": {
      "image/png": "[encoded data removed]",
      "text/plain": [
       "<Figure size 432x288 with 1 Axes>"
      ]
     },
     "metadata": {
      "needs_background": "light"
     },
     "output_type": "display_data"
    }
   ],
   "source": [
    "plot_cosine_counter_5.plot.bar(x='est', y='actual', title=\"Actual 5 counter\")"
   ]
  },
  {
   "cell_type": "code",
   "execution_count": 29,
   "id": "620c42ad",
   "metadata": {},
   "outputs": [],
   "source": [
    "df_actual_6 = df.loc[df[\"actual\"] == 6]\n",
    "round_actual_6 = np.round(df_actual_6[\"est\"], decimals=0)\n",
    "round_actual_6 = round_actual_6.reset_index()"
   ]
  },
  {
   "cell_type": "code",
   "execution_count": 30,
   "id": "4fdc9281",
   "metadata": {},
   "outputs": [],
   "source": [
    "df_actual_6 = df_actual_6.reset_index()[[\"index\", \"actual\", \"details\"]]\n",
    "df_actual_6 = df_actual_6.merge(round_actual_6, on=\"index\", how=\"left\")"
   ]
  },
  {
   "cell_type": "code",
   "execution_count": 31,
   "id": "53be0959",
   "metadata": {},
   "outputs": [
    {
     "name": "stdout",
     "output_type": "stream",
     "text": [
      "    est  actual  details\n",
      "0   1.0    3814     3814\n",
      "1   2.0    2772     2772\n",
      "2   3.0    4264     4264\n",
      "3   4.0    8060     8060\n",
      "4   5.0   24681    24681\n",
      "5   6.0   90027    90027\n",
      "6   7.0  154529   154529\n",
      "7   8.0   86356    86356\n",
      "8   9.0   18392    18392\n",
      "9  10.0    1657     1657\n"
     ]
    }
   ],
   "source": [
    "df_actual_6 = df_actual_6.set_index(\"index\")\n",
    "plot_cosine_counter_6 = df_actual_6.groupby(\"est\", as_index=False).count()\n",
    "print(plot_cosine_counter_6)"
   ]
  },
  {
   "cell_type": "code",
   "execution_count": 32,
   "id": "bb7a96b6",
   "metadata": {},
   "outputs": [
    {
     "data": {
      "text/plain": [
       "<AxesSubplot:title={'center':'Actual 6 counter'}, xlabel='est'>"
      ]
     },
     "execution_count": 32,
     "metadata": {},
     "output_type": "execute_result"
    },
    {
     "data": {
      "image/png": "[encoded data removed]",
      "text/plain": [
       "<Figure size 432x288 with 1 Axes>"
      ]
     },
     "metadata": {
      "needs_background": "light"
     },
     "output_type": "display_data"
    }
   ],
   "source": [
    "plot_cosine_counter_6.plot.bar(x='est', y='actual', title=\"Actual 6 counter\")"
   ]
  },
  {
   "cell_type": "code",
   "execution_count": 33,
   "id": "2297c79a",
   "metadata": {},
   "outputs": [],
   "source": [
    "df_actual_7 = df.loc[df[\"actual\"] == 7]\n",
    "round_actual_7 = np.round(df_actual_7[\"est\"], decimals=0)\n",
    "round_actual_7 = round_actual_7.reset_index()"
   ]
  },
  {
   "cell_type": "code",
   "execution_count": 34,
   "id": "e7cdb786",
   "metadata": {},
   "outputs": [],
   "source": [
    "df_actual_7 = df_actual_7.reset_index()[[\"index\", \"actual\", \"details\"]]\n",
    "df_actual_7 = df_actual_7.merge(round_actual_7, on=\"index\", how=\"left\")"
   ]
  },
  {
   "cell_type": "code",
   "execution_count": 35,
   "id": "90e6be0f",
   "metadata": {},
   "outputs": [
    {
     "name": "stdout",
     "output_type": "stream",
     "text": [
      "    est  actual  details\n",
      "0   1.0    9892     9892\n",
      "1   2.0    6505     6505\n",
      "2   3.0    9659     9659\n",
      "3   4.0   16012    16012\n",
      "4   5.0   36141    36141\n",
      "5   6.0  132685   132685\n",
      "6   7.0  415333   415333\n",
      "7   8.0  388790   388790\n",
      "8   9.0   95331    95331\n",
      "9  10.0    7753     7753\n"
     ]
    }
   ],
   "source": [
    "df_actual_7 = df_actual_7.set_index(\"index\")\n",
    "plot_cosine_counter_7 = df_actual_7.groupby(\"est\", as_index=False).count()\n",
    "print(plot_cosine_counter_7)"
   ]
  },
  {
   "cell_type": "code",
   "execution_count": 36,
   "id": "af564519",
   "metadata": {},
   "outputs": [
    {
     "data": {
      "text/plain": [
       "<AxesSubplot:title={'center':'Actual 7 counter'}, xlabel='est'>"
      ]
     },
     "execution_count": 36,
     "metadata": {},
     "output_type": "execute_result"
    },
    {
     "data": {
      "image/png": "[encoded data removed]",
      "text/plain": [
       "<Figure size 432x288 with 1 Axes>"
      ]
     },
     "metadata": {
      "needs_background": "light"
     },
     "output_type": "display_data"
    }
   ],
   "source": [
    "plot_cosine_counter_7.plot.bar(x='est', y='actual', title=\"Actual 7 counter\")"
   ]
  },
  {
   "cell_type": "code",
   "execution_count": 37,
   "id": "dfbdcc69",
   "metadata": {},
   "outputs": [],
   "source": [
    "df_actual_8 = df.loc[df[\"actual\"] == 8]\n",
    "round_actual_8 = np.round(df_actual_8[\"est\"], decimals=0)\n",
    "round_actual_8 = round_actual_8.reset_index()"
   ]
  },
  {
   "cell_type": "code",
   "execution_count": 38,
   "id": "eae74df2",
   "metadata": {},
   "outputs": [],
   "source": [
    "df_actual_8 = df_actual_8.reset_index()[[\"index\", \"actual\", \"details\"]]\n",
    "df_actual_8 = df_actual_8.merge(round_actual_8, on=\"index\", how=\"left\")"
   ]
  },
  {
   "cell_type": "code",
   "execution_count": 39,
   "id": "3bcff982",
   "metadata": {},
   "outputs": [
    {
     "name": "stdout",
     "output_type": "stream",
     "text": [
      "    est  actual  details\n",
      "0   1.0   13315    13315\n",
      "1   2.0    8823     8823\n",
      "2   3.0   12768    12768\n",
      "3   4.0   17905    17905\n",
      "4   5.0   31972    31972\n",
      "5   6.0   90217    90217\n",
      "6   7.0  351677   351677\n",
      "7   8.0  696358   696358\n",
      "8   9.0  293838   293838\n",
      "9  10.0   25997    25997\n"
     ]
    }
   ],
   "source": [
    "df_actual_8 = df_actual_8.set_index(\"index\")\n",
    "plot_cosine_counter_8 = df_actual_8.groupby(\"est\", as_index=False).count()\n",
    "print(plot_cosine_counter_8)"
   ]
  },
  {
   "cell_type": "code",
   "execution_count": 40,
   "id": "120da11a",
   "metadata": {},
   "outputs": [
    {
     "data": {
      "text/plain": [
       "<AxesSubplot:title={'center':'Actual 8 counter'}, xlabel='est'>"
      ]
     },
     "execution_count": 40,
     "metadata": {},
     "output_type": "execute_result"
    },
    {
     "data": {
      "image/png": "[encoded data removed]",
      "text/plain": [
       "<Figure size 432x288 with 1 Axes>"
      ]
     },
     "metadata": {
      "needs_background": "light"
     },
     "output_type": "display_data"
    }
   ],
   "source": [
    "plot_cosine_counter_8.plot.bar(x='est', y='actual', title=\"Actual 8 counter\")"
   ]
  },
  {
   "cell_type": "code",
   "execution_count": 41,
   "id": "d3d7f444",
   "metadata": {},
   "outputs": [],
   "source": [
    "df_actua_9 = df.loc[df[\"actual\"] == 9]\n",
    "round_actual_9 = np.round(df_actua_9[\"est\"], decimals=0)\n",
    "round_actual_9 = round_actual_9.reset_index()"
   ]
  },
  {
   "cell_type": "code",
   "execution_count": 42,
   "id": "51fb0d6b",
   "metadata": {},
   "outputs": [],
   "source": [
    "df_actua_9 = df_actua_9.reset_index()[[\"index\", \"actual\", \"details\"]]\n",
    "df_actua_9 = df_actua_9.merge(round_actual_9, on=\"index\", how=\"left\")"
   ]
  },
  {
   "cell_type": "code",
   "execution_count": 43,
   "id": "bfe0c579",
   "metadata": {},
   "outputs": [
    {
     "name": "stdout",
     "output_type": "stream",
     "text": [
      "    est  actual  details\n",
      "0   1.0   11388    11388\n",
      "1   2.0    7206     7206\n",
      "2   3.0    9453     9453\n",
      "3   4.0   12138    12138\n",
      "4   5.0   19291    19291\n",
      "5   6.0   42356    42356\n",
      "6   7.0  138648   138648\n",
      "7   8.0  409524   409524\n",
      "8   9.0  401572   401572\n",
      "9  10.0   60649    60649\n"
     ]
    }
   ],
   "source": [
    "df_actua_9 = df_actua_9.set_index(\"index\")\n",
    "plot_cosine_counter_9 = df_actua_9.groupby(\"est\", as_index=False).count()\n",
    "print(plot_cosine_counter_9)"
   ]
  },
  {
   "cell_type": "code",
   "execution_count": 44,
   "id": "e63af04d",
   "metadata": {},
   "outputs": [
    {
     "data": {
      "text/plain": [
       "<AxesSubplot:title={'center':'Actual 9 counter'}, xlabel='est'>"
      ]
     },
     "execution_count": 44,
     "metadata": {},
     "output_type": "execute_result"
    },
    {
     "data": {
      "image/png": "[encoded data removed]",
      "text/plain": [
       "<Figure size 432x288 with 1 Axes>"
      ]
     },
     "metadata": {
      "needs_background": "light"
     },
     "output_type": "display_data"
    }
   ],
   "source": [
    "plot_cosine_counter_9.plot.bar(x='est', y='actual', title=\"Actual 9 counter\")"
   ]
  },
  {
   "cell_type": "code",
   "execution_count": 45,
   "id": "b632bc81",
   "metadata": {},
   "outputs": [],
   "source": [
    "df_actua_10 = df.loc[df[\"actual\"] == 10]\n",
    "round_actual_10 = np.round(df_actua_10[\"est\"], decimals=0)\n",
    "round_actual_10 = round_actual_10.reset_index()"
   ]
  },
  {
   "cell_type": "code",
   "execution_count": 46,
   "id": "1a148564",
   "metadata": {},
   "outputs": [],
   "source": [
    "df_actua_10 = df_actua_10.reset_index()[[\"index\", \"actual\", \"details\"]]\n",
    "df_actua_10 = df_actua_10.merge(round_actual_10, on=\"index\", how=\"left\")"
   ]
  },
  {
   "cell_type": "code",
   "execution_count": 47,
   "id": "caa007bc",
   "metadata": {},
   "outputs": [
    {
     "name": "stdout",
     "output_type": "stream",
     "text": [
      "    est  actual  details\n",
      "0   1.0   12706    12706\n",
      "1   2.0    6988     6988\n",
      "2   3.0    7380     7380\n",
      "3   4.0    9162     9162\n",
      "4   5.0   13941    13941\n",
      "5   6.0   24071    24071\n",
      "6   7.0   54932    54932\n",
      "7   8.0  162668   162668\n",
      "8   9.0  300060   300060\n",
      "9  10.0  175329   175329\n"
     ]
    }
   ],
   "source": [
    "df_actua_10 = df_actua_10.set_index(\"index\")\n",
    "plot_cosine_counter_10 = df_actua_10.groupby(\"est\", as_index=False).count()\n",
    "print(plot_cosine_counter_10)"
   ]
  },
  {
   "cell_type": "code",
   "execution_count": 48,
   "id": "1cd67926",
   "metadata": {},
   "outputs": [
    {
     "data": {
      "text/plain": [
       "<AxesSubplot:title={'center':'Actual 10 counter'}, xlabel='est'>"
      ]
     },
     "execution_count": 48,
     "metadata": {},
     "output_type": "execute_result"
    },
    {
     "data": {
      "image/png": "[encoded data removed]",
      "text/plain": [
       "<Figure size 432x288 with 1 Axes>"
      ]
     },
     "metadata": {
      "needs_background": "light"
     },
     "output_type": "display_data"
    }
   ],
   "source": [
    "plot_cosine_counter_10.plot.bar(x='est', y='actual', title=\"Actual 10 counter\")"
   ]
  },
  {
   "cell_type": "code",
   "execution_count": 49,
   "id": "d221a423",
   "metadata": {},
   "outputs": [],
   "source": [
    "round_df = np.round(df[\"est\"], decimals=0)\n",
    "round_df = round_df.reset_index()\n",
    "df = df.reset_index()[[\"index\", \"actual\", \"details\"]]\n",
    "df = df.merge(round_df, on=\"index\", how=\"left\")"
   ]
  },
  {
   "cell_type": "code",
   "execution_count": 50,
   "id": "edd7b05b",
   "metadata": {},
   "outputs": [
    {
     "name": "stdout",
     "output_type": "stream",
     "text": [
      "    est   actual  details\n",
      "0   1.0  2277680  2277680\n",
      "1   2.0   283924   283924\n",
      "2   3.0   277392   277392\n",
      "3   4.0   333940   333940\n",
      "4   5.0   570852   570852\n",
      "5   6.0  1387268  1387268\n",
      "6   7.0  3301361  3301361\n",
      "7   8.0  4711752  4711752\n",
      "8   9.0  2999528  2999528\n",
      "9  10.0   763808   763808\n"
     ]
    }
   ],
   "source": [
    "df = df.set_index(\"index\")\n",
    "plot_df = df.groupby(\"est\", as_index=False).count()\n",
    "print(plot_df)"
   ]
  },
  {
   "cell_type": "code",
   "execution_count": 51,
   "id": "54843dd9",
   "metadata": {},
   "outputs": [],
   "source": [
    "def plot_violin_graph(list_of_data, title):\n",
    "    # Create a figure instance\n",
    "    label = [\"fold 0\", \"fold 1\", \"fold 2\", \"fold 3\"]\n",
    "    fig = plt.figure()\n",
    "  \n",
    "    # Create an axes instance\n",
    "    ax = fig.gca()\n",
    "    ax.set_title(title)\n",
    "    # Create the violinplot\n",
    "    violinplot = ax.violinplot(list_of_data)\n",
    "    plt.show()"
   ]
  },
  {
   "cell_type": "code",
   "execution_count": 52,
   "id": "fdf9f7e6",
   "metadata": {},
   "outputs": [
    {
     "data": {
      "image/png": "[encoded data removed]",
      "text/plain": [
       "<Figure size 432x288 with 1 Axes>"
      ]
     },
     "metadata": {
      "needs_background": "light"
     },
     "output_type": "display_data"
    }
   ],
   "source": [
    "est_df = df[\"est\"].tolist()\n",
    "plot_violin_graph(est_df, title=\"all folds estimation\")"
   ]
  },
  {
   "cell_type": "code",
   "execution_count": 53,
   "id": "9b329b2b",
   "metadata": {},
   "outputs": [
    {
     "data": {
      "image/png": "[encoded data removed]",
      "text/plain": [
       "<Figure size 432x288 with 1 Axes>"
      ]
     },
     "metadata": {
      "needs_background": "light"
     },
     "output_type": "display_data"
    }
   ],
   "source": [
    "est_df = df[\"actual\"].tolist()\n",
    "plot_violin_graph(est_df, title=\"all folds actual\")"
   ]
  }
 ],
 "metadata": {
  "kernelspec": {
   "display_name": "Python 3",
   "language": "python",
   "name": "python3"
  },
  "language_info": {
   "codemirror_mode": {
    "name": "ipython",
    "version": 3
   },
   "file_extension": ".py",
   "mimetype": "text/x-python",
   "name": "python",
   "nbconvert_exporter": "python",
   "pygments_lexer": "ipython3",
   "version": "3.6.5"
  }
 },
 "nbformat": 4,
 "nbformat_minor": 5
}
