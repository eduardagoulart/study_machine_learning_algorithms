{
 "cells": [
  {
   "cell_type": "code",
   "execution_count": 1,
   "id": "e3a39540",
   "metadata": {},
   "outputs": [],
   "source": [
    "import pandas as pd\n",
    "import numpy as np\n",
    "import matplotlib.pyplot as plt\n",
    "import seaborn as sns"
   ]
  },
  {
   "cell_type": "code",
   "execution_count": 2,
   "id": "d8fc146d",
   "metadata": {},
   "outputs": [],
   "source": [
    "def round_est_values(df):\n",
    "    round_actual = np.round(df[\"est\"], decimals=0)\n",
    "    round_actual = round_actual.reset_index()\n",
    "    df = df.reset_index()[[\"index\", \"actual\", \"details\"]]\n",
    "    df = df.merge(round_actual, on=\"index\", how=\"left\")\n",
    "    df = df.set_index(\"index\")\n",
    "    grouped = df.groupby(\"est\", as_index=False).count()\n",
    "    return grouped"
   ]
  },
  {
   "cell_type": "code",
   "execution_count": 3,
   "id": "22c87c14",
   "metadata": {},
   "outputs": [],
   "source": [
    "msd_fold_0 = pd.read_parquet(f\"../predictions/knn_baseline/anime_type_tv/no_filter/knn_baseline_msd_0.parquet\")\n",
    "msd_fold_1 = pd.read_parquet(f\"../predictions/knn_baseline/anime_type_tv/no_filter/knn_baseline_msd_1.parquet\")\n",
    "msd_fold_2 = pd.read_parquet(f\"../predictions/knn_baseline/anime_type_tv/no_filter/knn_baseline_msd_2.parquet\")\n",
    "msd_fold_3 = pd.read_parquet(f\"../predictions/knn_baseline/anime_type_tv/no_filter/knn_baseline_msd_3.parquet\")\n",
    "msd_fold_4 = pd.read_parquet(f\"../predictions/knn_baseline/anime_type_tv/no_filter/knn_baseline_msd_4.parquet\")\n",
    "\n",
    "df = pd.concat([msd_fold_0, msd_fold_1, msd_fold_2, msd_fold_3, msd_fold_4])"
   ]
  },
  {
   "cell_type": "markdown",
   "id": "47fffb85",
   "metadata": {},
   "source": [
    "### MSD"
   ]
  },
  {
   "cell_type": "markdown",
   "id": "0b3cee00",
   "metadata": {},
   "source": [
    "Os gráficos são comparativo da nota real VS a nota predita. Filtrando cada nota real (de 1 a 10), quais são as notas preditas por cada algoritmo usando similaridade msd"
   ]
  },
  {
   "cell_type": "code",
   "execution_count": 4,
   "id": "4ec82d71",
   "metadata": {},
   "outputs": [
    {
     "name": "stdout",
     "output_type": "stream",
     "text": [
      "    est   actual  details\n",
      "0   1.0  3696410  3696410\n",
      "1   2.0   428110   428110\n",
      "2   3.0   423180   423180\n",
      "3   4.0   551640   551640\n",
      "4   5.0   950800   950800\n",
      "5   6.0  2265220  2265220\n",
      "6   7.0  5231115  5231115\n",
      "7   8.0  7170091  7170091\n",
      "8   9.0  4480125  4480125\n",
      "9  10.0  1221285  1221285\n"
     ]
    }
   ],
   "source": [
    "df_grouped = round_est_values(df)\n",
    "print(df_grouped)"
   ]
  },
  {
   "cell_type": "code",
   "execution_count": 5,
   "id": "9c495da8",
   "metadata": {},
   "outputs": [
    {
     "data": {
      "text/plain": [
       "<AxesSubplot:title={'center':'Distribuição valores preditos - knn_baseline'}, xlabel='est'>"
      ]
     },
     "execution_count": 5,
     "metadata": {},
     "output_type": "execute_result"
    },
    {
     "data": {
      "image/png": "[encoded data removed]",
      "text/plain": [
       "<Figure size 432x288 with 1 Axes>"
      ]
     },
     "metadata": {
      "needs_background": "light"
     },
     "output_type": "display_data"
    }
   ],
   "source": [
    "df_grouped.plot.bar(x='est', y='actual', title=\"Distribuição valores preditos - knn_baseline\")"
   ]
  },
  {
   "cell_type": "code",
   "execution_count": 6,
   "id": "3d4fb94a",
   "metadata": {},
   "outputs": [
    {
     "name": "stdout",
     "output_type": "stream",
     "text": [
      "    est  actual  details\n",
      "0   1.0     791      791\n",
      "1   2.0     487      487\n",
      "2   3.0     721      721\n",
      "3   4.0     969      969\n",
      "4   5.0    1290     1290\n",
      "5   6.0    1547     1547\n",
      "6   7.0    1305     1305\n",
      "7   8.0     748      748\n",
      "8   9.0     318      318\n",
      "9  10.0      65       65\n"
     ]
    }
   ],
   "source": [
    "df_actual_1 = df.loc[df[\"actual\"] == 1]\n",
    "plot_msd_counter = round_est_values(df_actual_1)\n",
    "print(plot_msd_counter)"
   ]
  },
  {
   "cell_type": "code",
   "execution_count": 7,
   "id": "4e504e37",
   "metadata": {},
   "outputs": [
    {
     "data": {
      "text/plain": [
       "<AxesSubplot:title={'center':'(MSD) Actual 1 counter'}, xlabel='est'>"
      ]
     },
     "execution_count": 7,
     "metadata": {},
     "output_type": "execute_result"
    },
    {
     "data": {
      "image/png": "[encoded data removed]",
      "text/plain": [
       "<Figure size 432x288 with 1 Axes>"
      ]
     },
     "metadata": {
      "needs_background": "light"
     },
     "output_type": "display_data"
    }
   ],
   "source": [
    "plot_msd_counter.plot.bar(x='est', y='actual', title=\"(MSD) Actual 1 counter\")"
   ]
  },
  {
   "cell_type": "code",
   "execution_count": 8,
   "id": "d5b3e881",
   "metadata": {},
   "outputs": [
    {
     "name": "stdout",
     "output_type": "stream",
     "text": [
      "    est  actual  details\n",
      "0   1.0     384      384\n",
      "1   2.0     392      392\n",
      "2   3.0     961      961\n",
      "3   4.0    1869     1869\n",
      "4   5.0    2565     2565\n",
      "5   6.0    2977     2977\n",
      "6   7.0    2223     2223\n",
      "7   8.0    1105     1105\n",
      "8   9.0     308      308\n",
      "9  10.0      52       52\n"
     ]
    }
   ],
   "source": [
    "df_actual_2 = df.loc[df[\"actual\"] == 2]\n",
    "plot_msd_counter_2 = round_est_values(df_actual_2)\n",
    "print(plot_msd_counter_2)"
   ]
  },
  {
   "cell_type": "code",
   "execution_count": 9,
   "id": "47097ce1",
   "metadata": {},
   "outputs": [
    {
     "data": {
      "text/plain": [
       "<AxesSubplot:title={'center':'(MSD) Actual 2 counter'}, xlabel='est'>"
      ]
     },
     "execution_count": 9,
     "metadata": {},
     "output_type": "execute_result"
    },
    {
     "data": {
      "image/png": "[encoded data removed]",
      "text/plain": [
       "<Figure size 432x288 with 1 Axes>"
      ]
     },
     "metadata": {
      "needs_background": "light"
     },
     "output_type": "display_data"
    }
   ],
   "source": [
    "plot_msd_counter_2.plot.bar(x='est', y='actual', title=\"(MSD) Actual 2 counter\")"
   ]
  },
  {
   "cell_type": "code",
   "execution_count": 10,
   "id": "148743c3",
   "metadata": {},
   "outputs": [
    {
     "name": "stdout",
     "output_type": "stream",
     "text": [
      "    est  actual  details\n",
      "0   1.0     518      518\n",
      "1   2.0     423      423\n",
      "2   3.0    1253     1253\n",
      "3   4.0    3093     3093\n",
      "4   5.0    5457     5457\n",
      "5   6.0    6345     6345\n",
      "6   7.0    4734     4734\n",
      "7   8.0    2074     2074\n",
      "8   9.0     494      494\n",
      "9  10.0      67       67\n"
     ]
    }
   ],
   "source": [
    "df_actual_3 = df.loc[df[\"actual\"] == 3]\n",
    "plot_msd_counter_3 = round_est_values(df_actual_3)\n",
    "print(plot_msd_counter_3)"
   ]
  },
  {
   "cell_type": "code",
   "execution_count": 11,
   "id": "766a09da",
   "metadata": {},
   "outputs": [
    {
     "data": {
      "text/plain": [
       "<AxesSubplot:title={'center':'(MSD) Actual 3 counter'}, xlabel='est'>"
      ]
     },
     "execution_count": 11,
     "metadata": {},
     "output_type": "execute_result"
    },
    {
     "data": {
      "image/png": "[encoded data removed]",
      "text/plain": [
       "<Figure size 432x288 with 1 Axes>"
      ]
     },
     "metadata": {
      "needs_background": "light"
     },
     "output_type": "display_data"
    }
   ],
   "source": [
    "plot_msd_counter_3.plot.bar(x='est', y='actual', title=\"(MSD) Actual 3 counter\")"
   ]
  },
  {
   "cell_type": "code",
   "execution_count": 12,
   "id": "9763368d",
   "metadata": {},
   "outputs": [
    {
     "name": "stdout",
     "output_type": "stream",
     "text": [
      "    est  actual  details\n",
      "0   1.0    1164     1164\n",
      "1   2.0     803      803\n",
      "2   3.0    1770     1770\n",
      "3   4.0    5242     5242\n",
      "4   5.0   12640    12640\n",
      "5   6.0   19029    19029\n",
      "6   7.0   15949    15949\n",
      "7   8.0    7123     7123\n",
      "8   9.0    1665     1665\n",
      "9  10.0     206      206\n"
     ]
    }
   ],
   "source": [
    "df_actual_4 = df.loc[df[\"actual\"] == 4]\n",
    "plot_msd_counter_4 = round_est_values(df_actual_4)\n",
    "print(plot_msd_counter_4)"
   ]
  },
  {
   "cell_type": "code",
   "execution_count": 13,
   "id": "8f31ee3c",
   "metadata": {},
   "outputs": [
    {
     "data": {
      "text/plain": [
       "<AxesSubplot:title={'center':'(MSD) Actual 4 counter'}, xlabel='est'>"
      ]
     },
     "execution_count": 13,
     "metadata": {},
     "output_type": "execute_result"
    },
    {
     "data": {
      "image/png": "[encoded data removed]",
      "text/plain": [
       "<Figure size 432x288 with 1 Axes>"
      ]
     },
     "metadata": {
      "needs_background": "light"
     },
     "output_type": "display_data"
    }
   ],
   "source": [
    "plot_msd_counter_4.plot.bar(x='est', y='actual', title=\"(MSD) Actual 4 counter\")"
   ]
  },
  {
   "cell_type": "code",
   "execution_count": 14,
   "id": "d47b8a66",
   "metadata": {},
   "outputs": [
    {
     "name": "stdout",
     "output_type": "stream",
     "text": [
      "    est  actual  details\n",
      "0   1.0    2984     2984\n",
      "1   2.0    2016     2016\n",
      "2   3.0    3273     3273\n",
      "3   4.0    8247     8247\n",
      "4   5.0   26407    26407\n",
      "5   6.0   58594    58594\n",
      "6   7.0   57936    57936\n",
      "7   8.0   25309    25309\n",
      "8   9.0    5905     5905\n",
      "9  10.0     610      610\n"
     ]
    }
   ],
   "source": [
    "df_actual_5 = df.loc[df[\"actual\"] == 5]\n",
    "plot_msd_counter_5 = round_est_values(df_actual_5)\n",
    "print(plot_msd_counter_5)"
   ]
  },
  {
   "cell_type": "code",
   "execution_count": 15,
   "id": "186b4675",
   "metadata": {},
   "outputs": [
    {
     "data": {
      "text/plain": [
       "<AxesSubplot:title={'center':'(MSD) Actual 5 counter'}, xlabel='est'>"
      ]
     },
     "execution_count": 15,
     "metadata": {},
     "output_type": "execute_result"
    },
    {
     "data": {
      "image/png": "[encoded data removed]",
      "text/plain": [
       "<Figure size 432x288 with 1 Axes>"
      ]
     },
     "metadata": {
      "needs_background": "light"
     },
     "output_type": "display_data"
    }
   ],
   "source": [
    "plot_msd_counter_5.plot.bar(x='est', y='actual', title=\"(MSD) Actual 5 counter\")"
   ]
  },
  {
   "cell_type": "code",
   "execution_count": 16,
   "id": "9c133b82",
   "metadata": {},
   "outputs": [
    {
     "name": "stdout",
     "output_type": "stream",
     "text": [
      "    est  actual  details\n",
      "0   1.0    6210     6210\n",
      "1   2.0    4059     4059\n",
      "2   3.0    6283     6283\n",
      "3   4.0   12294    12294\n",
      "4   5.0   37262    37262\n",
      "5   6.0  128427   128427\n",
      "6   7.0  200445   200445\n",
      "7   8.0  103716   103716\n",
      "8   9.0   21919    21919\n",
      "9  10.0    2121     2121\n"
     ]
    }
   ],
   "source": [
    "df_actual_6 = df.loc[df[\"actual\"] == 6]\n",
    "plot_msd_counter_6 = round_est_values(df_actual_6)\n",
    "print(plot_msd_counter_6)"
   ]
  },
  {
   "cell_type": "code",
   "execution_count": 17,
   "id": "047fbe05",
   "metadata": {},
   "outputs": [
    {
     "data": {
      "text/plain": [
       "<AxesSubplot:title={'center':'(MSD) Actual 6 counter'}, xlabel='est'>"
      ]
     },
     "execution_count": 17,
     "metadata": {},
     "output_type": "execute_result"
    },
    {
     "data": {
      "image/png": "[encoded data removed]",
      "text/plain": [
       "<Figure size 432x288 with 1 Axes>"
      ]
     },
     "metadata": {
      "needs_background": "light"
     },
     "output_type": "display_data"
    }
   ],
   "source": [
    "plot_msd_counter_6.plot.bar(x='est', y='actual', title=\"(MSD) Actual 6 counter\")"
   ]
  },
  {
   "cell_type": "code",
   "execution_count": 18,
   "id": "0946827e",
   "metadata": {},
   "outputs": [
    {
     "name": "stdout",
     "output_type": "stream",
     "text": [
      "    est  actual  details\n",
      "0   1.0   16315    16315\n",
      "1   2.0   10150    10150\n",
      "2   3.0   15051    15051\n",
      "3   4.0   24988    24988\n",
      "4   5.0   55038    55038\n",
      "5   6.0  199121   199121\n",
      "6   7.0  592293   592293\n",
      "7   8.0  511352   511352\n",
      "8   9.0  121017   121017\n",
      "9  10.0   10021    10021\n"
     ]
    }
   ],
   "source": [
    "df_actual_7 = df.loc[df[\"actual\"] == 7]\n",
    "plot_msd_counter_7 = round_est_values(df_actual_7)\n",
    "print(plot_msd_counter_7)"
   ]
  },
  {
   "cell_type": "code",
   "execution_count": 19,
   "id": "2dd5d395",
   "metadata": {},
   "outputs": [
    {
     "data": {
      "text/plain": [
       "<AxesSubplot:title={'center':'(MSD) Actual 7 counter'}, xlabel='est'>"
      ]
     },
     "execution_count": 19,
     "metadata": {},
     "output_type": "execute_result"
    },
    {
     "data": {
      "image/png": "[encoded data removed]",
      "text/plain": [
       "<Figure size 432x288 with 1 Axes>"
      ]
     },
     "metadata": {
      "needs_background": "light"
     },
     "output_type": "display_data"
    }
   ],
   "source": [
    "plot_msd_counter_7.plot.bar(x='est', y='actual', title=\"(MSD) Actual 7 counter\")"
   ]
  },
  {
   "cell_type": "code",
   "execution_count": 20,
   "id": "32591dc0",
   "metadata": {},
   "outputs": [
    {
     "name": "stdout",
     "output_type": "stream",
     "text": [
      "    est  actual  details\n",
      "0   1.0   21953    21953\n",
      "1   2.0   13857    13857\n",
      "2   3.0   19083    19083\n",
      "3   4.0   27272    27272\n",
      "4   5.0   49064    49064\n",
      "5   6.0  137263   137263\n",
      "6   7.0  517476   517476\n",
      "7   8.0  977654   977654\n",
      "8   9.0  390401   390401\n",
      "9  10.0   35451    35451\n"
     ]
    }
   ],
   "source": [
    "df_actual_8 = df.loc[df[\"actual\"] == 8]\n",
    "plot_msd_counter_8 = round_est_values(df_actual_8)\n",
    "print(plot_msd_counter_8)"
   ]
  },
  {
   "cell_type": "code",
   "execution_count": 21,
   "id": "677f6ea0",
   "metadata": {},
   "outputs": [
    {
     "data": {
      "text/plain": [
       "<AxesSubplot:title={'center':'(MSD) Actual 8 counter'}, xlabel='est'>"
      ]
     },
     "execution_count": 21,
     "metadata": {},
     "output_type": "execute_result"
    },
    {
     "data": {
      "image/png": "[encoded data removed]",
      "text/plain": [
       "<Figure size 432x288 with 1 Axes>"
      ]
     },
     "metadata": {
      "needs_background": "light"
     },
     "output_type": "display_data"
    }
   ],
   "source": [
    "plot_msd_counter_8.plot.bar(x='est', y='actual', title=\"(MSD) Actual 8 counter\")"
   ]
  },
  {
   "cell_type": "code",
   "execution_count": 22,
   "id": "79d11434",
   "metadata": {},
   "outputs": [
    {
     "name": "stdout",
     "output_type": "stream",
     "text": [
      "    est  actual  details\n",
      "0   1.0   17752    17752\n",
      "1   2.0   10851    10851\n",
      "2   3.0   13124    13124\n",
      "3   4.0   17707    17707\n",
      "4   5.0   28248    28248\n",
      "5   6.0   61499    61499\n",
      "6   7.0  200155   200155\n",
      "7   8.0  572242   572242\n",
      "8   9.0  545608   545608\n",
      "9  10.0   83158    83158\n"
     ]
    }
   ],
   "source": [
    "df_actua_9 = df.loc[df[\"actual\"] == 9]\n",
    "plot_msd_counter_9 = round_est_values(df_actua_9)\n",
    "print(plot_msd_counter_9)"
   ]
  },
  {
   "cell_type": "code",
   "execution_count": 23,
   "id": "8195813e",
   "metadata": {},
   "outputs": [
    {
     "data": {
      "text/plain": [
       "<AxesSubplot:title={'center':'(MSD) Actual 9 counter'}, xlabel='est'>"
      ]
     },
     "execution_count": 23,
     "metadata": {},
     "output_type": "execute_result"
    },
    {
     "data": {
      "image/png": "[encoded data removed]",
      "text/plain": [
       "<Figure size 432x288 with 1 Axes>"
      ]
     },
     "metadata": {
      "needs_background": "light"
     },
     "output_type": "display_data"
    }
   ],
   "source": [
    "plot_msd_counter_9.plot.bar(x='est', y='actual', title=\"(MSD) Actual 9 counter\")"
   ]
  },
  {
   "cell_type": "code",
   "execution_count": 24,
   "id": "7ee69a50",
   "metadata": {},
   "outputs": [
    {
     "name": "stdout",
     "output_type": "stream",
     "text": [
      "    est  actual  details\n",
      "0   1.0   19018    19018\n",
      "1   2.0    9773     9773\n",
      "2   3.0    9909     9909\n",
      "3   4.0   13709    13709\n",
      "4   5.0   19244    19244\n",
      "5   6.0   32156    32156\n",
      "6   7.0   77759    77759\n",
      "7   8.0  219235   219235\n",
      "8   9.0  396157   396157\n",
      "9  10.0  250519   250519\n"
     ]
    }
   ],
   "source": [
    "df_actua_10 = df.loc[df[\"actual\"] == 10]\n",
    "plot_msd_counter_10 = round_est_values(df_actua_10)\n",
    "print(plot_msd_counter_10)"
   ]
  },
  {
   "cell_type": "code",
   "execution_count": 25,
   "id": "57c550c6",
   "metadata": {},
   "outputs": [
    {
     "data": {
      "text/plain": [
       "<AxesSubplot:title={'center':'(MSD) Actual 10 counter'}, xlabel='est'>"
      ]
     },
     "execution_count": 25,
     "metadata": {},
     "output_type": "execute_result"
    },
    {
     "data": {
      "image/png": "[encoded data removed]",
      "text/plain": [
       "<Figure size 432x288 with 1 Axes>"
      ]
     },
     "metadata": {
      "needs_background": "light"
     },
     "output_type": "display_data"
    }
   ],
   "source": [
    "plot_msd_counter_10.plot.bar(x='est', y='actual', title=\"(MSD) Actual 10 counter\")"
   ]
  },
  {
   "cell_type": "code",
   "execution_count": 26,
   "id": "4b7463f0",
   "metadata": {},
   "outputs": [],
   "source": [
    "round_df = np.round(df[\"est\"], decimals=0)\n",
    "round_df = round_df.reset_index()\n",
    "df = df.reset_index()[[\"index\", \"actual\", \"details\"]]\n",
    "df = df.merge(round_df, on=\"index\", how=\"left\")"
   ]
  },
  {
   "cell_type": "code",
   "execution_count": 27,
   "id": "76110117",
   "metadata": {},
   "outputs": [
    {
     "name": "stdout",
     "output_type": "stream",
     "text": [
      "    est   actual  details\n",
      "0   1.0  3696410  3696410\n",
      "1   2.0   428110   428110\n",
      "2   3.0   423180   423180\n",
      "3   4.0   551640   551640\n",
      "4   5.0   950800   950800\n",
      "5   6.0  2265220  2265220\n",
      "6   7.0  5231115  5231115\n",
      "7   8.0  7170091  7170091\n",
      "8   9.0  4480125  4480125\n",
      "9  10.0  1221285  1221285\n"
     ]
    }
   ],
   "source": [
    "df = df.set_index(\"index\")\n",
    "plot_df = df.groupby(\"est\", as_index=False).count()\n",
    "print(plot_df)"
   ]
  },
  {
   "cell_type": "code",
   "execution_count": 28,
   "id": "4df0ebc3",
   "metadata": {},
   "outputs": [],
   "source": [
    "def plot_violin_graph_base(list_of_data, title):\n",
    "    # Create a figure instance\n",
    "    fig = plt.figure()\n",
    "  \n",
    "    # Create an axes instance\n",
    "    ax = fig.gca()\n",
    "    ax.set_title(title)\n",
    "    # Create the violinplot\n",
    "    violinplot = ax.violinplot(list_of_data)\n",
    "    plt.show()"
   ]
  },
  {
   "cell_type": "markdown",
   "id": "2387f0a9",
   "metadata": {},
   "source": [
    "Gráfico para o estudo de como está distribuição de notas preditas"
   ]
  },
  {
   "cell_type": "code",
   "execution_count": 29,
   "id": "9baa64dc",
   "metadata": {},
   "outputs": [
    {
     "data": {
      "image/png": "[encoded data removed]",
      "text/plain": [
       "<Figure size 432x288 with 1 Axes>"
      ]
     },
     "metadata": {
      "needs_background": "light"
     },
     "output_type": "display_data"
    }
   ],
   "source": [
    "est_df = df[\"est\"].tolist()\n",
    "plot_violin_graph_base(est_df, title=\"all folds estimation\")"
   ]
  },
  {
   "cell_type": "markdown",
   "id": "6c291100",
   "metadata": {},
   "source": [
    "é notório também que as notas reais estão amis concentradas entre 6 e 8, o que infuencia na predição. O algoritmo tende a acertar mais quando com essas notas e errar com notas entre 1 e 4"
   ]
  },
  {
   "cell_type": "code",
   "execution_count": 30,
   "id": "23f2a141",
   "metadata": {},
   "outputs": [
    {
     "data": {
      "image/png": "[encoded data removed]",
      "text/plain": [
       "<Figure size 432x288 with 1 Axes>"
      ]
     },
     "metadata": {
      "needs_background": "light"
     },
     "output_type": "display_data"
    }
   ],
   "source": [
    "est_df = df[\"actual\"].tolist()\n",
    "plot_violin_graph_base(est_df, title=\"all folds actual\")"
   ]
  },
  {
   "cell_type": "markdown",
   "id": "8da375f2",
   "metadata": {},
   "source": [
    "# Removing negative grades"
   ]
  },
  {
   "cell_type": "markdown",
   "id": "0ec3a66f",
   "metadata": {},
   "source": [
    "### Cossine"
   ]
  },
  {
   "cell_type": "code",
   "execution_count": 31,
   "id": "bbbc60c5",
   "metadata": {},
   "outputs": [],
   "source": [
    "knn_basic_0 = pd.read_parquet(f\"../predictions/knn_baseline/anime_type_tv/with_filter_remove_negative/knn_baseline_msd_0.parquet\")\n",
    "knn_basic_1 = pd.read_parquet(f\"../predictions/knn_baseline/anime_type_tv/with_filter_remove_negative/knn_baseline_msd_1.parquet\")\n",
    "knn_basic_2 = pd.read_parquet(f\"../predictions/knn_baseline/anime_type_tv/with_filter_remove_negative/knn_baseline_msd_2.parquet\")\n",
    "knn_basic_3 = pd.read_parquet(f\"../predictions/knn_baseline/anime_type_tv/with_filter_remove_negative/knn_baseline_msd_3.parquet\")\n",
    "knn_basic_4 = pd.read_parquet(f\"../predictions/knn_baseline/anime_type_tv/with_filter_remove_negative/knn_baseline_msd_4.parquet\")\n",
    "\n",
    "knn_basic = pd.concat([knn_basic_0, knn_basic_1, knn_basic_2, knn_basic_3, knn_basic_4])"
   ]
  },
  {
   "cell_type": "code",
   "execution_count": 32,
   "id": "c027cf4b",
   "metadata": {},
   "outputs": [
    {
     "name": "stdout",
     "output_type": "stream",
     "text": [
      "    est   actual  details\n",
      "0   1.0  3697495  3697495\n",
      "1   2.0   429975   429975\n",
      "2   3.0   422925   422925\n",
      "3   4.0   548865   548865\n",
      "4   5.0   952510   952510\n",
      "5   6.0  2267190  2267190\n",
      "6   7.0  5230341  5230341\n",
      "7   8.0  7163310  7163310\n",
      "8   9.0  4483375  4483375\n",
      "9  10.0  1221990  1221990\n"
     ]
    }
   ],
   "source": [
    "df_grouped = round_est_values(knn_basic)\n",
    "print(df_grouped)"
   ]
  },
  {
   "cell_type": "code",
   "execution_count": 33,
   "id": "8e7c03a9",
   "metadata": {},
   "outputs": [
    {
     "data": {
      "text/plain": [
       "<AxesSubplot:title={'center':'Distribuição valores preditos (filtro -1) - knn_baseline'}, xlabel='est'>"
      ]
     },
     "execution_count": 33,
     "metadata": {},
     "output_type": "execute_result"
    },
    {
     "data": {
      "image/png": "[encoded data removed]",
      "text/plain": [
       "<Figure size 432x288 with 1 Axes>"
      ]
     },
     "metadata": {
      "needs_background": "light"
     },
     "output_type": "display_data"
    }
   ],
   "source": [
    "df_grouped.plot.bar(x='est', y='actual', title=\"Distribuição valores preditos (filtro -1) - knn_baseline\")"
   ]
  },
  {
   "cell_type": "code",
   "execution_count": 34,
   "id": "c2999b6e",
   "metadata": {},
   "outputs": [
    {
     "name": "stdout",
     "output_type": "stream",
     "text": [
      "    est  actual  details\n",
      "0   1.0     781      781\n",
      "1   2.0     502      502\n",
      "2   3.0     695      695\n",
      "3   4.0    1006     1006\n",
      "4   5.0    1321     1321\n",
      "5   6.0    1531     1531\n",
      "6   7.0    1290     1290\n",
      "7   8.0     755      755\n",
      "8   9.0     298      298\n",
      "9  10.0      90       90\n"
     ]
    }
   ],
   "source": [
    "df_actual_with_filter_1 = knn_basic.loc[knn_basic[\"actual\"] == 1]\n",
    "df_actual_with_filter_1_plot = round_est_values(df_actual_with_filter_1)\n",
    "print(df_actual_with_filter_1_plot)"
   ]
  },
  {
   "cell_type": "code",
   "execution_count": 35,
   "id": "0fb96551",
   "metadata": {},
   "outputs": [
    {
     "data": {
      "text/plain": [
       "<AxesSubplot:title={'center':'(MSD) Actual 1 counter (filter -1)'}, xlabel='est'>"
      ]
     },
     "execution_count": 35,
     "metadata": {},
     "output_type": "execute_result"
    },
    {
     "data": {
      "image/png": "[encoded data removed]",
      "text/plain": [
       "<Figure size 432x288 with 1 Axes>"
      ]
     },
     "metadata": {
      "needs_background": "light"
     },
     "output_type": "display_data"
    }
   ],
   "source": [
    "df_actual_with_filter_1_plot.plot.bar(x='est', y='actual', title=\"(MSD) Actual 1 counter (filter -1)\")"
   ]
  },
  {
   "cell_type": "code",
   "execution_count": 36,
   "id": "49bb933d",
   "metadata": {},
   "outputs": [
    {
     "name": "stdout",
     "output_type": "stream",
     "text": [
      "    est  actual  details\n",
      "0   1.0     402      402\n",
      "1   2.0     403      403\n",
      "2   3.0     948      948\n",
      "3   4.0    1868     1868\n",
      "4   5.0    2586     2586\n",
      "5   6.0    2922     2922\n",
      "6   7.0    2188     2188\n",
      "7   8.0    1135     1135\n",
      "8   9.0     329      329\n",
      "9  10.0      47       47\n"
     ]
    }
   ],
   "source": [
    "df_actual_with_filter_2 = knn_basic.loc[knn_basic[\"actual\"] == 2]\n",
    "df_actual_with_filter_2_plot = round_est_values(df_actual_with_filter_2)\n",
    "print(df_actual_with_filter_2_plot)"
   ]
  },
  {
   "cell_type": "code",
   "execution_count": 37,
   "id": "3844f54e",
   "metadata": {},
   "outputs": [
    {
     "data": {
      "text/plain": [
       "<AxesSubplot:title={'center':'(MSD) Actual 2 counter (filter -1)'}, xlabel='est'>"
      ]
     },
     "execution_count": 37,
     "metadata": {},
     "output_type": "execute_result"
    },
    {
     "data": {
      "image/png": "[encoded data removed]",
      "text/plain": [
       "<Figure size 432x288 with 1 Axes>"
      ]
     },
     "metadata": {
      "needs_background": "light"
     },
     "output_type": "display_data"
    }
   ],
   "source": [
    "df_actual_with_filter_2_plot.plot.bar(x='est', y='actual', title=\"(MSD) Actual 2 counter (filter -1)\")"
   ]
  },
  {
   "cell_type": "code",
   "execution_count": 38,
   "id": "4a218f67",
   "metadata": {},
   "outputs": [
    {
     "name": "stdout",
     "output_type": "stream",
     "text": [
      "    est  actual  details\n",
      "0   1.0     529      529\n",
      "1   2.0     417      417\n",
      "2   3.0    1248     1248\n",
      "3   4.0    3080     3080\n",
      "4   5.0    5407     5407\n",
      "5   6.0    6538     6538\n",
      "6   7.0    4639     4639\n",
      "7   8.0    2070     2070\n",
      "8   9.0     494      494\n",
      "9  10.0      70       70\n"
     ]
    }
   ],
   "source": [
    "df_actual_with_filter_3 = knn_basic.loc[knn_basic[\"actual\"] == 3]\n",
    "df_actual_with_filter_3_plot = round_est_values(df_actual_with_filter_3)\n",
    "print(df_actual_with_filter_3_plot)"
   ]
  },
  {
   "cell_type": "code",
   "execution_count": 39,
   "id": "5fb4dd78",
   "metadata": {},
   "outputs": [
    {
     "data": {
      "text/plain": [
       "<AxesSubplot:title={'center':'(MSD) Actual 3 counter (filter -1)'}, xlabel='est'>"
      ]
     },
     "execution_count": 39,
     "metadata": {},
     "output_type": "execute_result"
    },
    {
     "data": {
      "image/png": "[encoded data removed]",
      "text/plain": [
       "<Figure size 432x288 with 1 Axes>"
      ]
     },
     "metadata": {
      "needs_background": "light"
     },
     "output_type": "display_data"
    }
   ],
   "source": [
    "df_actual_with_filter_3_plot.plot.bar(x='est', y='actual', title=\"(MSD) Actual 3 counter (filter -1)\")"
   ]
  },
  {
   "cell_type": "code",
   "execution_count": 40,
   "id": "4c51f87e",
   "metadata": {},
   "outputs": [
    {
     "name": "stdout",
     "output_type": "stream",
     "text": [
      "    est  actual  details\n",
      "0   1.0    1175     1175\n",
      "1   2.0     806      806\n",
      "2   3.0    1832     1832\n",
      "3   4.0    5110     5110\n",
      "4   5.0   12630    12630\n",
      "5   6.0   19136    19136\n",
      "6   7.0   15983    15983\n",
      "7   8.0    7013     7013\n",
      "8   9.0    1706     1706\n",
      "9  10.0     212      212\n"
     ]
    }
   ],
   "source": [
    "df_actual_with_filter_4 = knn_basic.loc[knn_basic[\"actual\"] == 4]\n",
    "df_actual_with_filter_4_plot = round_est_values(df_actual_with_filter_4)\n",
    "print(df_actual_with_filter_4_plot)"
   ]
  },
  {
   "cell_type": "code",
   "execution_count": 41,
   "id": "c101ef76",
   "metadata": {},
   "outputs": [
    {
     "data": {
      "text/plain": [
       "<AxesSubplot:title={'center':'(MSD) Actual 4 counter (filter -1)'}, xlabel='est'>"
      ]
     },
     "execution_count": 41,
     "metadata": {},
     "output_type": "execute_result"
    },
    {
     "data": {
      "image/png": "[encoded data removed]",
      "text/plain": [
       "<Figure size 432x288 with 1 Axes>"
      ]
     },
     "metadata": {
      "needs_background": "light"
     },
     "output_type": "display_data"
    }
   ],
   "source": [
    "df_actual_with_filter_4_plot.plot.bar(x='est', y='actual', title=\"(MSD) Actual 4 counter (filter -1)\")"
   ]
  },
  {
   "cell_type": "code",
   "execution_count": 42,
   "id": "4475d1a8",
   "metadata": {},
   "outputs": [
    {
     "name": "stdout",
     "output_type": "stream",
     "text": [
      "    est  actual  details\n",
      "0   1.0    3032     3032\n",
      "1   2.0    1999     1999\n",
      "2   3.0    3374     3374\n",
      "3   4.0    8154     8154\n",
      "4   5.0   26662    26662\n",
      "5   6.0   58362    58362\n",
      "6   7.0   57991    57991\n",
      "7   8.0   25661    25661\n",
      "8   9.0    5816     5816\n",
      "9  10.0     588      588\n"
     ]
    }
   ],
   "source": [
    "df_actual_with_filter_5 = knn_basic.loc[knn_basic[\"actual\"] == 5]\n",
    "df_actual_with_filter_5_plot = round_est_values(df_actual_with_filter_5)\n",
    "print(df_actual_with_filter_5_plot)"
   ]
  },
  {
   "cell_type": "code",
   "execution_count": 43,
   "id": "b4695c2f",
   "metadata": {},
   "outputs": [
    {
     "data": {
      "text/plain": [
       "<AxesSubplot:title={'center':'(MSD) Actual 5 counter (filter -1)'}, xlabel='est'>"
      ]
     },
     "execution_count": 43,
     "metadata": {},
     "output_type": "execute_result"
    },
    {
     "data": {
      "image/png": "[encoded data removed]",
      "text/plain": [
       "<Figure size 432x288 with 1 Axes>"
      ]
     },
     "metadata": {
      "needs_background": "light"
     },
     "output_type": "display_data"
    }
   ],
   "source": [
    "df_actual_with_filter_5_plot.plot.bar(x='est', y='actual', title=\"(MSD) Actual 5 counter (filter -1)\")"
   ]
  },
  {
   "cell_type": "code",
   "execution_count": 44,
   "id": "f5d29957",
   "metadata": {},
   "outputs": [
    {
     "name": "stdout",
     "output_type": "stream",
     "text": [
      "    est  actual  details\n",
      "0   1.0    6364     6364\n",
      "1   2.0    3984     3984\n",
      "2   3.0    6414     6414\n",
      "3   4.0   12288    12288\n",
      "4   5.0   37171    37171\n",
      "5   6.0  128605   128605\n",
      "6   7.0  200426   200426\n",
      "7   8.0  103276   103276\n",
      "8   9.0   22011    22011\n",
      "9  10.0    2095     2095\n"
     ]
    }
   ],
   "source": [
    "df_actual_with_filter_6 = knn_basic.loc[knn_basic[\"actual\"] == 6]\n",
    "df_actual_with_filter_6_plot = round_est_values(df_actual_with_filter_6)\n",
    "print(df_actual_with_filter_6_plot)"
   ]
  },
  {
   "cell_type": "code",
   "execution_count": 45,
   "id": "a19b5baa",
   "metadata": {},
   "outputs": [
    {
     "data": {
      "text/plain": [
       "<AxesSubplot:title={'center':'(MSD) Actual 6 counter (filter -1)'}, xlabel='est'>"
      ]
     },
     "execution_count": 45,
     "metadata": {},
     "output_type": "execute_result"
    },
    {
     "data": {
      "image/png": "[encoded data removed]",
      "text/plain": [
       "<Figure size 432x288 with 1 Axes>"
      ]
     },
     "metadata": {
      "needs_background": "light"
     },
     "output_type": "display_data"
    }
   ],
   "source": [
    "df_actual_with_filter_6_plot.plot.bar(x='est', y='actual', title=\"(MSD) Actual 6 counter (filter -1)\")"
   ]
  },
  {
   "cell_type": "code",
   "execution_count": 46,
   "id": "ded75f2a",
   "metadata": {},
   "outputs": [
    {
     "name": "stdout",
     "output_type": "stream",
     "text": [
      "    est  actual  details\n",
      "0   1.0   16488    16488\n",
      "1   2.0   10190    10190\n",
      "2   3.0   15060    15060\n",
      "3   4.0   24967    24967\n",
      "4   5.0   54939    54939\n",
      "5   6.0  200944   200944\n",
      "6   7.0  594067   594067\n",
      "7   8.0  508701   508701\n",
      "8   9.0  121580   121580\n",
      "9  10.0    9742     9742\n"
     ]
    }
   ],
   "source": [
    "df_actual_with_filter_7 = knn_basic.loc[knn_basic[\"actual\"] == 7]\n",
    "df_actual_with_filter_7_plot = round_est_values(df_actual_with_filter_7)\n",
    "print(df_actual_with_filter_7_plot)"
   ]
  },
  {
   "cell_type": "code",
   "execution_count": 47,
   "id": "8f23646f",
   "metadata": {},
   "outputs": [
    {
     "data": {
      "text/plain": [
       "<AxesSubplot:title={'center':'(MSD) Actual 7 counter (filter -1)'}, xlabel='est'>"
      ]
     },
     "execution_count": 47,
     "metadata": {},
     "output_type": "execute_result"
    },
    {
     "data": {
      "image/png": "[encoded data removed]",
      "text/plain": [
       "<Figure size 432x288 with 1 Axes>"
      ]
     },
     "metadata": {
      "needs_background": "light"
     },
     "output_type": "display_data"
    }
   ],
   "source": [
    "df_actual_with_filter_7_plot.plot.bar(x='est', y='actual', title=\"(MSD) Actual 7 counter (filter -1)\")"
   ]
  },
  {
   "cell_type": "code",
   "execution_count": 48,
   "id": "7aaaca48",
   "metadata": {},
   "outputs": [
    {
     "name": "stdout",
     "output_type": "stream",
     "text": [
      "    est  actual  details\n",
      "0   1.0   22244    22244\n",
      "1   2.0   13794    13794\n",
      "2   3.0   18997    18997\n",
      "3   4.0   27805    27805\n",
      "4   5.0   49303    49303\n",
      "5   6.0  136448   136448\n",
      "6   7.0  517551   517551\n",
      "7   8.0  978210   978210\n",
      "8   9.0  391371   391371\n",
      "9  10.0   35171    35171\n"
     ]
    }
   ],
   "source": [
    "df_actual_with_filter_8 = knn_basic.loc[knn_basic[\"actual\"] == 8]\n",
    "df_actual_with_filter_8_plot = round_est_values(df_actual_with_filter_8)\n",
    "print(df_actual_with_filter_8_plot)"
   ]
  },
  {
   "cell_type": "code",
   "execution_count": 49,
   "id": "f80ac502",
   "metadata": {},
   "outputs": [
    {
     "data": {
      "text/plain": [
       "<AxesSubplot:title={'center':'(MSD) Actual 8 counter (filter -1)'}, xlabel='est'>"
      ]
     },
     "execution_count": 49,
     "metadata": {},
     "output_type": "execute_result"
    },
    {
     "data": {
      "image/png": "[encoded data removed]",
      "text/plain": [
       "<Figure size 432x288 with 1 Axes>"
      ]
     },
     "metadata": {
      "needs_background": "light"
     },
     "output_type": "display_data"
    }
   ],
   "source": [
    "df_actual_with_filter_8_plot.plot.bar(x='est', y='actual', title=\"(MSD) Actual 8 counter (filter -1)\")"
   ]
  },
  {
   "cell_type": "code",
   "execution_count": 50,
   "id": "f7043e38",
   "metadata": {},
   "outputs": [
    {
     "name": "stdout",
     "output_type": "stream",
     "text": [
      "    est  actual  details\n",
      "0   1.0   17734    17734\n",
      "1   2.0   10895    10895\n",
      "2   3.0   13533    13533\n",
      "3   4.0   18025    18025\n",
      "4   5.0   28483    28483\n",
      "5   6.0   61690    61690\n",
      "6   7.0  198749   198749\n",
      "7   8.0  572437   572437\n",
      "8   9.0  544753   544753\n",
      "9  10.0   83673    83673\n"
     ]
    }
   ],
   "source": [
    "df_actual_with_filter_9 = knn_basic.loc[knn_basic[\"actual\"] == 9]\n",
    "df_actual_with_filter_9_plot = round_est_values(df_actual_with_filter_9)\n",
    "print(df_actual_with_filter_9_plot)"
   ]
  },
  {
   "cell_type": "code",
   "execution_count": 51,
   "id": "a88e0f30",
   "metadata": {},
   "outputs": [
    {
     "data": {
      "text/plain": [
       "<AxesSubplot:title={'center':'(MSD) Actual 9 counter (filter -1)'}, xlabel='est'>"
      ]
     },
     "execution_count": 51,
     "metadata": {},
     "output_type": "execute_result"
    },
    {
     "data": {
      "image/png": "[encoded data removed]",
      "text/plain": [
       "<Figure size 432x288 with 1 Axes>"
      ]
     },
     "metadata": {
      "needs_background": "light"
     },
     "output_type": "display_data"
    }
   ],
   "source": [
    "df_actual_with_filter_9_plot.plot.bar(x='est', y='actual', title=\"(MSD) Actual 9 counter (filter -1)\")"
   ]
  },
  {
   "cell_type": "code",
   "execution_count": 52,
   "id": "234efc23",
   "metadata": {},
   "outputs": [
    {
     "name": "stdout",
     "output_type": "stream",
     "text": [
      "    est  actual  details\n",
      "0   1.0   19007    19007\n",
      "1   2.0    9662     9662\n",
      "2   3.0   10061    10061\n",
      "3   4.0   13493    13493\n",
      "4   5.0   19353    19353\n",
      "5   6.0   31669    31669\n",
      "6   7.0   77907    77907\n",
      "7   8.0  220510   220510\n",
      "8   9.0  396022   396022\n",
      "9  10.0  250265   250265\n"
     ]
    }
   ],
   "source": [
    "df_actual_with_filter_10 = knn_basic.loc[knn_basic[\"actual\"] == 10]\n",
    "df_actual_with_filter_10_plot = round_est_values(df_actual_with_filter_10)\n",
    "print(df_actual_with_filter_10_plot)"
   ]
  },
  {
   "cell_type": "code",
   "execution_count": 53,
   "id": "a698359b",
   "metadata": {},
   "outputs": [
    {
     "data": {
      "text/plain": [
       "<AxesSubplot:title={'center':'(MSD) Actual 10 counter (filter -1)'}, xlabel='est'>"
      ]
     },
     "execution_count": 53,
     "metadata": {},
     "output_type": "execute_result"
    },
    {
     "data": {
      "image/png": "[encoded data removed]",
      "text/plain": [
       "<Figure size 432x288 with 1 Axes>"
      ]
     },
     "metadata": {
      "needs_background": "light"
     },
     "output_type": "display_data"
    }
   ],
   "source": [
    "df_actual_with_filter_10_plot.plot.bar(x='est', y='actual', title=\"(MSD) Actual 10 counter (filter -1)\")"
   ]
  },
  {
   "cell_type": "code",
   "execution_count": 54,
   "id": "01771018",
   "metadata": {},
   "outputs": [],
   "source": [
    "round_df = np.round(knn_basic[\"est\"], decimals=0)\n",
    "round_df = round_df.reset_index()\n",
    "knn_basic = knn_basic.reset_index()[[\"index\", \"actual\", \"details\"]]\n",
    "knn_basic = knn_basic.merge(round_df, on=\"index\", how=\"left\")\n",
    "knn_basic = knn_basic.set_index(\"index\")"
   ]
  },
  {
   "cell_type": "code",
   "execution_count": 55,
   "id": "1a714544",
   "metadata": {},
   "outputs": [
    {
     "data": {
      "image/png": "[encoded data removed]",
      "text/plain": [
       "<Figure size 432x288 with 1 Axes>"
      ]
     },
     "metadata": {
      "needs_background": "light"
     },
     "output_type": "display_data"
    }
   ],
   "source": [
    "est_df = knn_basic[\"est\"].tolist()\n",
    "plot_violin_graph_base(est_df, title=\"Estimation (filter -1) - knn_baseline\")"
   ]
  },
  {
   "cell_type": "code",
   "execution_count": null,
   "id": "a1e61e79",
   "metadata": {},
   "outputs": [],
   "source": []
  },
  {
   "cell_type": "code",
   "execution_count": null,
   "id": "bd6c067b",
   "metadata": {},
   "outputs": [],
   "source": []
  }
 ],
 "metadata": {
  "kernelspec": {
   "display_name": "Python 3",
   "language": "python",
   "name": "python3"
  },
  "language_info": {
   "codemirror_mode": {
    "name": "ipython",
    "version": 3
   },
   "file_extension": ".py",
   "mimetype": "text/x-python",
   "name": "python",
   "nbconvert_exporter": "python",
   "pygments_lexer": "ipython3",
   "version": "3.6.5"
  }
 },
 "nbformat": 4,
 "nbformat_minor": 5
}
