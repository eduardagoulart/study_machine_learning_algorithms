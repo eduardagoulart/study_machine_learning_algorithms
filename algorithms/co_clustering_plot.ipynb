{
 "cells": [
  {
   "cell_type": "code",
   "execution_count": 1,
   "id": "e3a39540",
   "metadata": {},
   "outputs": [],
   "source": [
    "import pandas as pd\n",
    "import numpy as np\n",
    "import matplotlib.pyplot as plt\n",
    "import seaborn as sns"
   ]
  },
  {
   "cell_type": "code",
   "execution_count": 2,
   "id": "4c3542b5",
   "metadata": {},
   "outputs": [],
   "source": [
    "def round_est_values(df):\n",
    "    round_actual = np.round(df[\"est\"], decimals=0)\n",
    "    round_actual = round_actual.reset_index()\n",
    "    df = df.reset_index()[[\"index\", \"actual\", \"details\"]]\n",
    "    df = df.merge(round_actual, on=\"index\", how=\"left\")\n",
    "    df = df.set_index(\"index\")\n",
    "    grouped = df.groupby(\"est\", as_index=False).count()\n",
    "    return grouped"
   ]
  },
  {
   "cell_type": "code",
   "execution_count": 3,
   "id": "22c87c14",
   "metadata": {},
   "outputs": [],
   "source": [
    "co_clustering_0 = pd.read_parquet(f\"../predictions/co_clustering/anime_type_tv/no_filter/co_clustering_0.parquet\")\n",
    "co_clustering_1 = pd.read_parquet(f\"../predictions/co_clustering/anime_type_tv/no_filter/co_clustering_1.parquet\")\n",
    "co_clustering_2 = pd.read_parquet(f\"../predictions/co_clustering/anime_type_tv/no_filter/co_clustering_2.parquet\")\n",
    "co_clustering_3 = pd.read_parquet(f\"../predictions/co_clustering/anime_type_tv/no_filter/co_clustering_3.parquet\")\n",
    "co_clustering_4 = pd.read_parquet(f\"../predictions/co_clustering/anime_type_tv/no_filter/co_clustering_4.parquet\")\n",
    "\n",
    "df = pd.concat([co_clustering_0, co_clustering_1, co_clustering_2, co_clustering_3, co_clustering_4])"
   ]
  },
  {
   "cell_type": "markdown",
   "id": "47fffb85",
   "metadata": {},
   "source": [
    "### Cosine"
   ]
  },
  {
   "cell_type": "markdown",
   "id": "d24ba1fb",
   "metadata": {},
   "source": [
    "Os gráficos são comparativo da nota real VS a nota predita. Filtrando cada nota real (de 1 a 10), quais são as notas preditas por cada algoritmo usando similaridade cosseno"
   ]
  },
  {
   "cell_type": "code",
   "execution_count": 4,
   "id": "3d997823",
   "metadata": {},
   "outputs": [
    {
     "name": "stdout",
     "output_type": "stream",
     "text": [
      "    est   actual  details\n",
      "0   1.0  3478915  3478915\n",
      "1   2.0   429145   429145\n",
      "2   3.0   450900   450900\n",
      "3   4.0   550900   550900\n",
      "4   5.0   888490   888490\n",
      "5   6.0  2276290  2276290\n",
      "6   7.0  5657870  5657870\n",
      "7   8.0  7540931  7540931\n",
      "8   9.0  4136035  4136035\n",
      "9  10.0  1008500  1008500\n"
     ]
    }
   ],
   "source": [
    "df_grouped = round_est_values(df)\n",
    "print(df_grouped)"
   ]
  },
  {
   "cell_type": "code",
   "execution_count": 5,
   "id": "c15d3c5d",
   "metadata": {},
   "outputs": [
    {
     "data": {
      "text/plain": [
       "<AxesSubplot:title={'center':'Distribuição valores preditos - co_clustering'}, xlabel='est'>"
      ]
     },
     "execution_count": 5,
     "metadata": {},
     "output_type": "execute_result"
    },
    {
     "data": {
      "image/png": "[encoded data removed]",
      "text/plain": [
       "<Figure size 432x288 with 1 Axes>"
      ]
     },
     "metadata": {
      "needs_background": "light"
     },
     "output_type": "display_data"
    }
   ],
   "source": [
    "df_grouped.plot.bar(x='est', y='actual', title=\"Distribuição valores preditos - co_clustering\")"
   ]
  },
  {
   "cell_type": "code",
   "execution_count": 6,
   "id": "3d4fb94a",
   "metadata": {},
   "outputs": [
    {
     "name": "stdout",
     "output_type": "stream",
     "text": [
      "    est  actual  details\n",
      "0   1.0     620      620\n",
      "1   2.0     396      396\n",
      "2   3.0     523      523\n",
      "3   4.0     865      865\n",
      "4   5.0    1316     1316\n",
      "5   6.0    1762     1762\n",
      "6   7.0    1598     1598\n",
      "7   8.0     821      821\n",
      "8   9.0     287      287\n",
      "9  10.0      65       65\n"
     ]
    }
   ],
   "source": [
    "df_actual_1 = df.loc[df[\"actual\"] == 1]\n",
    "plot_cosine_counter = round_est_values(df_actual_1)\n",
    "print(plot_cosine_counter)"
   ]
  },
  {
   "cell_type": "code",
   "execution_count": 7,
   "id": "4e504e37",
   "metadata": {},
   "outputs": [
    {
     "data": {
      "text/plain": [
       "<AxesSubplot:title={'center':'Actual 1 counter'}, xlabel='est'>"
      ]
     },
     "execution_count": 7,
     "metadata": {},
     "output_type": "execute_result"
    },
    {
     "data": {
      "image/png": "[encoded data removed]",
      "text/plain": [
       "<Figure size 432x288 with 1 Axes>"
      ]
     },
     "metadata": {
      "needs_background": "light"
     },
     "output_type": "display_data"
    }
   ],
   "source": [
    "plot_cosine_counter.plot.bar(x='est', y='actual', title=\"Actual 1 counter\")"
   ]
  },
  {
   "cell_type": "code",
   "execution_count": 8,
   "id": "d5b3e881",
   "metadata": {},
   "outputs": [
    {
     "name": "stdout",
     "output_type": "stream",
     "text": [
      "    est  actual  details\n",
      "0   1.0     287      287\n",
      "1   2.0     263      263\n",
      "2   3.0     576      576\n",
      "3   4.0    1437     1437\n",
      "4   5.0    2471     2471\n",
      "5   6.0    3469     3469\n",
      "6   7.0    2803     2803\n",
      "7   8.0    1199     1199\n",
      "8   9.0     291      291\n",
      "9  10.0      32       32\n"
     ]
    }
   ],
   "source": [
    "df_actual_2 = df.loc[df[\"actual\"] == 2]\n",
    "plot_cosine_counter_2 = round_est_values(df_actual_2)\n",
    "print(plot_cosine_counter_2)"
   ]
  },
  {
   "cell_type": "code",
   "execution_count": 9,
   "id": "47097ce1",
   "metadata": {},
   "outputs": [
    {
     "data": {
      "text/plain": [
       "<AxesSubplot:title={'center':'Actual 2 counter'}, xlabel='est'>"
      ]
     },
     "execution_count": 9,
     "metadata": {},
     "output_type": "execute_result"
    },
    {
     "data": {
      "image/png": "[encoded data removed]",
      "text/plain": [
       "<Figure size 432x288 with 1 Axes>"
      ]
     },
     "metadata": {
      "needs_background": "light"
     },
     "output_type": "display_data"
    }
   ],
   "source": [
    "plot_cosine_counter_2.plot.bar(x='est', y='actual', title=\"Actual 2 counter\")"
   ]
  },
  {
   "cell_type": "code",
   "execution_count": 10,
   "id": "148743c3",
   "metadata": {},
   "outputs": [
    {
     "name": "stdout",
     "output_type": "stream",
     "text": [
      "    est  actual  details\n",
      "0   1.0     375      375\n",
      "1   2.0     315      315\n",
      "2   3.0     729      729\n",
      "3   4.0    2202     2202\n",
      "4   5.0    5073     5073\n",
      "5   6.0    7314     7314\n",
      "6   7.0    5755     5755\n",
      "7   8.0    2188     2188\n",
      "8   9.0     437      437\n",
      "9  10.0      64       64\n"
     ]
    }
   ],
   "source": [
    "df_actual_3 = df.loc[df[\"actual\"] == 3]\n",
    "plot_cosine_counter_3 = round_est_values(df_actual_3)\n",
    "print(plot_cosine_counter_3)"
   ]
  },
  {
   "cell_type": "code",
   "execution_count": 11,
   "id": "766a09da",
   "metadata": {},
   "outputs": [
    {
     "data": {
      "text/plain": [
       "<AxesSubplot:title={'center':'Actual 3 counter'}, xlabel='est'>"
      ]
     },
     "execution_count": 11,
     "metadata": {},
     "output_type": "execute_result"
    },
    {
     "data": {
      "image/png": "[encoded data removed]",
      "text/plain": [
       "<Figure size 432x288 with 1 Axes>"
      ]
     },
     "metadata": {
      "needs_background": "light"
     },
     "output_type": "display_data"
    }
   ],
   "source": [
    "plot_cosine_counter_3.plot.bar(x='est', y='actual', title=\"Actual 3 counter\")"
   ]
  },
  {
   "cell_type": "code",
   "execution_count": 12,
   "id": "9763368d",
   "metadata": {},
   "outputs": [
    {
     "name": "stdout",
     "output_type": "stream",
     "text": [
      "    est  actual  details\n",
      "0   1.0     812      812\n",
      "1   2.0     629      629\n",
      "2   3.0    1247     1247\n",
      "3   4.0    3540     3540\n",
      "4   5.0   10856    10856\n",
      "5   6.0   20474    20474\n",
      "6   7.0   18958    18958\n",
      "7   8.0    7474     7474\n",
      "8   9.0    1503     1503\n",
      "9  10.0     162      162\n"
     ]
    }
   ],
   "source": [
    "df_actual_4 = df.loc[df[\"actual\"] == 4]\n",
    "plot_cosine_counter_4 = round_est_values(df_actual_4)\n",
    "print(plot_cosine_counter_4)"
   ]
  },
  {
   "cell_type": "code",
   "execution_count": 13,
   "id": "8f31ee3c",
   "metadata": {},
   "outputs": [
    {
     "data": {
      "text/plain": [
       "<AxesSubplot:title={'center':'Actual 4 counter'}, xlabel='est'>"
      ]
     },
     "execution_count": 13,
     "metadata": {},
     "output_type": "execute_result"
    },
    {
     "data": {
      "image/png": "[encoded data removed]",
      "text/plain": [
       "<Figure size 432x288 with 1 Axes>"
      ]
     },
     "metadata": {
      "needs_background": "light"
     },
     "output_type": "display_data"
    }
   ],
   "source": [
    "plot_cosine_counter_4.plot.bar(x='est', y='actual', title=\"Actual 4 counter\")"
   ]
  },
  {
   "cell_type": "code",
   "execution_count": 14,
   "id": "d47b8a66",
   "metadata": {},
   "outputs": [
    {
     "name": "stdout",
     "output_type": "stream",
     "text": [
      "    est  actual  details\n",
      "0   1.0    2101     2101\n",
      "1   2.0    1646     1646\n",
      "2   3.0    2747     2747\n",
      "3   4.0    6603     6603\n",
      "4   5.0   22580    22580\n",
      "5   6.0   58122    58122\n",
      "6   7.0   64774    64774\n",
      "7   8.0   27335    27335\n",
      "8   9.0    5143     5143\n",
      "9  10.0     422      422\n"
     ]
    }
   ],
   "source": [
    "df_actual_5 = df.loc[df[\"actual\"] == 5]\n",
    "plot_cosine_counter_5 = round_est_values(df_actual_5)\n",
    "print(plot_cosine_counter_5)"
   ]
  },
  {
   "cell_type": "code",
   "execution_count": 15,
   "id": "186b4675",
   "metadata": {},
   "outputs": [
    {
     "data": {
      "text/plain": [
       "<AxesSubplot:title={'center':'Actual 5 counter'}, xlabel='est'>"
      ]
     },
     "execution_count": 15,
     "metadata": {},
     "output_type": "execute_result"
    },
    {
     "data": {
      "image/png": "[encoded data removed]",
      "text/plain": [
       "<Figure size 432x288 with 1 Axes>"
      ]
     },
     "metadata": {
      "needs_background": "light"
     },
     "output_type": "display_data"
    }
   ],
   "source": [
    "plot_cosine_counter_5.plot.bar(x='est', y='actual', title=\"Actual 5 counter\")"
   ]
  },
  {
   "cell_type": "code",
   "execution_count": 16,
   "id": "9c133b82",
   "metadata": {},
   "outputs": [
    {
     "name": "stdout",
     "output_type": "stream",
     "text": [
      "    est  actual  details\n",
      "0   1.0    4286     4286\n",
      "1   2.0    3413     3413\n",
      "2   3.0    5446     5446\n",
      "3   4.0   10263    10263\n",
      "4   5.0   32594    32594\n",
      "5   6.0  125015   125015\n",
      "6   7.0  210774   210774\n",
      "7   8.0  109135   109135\n",
      "8   9.0   19764    19764\n",
      "9  10.0    1818     1818\n"
     ]
    }
   ],
   "source": [
    "df_actual_6 = df.loc[df[\"actual\"] == 6]\n",
    "plot_cosine_counter_6 = round_est_values(df_actual_6)\n",
    "print(plot_cosine_counter_6)"
   ]
  },
  {
   "cell_type": "code",
   "execution_count": 17,
   "id": "047fbe05",
   "metadata": {},
   "outputs": [
    {
     "data": {
      "text/plain": [
       "<AxesSubplot:title={'center':'Actual 6 counter'}, xlabel='est'>"
      ]
     },
     "execution_count": 17,
     "metadata": {},
     "output_type": "execute_result"
    },
    {
     "data": {
      "image/png": "[encoded data removed]",
      "text/plain": [
       "<Figure size 432x288 with 1 Axes>"
      ]
     },
     "metadata": {
      "needs_background": "light"
     },
     "output_type": "display_data"
    }
   ],
   "source": [
    "plot_cosine_counter_6.plot.bar(x='est', y='actual', title=\"Actual 6 counter\")"
   ]
  },
  {
   "cell_type": "code",
   "execution_count": 18,
   "id": "0946827e",
   "metadata": {},
   "outputs": [
    {
     "name": "stdout",
     "output_type": "stream",
     "text": [
      "    est  actual  details\n",
      "0   1.0   11656    11656\n",
      "1   2.0    9008     9008\n",
      "2   3.0   13989    13989\n",
      "3   4.0   22007    22007\n",
      "4   5.0   47293    47293\n",
      "5   6.0  200550   200550\n",
      "6   7.0  614011   614011\n",
      "7   8.0  517597   517597\n",
      "8   9.0  111731   111731\n",
      "9  10.0    9346     9346\n"
     ]
    }
   ],
   "source": [
    "df_actual_7 = df.loc[df[\"actual\"] == 7]\n",
    "plot_cosine_counter_7 = round_est_values(df_actual_7)\n",
    "print(plot_cosine_counter_7)"
   ]
  },
  {
   "cell_type": "code",
   "execution_count": 19,
   "id": "2dd5d395",
   "metadata": {},
   "outputs": [
    {
     "data": {
      "text/plain": [
       "<AxesSubplot:title={'center':'Actual 7 counter'}, xlabel='est'>"
      ]
     },
     "execution_count": 19,
     "metadata": {},
     "output_type": "execute_result"
    },
    {
     "data": {
      "image/png": "[encoded data removed]",
      "text/plain": [
       "<Figure size 432x288 with 1 Axes>"
      ]
     },
     "metadata": {
      "needs_background": "light"
     },
     "output_type": "display_data"
    }
   ],
   "source": [
    "plot_cosine_counter_7.plot.bar(x='est', y='actual', title=\"Actual 7 counter\")"
   ]
  },
  {
   "cell_type": "code",
   "execution_count": 20,
   "id": "32591dc0",
   "metadata": {},
   "outputs": [
    {
     "name": "stdout",
     "output_type": "stream",
     "text": [
      "    est  actual  details\n",
      "0   1.0   16326    16326\n",
      "1   2.0   12529    12529\n",
      "2   3.0   18315    18315\n",
      "3   4.0   27005    27005\n",
      "4   5.0   43165    43165\n",
      "5   6.0  133126   133126\n",
      "6   7.0  575551   575551\n",
      "7   8.0  973455   973455\n",
      "8   9.0  355449   355449\n",
      "9  10.0   34207    34207\n"
     ]
    }
   ],
   "source": [
    "df_actual_8 = df.loc[df[\"actual\"] == 8]\n",
    "plot_cosine_counter_8 = round_est_values(df_actual_8)\n",
    "print(plot_cosine_counter_8)"
   ]
  },
  {
   "cell_type": "code",
   "execution_count": 21,
   "id": "677f6ea0",
   "metadata": {},
   "outputs": [
    {
     "data": {
      "text/plain": [
       "<AxesSubplot:title={'center':'Actual 8 counter'}, xlabel='est'>"
      ]
     },
     "execution_count": 21,
     "metadata": {},
     "output_type": "execute_result"
    },
    {
     "data": {
      "image/png": "[encoded data removed]",
      "text/plain": [
       "<Figure size 432x288 with 1 Axes>"
      ]
     },
     "metadata": {
      "needs_background": "light"
     },
     "output_type": "display_data"
    }
   ],
   "source": [
    "plot_cosine_counter_8.plot.bar(x='est', y='actual', title=\"Actual 8 counter\")"
   ]
  },
  {
   "cell_type": "code",
   "execution_count": 22,
   "id": "79d11434",
   "metadata": {},
   "outputs": [
    {
     "name": "stdout",
     "output_type": "stream",
     "text": [
      "    est  actual  details\n",
      "0   1.0   14081    14081\n",
      "1   2.0   10153    10153\n",
      "2   3.0   13450    13450\n",
      "3   4.0   18857    18857\n",
      "4   5.0   27088    27088\n",
      "5   6.0   58121    58121\n",
      "6   7.0  225238   225238\n",
      "7   8.0  625093   625093\n",
      "8   9.0  477537   477537\n",
      "9  10.0   77848    77848\n"
     ]
    }
   ],
   "source": [
    "df_actua_9 = df.loc[df[\"actual\"] == 9]\n",
    "plot_cosine_counter_9 = round_est_values(df_actua_9)\n",
    "print(plot_cosine_counter_9)"
   ]
  },
  {
   "cell_type": "code",
   "execution_count": 23,
   "id": "8195813e",
   "metadata": {},
   "outputs": [
    {
     "data": {
      "text/plain": [
       "<AxesSubplot:title={'center':'Actual 9 counter'}, xlabel='est'>"
      ]
     },
     "execution_count": 23,
     "metadata": {},
     "output_type": "execute_result"
    },
    {
     "data": {
      "image/png": "[encoded data removed]",
      "text/plain": [
       "<Figure size 432x288 with 1 Axes>"
      ]
     },
     "metadata": {
      "needs_background": "light"
     },
     "output_type": "display_data"
    }
   ],
   "source": [
    "plot_cosine_counter_9.plot.bar(x='est', y='actual', title=\"Actual 9 counter\")"
   ]
  },
  {
   "cell_type": "code",
   "execution_count": 24,
   "id": "7ee69a50",
   "metadata": {},
   "outputs": [
    {
     "name": "stdout",
     "output_type": "stream",
     "text": [
      "    est  actual  details\n",
      "0   1.0   17204    17204\n",
      "1   2.0    9365     9365\n",
      "2   3.0   11920    11920\n",
      "3   4.0   14252    14252\n",
      "4   5.0   18629    18629\n",
      "5   6.0   32956    32956\n",
      "6   7.0   85320    85320\n",
      "7   8.0  269715   269715\n",
      "8   9.0  395060   395060\n",
      "9  10.0  193970   193970\n"
     ]
    }
   ],
   "source": [
    "df_actua_10 = df.loc[df[\"actual\"] == 10]\n",
    "plot_cosine_counter_10 = round_est_values(df_actua_10)\n",
    "print(plot_cosine_counter_10)"
   ]
  },
  {
   "cell_type": "code",
   "execution_count": 25,
   "id": "57c550c6",
   "metadata": {},
   "outputs": [
    {
     "data": {
      "text/plain": [
       "<AxesSubplot:title={'center':'Actual 10 counter'}, xlabel='est'>"
      ]
     },
     "execution_count": 25,
     "metadata": {},
     "output_type": "execute_result"
    },
    {
     "data": {
      "image/png": "[encoded data removed]",
      "text/plain": [
       "<Figure size 432x288 with 1 Axes>"
      ]
     },
     "metadata": {
      "needs_background": "light"
     },
     "output_type": "display_data"
    }
   ],
   "source": [
    "plot_cosine_counter_10.plot.bar(x='est', y='actual', title=\"Actual 10 counter\")"
   ]
  },
  {
   "cell_type": "code",
   "execution_count": 26,
   "id": "4b7463f0",
   "metadata": {},
   "outputs": [],
   "source": [
    "round_df = np.round(df[\"est\"], decimals=0)\n",
    "round_df = round_df.reset_index()\n",
    "df = df.reset_index()[[\"index\", \"actual\", \"details\"]]\n",
    "df = df.merge(round_df, on=\"index\", how=\"left\")"
   ]
  },
  {
   "cell_type": "code",
   "execution_count": 27,
   "id": "76110117",
   "metadata": {},
   "outputs": [
    {
     "name": "stdout",
     "output_type": "stream",
     "text": [
      "    est   actual  details\n",
      "0   1.0  3478915  3478915\n",
      "1   2.0   429145   429145\n",
      "2   3.0   450900   450900\n",
      "3   4.0   550900   550900\n",
      "4   5.0   888490   888490\n",
      "5   6.0  2276290  2276290\n",
      "6   7.0  5657870  5657870\n",
      "7   8.0  7540931  7540931\n",
      "8   9.0  4136035  4136035\n",
      "9  10.0  1008500  1008500\n"
     ]
    }
   ],
   "source": [
    "df = df.set_index(\"index\")\n",
    "plot_df = df.groupby(\"est\", as_index=False).count()\n",
    "print(plot_df)"
   ]
  },
  {
   "cell_type": "code",
   "execution_count": 28,
   "id": "4df0ebc3",
   "metadata": {},
   "outputs": [],
   "source": [
    "def plot_violin_graph_base(list_of_data, title):\n",
    "    # Create a figure instance\n",
    "    fig = plt.figure()\n",
    "  \n",
    "    # Create an axes instance\n",
    "    ax = fig.gca()\n",
    "    ax.set_title(title)\n",
    "    # Create the violinplot\n",
    "    violinplot = ax.violinplot(list_of_data)\n",
    "    plt.show()"
   ]
  },
  {
   "cell_type": "markdown",
   "id": "3c0fc682",
   "metadata": {},
   "source": [
    "Gráfico para o estudo de como está distribuição de notas preditas"
   ]
  },
  {
   "cell_type": "code",
   "execution_count": 29,
   "id": "9baa64dc",
   "metadata": {},
   "outputs": [
    {
     "data": {
      "image/png": "[encoded data removed]",
      "text/plain": [
       "<Figure size 432x288 with 1 Axes>"
      ]
     },
     "metadata": {
      "needs_background": "light"
     },
     "output_type": "display_data"
    }
   ],
   "source": [
    "est_df = df[\"est\"].tolist()\n",
    "plot_violin_graph_base(est_df, title=\"all folds estimation\")"
   ]
  },
  {
   "cell_type": "markdown",
   "id": "dd1a5864",
   "metadata": {},
   "source": [
    "é notório também que as notas reais estão amis concentradas entre 6 e 8, o que infuencia na predição. O algoritmo tende a acertar mais quando com essas notas e errar com notas entre 1 e 4"
   ]
  },
  {
   "cell_type": "code",
   "execution_count": 30,
   "id": "23f2a141",
   "metadata": {},
   "outputs": [
    {
     "data": {
      "image/png": "[encoded data removed]",
      "text/plain": [
       "<Figure size 432x288 with 1 Axes>"
      ]
     },
     "metadata": {
      "needs_background": "light"
     },
     "output_type": "display_data"
    }
   ],
   "source": [
    "est_df = df[\"actual\"].tolist()\n",
    "plot_violin_graph_base(est_df, title=\"all folds actual\")"
   ]
  },
  {
   "cell_type": "markdown",
   "id": "88cb15b1",
   "metadata": {},
   "source": [
    "# Removing negative grades"
   ]
  },
  {
   "cell_type": "markdown",
   "id": "afce69a1",
   "metadata": {},
   "source": [
    "### Cossine"
   ]
  },
  {
   "cell_type": "code",
   "execution_count": 31,
   "id": "1cd1663f",
   "metadata": {},
   "outputs": [],
   "source": [
    "co_clustering_0 = pd.read_parquet(f\"../predictions/co_clustering/anime_type_tv/with_filter_remove_negative/co_clustering_0.parquet\")\n",
    "co_clustering_1 = pd.read_parquet(f\"../predictions/co_clustering/anime_type_tv/with_filter_remove_negative/co_clustering_1.parquet\")\n",
    "co_clustering_2 = pd.read_parquet(f\"../predictions/co_clustering/anime_type_tv/with_filter_remove_negative/co_clustering_2.parquet\")\n",
    "co_clustering_3 = pd.read_parquet(f\"../predictions/co_clustering/anime_type_tv/with_filter_remove_negative/co_clustering_3.parquet\")\n",
    "co_clustering_4 = pd.read_parquet(f\"../predictions/co_clustering/anime_type_tv/with_filter_remove_negative/co_clustering_4.parquet\")\n",
    "\n",
    "co_clustering = pd.concat([co_clustering_0, co_clustering_1, co_clustering_2, co_clustering_3, co_clustering_4])"
   ]
  },
  {
   "cell_type": "code",
   "execution_count": 32,
   "id": "92150b0d",
   "metadata": {},
   "outputs": [
    {
     "name": "stdout",
     "output_type": "stream",
     "text": [
      "    est   actual  details\n",
      "0   1.0  3478265  3478265\n",
      "1   2.0   436125   436125\n",
      "2   3.0   456070   456070\n",
      "3   4.0   551465   551465\n",
      "4   5.0   876245   876245\n",
      "5   6.0  2259011  2259011\n",
      "6   7.0  5695155  5695155\n",
      "7   8.0  7534145  7534145\n",
      "8   9.0  4096580  4096580\n",
      "9  10.0  1034915  1034915\n"
     ]
    }
   ],
   "source": [
    "df_grouped = round_est_values(co_clustering)\n",
    "print(df_grouped)"
   ]
  },
  {
   "cell_type": "code",
   "execution_count": 33,
   "id": "0bd61861",
   "metadata": {},
   "outputs": [
    {
     "data": {
      "text/plain": [
       "<AxesSubplot:title={'center':'Distribuição valores preditos (filtro -1) - co_clustering'}, xlabel='est'>"
      ]
     },
     "execution_count": 33,
     "metadata": {},
     "output_type": "execute_result"
    },
    {
     "data": {
      "image/png": "[encoded data removed]",
      "text/plain": [
       "<Figure size 432x288 with 1 Axes>"
      ]
     },
     "metadata": {
      "needs_background": "light"
     },
     "output_type": "display_data"
    }
   ],
   "source": [
    "df_grouped.plot.bar(x='est', y='actual', title=\"Distribuição valores preditos (filtro -1) - co_clustering\")"
   ]
  },
  {
   "cell_type": "code",
   "execution_count": 34,
   "id": "aab96e47",
   "metadata": {},
   "outputs": [
    {
     "name": "stdout",
     "output_type": "stream",
     "text": [
      "    est  actual  details\n",
      "0   1.0     605      605\n",
      "1   2.0     361      361\n",
      "2   3.0     542      542\n",
      "3   4.0     867      867\n",
      "4   5.0    1293     1293\n",
      "5   6.0    1783     1783\n",
      "6   7.0    1634     1634\n",
      "7   8.0     811      811\n",
      "8   9.0     291      291\n",
      "9  10.0      60       60\n"
     ]
    }
   ],
   "source": [
    "df_actual_with_filter_1 = co_clustering.loc[co_clustering[\"actual\"] == 1]\n",
    "df_actual_with_filter_1_plot = round_est_values(df_actual_with_filter_1)\n",
    "print(df_actual_with_filter_1_plot)"
   ]
  },
  {
   "cell_type": "code",
   "execution_count": 35,
   "id": "484d11a3",
   "metadata": {},
   "outputs": [
    {
     "data": {
      "text/plain": [
       "<AxesSubplot:title={'center':'Actual 1 counter (filter -1)'}, xlabel='est'>"
      ]
     },
     "execution_count": 35,
     "metadata": {},
     "output_type": "execute_result"
    },
    {
     "data": {
      "image/png": "[encoded data removed]",
      "text/plain": [
       "<Figure size 432x288 with 1 Axes>"
      ]
     },
     "metadata": {
      "needs_background": "light"
     },
     "output_type": "display_data"
    }
   ],
   "source": [
    "df_actual_with_filter_1_plot.plot.bar(x='est', y='actual', title=\"Actual 1 counter (filter -1)\")"
   ]
  },
  {
   "cell_type": "code",
   "execution_count": 36,
   "id": "a3cb317d",
   "metadata": {},
   "outputs": [
    {
     "name": "stdout",
     "output_type": "stream",
     "text": [
      "    est  actual  details\n",
      "0   1.0     277      277\n",
      "1   2.0     236      236\n",
      "2   3.0     597      597\n",
      "3   4.0    1374     1374\n",
      "4   5.0    2467     2467\n",
      "5   6.0    3453     3453\n",
      "6   7.0    2837     2837\n",
      "7   8.0    1223     1223\n",
      "8   9.0     310      310\n",
      "9  10.0      32       32\n"
     ]
    }
   ],
   "source": [
    "df_actual_with_filter_2 = co_clustering.loc[co_clustering[\"actual\"] == 2]\n",
    "df_actual_with_filter_2_plot = round_est_values(df_actual_with_filter_2)\n",
    "print(df_actual_with_filter_2_plot)"
   ]
  },
  {
   "cell_type": "code",
   "execution_count": 37,
   "id": "3f4e8876",
   "metadata": {},
   "outputs": [
    {
     "data": {
      "text/plain": [
       "<AxesSubplot:title={'center':'Actual 2 counter (filter -1)'}, xlabel='est'>"
      ]
     },
     "execution_count": 37,
     "metadata": {},
     "output_type": "execute_result"
    },
    {
     "data": {
      "image/png": "[encoded data removed]",
      "text/plain": [
       "<Figure size 432x288 with 1 Axes>"
      ]
     },
     "metadata": {
      "needs_background": "light"
     },
     "output_type": "display_data"
    }
   ],
   "source": [
    "df_actual_with_filter_2_plot.plot.bar(x='est', y='actual', title=\"Actual 2 counter (filter -1)\")"
   ]
  },
  {
   "cell_type": "code",
   "execution_count": 38,
   "id": "69d2c1aa",
   "metadata": {},
   "outputs": [
    {
     "name": "stdout",
     "output_type": "stream",
     "text": [
      "    est  actual  details\n",
      "0   1.0     363      363\n",
      "1   2.0     303      303\n",
      "2   3.0     689      689\n",
      "3   4.0    2207     2207\n",
      "4   5.0    4994     4994\n",
      "5   6.0    7411     7411\n",
      "6   7.0    5838     5838\n",
      "7   8.0    2245     2245\n",
      "8   9.0     438      438\n",
      "9  10.0      52       52\n"
     ]
    }
   ],
   "source": [
    "df_actual_with_filter_3 = co_clustering.loc[co_clustering[\"actual\"] == 3]\n",
    "df_actual_with_filter_3_plot = round_est_values(df_actual_with_filter_3)\n",
    "print(df_actual_with_filter_3_plot)"
   ]
  },
  {
   "cell_type": "code",
   "execution_count": 39,
   "id": "f134350c",
   "metadata": {},
   "outputs": [
    {
     "data": {
      "text/plain": [
       "<AxesSubplot:title={'center':'Actual 3 counter (filter -1)'}, xlabel='est'>"
      ]
     },
     "execution_count": 39,
     "metadata": {},
     "output_type": "execute_result"
    },
    {
     "data": {
      "image/png": "[encoded data removed]",
      "text/plain": [
       "<Figure size 432x288 with 1 Axes>"
      ]
     },
     "metadata": {
      "needs_background": "light"
     },
     "output_type": "display_data"
    }
   ],
   "source": [
    "df_actual_with_filter_3_plot.plot.bar(x='est', y='actual', title=\"Actual 3 counter (filter -1)\")"
   ]
  },
  {
   "cell_type": "code",
   "execution_count": 40,
   "id": "81478902",
   "metadata": {},
   "outputs": [
    {
     "name": "stdout",
     "output_type": "stream",
     "text": [
      "    est  actual  details\n",
      "0   1.0     770      770\n",
      "1   2.0     653      653\n",
      "2   3.0    1199     1199\n",
      "3   4.0    3498     3498\n",
      "4   5.0   10557    10557\n",
      "5   6.0   20593    20593\n",
      "6   7.0   19229    19229\n",
      "7   8.0    7542     7542\n",
      "8   9.0    1454     1454\n",
      "9  10.0     158      158\n"
     ]
    }
   ],
   "source": [
    "df_actual_with_filter_4 = co_clustering.loc[co_clustering[\"actual\"] == 4]\n",
    "df_actual_with_filter_4_plot = round_est_values(df_actual_with_filter_4)\n",
    "print(df_actual_with_filter_4_plot)"
   ]
  },
  {
   "cell_type": "code",
   "execution_count": 41,
   "id": "51923082",
   "metadata": {},
   "outputs": [
    {
     "data": {
      "text/plain": [
       "<AxesSubplot:title={'center':'Actual 4 counter (filter -1)'}, xlabel='est'>"
      ]
     },
     "execution_count": 41,
     "metadata": {},
     "output_type": "execute_result"
    },
    {
     "data": {
      "image/png": "[encoded data removed]",
      "text/plain": [
       "<Figure size 432x288 with 1 Axes>"
      ]
     },
     "metadata": {
      "needs_background": "light"
     },
     "output_type": "display_data"
    }
   ],
   "source": [
    "df_actual_with_filter_4_plot.plot.bar(x='est', y='actual', title=\"Actual 4 counter (filter -1)\")"
   ]
  },
  {
   "cell_type": "code",
   "execution_count": 42,
   "id": "06daddb0",
   "metadata": {},
   "outputs": [
    {
     "name": "stdout",
     "output_type": "stream",
     "text": [
      "    est  actual  details\n",
      "0   1.0    1924     1924\n",
      "1   2.0    1560     1560\n",
      "2   3.0    2722     2722\n",
      "3   4.0    6442     6442\n",
      "4   5.0   22231    22231\n",
      "5   6.0   58158    58158\n",
      "6   7.0   65351    65351\n",
      "7   8.0   27454    27454\n",
      "8   9.0    4980     4980\n",
      "9  10.0     485      485\n"
     ]
    }
   ],
   "source": [
    "df_actual_with_filter_5 = co_clustering.loc[co_clustering[\"actual\"] == 5]\n",
    "df_actual_with_filter_5_plot = round_est_values(df_actual_with_filter_5)\n",
    "print(df_actual_with_filter_5_plot)"
   ]
  },
  {
   "cell_type": "code",
   "execution_count": 43,
   "id": "d3563afd",
   "metadata": {},
   "outputs": [
    {
     "data": {
      "text/plain": [
       "<AxesSubplot:title={'center':'Actual 5 counter (filter -1)'}, xlabel='est'>"
      ]
     },
     "execution_count": 43,
     "metadata": {},
     "output_type": "execute_result"
    },
    {
     "data": {
      "image/png": "[encoded data removed]",
      "text/plain": [
       "<Figure size 432x288 with 1 Axes>"
      ]
     },
     "metadata": {
      "needs_background": "light"
     },
     "output_type": "display_data"
    }
   ],
   "source": [
    "df_actual_with_filter_5_plot.plot.bar(x='est', y='actual', title=\"Actual 5 counter (filter -1)\")"
   ]
  },
  {
   "cell_type": "code",
   "execution_count": 44,
   "id": "c7717855",
   "metadata": {},
   "outputs": [
    {
     "name": "stdout",
     "output_type": "stream",
     "text": [
      "    est  actual  details\n",
      "0   1.0    4050     4050\n",
      "1   2.0    3483     3483\n",
      "2   3.0    5479     5479\n",
      "3   4.0   10059    10059\n",
      "4   5.0   31772    31772\n",
      "5   6.0  124775   124775\n",
      "6   7.0  212866   212866\n",
      "7   8.0  108622   108622\n",
      "8   9.0   19877    19877\n",
      "9  10.0    1793     1793\n"
     ]
    }
   ],
   "source": [
    "df_actual_with_filter_6 = co_clustering.loc[co_clustering[\"actual\"] == 6]\n",
    "df_actual_with_filter_6_plot = round_est_values(df_actual_with_filter_6)\n",
    "print(df_actual_with_filter_6_plot)"
   ]
  },
  {
   "cell_type": "code",
   "execution_count": 45,
   "id": "f9b94eb1",
   "metadata": {},
   "outputs": [
    {
     "data": {
      "text/plain": [
       "<AxesSubplot:title={'center':'Actual 6 counter (filter -1)'}, xlabel='est'>"
      ]
     },
     "execution_count": 45,
     "metadata": {},
     "output_type": "execute_result"
    },
    {
     "data": {
      "image/png": "[encoded data removed]",
      "text/plain": [
       "<Figure size 432x288 with 1 Axes>"
      ]
     },
     "metadata": {
      "needs_background": "light"
     },
     "output_type": "display_data"
    }
   ],
   "source": [
    "df_actual_with_filter_6_plot.plot.bar(x='est', y='actual', title=\"Actual 6 counter (filter -1)\")"
   ]
  },
  {
   "cell_type": "code",
   "execution_count": 46,
   "id": "13434d13",
   "metadata": {},
   "outputs": [
    {
     "name": "stdout",
     "output_type": "stream",
     "text": [
      "    est  actual  details\n",
      "0   1.0   11354    11354\n",
      "1   2.0    8866     8866\n",
      "2   3.0   13572    13572\n",
      "3   4.0   22293    22293\n",
      "4   5.0   46436    46436\n",
      "5   6.0  198592   198592\n",
      "6   7.0  618824   618824\n",
      "7   8.0  515207   515207\n",
      "8   9.0  110491   110491\n",
      "9  10.0    9813     9813\n"
     ]
    }
   ],
   "source": [
    "df_actual_with_filter_7 = co_clustering.loc[co_clustering[\"actual\"] == 7]\n",
    "df_actual_with_filter_7_plot = round_est_values(df_actual_with_filter_7)\n",
    "print(df_actual_with_filter_7_plot)"
   ]
  },
  {
   "cell_type": "code",
   "execution_count": 47,
   "id": "e531bc2f",
   "metadata": {},
   "outputs": [
    {
     "data": {
      "text/plain": [
       "<AxesSubplot:title={'center':'Actual 7 counter (filter -1)'}, xlabel='est'>"
      ]
     },
     "execution_count": 47,
     "metadata": {},
     "output_type": "execute_result"
    },
    {
     "data": {
      "image/png": "[encoded data removed]",
      "text/plain": [
       "<Figure size 432x288 with 1 Axes>"
      ]
     },
     "metadata": {
      "needs_background": "light"
     },
     "output_type": "display_data"
    }
   ],
   "source": [
    "df_actual_with_filter_7_plot.plot.bar(x='est', y='actual', title=\"Actual 7 counter (filter -1)\")"
   ]
  },
  {
   "cell_type": "code",
   "execution_count": 48,
   "id": "cd794856",
   "metadata": {},
   "outputs": [
    {
     "name": "stdout",
     "output_type": "stream",
     "text": [
      "    est  actual  details\n",
      "0   1.0   15670    15670\n",
      "1   2.0   12533    12533\n",
      "2   3.0   18512    18512\n",
      "3   4.0   27020    27020\n",
      "4   5.0   42901    42901\n",
      "5   6.0  131115   131115\n",
      "6   7.0  579979   579979\n",
      "7   8.0  973009   973009\n",
      "8   9.0  350973   350973\n",
      "9  10.0   35520    35520\n"
     ]
    }
   ],
   "source": [
    "df_actual_with_filter_8 = co_clustering.loc[co_clustering[\"actual\"] == 8]\n",
    "df_actual_with_filter_8_plot = round_est_values(df_actual_with_filter_8)\n",
    "print(df_actual_with_filter_8_plot)"
   ]
  },
  {
   "cell_type": "code",
   "execution_count": 49,
   "id": "76e9b15a",
   "metadata": {},
   "outputs": [
    {
     "data": {
      "text/plain": [
       "<AxesSubplot:title={'center':'Actual 8 counter (filter -1)'}, xlabel='est'>"
      ]
     },
     "execution_count": 49,
     "metadata": {},
     "output_type": "execute_result"
    },
    {
     "data": {
      "image/png": "[encoded data removed]",
      "text/plain": [
       "<Figure size 432x288 with 1 Axes>"
      ]
     },
     "metadata": {
      "needs_background": "light"
     },
     "output_type": "display_data"
    }
   ],
   "source": [
    "df_actual_with_filter_8_plot.plot.bar(x='est', y='actual', title=\"Actual 8 counter (filter -1)\")"
   ]
  },
  {
   "cell_type": "code",
   "execution_count": 50,
   "id": "dc00696a",
   "metadata": {},
   "outputs": [
    {
     "name": "stdout",
     "output_type": "stream",
     "text": [
      "    est  actual  details\n",
      "0   1.0   13869    13869\n",
      "1   2.0   10391    10391\n",
      "2   3.0   13770    13770\n",
      "3   4.0   19245    19245\n",
      "4   5.0   27059    27059\n",
      "5   6.0   57164    57164\n",
      "6   7.0  226431   226431\n",
      "7   8.0  626649   626649\n",
      "8   9.0  472865   472865\n",
      "9  10.0   81275    81275\n"
     ]
    }
   ],
   "source": [
    "df_actual_with_filter_9 = co_clustering.loc[co_clustering[\"actual\"] == 9]\n",
    "df_actual_with_filter_9_plot = round_est_values(df_actual_with_filter_9)\n",
    "print(df_actual_with_filter_9_plot)"
   ]
  },
  {
   "cell_type": "code",
   "execution_count": 51,
   "id": "06841515",
   "metadata": {},
   "outputs": [
    {
     "data": {
      "text/plain": [
       "<AxesSubplot:title={'center':'Actual 9 counter (filter -1)'}, xlabel='est'>"
      ]
     },
     "execution_count": 51,
     "metadata": {},
     "output_type": "execute_result"
    },
    {
     "data": {
      "image/png": "[encoded data removed]",
      "text/plain": [
       "<Figure size 432x288 with 1 Axes>"
      ]
     },
     "metadata": {
      "needs_background": "light"
     },
     "output_type": "display_data"
    }
   ],
   "source": [
    "df_actual_with_filter_9_plot.plot.bar(x='est', y='actual', title=\"Actual 9 counter (filter -1)\")"
   ]
  },
  {
   "cell_type": "code",
   "execution_count": 52,
   "id": "c3df8a5e",
   "metadata": {},
   "outputs": [
    {
     "name": "stdout",
     "output_type": "stream",
     "text": [
      "    est  actual  details\n",
      "0   1.0   17174    17174\n",
      "1   2.0    9839     9839\n",
      "2   3.0   11962    11962\n",
      "3   4.0   14785    14785\n",
      "4   5.0   18769    18769\n",
      "5   6.0   32690    32690\n",
      "6   7.0   85036    85036\n",
      "7   8.0  269027   269027\n",
      "8   9.0  391432   391432\n",
      "9  10.0  197249   197249\n"
     ]
    }
   ],
   "source": [
    "df_actual_with_filter_10 = co_clustering.loc[co_clustering[\"actual\"] == 10]\n",
    "df_actual_with_filter_10_plot = round_est_values(df_actual_with_filter_10)\n",
    "print(df_actual_with_filter_10_plot)"
   ]
  },
  {
   "cell_type": "code",
   "execution_count": 53,
   "id": "6b0fbf3c",
   "metadata": {},
   "outputs": [
    {
     "data": {
      "text/plain": [
       "<AxesSubplot:title={'center':'Actual 10 counter (filter -1)'}, xlabel='est'>"
      ]
     },
     "execution_count": 53,
     "metadata": {},
     "output_type": "execute_result"
    },
    {
     "data": {
      "image/png": "[encoded data removed]",
      "text/plain": [
       "<Figure size 432x288 with 1 Axes>"
      ]
     },
     "metadata": {
      "needs_background": "light"
     },
     "output_type": "display_data"
    }
   ],
   "source": [
    "df_actual_with_filter_10_plot.plot.bar(x='est', y='actual', title=\"Actual 10 counter (filter -1)\")"
   ]
  },
  {
   "cell_type": "code",
   "execution_count": 54,
   "id": "28581003",
   "metadata": {},
   "outputs": [],
   "source": [
    "round_df = np.round(co_clustering[\"est\"], decimals=0)\n",
    "round_df = round_df.reset_index()\n",
    "co_clustering = co_clustering.reset_index()[[\"index\", \"actual\", \"details\"]]\n",
    "co_clustering = co_clustering.merge(round_df, on=\"index\", how=\"left\")\n",
    "co_clustering = co_clustering.set_index(\"index\")"
   ]
  },
  {
   "cell_type": "code",
   "execution_count": 57,
   "id": "e22bca6b",
   "metadata": {},
   "outputs": [
    {
     "data": {
      "image/png": "[encoded data removed]",
      "text/plain": [
       "<Figure size 432x288 with 1 Axes>"
      ]
     },
     "metadata": {
      "needs_background": "light"
     },
     "output_type": "display_data"
    }
   ],
   "source": [
    "est_df = co_clustering[\"est\"].tolist()\n",
    "plot_violin_graph_base(est_df, title=\"Estimation (filter -1)\")"
   ]
  },
  {
   "cell_type": "code",
   "execution_count": null,
   "id": "78426101",
   "metadata": {},
   "outputs": [],
   "source": []
  },
  {
   "cell_type": "code",
   "execution_count": null,
   "id": "b94c8f39",
   "metadata": {},
   "outputs": [],
   "source": []
  }
 ],
 "metadata": {
  "kernelspec": {
   "display_name": "Python 3",
   "language": "python",
   "name": "python3"
  },
  "language_info": {
   "codemirror_mode": {
    "name": "ipython",
    "version": 3
   },
   "file_extension": ".py",
   "mimetype": "text/x-python",
   "name": "python",
   "nbconvert_exporter": "python",
   "pygments_lexer": "ipython3",
   "version": "3.6.5"
  }
 },
 "nbformat": 4,
 "nbformat_minor": 5
}
