{
 "cells": [
  {
   "cell_type": "code",
   "execution_count": 1,
   "id": "expressed-defense",
   "metadata": {},
   "outputs": [],
   "source": [
    "import pandas as pd\n",
    "import numpy as np\n",
    "import matplotlib.pyplot as plt\n",
    "import seaborn as sns\n",
    "from surprise import KNNWithZScore\n",
    "from surprise import accuracy\n",
    "from surprise.model_selection import cross_validate\n",
    "from surprise.model_selection import train_test_split\n",
    "from surprise.model_selection import KFold\n",
    "\n",
    "from read_and_split_data import split_data, filter_animes_without_grade"
   ]
  },
  {
   "cell_type": "code",
   "execution_count": 2,
   "id": "usual-symposium",
   "metadata": {},
   "outputs": [],
   "source": [
    "def get_dataset():\n",
    "    anime = pd.read_parquet(\"../datasets/anime.parquet\")\n",
    "    anime = anime[[\"anime_id\", \"type\"]]\n",
    "    users = pd.read_parquet(\"../datasets/users.parquet\")\n",
    "    base_df = users.merge(anime, on=\"anime_id\", how=\"left\")\n",
    "    return base_df\n",
    "\n",
    "base_df = get_dataset()\n",
    "data = split_data(base_df)"
   ]
  },
  {
   "cell_type": "code",
   "execution_count": 3,
   "id": "optional-desktop",
   "metadata": {},
   "outputs": [],
   "source": [
    "kf = KFold(n_splits=5)"
   ]
  },
  {
   "cell_type": "code",
   "execution_count": 4,
   "id": "funny-heaven",
   "metadata": {},
   "outputs": [],
   "source": [
    "def predict_and_error(data, algo, path):\n",
    "    fold = 0\n",
    "    predictions_list = []\n",
    "    for trainset, testset in kf.split(data):\n",
    "        algo.fit(trainset)\n",
    "        predictions = algo.test(testset)\n",
    "        predictions_list.append(predictions)\n",
    "        # Mean Squared Error\n",
    "        accuracy.rmse(predictions, verbose=True)\n",
    "        # Mean Absolute Erro\n",
    "        accuracy.mse(predictions, verbose=True)\n",
    "        # Mean Absolute Erro\n",
    "        accuracy.mae(predictions, verbose=True)\n",
    "        # Fraction of Concordant Pairs\n",
    "        accuracy.fcp(predictions, verbose=True)\n",
    "        base_df = pd.DataFrame(columns=[\"user\", \"anime\", \"actual\", \"est\", \"details\"], data=predictions)\n",
    "        base_df.to_csv(f\"{path}_{fold}.csv\")\n",
    "        base_df.to_parquet(f\"{path}_{fold}.parquet\")\n",
    "        fold += 1\n",
    "    return predictions"
   ]
  },
  {
   "cell_type": "code",
   "execution_count": 5,
   "id": "478ab01d",
   "metadata": {},
   "outputs": [],
   "source": [
    "def set_axis_style(ax, labels):\n",
    "    ax.xaxis.set_tick_params(direction='out')\n",
    "    ax.xaxis.set_ticks_position('bottom')\n",
    "    ax.set_xticks(np.arange(1, len(labels) + 1))\n",
    "    ax.set_xticklabels(labels)\n",
    "    ax.set_xlim(0.25, len(labels) + 0.75)\n",
    "    \n",
    "def plot_violin_graph(list_of_data, title):\n",
    "    # Create a figure instance\n",
    "    label = [\"fold 0\", \"fold 1\", \"fold 2\", \"fold 3\"]\n",
    "    fig = plt.figure()\n",
    "  \n",
    "    # Create an axes instance\n",
    "    ax = fig.gca()\n",
    "    ax.set_title(title)\n",
    "    set_axis_style(ax, label)\n",
    "    # Create the violinplot\n",
    "    violinplot = ax.violinplot(list_of_data)\n",
    "    plt.show()"
   ]
  },
  {
   "cell_type": "markdown",
   "id": "noble-metropolitan",
   "metadata": {},
   "source": [
    "### Cosine Similarity"
   ]
  },
  {
   "cell_type": "code",
   "execution_count": 6,
   "id": "southern-transcript",
   "metadata": {},
   "outputs": [],
   "source": [
    "algo_cossine = KNNWithZScore(k=7, sim_options={\"name\": \"cosine\", \"user_based\": False})"
   ]
  },
  {
   "cell_type": "code",
   "execution_count": 7,
   "id": "generous-stocks",
   "metadata": {},
   "outputs": [
    {
     "name": "stdout",
     "output_type": "stream",
     "text": [
      "Computing the cosine similarity matrix...\n",
      "Done computing similarity matrix.\n",
      "RMSE: 2.1630\n",
      "MSE: 4.6784\n",
      "MAE:  1.4778\n",
      "FCP:  0.6793\n",
      "Computing the cosine similarity matrix...\n",
      "Done computing similarity matrix.\n",
      "RMSE: 2.1620\n",
      "MSE: 4.6742\n",
      "MAE:  1.4767\n",
      "FCP:  0.6805\n",
      "Computing the cosine similarity matrix...\n",
      "Done computing similarity matrix.\n",
      "RMSE: 2.1614\n",
      "MSE: 4.6715\n",
      "MAE:  1.4771\n",
      "FCP:  0.6799\n",
      "Computing the cosine similarity matrix...\n",
      "Done computing similarity matrix.\n",
      "RMSE: 2.1585\n",
      "MSE: 4.6593\n",
      "MAE:  1.4747\n",
      "FCP:  0.6791\n",
      "Computing the cosine similarity matrix...\n",
      "Done computing similarity matrix.\n",
      "RMSE: 2.1610\n",
      "MSE: 4.6698\n",
      "MAE:  1.4774\n",
      "FCP:  0.6787\n"
     ]
    }
   ],
   "source": [
    "predictions_cosine = predict_and_error(data, algo_cossine, path=\"../predictions/knn_with_z_score/anime_type_tv/no_filter/knn_with_z_score_cosine\")"
   ]
  },
  {
   "cell_type": "markdown",
   "id": "finite-newport",
   "metadata": {},
   "source": [
    "### Mean Squared Difference"
   ]
  },
  {
   "cell_type": "code",
   "execution_count": 8,
   "id": "productive-fairy",
   "metadata": {},
   "outputs": [],
   "source": [
    "algo_mds = KNNWithZScore(k=7, sim_options={\"name\": \"msd\", \"user_based\": False})"
   ]
  },
  {
   "cell_type": "code",
   "execution_count": 9,
   "id": "accredited-charm",
   "metadata": {},
   "outputs": [
    {
     "name": "stdout",
     "output_type": "stream",
     "text": [
      "Computing the msd similarity matrix...\n",
      "Done computing similarity matrix.\n",
      "RMSE: 2.1689\n",
      "MSE: 4.7039\n",
      "MAE:  1.4788\n",
      "FCP:  0.6772\n",
      "Computing the msd similarity matrix...\n",
      "Done computing similarity matrix.\n",
      "RMSE: 2.1685\n",
      "MSE: 4.7024\n",
      "MAE:  1.4776\n",
      "FCP:  0.6781\n",
      "Computing the msd similarity matrix...\n",
      "Done computing similarity matrix.\n",
      "RMSE: 2.1660\n",
      "MSE: 4.6915\n",
      "MAE:  1.4778\n",
      "FCP:  0.6767\n",
      "Computing the msd similarity matrix...\n",
      "Done computing similarity matrix.\n",
      "RMSE: 2.1634\n",
      "MSE: 4.6802\n",
      "MAE:  1.4758\n",
      "FCP:  0.6769\n",
      "Computing the msd similarity matrix...\n",
      "Done computing similarity matrix.\n",
      "RMSE: 2.1649\n",
      "MSE: 4.6869\n",
      "MAE:  1.4777\n",
      "FCP:  0.6768\n"
     ]
    }
   ],
   "source": [
    "predictions_msd = predict_and_error(data, algo_mds, path=\"../predictions/knn_with_z_score/anime_type_tv/no_filter/knn_with_z_score_msd\")"
   ]
  },
  {
   "cell_type": "markdown",
   "id": "desirable-nudist",
   "metadata": {},
   "source": [
    "### Pearson"
   ]
  },
  {
   "cell_type": "code",
   "execution_count": 10,
   "id": "precise-species",
   "metadata": {},
   "outputs": [],
   "source": [
    "algo_pearson = KNNWithZScore(k=7, sim_options={\"name\": \"pearson\", \"user_based\": False})"
   ]
  },
  {
   "cell_type": "code",
   "execution_count": 11,
   "id": "rough-cincinnati",
   "metadata": {},
   "outputs": [
    {
     "name": "stdout",
     "output_type": "stream",
     "text": [
      "Computing the pearson similarity matrix...\n",
      "Done computing similarity matrix.\n",
      "RMSE: 2.1730\n",
      "MSE: 4.7217\n",
      "MAE:  1.4873\n",
      "FCP:  0.6733\n",
      "Computing the pearson similarity matrix...\n",
      "Done computing similarity matrix.\n",
      "RMSE: 2.1690\n",
      "MSE: 4.7046\n",
      "MAE:  1.4845\n",
      "FCP:  0.6755\n",
      "Computing the pearson similarity matrix...\n",
      "Done computing similarity matrix.\n",
      "RMSE: 2.1685\n",
      "MSE: 4.7022\n",
      "MAE:  1.4852\n",
      "FCP:  0.6749\n",
      "Computing the pearson similarity matrix...\n",
      "Done computing similarity matrix.\n",
      "RMSE: 2.1704\n",
      "MSE: 4.7105\n",
      "MAE:  1.4853\n",
      "FCP:  0.6743\n",
      "Computing the pearson similarity matrix...\n",
      "Done computing similarity matrix.\n",
      "RMSE: 2.1716\n",
      "MSE: 4.7160\n",
      "MAE:  1.4858\n",
      "FCP:  0.6757\n"
     ]
    }
   ],
   "source": [
    "predictions_pearson = predict_and_error(data, algo_pearson, path=\"../predictions/knn_with_z_score/anime_type_tv/no_filter/knn_with_z_score_pearson\")"
   ]
  },
  {
   "cell_type": "markdown",
   "id": "intense-shanghai",
   "metadata": {},
   "source": [
    "### Pearson Baseline"
   ]
  },
  {
   "cell_type": "code",
   "execution_count": 12,
   "id": "recognized-fifteen",
   "metadata": {},
   "outputs": [],
   "source": [
    "algo_pearson_baseline = KNNWithZScore(k=7, sim_options={\"name\": \"pearson_baseline\", \"user_based\": False})"
   ]
  },
  {
   "cell_type": "code",
   "execution_count": 13,
   "id": "fourth-township",
   "metadata": {},
   "outputs": [
    {
     "name": "stdout",
     "output_type": "stream",
     "text": [
      "Estimating biases using als...\n",
      "Computing the pearson_baseline similarity matrix...\n",
      "Done computing similarity matrix.\n",
      "RMSE: 2.0526\n",
      "MSE: 4.2130\n",
      "MAE:  1.3838\n",
      "FCP:  0.7189\n",
      "Estimating biases using als...\n",
      "Computing the pearson_baseline similarity matrix...\n",
      "Done computing similarity matrix.\n",
      "RMSE: 2.0499\n",
      "MSE: 4.2020\n",
      "MAE:  1.3822\n",
      "FCP:  0.7188\n",
      "Estimating biases using als...\n",
      "Computing the pearson_baseline similarity matrix...\n",
      "Done computing similarity matrix.\n",
      "RMSE: 2.0520\n",
      "MSE: 4.2106\n",
      "MAE:  1.3833\n",
      "FCP:  0.7184\n",
      "Estimating biases using als...\n",
      "Computing the pearson_baseline similarity matrix...\n",
      "Done computing similarity matrix.\n",
      "RMSE: 2.0493\n",
      "MSE: 4.1998\n",
      "MAE:  1.3831\n",
      "FCP:  0.7188\n",
      "Estimating biases using als...\n",
      "Computing the pearson_baseline similarity matrix...\n",
      "Done computing similarity matrix.\n",
      "RMSE: 2.0521\n",
      "MSE: 4.2109\n",
      "MAE:  1.3822\n",
      "FCP:  0.7184\n"
     ]
    }
   ],
   "source": [
    "predictions_pearson_baseline = predict_and_error(data, algo_pearson_baseline, path=\"../predictions/knn_with_z_score/anime_type_tv/no_filter/knn_with_z_score_pearson_baseline\")"
   ]
  },
  {
   "cell_type": "markdown",
   "id": "6b0682fe",
   "metadata": {},
   "source": [
    "# Filter grade -1"
   ]
  },
  {
   "cell_type": "markdown",
   "id": "b69500f2",
   "metadata": {},
   "source": [
    "### Cossine"
   ]
  },
  {
   "cell_type": "code",
   "execution_count": 14,
   "id": "26ff7210",
   "metadata": {},
   "outputs": [],
   "source": [
    "base_df_without_negative = filter_animes_without_grade(base_df)"
   ]
  },
  {
   "cell_type": "code",
   "execution_count": 15,
   "id": "8bc66b8f",
   "metadata": {},
   "outputs": [
    {
     "name": "stdout",
     "output_type": "stream",
     "text": [
      "Computing the cosine similarity matrix...\n",
      "Done computing similarity matrix.\n",
      "RMSE: 2.1642\n",
      "MSE: 4.6836\n",
      "MAE:  1.4786\n",
      "FCP:  0.6787\n",
      "Computing the cosine similarity matrix...\n",
      "Done computing similarity matrix.\n",
      "RMSE: 2.1615\n",
      "MSE: 4.6722\n",
      "MAE:  1.4764\n",
      "FCP:  0.6797\n",
      "Computing the cosine similarity matrix...\n",
      "Done computing similarity matrix.\n",
      "RMSE: 2.1607\n",
      "MSE: 4.6687\n",
      "MAE:  1.4752\n",
      "FCP:  0.6794\n",
      "Computing the cosine similarity matrix...\n",
      "Done computing similarity matrix.\n",
      "RMSE: 2.1619\n",
      "MSE: 4.6738\n",
      "MAE:  1.4770\n",
      "FCP:  0.6802\n",
      "Computing the cosine similarity matrix...\n",
      "Done computing similarity matrix.\n",
      "RMSE: 2.1610\n",
      "MSE: 4.6701\n",
      "MAE:  1.4767\n",
      "FCP:  0.6799\n"
     ]
    }
   ],
   "source": [
    "predictions_cosine = predict_and_error(data, algo_cossine, path=\"../predictions/knn_with_z_score/anime_type_tv/with_filter_remove_negative/knn_with_z_score_cosine\")"
   ]
  },
  {
   "cell_type": "markdown",
   "id": "728f910e",
   "metadata": {},
   "source": [
    "### Msd"
   ]
  },
  {
   "cell_type": "code",
   "execution_count": 16,
   "id": "81c2dbda",
   "metadata": {},
   "outputs": [
    {
     "name": "stdout",
     "output_type": "stream",
     "text": [
      "Computing the msd similarity matrix...\n",
      "Done computing similarity matrix.\n",
      "RMSE: 2.1654\n",
      "MSE: 4.6892\n",
      "MAE:  1.4771\n",
      "FCP:  0.6774\n",
      "Computing the msd similarity matrix...\n",
      "Done computing similarity matrix.\n",
      "RMSE: 2.1653\n",
      "MSE: 4.6886\n",
      "MAE:  1.4764\n",
      "FCP:  0.6775\n",
      "Computing the msd similarity matrix...\n",
      "Done computing similarity matrix.\n",
      "RMSE: 2.1674\n",
      "MSE: 4.6978\n",
      "MAE:  1.4784\n",
      "FCP:  0.6779\n",
      "Computing the msd similarity matrix...\n",
      "Done computing similarity matrix.\n",
      "RMSE: 2.1645\n",
      "MSE: 4.6853\n",
      "MAE:  1.4776\n",
      "FCP:  0.6753\n",
      "Computing the msd similarity matrix...\n",
      "Done computing similarity matrix.\n",
      "RMSE: 2.1664\n",
      "MSE: 4.6933\n",
      "MAE:  1.4771\n",
      "FCP:  0.6767\n"
     ]
    }
   ],
   "source": [
    "predictions_msd = predict_and_error(data, algo_mds, path=\"../predictions/knn_with_z_score/anime_type_tv/with_filter_remove_negative/knn_with_z_score_msd\")"
   ]
  },
  {
   "cell_type": "markdown",
   "id": "1c8371a9",
   "metadata": {},
   "source": [
    "### Pearson"
   ]
  },
  {
   "cell_type": "code",
   "execution_count": 17,
   "id": "dad0e837",
   "metadata": {},
   "outputs": [
    {
     "name": "stdout",
     "output_type": "stream",
     "text": [
      "Computing the pearson similarity matrix...\n",
      "Done computing similarity matrix.\n",
      "RMSE: 2.1713\n",
      "MSE: 4.7144\n",
      "MAE:  1.4857\n",
      "FCP:  0.6739\n",
      "Computing the pearson similarity matrix...\n",
      "Done computing similarity matrix.\n",
      "RMSE: 2.1709\n",
      "MSE: 4.7127\n",
      "MAE:  1.4864\n",
      "FCP:  0.6749\n",
      "Computing the pearson similarity matrix...\n",
      "Done computing similarity matrix.\n",
      "RMSE: 2.1686\n",
      "MSE: 4.7030\n",
      "MAE:  1.4848\n",
      "FCP:  0.6759\n",
      "Computing the pearson similarity matrix...\n",
      "Done computing similarity matrix.\n",
      "RMSE: 2.1733\n",
      "MSE: 4.7234\n",
      "MAE:  1.4866\n",
      "FCP:  0.6750\n",
      "Computing the pearson similarity matrix...\n",
      "Done computing similarity matrix.\n",
      "RMSE: 2.1735\n",
      "MSE: 4.7240\n",
      "MAE:  1.4864\n",
      "FCP:  0.6736\n"
     ]
    }
   ],
   "source": [
    "predictions_pearson = predict_and_error(data, algo_pearson, path=\"../predictions/knn_with_z_score/anime_type_tv/with_filter_remove_negative/knn_with_z_score_pearson\")"
   ]
  },
  {
   "cell_type": "markdown",
   "id": "2022120e",
   "metadata": {},
   "source": [
    "### Pearson Baseline"
   ]
  },
  {
   "cell_type": "code",
   "execution_count": 18,
   "id": "67bfcec5",
   "metadata": {},
   "outputs": [
    {
     "name": "stdout",
     "output_type": "stream",
     "text": [
      "Estimating biases using als...\n",
      "Computing the pearson_baseline similarity matrix...\n",
      "Done computing similarity matrix.\n",
      "RMSE: 2.0512\n",
      "MSE: 4.2072\n",
      "MAE:  1.3836\n",
      "FCP:  0.7197\n",
      "Estimating biases using als...\n",
      "Computing the pearson_baseline similarity matrix...\n",
      "Done computing similarity matrix.\n",
      "RMSE: 2.0520\n",
      "MSE: 4.2109\n",
      "MAE:  1.3824\n",
      "FCP:  0.7180\n",
      "Estimating biases using als...\n",
      "Computing the pearson_baseline similarity matrix...\n",
      "Done computing similarity matrix.\n",
      "RMSE: 2.0479\n",
      "MSE: 4.1939\n",
      "MAE:  1.3805\n",
      "FCP:  0.7174\n",
      "Estimating biases using als...\n",
      "Computing the pearson_baseline similarity matrix...\n",
      "Done computing similarity matrix.\n",
      "RMSE: 2.0524\n",
      "MSE: 4.2124\n",
      "MAE:  1.3836\n",
      "FCP:  0.7193\n",
      "Estimating biases using als...\n",
      "Computing the pearson_baseline similarity matrix...\n",
      "Done computing similarity matrix.\n",
      "RMSE: 2.0503\n",
      "MSE: 4.2038\n",
      "MAE:  1.3831\n",
      "FCP:  0.7184\n"
     ]
    }
   ],
   "source": [
    "predictions_pearson_baseline = predict_and_error(data, algo_pearson_baseline, path=\"../predictions/knn_with_z_score/anime_type_tv/with_filter_remove_negative/knn_with_z_score_pearson_baseline\")"
   ]
  },
  {
   "cell_type": "code",
   "execution_count": null,
   "id": "dcc91f9a",
   "metadata": {},
   "outputs": [],
   "source": []
  }
 ],
 "metadata": {
  "kernelspec": {
   "display_name": "Python 3",
   "language": "python",
   "name": "python3"
  },
  "language_info": {
   "codemirror_mode": {
    "name": "ipython",
    "version": 3
   },
   "file_extension": ".py",
   "mimetype": "text/x-python",
   "name": "python",
   "nbconvert_exporter": "python",
   "pygments_lexer": "ipython3",
   "version": "3.6.5"
  }
 },
 "nbformat": 4,
 "nbformat_minor": 5
}
