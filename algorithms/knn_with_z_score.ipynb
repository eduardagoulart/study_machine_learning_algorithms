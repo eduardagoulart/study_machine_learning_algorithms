{
 "cells": [
  {
   "cell_type": "code",
   "execution_count": 2,
   "id": "expressed-defense",
   "metadata": {},
   "outputs": [],
   "source": [
    "import pandas as pd\n",
    "from surprise import KNNWithZScore\n",
    "from surprise import accuracy\n",
    "from surprise.model_selection import cross_validate\n",
    "from surprise.model_selection import train_test_split\n",
    "from surprise.model_selection import KFold\n",
    "\n",
    "from read_and_split_data import split_data"
   ]
  },
  {
   "cell_type": "code",
   "execution_count": 2,
   "id": "usual-symposium",
   "metadata": {},
   "outputs": [],
   "source": [
    "def get_dataset():\n",
    "    anime = pd.read_parquet(\"../datasets/anime.parquet\")\n",
    "    anime = anime[[\"anime_id\", \"type\"]]\n",
    "    users = pd.read_parquet(\"../datasets/users.parquet\")\n",
    "    base_df = users.merge(anime, on=\"anime_id\", how=\"left\")\n",
    "    return base_df\n",
    "\n",
    "base_df = get_dataset()\n",
    "data = split_data(base_df)"
   ]
  },
  {
   "cell_type": "code",
   "execution_count": 3,
   "id": "optional-desktop",
   "metadata": {},
   "outputs": [],
   "source": [
    "kf = KFold(n_splits=5)"
   ]
  },
  {
   "cell_type": "code",
   "execution_count": 4,
   "id": "funny-heaven",
   "metadata": {},
   "outputs": [],
   "source": [
    "def predict_and_error(data, algo):\n",
    "    for trainset, testset in kf.split(data):\n",
    "        algo.fit(trainset)\n",
    "        predictions = algo.test(testset)\n",
    "        # Mean Squared Error\n",
    "        accuracy.rmse(predictions, verbose=True)\n",
    "        # Mean Absolute Erro\n",
    "        accuracy.mse(predictions, verbose=True)\n",
    "        # Mean Absolute Erro\n",
    "        accuracy.mae(predictions, verbose=True)\n",
    "        # Fraction of Concordant Pairs\n",
    "        accuracy.fcp(predictions, verbose=True)\n",
    "    return predictions"
   ]
  },
  {
   "cell_type": "markdown",
   "id": "noble-metropolitan",
   "metadata": {},
   "source": [
    "### Cosine Similarity"
   ]
  },
  {
   "cell_type": "code",
   "execution_count": 5,
   "id": "southern-transcript",
   "metadata": {},
   "outputs": [],
   "source": [
    "algo = KNNWithZScore(k=7, sim_options={\"name\": \"cosine\", \"user_based\": False})"
   ]
  },
  {
   "cell_type": "code",
   "execution_count": 6,
   "id": "generous-stocks",
   "metadata": {},
   "outputs": [
    {
     "name": "stdout",
     "output_type": "stream",
     "text": [
      "Computing the cosine similarity matrix...\n",
      "Done computing similarity matrix.\n",
      "RMSE: 2.1625\n",
      "MSE: 4.6762\n",
      "MAE:  1.4785\n",
      "FCP:  0.6785\n",
      "Computing the cosine similarity matrix...\n",
      "Done computing similarity matrix.\n",
      "RMSE: 2.1613\n",
      "MSE: 4.6711\n",
      "MAE:  1.4765\n",
      "FCP:  0.6799\n",
      "Computing the cosine similarity matrix...\n",
      "Done computing similarity matrix.\n",
      "RMSE: 2.1611\n",
      "MSE: 4.6703\n",
      "MAE:  1.4759\n",
      "FCP:  0.6792\n",
      "Computing the cosine similarity matrix...\n",
      "Done computing similarity matrix.\n",
      "RMSE: 2.1604\n",
      "MSE: 4.6673\n",
      "MAE:  1.4770\n",
      "FCP:  0.6794\n",
      "Computing the cosine similarity matrix...\n",
      "Done computing similarity matrix.\n",
      "RMSE: 2.1579\n",
      "MSE: 4.6565\n",
      "MAE:  1.4741\n",
      "FCP:  0.6812\n"
     ]
    }
   ],
   "source": [
    "predictions = predict_and_error(data, algo)"
   ]
  },
  {
   "cell_type": "code",
   "execution_count": 7,
   "id": "dried-trance",
   "metadata": {},
   "outputs": [],
   "source": [
    "df = pd.DataFrame(columns=[\"user\", \"anime\", \"actual\", \"est\", \"details\"], data=predictions)"
   ]
  },
  {
   "cell_type": "code",
   "execution_count": 8,
   "id": "sacred-context",
   "metadata": {},
   "outputs": [
    {
     "data": {
      "text/html": [
       "<div>\n",
       "<style scoped>\n",
       "    .dataframe tbody tr th:only-of-type {\n",
       "        vertical-align: middle;\n",
       "    }\n",
       "\n",
       "    .dataframe tbody tr th {\n",
       "        vertical-align: top;\n",
       "    }\n",
       "\n",
       "    .dataframe thead th {\n",
       "        text-align: right;\n",
       "    }\n",
       "</style>\n",
       "<table border=\"1\" class=\"dataframe\">\n",
       "  <thead>\n",
       "    <tr style=\"text-align: right;\">\n",
       "      <th></th>\n",
       "      <th>user</th>\n",
       "      <th>anime</th>\n",
       "      <th>actual</th>\n",
       "      <th>est</th>\n",
       "      <th>details</th>\n",
       "    </tr>\n",
       "  </thead>\n",
       "  <tbody>\n",
       "    <tr>\n",
       "      <th>364733</th>\n",
       "      <td>31928</td>\n",
       "      <td>10620</td>\n",
       "      <td>10.0</td>\n",
       "      <td>8.733615</td>\n",
       "      <td>{'actual_k': 7, 'was_impossible': False}</td>\n",
       "    </tr>\n",
       "  </tbody>\n",
       "</table>\n",
       "</div>"
      ],
      "text/plain": [
       "         user  anime  actual       est  \\\n",
       "364733  31928  10620    10.0  8.733615   \n",
       "\n",
       "                                         details  \n",
       "364733  {'actual_k': 7, 'was_impossible': False}  "
      ]
     },
     "execution_count": 8,
     "metadata": {},
     "output_type": "execute_result"
    }
   ],
   "source": [
    "df.sample()"
   ]
  },
  {
   "cell_type": "code",
   "execution_count": 9,
   "id": "simple-stack",
   "metadata": {},
   "outputs": [],
   "source": [
    "df.to_csv(\"../predictions/knn_with_z_score/anime_type_tv/no_filter/knn_with_z_score_cosine.csv\")\n",
    "df.to_parquet(\"../predictions/knn_with_z_score/anime_type_tv/no_filter/knn_with_z_score_cosine.parquet\")"
   ]
  },
  {
   "cell_type": "markdown",
   "id": "finite-newport",
   "metadata": {},
   "source": [
    "### Mean Squared Difference"
   ]
  },
  {
   "cell_type": "code",
   "execution_count": 10,
   "id": "productive-fairy",
   "metadata": {},
   "outputs": [],
   "source": [
    "algo = KNNWithZScore(k=7, sim_options={\"name\": \"msd\", \"user_based\": False})"
   ]
  },
  {
   "cell_type": "code",
   "execution_count": 11,
   "id": "accredited-charm",
   "metadata": {},
   "outputs": [
    {
     "name": "stdout",
     "output_type": "stream",
     "text": [
      "Computing the msd similarity matrix...\n",
      "Done computing similarity matrix.\n",
      "RMSE: 2.1626\n",
      "MSE: 4.6770\n",
      "MAE:  1.4752\n",
      "FCP:  0.6780\n",
      "Computing the msd similarity matrix...\n",
      "Done computing similarity matrix.\n",
      "RMSE: 2.1632\n",
      "MSE: 4.6796\n",
      "MAE:  1.4766\n",
      "FCP:  0.6776\n",
      "Computing the msd similarity matrix...\n",
      "Done computing similarity matrix.\n",
      "RMSE: 2.1632\n",
      "MSE: 4.6796\n",
      "MAE:  1.4752\n",
      "FCP:  0.6778\n",
      "Computing the msd similarity matrix...\n",
      "Done computing similarity matrix.\n",
      "RMSE: 2.1676\n",
      "MSE: 4.6985\n",
      "MAE:  1.4790\n",
      "FCP:  0.6769\n",
      "Computing the msd similarity matrix...\n",
      "Done computing similarity matrix.\n",
      "RMSE: 2.1702\n",
      "MSE: 4.7097\n",
      "MAE:  1.4801\n",
      "FCP:  0.6772\n"
     ]
    }
   ],
   "source": [
    "predictions_msd = predict_and_error(data, algo)"
   ]
  },
  {
   "cell_type": "code",
   "execution_count": 12,
   "id": "stopped-campbell",
   "metadata": {},
   "outputs": [],
   "source": [
    "df = pd.DataFrame(columns=[\"user\", \"anime\", \"actual\", \"est\", \"details\"], data=predictions_msd)"
   ]
  },
  {
   "cell_type": "code",
   "execution_count": 13,
   "id": "adequate-humidity",
   "metadata": {},
   "outputs": [],
   "source": [
    "df.to_csv(\"../predictions/knn_with_z_score/anime_type_tv/no_filter/knn_with_z_score_msd.csv\")\n",
    "df.to_parquet(\"../predictions/knn_with_z_score/anime_type_tv/no_filter/knn_with_z_score_msd.parquet\")"
   ]
  },
  {
   "cell_type": "markdown",
   "id": "desirable-nudist",
   "metadata": {},
   "source": [
    "### Pearson"
   ]
  },
  {
   "cell_type": "code",
   "execution_count": 14,
   "id": "precise-species",
   "metadata": {},
   "outputs": [],
   "source": [
    "algo = KNNWithZScore(k=7, sim_options={\"name\": \"pearson\", \"user_based\": False})"
   ]
  },
  {
   "cell_type": "code",
   "execution_count": 15,
   "id": "rough-cincinnati",
   "metadata": {},
   "outputs": [
    {
     "name": "stdout",
     "output_type": "stream",
     "text": [
      "Computing the pearson similarity matrix...\n",
      "Done computing similarity matrix.\n",
      "RMSE: 2.1722\n",
      "MSE: 4.7185\n",
      "MAE:  1.4874\n",
      "FCP:  0.6739\n",
      "Computing the pearson similarity matrix...\n",
      "Done computing similarity matrix.\n",
      "RMSE: 2.1744\n",
      "MSE: 4.7280\n",
      "MAE:  1.4887\n",
      "FCP:  0.6752\n",
      "Computing the pearson similarity matrix...\n",
      "Done computing similarity matrix.\n",
      "RMSE: 2.1704\n",
      "MSE: 4.7105\n",
      "MAE:  1.4857\n",
      "FCP:  0.6750\n",
      "Computing the pearson similarity matrix...\n",
      "Done computing similarity matrix.\n",
      "RMSE: 2.1695\n",
      "MSE: 4.7065\n",
      "MAE:  1.4837\n",
      "FCP:  0.6738\n",
      "Computing the pearson similarity matrix...\n",
      "Done computing similarity matrix.\n",
      "RMSE: 2.1663\n",
      "MSE: 4.6928\n",
      "MAE:  1.4834\n",
      "FCP:  0.6739\n"
     ]
    }
   ],
   "source": [
    "predictions_pearson = predict_and_error(data, algo)"
   ]
  },
  {
   "cell_type": "code",
   "execution_count": 16,
   "id": "smoking-press",
   "metadata": {},
   "outputs": [],
   "source": [
    "df = pd.DataFrame(columns=[\"user\", \"anime\", \"actual\", \"est\", \"details\"], data=predictions_pearson)"
   ]
  },
  {
   "cell_type": "code",
   "execution_count": 17,
   "id": "formal-interim",
   "metadata": {},
   "outputs": [],
   "source": [
    "df.to_csv(\"../predictions/knn_with_z_score/anime_type_tv/no_filter/knn_with_z_score_pearson.csv\")\n",
    "df.to_parquet(\"../predictions/knn_with_z_score/anime_type_tv/no_filter/knn_with_z_score_pearson.parquet\")"
   ]
  },
  {
   "cell_type": "markdown",
   "id": "intense-shanghai",
   "metadata": {},
   "source": [
    "### Pearson Baseline"
   ]
  },
  {
   "cell_type": "code",
   "execution_count": 18,
   "id": "recognized-fifteen",
   "metadata": {},
   "outputs": [],
   "source": [
    "algo = KNNWithZScore(k=7, sim_options={\"name\": \"pearson_baseline\", \"user_based\": False})"
   ]
  },
  {
   "cell_type": "code",
   "execution_count": 19,
   "id": "fourth-township",
   "metadata": {},
   "outputs": [
    {
     "name": "stdout",
     "output_type": "stream",
     "text": [
      "Estimating biases using als...\n",
      "Computing the pearson_baseline similarity matrix...\n",
      "Done computing similarity matrix.\n",
      "RMSE: 2.0484\n",
      "MSE: 4.1959\n",
      "MAE:  1.3827\n",
      "FCP:  0.7188\n",
      "Estimating biases using als...\n",
      "Computing the pearson_baseline similarity matrix...\n",
      "Done computing similarity matrix.\n",
      "RMSE: 2.0496\n",
      "MSE: 4.2007\n",
      "MAE:  1.3812\n",
      "FCP:  0.7192\n",
      "Estimating biases using als...\n",
      "Computing the pearson_baseline similarity matrix...\n",
      "Done computing similarity matrix.\n",
      "RMSE: 2.0506\n",
      "MSE: 4.2049\n",
      "MAE:  1.3824\n",
      "FCP:  0.7189\n",
      "Estimating biases using als...\n",
      "Computing the pearson_baseline similarity matrix...\n",
      "Done computing similarity matrix.\n",
      "RMSE: 2.0514\n",
      "MSE: 4.2083\n",
      "MAE:  1.3833\n",
      "FCP:  0.7180\n",
      "Estimating biases using als...\n",
      "Computing the pearson_baseline similarity matrix...\n",
      "Done computing similarity matrix.\n",
      "RMSE: 2.0495\n",
      "MSE: 4.2003\n",
      "MAE:  1.3826\n",
      "FCP:  0.7182\n"
     ]
    }
   ],
   "source": [
    "predictions_pearson_baseline = predict_and_error(data, algo)"
   ]
  },
  {
   "cell_type": "code",
   "execution_count": 20,
   "id": "composed-robinson",
   "metadata": {},
   "outputs": [],
   "source": [
    "df = pd.DataFrame(columns=[\"user\", \"anime\", \"actual\", \"est\", \"details\"], data=predictions_pearson_baseline)"
   ]
  },
  {
   "cell_type": "code",
   "execution_count": 21,
   "id": "unexpected-parks",
   "metadata": {},
   "outputs": [],
   "source": [
    "df.to_csv(\"../predictions/knn_with_z_score/anime_type_tv/no_filter/knn_with_z_score_pearson_baseline.csv\")\n",
    "df.to_parquet(\"../predictions/knn_with_z_score/anime_type_tv/no_filter/knn_with_z_score_pearson_baseline.parquet\")"
   ]
  },
  {
   "cell_type": "markdown",
   "id": "ceb43229",
   "metadata": {},
   "source": [
    "## Graphs"
   ]
  },
  {
   "cell_type": "markdown",
   "id": "47d1e733",
   "metadata": {},
   "source": [
    "### Cosine graph"
   ]
  },
  {
   "cell_type": "code",
   "execution_count": 3,
   "id": "599b0c63",
   "metadata": {},
   "outputs": [],
   "source": [
    "df = pd.read_parquet(\"../predictions/knn_with_z_score/anime_type_tv/no_filter/knn_with_z_score_cosine.parquet\")"
   ]
  },
  {
   "cell_type": "code",
   "execution_count": 4,
   "id": "3d4cadfe",
   "metadata": {},
   "outputs": [
    {
     "data": {
      "text/html": [
       "<div>\n",
       "<style scoped>\n",
       "    .dataframe tbody tr th:only-of-type {\n",
       "        vertical-align: middle;\n",
       "    }\n",
       "\n",
       "    .dataframe tbody tr th {\n",
       "        vertical-align: top;\n",
       "    }\n",
       "\n",
       "    .dataframe thead th {\n",
       "        text-align: right;\n",
       "    }\n",
       "</style>\n",
       "<table border=\"1\" class=\"dataframe\">\n",
       "  <thead>\n",
       "    <tr style=\"text-align: right;\">\n",
       "      <th></th>\n",
       "      <th>user</th>\n",
       "      <th>anime</th>\n",
       "      <th>actual</th>\n",
       "      <th>est</th>\n",
       "      <th>details</th>\n",
       "    </tr>\n",
       "  </thead>\n",
       "  <tbody>\n",
       "    <tr>\n",
       "      <th>991610</th>\n",
       "      <td>19989</td>\n",
       "      <td>6880</td>\n",
       "      <td>9.0</td>\n",
       "      <td>7.670362</td>\n",
       "      <td>{'actual_k': 7.0, 'reason': None, 'was_impossi...</td>\n",
       "    </tr>\n",
       "  </tbody>\n",
       "</table>\n",
       "</div>"
      ],
      "text/plain": [
       "         user  anime  actual       est  \\\n",
       "991610  19989   6880     9.0  7.670362   \n",
       "\n",
       "                                                  details  \n",
       "991610  {'actual_k': 7.0, 'reason': None, 'was_impossi...  "
      ]
     },
     "execution_count": 4,
     "metadata": {},
     "output_type": "execute_result"
    }
   ],
   "source": [
    "df.sample()"
   ]
  },
  {
   "cell_type": "code",
   "execution_count": 16,
   "id": "f388406e",
   "metadata": {},
   "outputs": [],
   "source": [
    "from matplotlib import pyplot as plt\n",
    "import numpy as np\n",
    "import seaborn as sns"
   ]
  },
  {
   "cell_type": "code",
   "execution_count": 18,
   "id": "6431c25e",
   "metadata": {},
   "outputs": [
    {
     "name": "stderr",
     "output_type": "stream",
     "text": [
      "/Users/eduardagoulart/Documents/study/compare_ml_algorithms/.venv/lib/python3.6/site-packages/seaborn/distributions.py:2557: FutureWarning: `distplot` is a deprecated function and will be removed in a future version. Please adapt your code to use either `displot` (a figure-level function with similar flexibility) or `kdeplot` (an axes-level function for kernel density plots).\n",
      "  warnings.warn(msg, FutureWarning)\n",
      "/Users/eduardagoulart/Documents/study/compare_ml_algorithms/.venv/lib/python3.6/site-packages/seaborn/distributions.py:2056: FutureWarning: The `axis` variable is no longer used and will be removed. Instead, assign variables directly to `x` or `y`.\n",
      "  warnings.warn(msg, FutureWarning)\n"
     ]
    },
    {
     "data": {
      "text/plain": [
       "<AxesSubplot:xlabel='actual', ylabel='Density'>"
      ]
     },
     "execution_count": 18,
     "metadata": {},
     "output_type": "execute_result"
    },
    {
     "data": {
      "image/png": "[encoded data removed]",
      "text/plain": [
       "<Figure size 432x288 with 1 Axes>"
      ]
     },
     "metadata": {
      "needs_background": "light"
     },
     "output_type": "display_data"
    }
   ],
   "source": [
    "sns.distplot(df[\"actual\"], rug=True, hist=False)"
   ]
  },
  {
   "cell_type": "code",
   "execution_count": 19,
   "id": "b66ce8c7",
   "metadata": {},
   "outputs": [
    {
     "name": "stderr",
     "output_type": "stream",
     "text": [
      "/Users/eduardagoulart/Documents/study/compare_ml_algorithms/.venv/lib/python3.6/site-packages/seaborn/distributions.py:2557: FutureWarning: `distplot` is a deprecated function and will be removed in a future version. Please adapt your code to use either `displot` (a figure-level function with similar flexibility) or `kdeplot` (an axes-level function for kernel density plots).\n",
      "  warnings.warn(msg, FutureWarning)\n",
      "/Users/eduardagoulart/Documents/study/compare_ml_algorithms/.venv/lib/python3.6/site-packages/seaborn/distributions.py:2056: FutureWarning: The `axis` variable is no longer used and will be removed. Instead, assign variables directly to `x` or `y`.\n",
      "  warnings.warn(msg, FutureWarning)\n"
     ]
    },
    {
     "data": {
      "text/plain": [
       "<AxesSubplot:xlabel='est', ylabel='Density'>"
      ]
     },
     "execution_count": 19,
     "metadata": {},
     "output_type": "execute_result"
    },
    {
     "data": {
      "image/png": "[encoded data removed]",
      "text/plain": [
       "<Figure size 432x288 with 1 Axes>"
      ]
     },
     "metadata": {
      "needs_background": "light"
     },
     "output_type": "display_data"
    }
   ],
   "source": [
    "sns.distplot(df[\"est\"], rug=True, hist=False)"
   ]
  },
  {
   "cell_type": "code",
   "execution_count": null,
   "id": "92f84593",
   "metadata": {},
   "outputs": [],
   "source": []
  }
 ],
 "metadata": {
  "kernelspec": {
   "display_name": "Python 3",
   "language": "python",
   "name": "python3"
  },
  "language_info": {
   "codemirror_mode": {
    "name": "ipython",
    "version": 3
   },
   "file_extension": ".py",
   "mimetype": "text/x-python",
   "name": "python",
   "nbconvert_exporter": "python",
   "pygments_lexer": "ipython3",
   "version": "3.6.5"
  }
 },
 "nbformat": 4,
 "nbformat_minor": 5
}
