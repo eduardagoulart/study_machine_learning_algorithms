{
 "cells": [
  {
   "cell_type": "code",
   "execution_count": 1,
   "id": "e3a39540",
   "metadata": {},
   "outputs": [],
   "source": [
    "import pandas as pd\n",
    "import numpy as np\n",
    "import matplotlib.pyplot as plt\n",
    "import seaborn as sns"
   ]
  },
  {
   "cell_type": "code",
   "execution_count": 2,
   "id": "4c3542b5",
   "metadata": {},
   "outputs": [],
   "source": [
    "def round_est_values(df):\n",
    "    round_actual = np.round(df[\"est\"], decimals=0)\n",
    "    round_actual = round_actual.reset_index()\n",
    "    df = df.reset_index()[[\"index\", \"actual\", \"details\"]]\n",
    "    df = df.merge(round_actual, on=\"index\", how=\"left\")\n",
    "    df = df.set_index(\"index\")\n",
    "    grouped = df.groupby(\"est\", as_index=False).count()\n",
    "    return grouped"
   ]
  },
  {
   "cell_type": "code",
   "execution_count": 3,
   "id": "22c87c14",
   "metadata": {},
   "outputs": [],
   "source": [
    "cossine_fold_0 = pd.read_parquet(f\"../predictions/knn_with_means/anime_type_tv/no_filter/knn_with_means_cosine_0.parquet\")\n",
    "cossine_fold_1 = pd.read_parquet(f\"../predictions/knn_with_means/anime_type_tv/no_filter/knn_with_means_cosine_1.parquet\")\n",
    "cossine_fold_2 = pd.read_parquet(f\"../predictions/knn_with_means/anime_type_tv/no_filter/knn_with_means_cosine_2.parquet\")\n",
    "cossine_fold_3 = pd.read_parquet(f\"../predictions/knn_with_means/anime_type_tv/no_filter/knn_with_means_cosine_3.parquet\")\n",
    "cossine_fold_4 = pd.read_parquet(f\"../predictions/knn_with_means/anime_type_tv/no_filter/knn_with_means_cosine_4.parquet\")\n",
    "\n",
    "df = pd.concat([cossine_fold_0, cossine_fold_1, cossine_fold_2, cossine_fold_3, cossine_fold_4])"
   ]
  },
  {
   "cell_type": "markdown",
   "id": "47fffb85",
   "metadata": {},
   "source": [
    "### Cosine"
   ]
  },
  {
   "cell_type": "markdown",
   "id": "d24ba1fb",
   "metadata": {},
   "source": [
    "Os gráficos são comparativo da nota real VS a nota predita. Filtrando cada nota real (de 1 a 10), quais são as notas preditas por cada algoritmo usando similaridade cosseno"
   ]
  },
  {
   "cell_type": "code",
   "execution_count": 4,
   "id": "3d997823",
   "metadata": {},
   "outputs": [
    {
     "name": "stdout",
     "output_type": "stream",
     "text": [
      "    est   actual  details\n",
      "0   1.0  3560080  3560080\n",
      "1   2.0   443585   443585\n",
      "2   3.0   429495   429495\n",
      "3   4.0   518900   518900\n",
      "4   5.0   886150   886150\n",
      "5   6.0  2163930  2163930\n",
      "6   7.0  5194900  5194900\n",
      "7   8.0  7432945  7432945\n",
      "8   9.0  4634091  4634091\n",
      "9  10.0  1153900  1153900\n"
     ]
    }
   ],
   "source": [
    "df_grouped = round_est_values(df)\n",
    "print(df_grouped)"
   ]
  },
  {
   "cell_type": "code",
   "execution_count": 5,
   "id": "c15d3c5d",
   "metadata": {},
   "outputs": [
    {
     "data": {
      "text/plain": [
       "<AxesSubplot:title={'center':'Distribuição valores preditos (knn_with_means)'}, xlabel='est'>"
      ]
     },
     "execution_count": 5,
     "metadata": {},
     "output_type": "execute_result"
    },
    {
     "data": {
      "image/png": "[encoded data removed]",
      "text/plain": [
       "<Figure size 432x288 with 1 Axes>"
      ]
     },
     "metadata": {
      "needs_background": "light"
     },
     "output_type": "display_data"
    }
   ],
   "source": [
    "df_grouped.plot.bar(x='est', y='actual', title=\"Distribuição valores preditos (knn_with_means)\")"
   ]
  },
  {
   "cell_type": "code",
   "execution_count": 6,
   "id": "3d4fb94a",
   "metadata": {},
   "outputs": [
    {
     "name": "stdout",
     "output_type": "stream",
     "text": [
      "    est  actual  details\n",
      "0   1.0     715      715\n",
      "1   2.0     443      443\n",
      "2   3.0     598      598\n",
      "3   4.0     913      913\n",
      "4   5.0    1273     1273\n",
      "5   6.0    1672     1672\n",
      "6   7.0    1455     1455\n",
      "7   8.0     822      822\n",
      "8   9.0     292      292\n",
      "9  10.0      78       78\n"
     ]
    }
   ],
   "source": [
    "df_actual_1 = df.loc[df[\"actual\"] == 1]\n",
    "plot_cosine_counter = round_est_values(df_actual_1)\n",
    "print(plot_cosine_counter)"
   ]
  },
  {
   "cell_type": "code",
   "execution_count": 7,
   "id": "4e504e37",
   "metadata": {},
   "outputs": [
    {
     "data": {
      "text/plain": [
       "<AxesSubplot:title={'center':'Actual 1 counter'}, xlabel='est'>"
      ]
     },
     "execution_count": 7,
     "metadata": {},
     "output_type": "execute_result"
    },
    {
     "data": {
      "image/png": "[encoded data removed]",
      "text/plain": [
       "<Figure size 432x288 with 1 Axes>"
      ]
     },
     "metadata": {
      "needs_background": "light"
     },
     "output_type": "display_data"
    }
   ],
   "source": [
    "plot_cosine_counter.plot.bar(x='est', y='actual', title=\"Actual 1 counter\")"
   ]
  },
  {
   "cell_type": "code",
   "execution_count": 8,
   "id": "d5b3e881",
   "metadata": {},
   "outputs": [
    {
     "name": "stdout",
     "output_type": "stream",
     "text": [
      "    est  actual  details\n",
      "0   1.0     327      327\n",
      "1   2.0     308      308\n",
      "2   3.0     746      746\n",
      "3   4.0    1519     1519\n",
      "4   5.0    2531     2531\n",
      "5   6.0    3228     3228\n",
      "6   7.0    2589     2589\n",
      "7   8.0    1190     1190\n",
      "8   9.0     371      371\n",
      "9  10.0      37       37\n"
     ]
    }
   ],
   "source": [
    "df_actual_2 = df.loc[df[\"actual\"] == 2]\n",
    "plot_cosine_counter_2 = round_est_values(df_actual_2)\n",
    "print(plot_cosine_counter_2)"
   ]
  },
  {
   "cell_type": "code",
   "execution_count": 9,
   "id": "47097ce1",
   "metadata": {},
   "outputs": [
    {
     "data": {
      "text/plain": [
       "<AxesSubplot:title={'center':'Actual 2 counter'}, xlabel='est'>"
      ]
     },
     "execution_count": 9,
     "metadata": {},
     "output_type": "execute_result"
    },
    {
     "data": {
      "image/png": "[encoded data removed]",
      "text/plain": [
       "<Figure size 432x288 with 1 Axes>"
      ]
     },
     "metadata": {
      "needs_background": "light"
     },
     "output_type": "display_data"
    }
   ],
   "source": [
    "plot_cosine_counter_2.plot.bar(x='est', y='actual', title=\"Actual 2 counter\")"
   ]
  },
  {
   "cell_type": "code",
   "execution_count": 10,
   "id": "148743c3",
   "metadata": {},
   "outputs": [
    {
     "name": "stdout",
     "output_type": "stream",
     "text": [
      "    est  actual  details\n",
      "0   1.0     456      456\n",
      "1   2.0     331      331\n",
      "2   3.0     884      884\n",
      "3   4.0    2527     2527\n",
      "4   5.0    5072     5072\n",
      "5   6.0    6962     6962\n",
      "6   7.0    5325     5325\n",
      "7   8.0    2331     2331\n",
      "8   9.0     578      578\n",
      "9  10.0      70       70\n"
     ]
    }
   ],
   "source": [
    "df_actual_3 = df.loc[df[\"actual\"] == 3]\n",
    "plot_cosine_counter_3 = round_est_values(df_actual_3)\n",
    "print(plot_cosine_counter_3)"
   ]
  },
  {
   "cell_type": "code",
   "execution_count": 11,
   "id": "766a09da",
   "metadata": {},
   "outputs": [
    {
     "data": {
      "text/plain": [
       "<AxesSubplot:title={'center':'Actual 3 counter'}, xlabel='est'>"
      ]
     },
     "execution_count": 11,
     "metadata": {},
     "output_type": "execute_result"
    },
    {
     "data": {
      "image/png": "[encoded data removed]",
      "text/plain": [
       "<Figure size 432x288 with 1 Axes>"
      ]
     },
     "metadata": {
      "needs_background": "light"
     },
     "output_type": "display_data"
    }
   ],
   "source": [
    "plot_cosine_counter_3.plot.bar(x='est', y='actual', title=\"Actual 3 counter\")"
   ]
  },
  {
   "cell_type": "code",
   "execution_count": 12,
   "id": "9763368d",
   "metadata": {},
   "outputs": [
    {
     "name": "stdout",
     "output_type": "stream",
     "text": [
      "    est  actual  details\n",
      "0   1.0     952      952\n",
      "1   2.0     713      713\n",
      "2   3.0    1362     1362\n",
      "3   4.0    4125     4125\n",
      "4   5.0   11212    11212\n",
      "5   6.0   19585    19585\n",
      "6   7.0   17703    17703\n",
      "7   8.0    7927     7927\n",
      "8   9.0    1743     1743\n",
      "9  10.0     191      191\n"
     ]
    }
   ],
   "source": [
    "df_actual_4 = df.loc[df[\"actual\"] == 4]\n",
    "plot_cosine_counter_4 = round_est_values(df_actual_4)\n",
    "print(plot_cosine_counter_4)"
   ]
  },
  {
   "cell_type": "code",
   "execution_count": 13,
   "id": "8f31ee3c",
   "metadata": {},
   "outputs": [
    {
     "data": {
      "text/plain": [
       "<AxesSubplot:title={'center':'Actual 4 counter'}, xlabel='est'>"
      ]
     },
     "execution_count": 13,
     "metadata": {},
     "output_type": "execute_result"
    },
    {
     "data": {
      "image/png": "[encoded data removed]",
      "text/plain": [
       "<Figure size 432x288 with 1 Axes>"
      ]
     },
     "metadata": {
      "needs_background": "light"
     },
     "output_type": "display_data"
    }
   ],
   "source": [
    "plot_cosine_counter_4.plot.bar(x='est', y='actual', title=\"Actual 4 counter\")"
   ]
  },
  {
   "cell_type": "code",
   "execution_count": 14,
   "id": "d47b8a66",
   "metadata": {},
   "outputs": [
    {
     "name": "stdout",
     "output_type": "stream",
     "text": [
      "    est  actual  details\n",
      "0   1.0    2507     2507\n",
      "1   2.0    1755     1755\n",
      "2   3.0    2786     2786\n",
      "3   4.0    6778     6778\n",
      "4   5.0   22680    22680\n",
      "5   6.0   56279    56279\n",
      "6   7.0   62663    62663\n",
      "7   8.0   29277    29277\n",
      "8   9.0    6216     6216\n",
      "9  10.0     648      648\n"
     ]
    }
   ],
   "source": [
    "df_actual_5 = df.loc[df[\"actual\"] == 5]\n",
    "plot_cosine_counter_5 = round_est_values(df_actual_5)\n",
    "print(plot_cosine_counter_5)"
   ]
  },
  {
   "cell_type": "code",
   "execution_count": 15,
   "id": "186b4675",
   "metadata": {},
   "outputs": [
    {
     "data": {
      "text/plain": [
       "<AxesSubplot:title={'center':'Actual 5 counter'}, xlabel='est'>"
      ]
     },
     "execution_count": 15,
     "metadata": {},
     "output_type": "execute_result"
    },
    {
     "data": {
      "image/png": "[encoded data removed]",
      "text/plain": [
       "<Figure size 432x288 with 1 Axes>"
      ]
     },
     "metadata": {
      "needs_background": "light"
     },
     "output_type": "display_data"
    }
   ],
   "source": [
    "plot_cosine_counter_5.plot.bar(x='est', y='actual', title=\"Actual 5 counter\")"
   ]
  },
  {
   "cell_type": "code",
   "execution_count": 16,
   "id": "9c133b82",
   "metadata": {},
   "outputs": [
    {
     "name": "stdout",
     "output_type": "stream",
     "text": [
      "    est  actual  details\n",
      "0   1.0    5119     5119\n",
      "1   2.0    3579     3579\n",
      "2   3.0    5608     5608\n",
      "3   4.0   10695    10695\n",
      "4   5.0   32090    32090\n",
      "5   6.0  118690   118690\n",
      "6   7.0  206887   206887\n",
      "7   8.0  114895   114895\n",
      "8   9.0   23883    23883\n",
      "9  10.0    2180     2180\n"
     ]
    }
   ],
   "source": [
    "df_actual_6 = df.loc[df[\"actual\"] == 6]\n",
    "plot_cosine_counter_6 = round_est_values(df_actual_6)\n",
    "print(plot_cosine_counter_6)"
   ]
  },
  {
   "cell_type": "code",
   "execution_count": 17,
   "id": "047fbe05",
   "metadata": {},
   "outputs": [
    {
     "data": {
      "text/plain": [
       "<AxesSubplot:title={'center':'Actual 6 counter'}, xlabel='est'>"
      ]
     },
     "execution_count": 17,
     "metadata": {},
     "output_type": "execute_result"
    },
    {
     "data": {
      "image/png": "[encoded data removed]",
      "text/plain": [
       "<Figure size 432x288 with 1 Axes>"
      ]
     },
     "metadata": {
      "needs_background": "light"
     },
     "output_type": "display_data"
    }
   ],
   "source": [
    "plot_cosine_counter_6.plot.bar(x='est', y='actual', title=\"Actual 6 counter\")"
   ]
  },
  {
   "cell_type": "code",
   "execution_count": 18,
   "id": "0946827e",
   "metadata": {},
   "outputs": [
    {
     "name": "stdout",
     "output_type": "stream",
     "text": [
      "    est  actual  details\n",
      "0   1.0   13926    13926\n",
      "1   2.0    9207     9207\n",
      "2   3.0   13737    13737\n",
      "3   4.0   22118    22118\n",
      "4   5.0   49735    49735\n",
      "5   6.0  184125   184125\n",
      "6   7.0  580762   580762\n",
      "7   8.0  543500   543500\n",
      "8   9.0  129229   129229\n",
      "9  10.0   10743    10743\n"
     ]
    }
   ],
   "source": [
    "df_actual_7 = df.loc[df[\"actual\"] == 7]\n",
    "plot_cosine_counter_7 = round_est_values(df_actual_7)\n",
    "print(plot_cosine_counter_7)"
   ]
  },
  {
   "cell_type": "code",
   "execution_count": 19,
   "id": "2dd5d395",
   "metadata": {},
   "outputs": [
    {
     "data": {
      "text/plain": [
       "<AxesSubplot:title={'center':'Actual 7 counter'}, xlabel='est'>"
      ]
     },
     "execution_count": 19,
     "metadata": {},
     "output_type": "execute_result"
    },
    {
     "data": {
      "image/png": "[encoded data removed]",
      "text/plain": [
       "<Figure size 432x288 with 1 Axes>"
      ]
     },
     "metadata": {
      "needs_background": "light"
     },
     "output_type": "display_data"
    }
   ],
   "source": [
    "plot_cosine_counter_7.plot.bar(x='est', y='actual', title=\"Actual 7 counter\")"
   ]
  },
  {
   "cell_type": "code",
   "execution_count": 20,
   "id": "32591dc0",
   "metadata": {},
   "outputs": [
    {
     "name": "stdout",
     "output_type": "stream",
     "text": [
      "    est  actual  details\n",
      "0   1.0   18733    18733\n",
      "1   2.0   12464    12464\n",
      "2   3.0   17744    17744\n",
      "3   4.0   25648    25648\n",
      "4   5.0   45343    45343\n",
      "5   6.0  128361   128361\n",
      "6   7.0  502119   502119\n",
      "7   8.0  994312   994312\n",
      "8   9.0  408320   408320\n",
      "9  10.0   36162    36162\n"
     ]
    }
   ],
   "source": [
    "df_actual_8 = df.loc[df[\"actual\"] == 8]\n",
    "plot_cosine_counter_8 = round_est_values(df_actual_8)\n",
    "print(plot_cosine_counter_8)"
   ]
  },
  {
   "cell_type": "code",
   "execution_count": 21,
   "id": "677f6ea0",
   "metadata": {},
   "outputs": [
    {
     "data": {
      "text/plain": [
       "<AxesSubplot:title={'center':'Actual 8 counter'}, xlabel='est'>"
      ]
     },
     "execution_count": 21,
     "metadata": {},
     "output_type": "execute_result"
    },
    {
     "data": {
      "image/png": "[encoded data removed]",
      "text/plain": [
       "<Figure size 432x288 with 1 Axes>"
      ]
     },
     "metadata": {
      "needs_background": "light"
     },
     "output_type": "display_data"
    }
   ],
   "source": [
    "plot_cosine_counter_8.plot.bar(x='est', y='actual', title=\"Actual 8 counter\")"
   ]
  },
  {
   "cell_type": "code",
   "execution_count": 22,
   "id": "79d11434",
   "metadata": {},
   "outputs": [
    {
     "name": "stdout",
     "output_type": "stream",
     "text": [
      "    est  actual  details\n",
      "0   1.0   15639    15639\n",
      "1   2.0   10095    10095\n",
      "2   3.0   12917    12917\n",
      "3   4.0   16675    16675\n",
      "4   5.0   26751    26751\n",
      "5   6.0   59554    59554\n",
      "6   7.0  195278   195278\n",
      "7   8.0  582134   582134\n",
      "8   9.0  550606   550606\n",
      "9  10.0   81669    81669\n"
     ]
    }
   ],
   "source": [
    "df_actua_9 = df.loc[df[\"actual\"] == 9]\n",
    "plot_cosine_counter_9 = round_est_values(df_actua_9)\n",
    "print(plot_cosine_counter_9)"
   ]
  },
  {
   "cell_type": "code",
   "execution_count": 23,
   "id": "8195813e",
   "metadata": {},
   "outputs": [
    {
     "data": {
      "text/plain": [
       "<AxesSubplot:title={'center':'Actual 9 counter'}, xlabel='est'>"
      ]
     },
     "execution_count": 23,
     "metadata": {},
     "output_type": "execute_result"
    },
    {
     "data": {
      "image/png": "[encoded data removed]",
      "text/plain": [
       "<Figure size 432x288 with 1 Axes>"
      ]
     },
     "metadata": {
      "needs_background": "light"
     },
     "output_type": "display_data"
    }
   ],
   "source": [
    "plot_cosine_counter_9.plot.bar(x='est', y='actual', title=\"Actual 9 counter\")"
   ]
  },
  {
   "cell_type": "code",
   "execution_count": 24,
   "id": "7ee69a50",
   "metadata": {},
   "outputs": [
    {
     "name": "stdout",
     "output_type": "stream",
     "text": [
      "    est  actual  details\n",
      "0   1.0   16974    16974\n",
      "1   2.0    9776     9776\n",
      "2   3.0   10064    10064\n",
      "3   4.0   12850    12850\n",
      "4   5.0   18894    18894\n",
      "5   6.0   33222    33222\n",
      "6   7.0   76312    76312\n",
      "7   8.0  226343   226343\n",
      "8   9.0  412137   412137\n",
      "9  10.0  230525   230525\n"
     ]
    }
   ],
   "source": [
    "df_actua_10 = df.loc[df[\"actual\"] == 10]\n",
    "plot_cosine_counter_10 = round_est_values(df_actua_10)\n",
    "print(plot_cosine_counter_10)"
   ]
  },
  {
   "cell_type": "code",
   "execution_count": 25,
   "id": "57c550c6",
   "metadata": {},
   "outputs": [
    {
     "data": {
      "text/plain": [
       "<AxesSubplot:title={'center':'Actual 10 counter'}, xlabel='est'>"
      ]
     },
     "execution_count": 25,
     "metadata": {},
     "output_type": "execute_result"
    },
    {
     "data": {
      "image/png": "[encoded data removed]",
      "text/plain": [
       "<Figure size 432x288 with 1 Axes>"
      ]
     },
     "metadata": {
      "needs_background": "light"
     },
     "output_type": "display_data"
    }
   ],
   "source": [
    "plot_cosine_counter_10.plot.bar(x='est', y='actual', title=\"Actual 10 counter\")"
   ]
  },
  {
   "cell_type": "code",
   "execution_count": 26,
   "id": "4b7463f0",
   "metadata": {},
   "outputs": [],
   "source": [
    "round_df = np.round(df[\"est\"], decimals=0)\n",
    "round_df = round_df.reset_index()\n",
    "df = df.reset_index()[[\"index\", \"actual\", \"details\"]]\n",
    "df = df.merge(round_df, on=\"index\", how=\"left\")"
   ]
  },
  {
   "cell_type": "code",
   "execution_count": 27,
   "id": "76110117",
   "metadata": {},
   "outputs": [
    {
     "name": "stdout",
     "output_type": "stream",
     "text": [
      "    est   actual  details\n",
      "0   1.0  3560080  3560080\n",
      "1   2.0   443585   443585\n",
      "2   3.0   429495   429495\n",
      "3   4.0   518900   518900\n",
      "4   5.0   886150   886150\n",
      "5   6.0  2163930  2163930\n",
      "6   7.0  5194900  5194900\n",
      "7   8.0  7432945  7432945\n",
      "8   9.0  4634091  4634091\n",
      "9  10.0  1153900  1153900\n"
     ]
    }
   ],
   "source": [
    "df = df.set_index(\"index\")\n",
    "plot_df = df.groupby(\"est\", as_index=False).count()\n",
    "print(plot_df)"
   ]
  },
  {
   "cell_type": "code",
   "execution_count": 28,
   "id": "4df0ebc3",
   "metadata": {},
   "outputs": [],
   "source": [
    "def plot_violin_graph_base(list_of_data, title):\n",
    "    # Create a figure instance\n",
    "    fig = plt.figure()\n",
    "  \n",
    "    # Create an axes instance\n",
    "    ax = fig.gca()\n",
    "    ax.set_title(title)\n",
    "    # Create the violinplot\n",
    "    violinplot = ax.violinplot(list_of_data)\n",
    "    plt.show()"
   ]
  },
  {
   "cell_type": "markdown",
   "id": "3c0fc682",
   "metadata": {},
   "source": [
    "Gráfico para o estudo de como está distribuição de notas preditas"
   ]
  },
  {
   "cell_type": "code",
   "execution_count": 29,
   "id": "9baa64dc",
   "metadata": {},
   "outputs": [
    {
     "data": {
      "image/png": "[encoded data removed]",
      "text/plain": [
       "<Figure size 432x288 with 1 Axes>"
      ]
     },
     "metadata": {
      "needs_background": "light"
     },
     "output_type": "display_data"
    }
   ],
   "source": [
    "est_df = df[\"est\"].tolist()\n",
    "plot_violin_graph_base(est_df, title=\"all folds estimation\")"
   ]
  },
  {
   "cell_type": "markdown",
   "id": "dd1a5864",
   "metadata": {},
   "source": [
    "é notório também que as notas reais estão amis concentradas entre 6 e 8, o que infuencia na predição. O algoritmo tende a acertar mais quando com essas notas e errar com notas entre 1 e 4"
   ]
  },
  {
   "cell_type": "code",
   "execution_count": 30,
   "id": "23f2a141",
   "metadata": {},
   "outputs": [
    {
     "data": {
      "image/png": "[encoded data removed]",
      "text/plain": [
       "<Figure size 432x288 with 1 Axes>"
      ]
     },
     "metadata": {
      "needs_background": "light"
     },
     "output_type": "display_data"
    }
   ],
   "source": [
    "est_df = df[\"actual\"].tolist()\n",
    "plot_violin_graph_base(est_df, title=\"all folds actual\")"
   ]
  },
  {
   "cell_type": "markdown",
   "id": "88cb15b1",
   "metadata": {},
   "source": [
    "# Removing negative grades"
   ]
  },
  {
   "cell_type": "markdown",
   "id": "afce69a1",
   "metadata": {},
   "source": [
    "### Cossine"
   ]
  },
  {
   "cell_type": "code",
   "execution_count": 31,
   "id": "1cd1663f",
   "metadata": {},
   "outputs": [],
   "source": [
    "knn_basic_0 = pd.read_parquet(f\"../predictions/knn_with_means/anime_type_tv/with_filter_remove_negative/knn_with_means_cosine_0.parquet\")\n",
    "knn_basic_1 = pd.read_parquet(f\"../predictions/knn_with_means/anime_type_tv/with_filter_remove_negative/knn_with_means_cosine_1.parquet\")\n",
    "knn_basic_2 = pd.read_parquet(f\"../predictions/knn_with_means/anime_type_tv/with_filter_remove_negative/knn_with_means_cosine_2.parquet\")\n",
    "knn_basic_3 = pd.read_parquet(f\"../predictions/knn_with_means/anime_type_tv/with_filter_remove_negative/knn_with_means_cosine_3.parquet\")\n",
    "knn_basic_4 = pd.read_parquet(f\"../predictions/knn_with_means/anime_type_tv/with_filter_remove_negative/knn_with_means_cosine_4.parquet\")\n",
    "\n",
    "knn_basic = pd.concat([knn_basic_0, knn_basic_1, knn_basic_2, knn_basic_3, knn_basic_4])"
   ]
  },
  {
   "cell_type": "code",
   "execution_count": 32,
   "id": "92150b0d",
   "metadata": {},
   "outputs": [
    {
     "name": "stdout",
     "output_type": "stream",
     "text": [
      "    est   actual  details\n",
      "0   1.0  3563535  3563535\n",
      "1   2.0   443735   443735\n",
      "2   3.0   428935   428935\n",
      "3   4.0   517055   517055\n",
      "4   5.0   883590   883590\n",
      "5   6.0  2160620  2160620\n",
      "6   7.0  5196496  5196496\n",
      "7   8.0  7434665  7434665\n",
      "8   9.0  4635760  4635760\n",
      "9  10.0  1153585  1153585\n"
     ]
    }
   ],
   "source": [
    "df_grouped = round_est_values(knn_basic)\n",
    "print(df_grouped)"
   ]
  },
  {
   "cell_type": "code",
   "execution_count": 33,
   "id": "0bd61861",
   "metadata": {},
   "outputs": [
    {
     "data": {
      "text/plain": [
       "<AxesSubplot:title={'center':'Distribuição valores preditos (filtro -1) - knn_with_means'}, xlabel='est'>"
      ]
     },
     "execution_count": 33,
     "metadata": {},
     "output_type": "execute_result"
    },
    {
     "data": {
      "image/png": "[encoded data removed]",
      "text/plain": [
       "<Figure size 432x288 with 1 Axes>"
      ]
     },
     "metadata": {
      "needs_background": "light"
     },
     "output_type": "display_data"
    }
   ],
   "source": [
    "df_grouped.plot.bar(x='est', y='actual', title=\"Distribuição valores preditos (filtro -1) - knn_with_means\")"
   ]
  },
  {
   "cell_type": "code",
   "execution_count": 34,
   "id": "aab96e47",
   "metadata": {},
   "outputs": [
    {
     "name": "stdout",
     "output_type": "stream",
     "text": [
      "    est  actual  details\n",
      "0   1.0     743      743\n",
      "1   2.0     432      432\n",
      "2   3.0     598      598\n",
      "3   4.0     911      911\n",
      "4   5.0    1286     1286\n",
      "5   6.0    1614     1614\n",
      "6   7.0    1417     1417\n",
      "7   8.0     863      863\n",
      "8   9.0     307      307\n",
      "9  10.0      72       72\n"
     ]
    }
   ],
   "source": [
    "df_actual_with_filter_1 = knn_basic.loc[knn_basic[\"actual\"] == 1]\n",
    "df_actual_with_filter_1_plot = round_est_values(df_actual_with_filter_1)\n",
    "print(df_actual_with_filter_1_plot)"
   ]
  },
  {
   "cell_type": "code",
   "execution_count": 35,
   "id": "484d11a3",
   "metadata": {},
   "outputs": [
    {
     "data": {
      "text/plain": [
       "<AxesSubplot:title={'center':'Actual 1 counter (filter -1)'}, xlabel='est'>"
      ]
     },
     "execution_count": 35,
     "metadata": {},
     "output_type": "execute_result"
    },
    {
     "data": {
      "image/png": "[encoded data removed]",
      "text/plain": [
       "<Figure size 432x288 with 1 Axes>"
      ]
     },
     "metadata": {
      "needs_background": "light"
     },
     "output_type": "display_data"
    }
   ],
   "source": [
    "df_actual_with_filter_1_plot.plot.bar(x='est', y='actual', title=\"Actual 1 counter (filter -1)\")"
   ]
  },
  {
   "cell_type": "code",
   "execution_count": 36,
   "id": "a3cb317d",
   "metadata": {},
   "outputs": [
    {
     "name": "stdout",
     "output_type": "stream",
     "text": [
      "    est  actual  details\n",
      "0   1.0     330      330\n",
      "1   2.0     300      300\n",
      "2   3.0     731      731\n",
      "3   4.0    1564     1564\n",
      "4   5.0    2515     2515\n",
      "5   6.0    3295     3295\n",
      "6   7.0    2468     2468\n",
      "7   8.0    1263     1263\n",
      "8   9.0     343      343\n",
      "9  10.0      51       51\n"
     ]
    }
   ],
   "source": [
    "df_actual_with_filter_2 = knn_basic.loc[knn_basic[\"actual\"] == 2]\n",
    "df_actual_with_filter_2_plot = round_est_values(df_actual_with_filter_2)\n",
    "print(df_actual_with_filter_2_plot)"
   ]
  },
  {
   "cell_type": "code",
   "execution_count": 37,
   "id": "3f4e8876",
   "metadata": {},
   "outputs": [
    {
     "data": {
      "text/plain": [
       "<AxesSubplot:title={'center':'Actual 2 counter (filter -1)'}, xlabel='est'>"
      ]
     },
     "execution_count": 37,
     "metadata": {},
     "output_type": "execute_result"
    },
    {
     "data": {
      "image/png": "[encoded data removed]",
      "text/plain": [
       "<Figure size 432x288 with 1 Axes>"
      ]
     },
     "metadata": {
      "needs_background": "light"
     },
     "output_type": "display_data"
    }
   ],
   "source": [
    "df_actual_with_filter_2_plot.plot.bar(x='est', y='actual', title=\"Actual 2 counter (filter -1)\")"
   ]
  },
  {
   "cell_type": "code",
   "execution_count": 38,
   "id": "69d2c1aa",
   "metadata": {},
   "outputs": [
    {
     "name": "stdout",
     "output_type": "stream",
     "text": [
      "    est  actual  details\n",
      "0   1.0     460      460\n",
      "1   2.0     330      330\n",
      "2   3.0     929      929\n",
      "3   4.0    2535     2535\n",
      "4   5.0    5027     5027\n",
      "5   6.0    6859     6859\n",
      "6   7.0    5378     5378\n",
      "7   8.0    2316     2316\n",
      "8   9.0     548      548\n",
      "9  10.0      74       74\n"
     ]
    }
   ],
   "source": [
    "df_actual_with_filter_3 = knn_basic.loc[knn_basic[\"actual\"] == 3]\n",
    "df_actual_with_filter_3_plot = round_est_values(df_actual_with_filter_3)\n",
    "print(df_actual_with_filter_3_plot)"
   ]
  },
  {
   "cell_type": "code",
   "execution_count": 39,
   "id": "f134350c",
   "metadata": {},
   "outputs": [
    {
     "data": {
      "text/plain": [
       "<AxesSubplot:title={'center':'Actual 3 counter (filter -1)'}, xlabel='est'>"
      ]
     },
     "execution_count": 39,
     "metadata": {},
     "output_type": "execute_result"
    },
    {
     "data": {
      "image/png": "[encoded data removed]",
      "text/plain": [
       "<Figure size 432x288 with 1 Axes>"
      ]
     },
     "metadata": {
      "needs_background": "light"
     },
     "output_type": "display_data"
    }
   ],
   "source": [
    "df_actual_with_filter_3_plot.plot.bar(x='est', y='actual', title=\"Actual 3 counter (filter -1)\")"
   ]
  },
  {
   "cell_type": "code",
   "execution_count": 40,
   "id": "81478902",
   "metadata": {},
   "outputs": [
    {
     "name": "stdout",
     "output_type": "stream",
     "text": [
      "    est  actual  details\n",
      "0   1.0     973      973\n",
      "1   2.0     693      693\n",
      "2   3.0    1369     1369\n",
      "3   4.0    4033     4033\n",
      "4   5.0   11274    11274\n",
      "5   6.0   19543    19543\n",
      "6   7.0   17914    17914\n",
      "7   8.0    7906     7906\n",
      "8   9.0    1734     1734\n",
      "9  10.0     192      192\n"
     ]
    }
   ],
   "source": [
    "df_actual_with_filter_4 = knn_basic.loc[knn_basic[\"actual\"] == 4]\n",
    "df_actual_with_filter_4_plot = round_est_values(df_actual_with_filter_4)\n",
    "print(df_actual_with_filter_4_plot)"
   ]
  },
  {
   "cell_type": "code",
   "execution_count": 41,
   "id": "51923082",
   "metadata": {},
   "outputs": [
    {
     "data": {
      "text/plain": [
       "<AxesSubplot:title={'center':'Actual 4 counter (filter -1)'}, xlabel='est'>"
      ]
     },
     "execution_count": 41,
     "metadata": {},
     "output_type": "execute_result"
    },
    {
     "data": {
      "image/png": "[encoded data removed]",
      "text/plain": [
       "<Figure size 432x288 with 1 Axes>"
      ]
     },
     "metadata": {
      "needs_background": "light"
     },
     "output_type": "display_data"
    }
   ],
   "source": [
    "df_actual_with_filter_4_plot.plot.bar(x='est', y='actual', title=\"Actual 4 counter (filter -1)\")"
   ]
  },
  {
   "cell_type": "code",
   "execution_count": 42,
   "id": "06daddb0",
   "metadata": {},
   "outputs": [
    {
     "name": "stdout",
     "output_type": "stream",
     "text": [
      "    est  actual  details\n",
      "0   1.0    2524     2524\n",
      "1   2.0    1720     1720\n",
      "2   3.0    2769     2769\n",
      "3   4.0    6792     6792\n",
      "4   5.0   22635    22635\n",
      "5   6.0   56482    56482\n",
      "6   7.0   62400    62400\n",
      "7   8.0   29273    29273\n",
      "8   9.0    6185     6185\n",
      "9  10.0     643      643\n"
     ]
    }
   ],
   "source": [
    "df_actual_with_filter_5 = knn_basic.loc[knn_basic[\"actual\"] == 5]\n",
    "df_actual_with_filter_5_plot = round_est_values(df_actual_with_filter_5)\n",
    "print(df_actual_with_filter_5_plot)"
   ]
  },
  {
   "cell_type": "code",
   "execution_count": 43,
   "id": "d3563afd",
   "metadata": {},
   "outputs": [
    {
     "data": {
      "text/plain": [
       "<AxesSubplot:title={'center':'Actual 5 counter (filter -1)'}, xlabel='est'>"
      ]
     },
     "execution_count": 43,
     "metadata": {},
     "output_type": "execute_result"
    },
    {
     "data": {
      "image/png": "[encoded data removed]",
      "text/plain": [
       "<Figure size 432x288 with 1 Axes>"
      ]
     },
     "metadata": {
      "needs_background": "light"
     },
     "output_type": "display_data"
    }
   ],
   "source": [
    "df_actual_with_filter_5_plot.plot.bar(x='est', y='actual', title=\"Actual 5 counter (filter -1)\")"
   ]
  },
  {
   "cell_type": "code",
   "execution_count": 44,
   "id": "c7717855",
   "metadata": {},
   "outputs": [
    {
     "name": "stdout",
     "output_type": "stream",
     "text": [
      "    est  actual  details\n",
      "0   1.0    5260     5260\n",
      "1   2.0    3715     3715\n",
      "2   3.0    5469     5469\n",
      "3   4.0   10573    10573\n",
      "4   5.0   32022    32022\n",
      "5   6.0  117954   117954\n",
      "6   7.0  206563   206563\n",
      "7   8.0  114822   114822\n",
      "8   9.0   23794    23794\n",
      "9  10.0    2228     2228\n"
     ]
    }
   ],
   "source": [
    "df_actual_with_filter_6 = knn_basic.loc[knn_basic[\"actual\"] == 6]\n",
    "df_actual_with_filter_6_plot = round_est_values(df_actual_with_filter_6)\n",
    "print(df_actual_with_filter_6_plot)"
   ]
  },
  {
   "cell_type": "code",
   "execution_count": 45,
   "id": "f9b94eb1",
   "metadata": {},
   "outputs": [
    {
     "data": {
      "text/plain": [
       "<AxesSubplot:title={'center':'Actual 6 counter (filter -1)'}, xlabel='est'>"
      ]
     },
     "execution_count": 45,
     "metadata": {},
     "output_type": "execute_result"
    },
    {
     "data": {
      "image/png": "[encoded data removed]",
      "text/plain": [
       "<Figure size 432x288 with 1 Axes>"
      ]
     },
     "metadata": {
      "needs_background": "light"
     },
     "output_type": "display_data"
    }
   ],
   "source": [
    "df_actual_with_filter_6_plot.plot.bar(x='est', y='actual', title=\"Actual 6 counter (filter -1)\")"
   ]
  },
  {
   "cell_type": "code",
   "execution_count": 46,
   "id": "13434d13",
   "metadata": {},
   "outputs": [
    {
     "name": "stdout",
     "output_type": "stream",
     "text": [
      "    est  actual  details\n",
      "0   1.0   13662    13662\n",
      "1   2.0    9122     9122\n",
      "2   3.0   13674    13674\n",
      "3   4.0   22075    22075\n",
      "4   5.0   49127    49127\n",
      "5   6.0  183179   183179\n",
      "6   7.0  581232   581232\n",
      "7   8.0  542764   542764\n",
      "8   9.0  129970   129970\n",
      "9  10.0   10821    10821\n"
     ]
    }
   ],
   "source": [
    "df_actual_with_filter_7 = knn_basic.loc[knn_basic[\"actual\"] == 7]\n",
    "df_actual_with_filter_7_plot = round_est_values(df_actual_with_filter_7)\n",
    "print(df_actual_with_filter_7_plot)"
   ]
  },
  {
   "cell_type": "code",
   "execution_count": 47,
   "id": "e531bc2f",
   "metadata": {},
   "outputs": [
    {
     "data": {
      "text/plain": [
       "<AxesSubplot:title={'center':'Actual 7 counter (filter -1)'}, xlabel='est'>"
      ]
     },
     "execution_count": 47,
     "metadata": {},
     "output_type": "execute_result"
    },
    {
     "data": {
      "image/png": "[encoded data removed]",
      "text/plain": [
       "<Figure size 432x288 with 1 Axes>"
      ]
     },
     "metadata": {
      "needs_background": "light"
     },
     "output_type": "display_data"
    }
   ],
   "source": [
    "df_actual_with_filter_7_plot.plot.bar(x='est', y='actual', title=\"Actual 7 counter (filter -1)\")"
   ]
  },
  {
   "cell_type": "code",
   "execution_count": 48,
   "id": "cd794856",
   "metadata": {},
   "outputs": [
    {
     "name": "stdout",
     "output_type": "stream",
     "text": [
      "    est  actual  details\n",
      "0   1.0   18701    18701\n",
      "1   2.0   12810    12810\n",
      "2   3.0   18068    18068\n",
      "3   4.0   25386    25386\n",
      "4   5.0   45210    45210\n",
      "5   6.0  127545   127545\n",
      "6   7.0  502542   502542\n",
      "7   8.0  993510   993510\n",
      "8   9.0  409398   409398\n",
      "9  10.0   36316    36316\n"
     ]
    }
   ],
   "source": [
    "df_actual_with_filter_8 = knn_basic.loc[knn_basic[\"actual\"] == 8]\n",
    "df_actual_with_filter_8_plot = round_est_values(df_actual_with_filter_8)\n",
    "print(df_actual_with_filter_8_plot)"
   ]
  },
  {
   "cell_type": "code",
   "execution_count": 49,
   "id": "76e9b15a",
   "metadata": {},
   "outputs": [
    {
     "data": {
      "text/plain": [
       "<AxesSubplot:title={'center':'Actual 8 counter (filter -1)'}, xlabel='est'>"
      ]
     },
     "execution_count": 49,
     "metadata": {},
     "output_type": "execute_result"
    },
    {
     "data": {
      "image/png": "[encoded data removed]",
      "text/plain": [
       "<Figure size 432x288 with 1 Axes>"
      ]
     },
     "metadata": {
      "needs_background": "light"
     },
     "output_type": "display_data"
    }
   ],
   "source": [
    "df_actual_with_filter_8_plot.plot.bar(x='est', y='actual', title=\"Actual 8 counter (filter -1)\")"
   ]
  },
  {
   "cell_type": "code",
   "execution_count": 50,
   "id": "dc00696a",
   "metadata": {},
   "outputs": [
    {
     "name": "stdout",
     "output_type": "stream",
     "text": [
      "    est  actual  details\n",
      "0   1.0   15605    15605\n",
      "1   2.0   10035    10035\n",
      "2   3.0   13201    13201\n",
      "3   4.0   16648    16648\n",
      "4   5.0   27092    27092\n",
      "5   6.0   59492    59492\n",
      "6   7.0  195225   195225\n",
      "7   8.0  580987   580987\n",
      "8   9.0  549885   549885\n",
      "9  10.0   81322    81322\n"
     ]
    }
   ],
   "source": [
    "df_actual_with_filter_9 = knn_basic.loc[knn_basic[\"actual\"] == 9]\n",
    "df_actual_with_filter_9_plot = round_est_values(df_actual_with_filter_9)\n",
    "print(df_actual_with_filter_9_plot)"
   ]
  },
  {
   "cell_type": "code",
   "execution_count": 51,
   "id": "06841515",
   "metadata": {},
   "outputs": [
    {
     "data": {
      "text/plain": [
       "<AxesSubplot:title={'center':'Actual 9 counter (filter -1)'}, xlabel='est'>"
      ]
     },
     "execution_count": 51,
     "metadata": {},
     "output_type": "execute_result"
    },
    {
     "data": {
      "image/png": "[encoded data removed]",
      "text/plain": [
       "<Figure size 432x288 with 1 Axes>"
      ]
     },
     "metadata": {
      "needs_background": "light"
     },
     "output_type": "display_data"
    }
   ],
   "source": [
    "df_actual_with_filter_9_plot.plot.bar(x='est', y='actual', title=\"Actual 9 counter (filter -1)\")"
   ]
  },
  {
   "cell_type": "code",
   "execution_count": 52,
   "id": "c3df8a5e",
   "metadata": {},
   "outputs": [
    {
     "name": "stdout",
     "output_type": "stream",
     "text": [
      "    est  actual  details\n",
      "0   1.0   17164    17164\n",
      "1   2.0    9692     9692\n",
      "2   3.0    9864     9864\n",
      "3   4.0   12888    12888\n",
      "4   5.0   18890    18890\n",
      "5   6.0   33485    33485\n",
      "6   7.0   75936    75936\n",
      "7   8.0  227099   227099\n",
      "8   9.0  413021   413021\n",
      "9  10.0  231410   231410\n"
     ]
    }
   ],
   "source": [
    "df_actual_with_filter_10 = knn_basic.loc[knn_basic[\"actual\"] == 10]\n",
    "df_actual_with_filter_10_plot = round_est_values(df_actual_with_filter_10)\n",
    "print(df_actual_with_filter_10_plot)"
   ]
  },
  {
   "cell_type": "code",
   "execution_count": 53,
   "id": "6b0fbf3c",
   "metadata": {},
   "outputs": [
    {
     "data": {
      "text/plain": [
       "<AxesSubplot:title={'center':'Actual 10 counter (filter -1)'}, xlabel='est'>"
      ]
     },
     "execution_count": 53,
     "metadata": {},
     "output_type": "execute_result"
    },
    {
     "data": {
      "image/png": "[encoded data removed]",
      "text/plain": [
       "<Figure size 432x288 with 1 Axes>"
      ]
     },
     "metadata": {
      "needs_background": "light"
     },
     "output_type": "display_data"
    }
   ],
   "source": [
    "df_actual_with_filter_10_plot.plot.bar(x='est', y='actual', title=\"Actual 10 counter (filter -1)\")"
   ]
  },
  {
   "cell_type": "code",
   "execution_count": 54,
   "id": "28581003",
   "metadata": {},
   "outputs": [],
   "source": [
    "round_df = np.round(knn_basic[\"est\"], decimals=0)\n",
    "round_df = round_df.reset_index()\n",
    "knn_basic = knn_basic.reset_index()[[\"index\", \"actual\", \"details\"]]\n",
    "knn_basic = knn_basic.merge(round_df, on=\"index\", how=\"left\")\n",
    "knn_basic = knn_basic.set_index(\"index\")"
   ]
  },
  {
   "cell_type": "code",
   "execution_count": 55,
   "id": "e22bca6b",
   "metadata": {},
   "outputs": [
    {
     "data": {
      "image/png": "[encoded data removed]",
      "text/plain": [
       "<Figure size 432x288 with 1 Axes>"
      ]
     },
     "metadata": {
      "needs_background": "light"
     },
     "output_type": "display_data"
    }
   ],
   "source": [
    "est_df = knn_basic[\"est\"].tolist()\n",
    "plot_violin_graph_base(est_df, title=\"Estimation (filter -1)\")"
   ]
  },
  {
   "cell_type": "code",
   "execution_count": null,
   "id": "78426101",
   "metadata": {},
   "outputs": [],
   "source": []
  },
  {
   "cell_type": "code",
   "execution_count": null,
   "id": "b94c8f39",
   "metadata": {},
   "outputs": [],
   "source": []
  }
 ],
 "metadata": {
  "kernelspec": {
   "display_name": "Python 3",
   "language": "python",
   "name": "python3"
  },
  "language_info": {
   "codemirror_mode": {
    "name": "ipython",
    "version": 3
   },
   "file_extension": ".py",
   "mimetype": "text/x-python",
   "name": "python",
   "nbconvert_exporter": "python",
   "pygments_lexer": "ipython3",
   "version": "3.6.5"
  }
 },
 "nbformat": 4,
 "nbformat_minor": 5
}
