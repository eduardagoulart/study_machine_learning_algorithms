{
 "cells": [
  {
   "cell_type": "code",
   "execution_count": 1,
   "id": "2a0da2dd",
   "metadata": {},
   "outputs": [],
   "source": [
    "import pandas as pd\n",
    "import numpy as np\n",
    "from surprise import NMF\n",
    "from surprise import accuracy\n",
    "from surprise.model_selection import cross_validate\n",
    "from surprise.model_selection import train_test_split\n",
    "from surprise.model_selection import KFold\n",
    "\n",
    "from read_and_split_data import split_data, filter_animes_without_grade"
   ]
  },
  {
   "cell_type": "code",
   "execution_count": 2,
   "id": "1877aaab",
   "metadata": {},
   "outputs": [],
   "source": [
    "def get_dataset():\n",
    "    anime = pd.read_parquet(\"../datasets/anime.parquet\")\n",
    "    anime = anime[[\"anime_id\", \"type\"]]\n",
    "    users = pd.read_parquet(\"../datasets/users.parquet\")\n",
    "    base_df = users.merge(anime, on=\"anime_id\", how=\"left\")\n",
    "    return base_df\n",
    "\n",
    "base_df = get_dataset()\n",
    "data = split_data(base_df)"
   ]
  },
  {
   "cell_type": "code",
   "execution_count": 3,
   "id": "2d42c7f1",
   "metadata": {},
   "outputs": [],
   "source": [
    "kf = KFold(n_splits=5)"
   ]
  },
  {
   "cell_type": "code",
   "execution_count": 4,
   "id": "41b766af",
   "metadata": {},
   "outputs": [],
   "source": [
    "def predict_and_error(data, algo, path):\n",
    "    fold = 0\n",
    "    predictions_list = []\n",
    "    for trainset, testset in kf.split(data):\n",
    "        algo.fit(trainset)\n",
    "        predictions = algo.test(testset)\n",
    "        predictions_list.append(predictions)\n",
    "        # Mean Squared Error\n",
    "        accuracy.rmse(predictions, verbose=True)\n",
    "        # Mean Absolute Erro\n",
    "        accuracy.mse(predictions, verbose=True)\n",
    "        # Mean Absolute Erro\n",
    "        accuracy.mae(predictions, verbose=True)\n",
    "        # Fraction of Concordant Pairs\n",
    "        accuracy.fcp(predictions, verbose=True)\n",
    "        base_df = pd.DataFrame(columns=[\"user\", \"anime\", \"actual\", \"est\", \"details\"], data=predictions)\n",
    "        base_df.to_csv(f\"{path}_{fold}.csv\")\n",
    "        base_df.to_parquet(f\"{path}_{fold}.parquet\")\n",
    "        fold += 1\n",
    "    return predictions"
   ]
  },
  {
   "cell_type": "code",
   "execution_count": 5,
   "id": "8fe581e6",
   "metadata": {},
   "outputs": [],
   "source": [
    "algo_normal_predictor = NMF()"
   ]
  },
  {
   "cell_type": "code",
   "execution_count": 6,
   "id": "99037458",
   "metadata": {},
   "outputs": [
    {
     "name": "stdout",
     "output_type": "stream",
     "text": [
      "RMSE: 6.0857\n",
      "MSE: 37.0361\n",
      "MAE:  5.5873\n",
      "FCP:  0.2530\n",
      "RMSE: 6.2663\n",
      "MSE: 39.2661\n",
      "MAE:  5.7852\n",
      "FCP:  0.2052\n",
      "RMSE: 6.3763\n",
      "MSE: 40.6576\n",
      "MAE:  5.9230\n",
      "FCP:  0.1392\n",
      "RMSE: 6.3921\n",
      "MSE: 40.8594\n",
      "MAE:  5.9412\n",
      "FCP:  0.1500\n",
      "RMSE: 6.3318\n",
      "MSE: 40.0916\n",
      "MAE:  5.8714\n",
      "FCP:  0.1873\n"
     ]
    }
   ],
   "source": [
    "predictions = predict_and_error(data, algo_normal_predictor, path=\"../predictions/nmf/anime_type_tv/no_filter/nmf\")"
   ]
  },
  {
   "cell_type": "code",
   "execution_count": 7,
   "id": "c41d1f51",
   "metadata": {},
   "outputs": [],
   "source": [
    "base_df_without_negative = filter_animes_without_grade(base_df)"
   ]
  },
  {
   "cell_type": "code",
   "execution_count": 8,
   "id": "7be812c0",
   "metadata": {},
   "outputs": [
    {
     "name": "stdout",
     "output_type": "stream",
     "text": [
      "RMSE: 6.3807\n",
      "MSE: 40.7128\n",
      "MAE:  5.9267\n",
      "FCP:  0.1433\n",
      "RMSE: 6.0820\n",
      "MSE: 36.9903\n",
      "MAE:  5.5762\n",
      "FCP:  0.2475\n",
      "RMSE: 6.3196\n",
      "MSE: 39.9374\n",
      "MAE:  5.8528\n",
      "FCP:  0.1489\n",
      "RMSE: 6.4153\n",
      "MSE: 41.1566\n",
      "MAE:  5.9709\n",
      "FCP:  0.1210\n",
      "RMSE: 6.1610\n",
      "MSE: 37.9573\n",
      "MAE:  5.6682\n",
      "FCP:  0.2383\n"
     ]
    }
   ],
   "source": [
    "predictions_without_negative = predict_and_error(data, algo_normal_predictor, path=\"../predictions/nmf/anime_type_tv/with_filter_remove_negative/nmf\")"
   ]
  }
 ],
 "metadata": {
  "kernelspec": {
   "display_name": "Python 3",
   "language": "python",
   "name": "python3"
  },
  "language_info": {
   "codemirror_mode": {
    "name": "ipython",
    "version": 3
   },
   "file_extension": ".py",
   "mimetype": "text/x-python",
   "name": "python",
   "nbconvert_exporter": "python",
   "pygments_lexer": "ipython3",
   "version": "3.6.5"
  }
 },
 "nbformat": 4,
 "nbformat_minor": 5
}
