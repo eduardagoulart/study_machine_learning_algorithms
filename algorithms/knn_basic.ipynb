{
 "cells": [
  {
   "cell_type": "code",
   "execution_count": 1,
   "id": "expressed-defense",
   "metadata": {},
   "outputs": [],
   "source": [
    "import pandas as pd\n",
    "import numpy as np\n",
    "import matplotlib.pyplot as plt\n",
    "import seaborn as sns\n",
    "from surprise import KNNBasic\n",
    "from surprise import accuracy\n",
    "from surprise.model_selection import cross_validate\n",
    "from surprise.model_selection import train_test_split\n",
    "from surprise.model_selection import KFold\n",
    "\n",
    "from read_and_split_data import split_data, filter_animes_without_grade"
   ]
  },
  {
   "cell_type": "code",
   "execution_count": 2,
   "id": "usual-symposium",
   "metadata": {},
   "outputs": [],
   "source": [
    "def get_dataset():\n",
    "    anime = pd.read_parquet(\"../datasets/anime.parquet\")\n",
    "    anime = anime[[\"anime_id\", \"type\"]]\n",
    "    users = pd.read_parquet(\"../datasets/users.parquet\")\n",
    "    base_df = users.merge(anime, on=\"anime_id\", how=\"left\")\n",
    "    return base_df\n",
    "\n",
    "base_df = get_dataset()\n",
    "data = split_data(base_df)"
   ]
  },
  {
   "cell_type": "code",
   "execution_count": 3,
   "id": "optional-desktop",
   "metadata": {},
   "outputs": [],
   "source": [
    "kf = KFold(n_splits=5)"
   ]
  },
  {
   "cell_type": "code",
   "execution_count": 4,
   "id": "funny-heaven",
   "metadata": {},
   "outputs": [],
   "source": [
    "def predict_and_error(data, algo, path):\n",
    "    fold = 0\n",
    "    predictions_list = []\n",
    "    for trainset, testset in kf.split(data):\n",
    "        algo.fit(trainset)\n",
    "        predictions = algo.test(testset)\n",
    "        predictions_list.append(predictions)\n",
    "        # Mean Squared Error\n",
    "        accuracy.rmse(predictions, verbose=True)\n",
    "        # Mean Absolute Erro\n",
    "        accuracy.mse(predictions, verbose=True)\n",
    "        # Mean Absolute Erro\n",
    "        accuracy.mae(predictions, verbose=True)\n",
    "        # Fraction of Concordant Pairs\n",
    "        accuracy.fcp(predictions, verbose=True)\n",
    "        base_df = pd.DataFrame(columns=[\"user\", \"anime\", \"actual\", \"est\", \"details\"], data=predictions)\n",
    "        base_df.to_csv(f\"{path}_{fold}.csv\")\n",
    "        base_df.to_parquet(f\"{path}_{fold}.parquet\")\n",
    "        fold += 1\n",
    "    return predictions"
   ]
  },
  {
   "cell_type": "code",
   "execution_count": 5,
   "id": "478ab01d",
   "metadata": {},
   "outputs": [],
   "source": [
    "def set_axis_style(ax, labels):\n",
    "    ax.xaxis.set_tick_params(direction='out')\n",
    "    ax.xaxis.set_ticks_position('bottom')\n",
    "    ax.set_xticks(np.arange(1, len(labels) + 1))\n",
    "    ax.set_xticklabels(labels)\n",
    "    ax.set_xlim(0.25, len(labels) + 0.75)\n",
    "    \n",
    "def plot_violin_graph(list_of_data, title):\n",
    "    # Create a figure instance\n",
    "    label = [\"fold 0\", \"fold 1\", \"fold 2\", \"fold 3\"]\n",
    "    fig = plt.figure()\n",
    "  \n",
    "    # Create an axes instance\n",
    "    ax = fig.gca()\n",
    "    ax.set_title(title)\n",
    "    set_axis_style(ax, label)\n",
    "    # Create the violinplot\n",
    "    violinplot = ax.violinplot(list_of_data)\n",
    "    plt.show()"
   ]
  },
  {
   "cell_type": "markdown",
   "id": "noble-metropolitan",
   "metadata": {},
   "source": [
    "### Cosine Similarity"
   ]
  },
  {
   "cell_type": "code",
   "execution_count": 6,
   "id": "southern-transcript",
   "metadata": {},
   "outputs": [],
   "source": [
    "algo_cossine = KNNBasic(k=7, sim_options={\"name\": \"cosine\", \"user_based\": False})"
   ]
  },
  {
   "cell_type": "code",
   "execution_count": 7,
   "id": "generous-stocks",
   "metadata": {},
   "outputs": [
    {
     "name": "stdout",
     "output_type": "stream",
     "text": [
      "Computing the cosine similarity matrix...\n",
      "Done computing similarity matrix.\n",
      "RMSE: 2.2076\n",
      "MSE: 4.8737\n",
      "MAE:  1.5290\n",
      "FCP:  0.6216\n",
      "Computing the cosine similarity matrix...\n",
      "Done computing similarity matrix.\n",
      "RMSE: 2.2064\n",
      "MSE: 4.8682\n",
      "MAE:  1.5260\n",
      "FCP:  0.6211\n",
      "Computing the cosine similarity matrix...\n",
      "Done computing similarity matrix.\n",
      "RMSE: 2.2053\n",
      "MSE: 4.8634\n",
      "MAE:  1.5259\n",
      "FCP:  0.6200\n",
      "Computing the cosine similarity matrix...\n",
      "Done computing similarity matrix.\n",
      "RMSE: 2.2037\n",
      "MSE: 4.8562\n",
      "MAE:  1.5252\n",
      "FCP:  0.6207\n",
      "Computing the cosine similarity matrix...\n",
      "Done computing similarity matrix.\n",
      "RMSE: 2.2078\n",
      "MSE: 4.8744\n",
      "MAE:  1.5273\n",
      "FCP:  0.6208\n"
     ]
    }
   ],
   "source": [
    "predictions_cosine = predict_and_error(data, algo_cossine, path=\"../predictions/knn_basic/anime_type_tv/no_filter/knn_basic_cosine\")"
   ]
  },
  {
   "cell_type": "markdown",
   "id": "finite-newport",
   "metadata": {},
   "source": [
    "### Mean Squared Difference"
   ]
  },
  {
   "cell_type": "code",
   "execution_count": 8,
   "id": "productive-fairy",
   "metadata": {},
   "outputs": [],
   "source": [
    "algo_mds = KNNBasic(k=7, sim_options={\"name\": \"msd\", \"user_based\": False})"
   ]
  },
  {
   "cell_type": "code",
   "execution_count": 9,
   "id": "accredited-charm",
   "metadata": {},
   "outputs": [
    {
     "name": "stdout",
     "output_type": "stream",
     "text": [
      "Computing the msd similarity matrix...\n",
      "Done computing similarity matrix.\n",
      "RMSE: 2.1891\n",
      "MSE: 4.7920\n",
      "MAE:  1.5156\n",
      "FCP:  0.6400\n",
      "Computing the msd similarity matrix...\n",
      "Done computing similarity matrix.\n",
      "RMSE: 2.1911\n",
      "MSE: 4.8009\n",
      "MAE:  1.5176\n",
      "FCP:  0.6372\n",
      "Computing the msd similarity matrix...\n",
      "Done computing similarity matrix.\n",
      "RMSE: 2.1918\n",
      "MSE: 4.8039\n",
      "MAE:  1.5194\n",
      "FCP:  0.6380\n",
      "Computing the msd similarity matrix...\n",
      "Done computing similarity matrix.\n",
      "RMSE: 2.1864\n",
      "MSE: 4.7805\n",
      "MAE:  1.5155\n",
      "FCP:  0.6397\n",
      "Computing the msd similarity matrix...\n",
      "Done computing similarity matrix.\n",
      "RMSE: 2.1883\n",
      "MSE: 4.7885\n",
      "MAE:  1.5164\n",
      "FCP:  0.6374\n"
     ]
    }
   ],
   "source": [
    "predictions_msd = predict_and_error(data, algo_mds, path=\"../predictions/knn_basic/anime_type_tv/no_filter/knn_basic_msd\")"
   ]
  },
  {
   "cell_type": "markdown",
   "id": "desirable-nudist",
   "metadata": {},
   "source": [
    "### Pearson"
   ]
  },
  {
   "cell_type": "code",
   "execution_count": 10,
   "id": "precise-species",
   "metadata": {},
   "outputs": [],
   "source": [
    "algo_pearson = KNNBasic(k=7, sim_options={\"name\": \"pearson\", \"user_based\": False})"
   ]
  },
  {
   "cell_type": "code",
   "execution_count": 11,
   "id": "rough-cincinnati",
   "metadata": {},
   "outputs": [
    {
     "name": "stdout",
     "output_type": "stream",
     "text": [
      "Computing the pearson similarity matrix...\n",
      "Done computing similarity matrix.\n",
      "RMSE: 2.2488\n",
      "MSE: 5.0570\n",
      "MAE:  1.5960\n",
      "FCP:  0.5805\n",
      "Computing the pearson similarity matrix...\n",
      "Done computing similarity matrix.\n",
      "RMSE: 2.2443\n",
      "MSE: 5.0371\n",
      "MAE:  1.5933\n",
      "FCP:  0.5819\n",
      "Computing the pearson similarity matrix...\n",
      "Done computing similarity matrix.\n",
      "RMSE: 2.2463\n",
      "MSE: 5.0458\n",
      "MAE:  1.5967\n",
      "FCP:  0.5796\n",
      "Computing the pearson similarity matrix...\n",
      "Done computing similarity matrix.\n",
      "RMSE: 2.2444\n",
      "MSE: 5.0373\n",
      "MAE:  1.5953\n",
      "FCP:  0.5796\n",
      "Computing the pearson similarity matrix...\n",
      "Done computing similarity matrix.\n",
      "RMSE: 2.2493\n",
      "MSE: 5.0593\n",
      "MAE:  1.5965\n",
      "FCP:  0.5795\n"
     ]
    }
   ],
   "source": [
    "predictions_pearson = predict_and_error(data, algo_pearson, path=\"../predictions/knn_basic/anime_type_tv/no_filter/knn_basic_pearson\")"
   ]
  },
  {
   "cell_type": "markdown",
   "id": "intense-shanghai",
   "metadata": {},
   "source": [
    "### Pearson Baseline"
   ]
  },
  {
   "cell_type": "code",
   "execution_count": 12,
   "id": "recognized-fifteen",
   "metadata": {},
   "outputs": [],
   "source": [
    "algo_pearson_baseline = KNNBasic(k=7, sim_options={\"name\": \"pearson_baseline\", \"user_based\": False})"
   ]
  },
  {
   "cell_type": "code",
   "execution_count": 13,
   "id": "fourth-township",
   "metadata": {},
   "outputs": [
    {
     "name": "stdout",
     "output_type": "stream",
     "text": [
      "Estimating biases using als...\n",
      "Computing the pearson_baseline similarity matrix...\n",
      "Done computing similarity matrix.\n",
      "RMSE: 2.0871\n",
      "MSE: 4.3559\n",
      "MAE:  1.4220\n",
      "FCP:  0.6861\n",
      "Estimating biases using als...\n",
      "Computing the pearson_baseline similarity matrix...\n",
      "Done computing similarity matrix.\n",
      "RMSE: 2.0885\n",
      "MSE: 4.3617\n",
      "MAE:  1.4218\n",
      "FCP:  0.6865\n",
      "Estimating biases using als...\n",
      "Computing the pearson_baseline similarity matrix...\n",
      "Done computing similarity matrix.\n",
      "RMSE: 2.0830\n",
      "MSE: 4.3390\n",
      "MAE:  1.4199\n",
      "FCP:  0.6867\n",
      "Estimating biases using als...\n",
      "Computing the pearson_baseline similarity matrix...\n",
      "Done computing similarity matrix.\n",
      "RMSE: 2.0851\n",
      "MSE: 4.3475\n",
      "MAE:  1.4208\n",
      "FCP:  0.6861\n",
      "Estimating biases using als...\n",
      "Computing the pearson_baseline similarity matrix...\n",
      "Done computing similarity matrix.\n",
      "RMSE: 2.0857\n",
      "MSE: 4.3501\n",
      "MAE:  1.4209\n",
      "FCP:  0.6868\n"
     ]
    }
   ],
   "source": [
    "predictions_pearson_baseline = predict_and_error(data, algo_pearson_baseline, path=\"../predictions/knn_basic/anime_type_tv/no_filter/knn_basic_pearson_baseline\")"
   ]
  },
  {
   "cell_type": "markdown",
   "id": "6b0682fe",
   "metadata": {},
   "source": [
    "# Filter grade -1"
   ]
  },
  {
   "cell_type": "markdown",
   "id": "b69500f2",
   "metadata": {},
   "source": [
    "### Cossine"
   ]
  },
  {
   "cell_type": "code",
   "execution_count": 14,
   "id": "26ff7210",
   "metadata": {},
   "outputs": [],
   "source": [
    "base_df_without_negative = filter_animes_without_grade(base_df)"
   ]
  },
  {
   "cell_type": "code",
   "execution_count": 15,
   "id": "8bc66b8f",
   "metadata": {},
   "outputs": [
    {
     "name": "stdout",
     "output_type": "stream",
     "text": [
      "Computing the cosine similarity matrix...\n",
      "Done computing similarity matrix.\n",
      "RMSE: 2.2063\n",
      "MSE: 4.8677\n",
      "MAE:  1.5272\n",
      "FCP:  0.6211\n",
      "Computing the cosine similarity matrix...\n",
      "Done computing similarity matrix.\n",
      "RMSE: 2.2080\n",
      "MSE: 4.8753\n",
      "MAE:  1.5287\n",
      "FCP:  0.6226\n",
      "Computing the cosine similarity matrix...\n",
      "Done computing similarity matrix.\n",
      "RMSE: 2.2014\n",
      "MSE: 4.8462\n",
      "MAE:  1.5246\n",
      "FCP:  0.6222\n",
      "Computing the cosine similarity matrix...\n",
      "Done computing similarity matrix.\n",
      "RMSE: 2.2072\n",
      "MSE: 4.8718\n",
      "MAE:  1.5276\n",
      "FCP:  0.6198\n",
      "Computing the cosine similarity matrix...\n",
      "Done computing similarity matrix.\n",
      "RMSE: 2.2052\n",
      "MSE: 4.8628\n",
      "MAE:  1.5258\n",
      "FCP:  0.6228\n"
     ]
    }
   ],
   "source": [
    "predictions_cosine = predict_and_error(data, algo_cossine, path=\"../predictions/knn_basic/anime_type_tv/with_filter_remove_negative/knn_basic_cosine\")"
   ]
  },
  {
   "cell_type": "markdown",
   "id": "728f910e",
   "metadata": {},
   "source": [
    "### Msd"
   ]
  },
  {
   "cell_type": "code",
   "execution_count": 16,
   "id": "81c2dbda",
   "metadata": {},
   "outputs": [
    {
     "name": "stdout",
     "output_type": "stream",
     "text": [
      "Computing the msd similarity matrix...\n",
      "Done computing similarity matrix.\n",
      "RMSE: 2.1880\n",
      "MSE: 4.7873\n",
      "MAE:  1.5167\n",
      "FCP:  0.6386\n",
      "Computing the msd similarity matrix...\n",
      "Done computing similarity matrix.\n",
      "RMSE: 2.1890\n",
      "MSE: 4.7919\n",
      "MAE:  1.5178\n",
      "FCP:  0.6379\n",
      "Computing the msd similarity matrix...\n",
      "Done computing similarity matrix.\n",
      "RMSE: 2.1863\n",
      "MSE: 4.7799\n",
      "MAE:  1.5147\n",
      "FCP:  0.6390\n",
      "Computing the msd similarity matrix...\n",
      "Done computing similarity matrix.\n",
      "RMSE: 2.1865\n",
      "MSE: 4.7808\n",
      "MAE:  1.5155\n",
      "FCP:  0.6394\n",
      "Computing the msd similarity matrix...\n",
      "Done computing similarity matrix.\n",
      "RMSE: 2.1916\n",
      "MSE: 4.8030\n",
      "MAE:  1.5192\n",
      "FCP:  0.6378\n"
     ]
    }
   ],
   "source": [
    "predictions_msd = predict_and_error(data, algo_mds, path=\"../predictions/knn_basic/anime_type_tv/with_filter_remove_negative/knn_basic_msd\")"
   ]
  },
  {
   "cell_type": "markdown",
   "id": "1c8371a9",
   "metadata": {},
   "source": [
    "### Pearson"
   ]
  },
  {
   "cell_type": "code",
   "execution_count": 17,
   "id": "dad0e837",
   "metadata": {},
   "outputs": [
    {
     "name": "stdout",
     "output_type": "stream",
     "text": [
      "Computing the pearson similarity matrix...\n",
      "Done computing similarity matrix.\n",
      "RMSE: 2.2493\n",
      "MSE: 5.0595\n",
      "MAE:  1.5957\n",
      "FCP:  0.5816\n",
      "Computing the pearson similarity matrix...\n",
      "Done computing similarity matrix.\n",
      "RMSE: 2.2449\n",
      "MSE: 5.0396\n",
      "MAE:  1.5947\n",
      "FCP:  0.5805\n",
      "Computing the pearson similarity matrix...\n",
      "Done computing similarity matrix.\n",
      "RMSE: 2.2465\n",
      "MSE: 5.0469\n",
      "MAE:  1.5966\n",
      "FCP:  0.5793\n",
      "Computing the pearson similarity matrix...\n",
      "Done computing similarity matrix.\n",
      "RMSE: 2.2456\n",
      "MSE: 5.0426\n",
      "MAE:  1.5935\n",
      "FCP:  0.5803\n",
      "Computing the pearson similarity matrix...\n",
      "Done computing similarity matrix.\n",
      "RMSE: 2.2456\n",
      "MSE: 5.0426\n",
      "MAE:  1.5955\n",
      "FCP:  0.5792\n"
     ]
    }
   ],
   "source": [
    "predictions_pearson = predict_and_error(data, algo_pearson, path=\"../predictions/knn_basic/anime_type_tv/with_filter_remove_negative/knn_basic_pearson\")"
   ]
  },
  {
   "cell_type": "markdown",
   "id": "2022120e",
   "metadata": {},
   "source": [
    "### Pearson Baseline"
   ]
  },
  {
   "cell_type": "code",
   "execution_count": 18,
   "id": "67bfcec5",
   "metadata": {},
   "outputs": [
    {
     "name": "stdout",
     "output_type": "stream",
     "text": [
      "Estimating biases using als...\n",
      "Computing the pearson_baseline similarity matrix...\n",
      "Done computing similarity matrix.\n",
      "RMSE: 2.0810\n",
      "MSE: 4.3306\n",
      "MAE:  1.4185\n",
      "FCP:  0.6867\n",
      "Estimating biases using als...\n",
      "Computing the pearson_baseline similarity matrix...\n",
      "Done computing similarity matrix.\n",
      "RMSE: 2.0897\n",
      "MSE: 4.3670\n",
      "MAE:  1.4230\n",
      "FCP:  0.6852\n",
      "Estimating biases using als...\n",
      "Computing the pearson_baseline similarity matrix...\n",
      "Done computing similarity matrix.\n",
      "RMSE: 2.0840\n",
      "MSE: 4.3432\n",
      "MAE:  1.4200\n",
      "FCP:  0.6867\n",
      "Estimating biases using als...\n",
      "Computing the pearson_baseline similarity matrix...\n",
      "Done computing similarity matrix.\n",
      "RMSE: 2.0923\n",
      "MSE: 4.3777\n",
      "MAE:  1.4248\n",
      "FCP:  0.6846\n",
      "Estimating biases using als...\n",
      "Computing the pearson_baseline similarity matrix...\n",
      "Done computing similarity matrix.\n",
      "RMSE: 2.0871\n",
      "MSE: 4.3559\n",
      "MAE:  1.4225\n",
      "FCP:  0.6859\n"
     ]
    }
   ],
   "source": [
    "predictions_pearson_baseline = predict_and_error(data, algo_pearson_baseline, path=\"../predictions/knn_basic/anime_type_tv/with_filter_remove_negative/knn_basic_pearson_baseline\")"
   ]
  },
  {
   "cell_type": "code",
   "execution_count": null,
   "id": "dcc91f9a",
   "metadata": {},
   "outputs": [],
   "source": []
  }
 ],
 "metadata": {
  "kernelspec": {
   "display_name": "Python 3",
   "language": "python",
   "name": "python3"
  },
  "language_info": {
   "codemirror_mode": {
    "name": "ipython",
    "version": 3
   },
   "file_extension": ".py",
   "mimetype": "text/x-python",
   "name": "python",
   "nbconvert_exporter": "python",
   "pygments_lexer": "ipython3",
   "version": "3.6.5"
  }
 },
 "nbformat": 4,
 "nbformat_minor": 5
}
