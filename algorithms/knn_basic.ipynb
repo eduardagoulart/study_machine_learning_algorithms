{
 "cells": [
  {
   "cell_type": "code",
   "execution_count": 1,
   "id": "expressed-defense",
   "metadata": {},
   "outputs": [],
   "source": [
    "import pandas as pd\n",
    "from surprise import KNNBasic\n",
    "from surprise import accuracy\n",
    "from surprise.model_selection import cross_validate\n",
    "from surprise.model_selection import train_test_split\n",
    "from surprise.model_selection import KFold\n",
    "\n",
    "from read_and_split_data import split_data"
   ]
  },
  {
   "cell_type": "code",
   "execution_count": 2,
   "id": "usual-symposium",
   "metadata": {},
   "outputs": [],
   "source": [
    "def get_dataset():\n",
    "    anime = pd.read_parquet(\"../datasets/anime.parquet\")\n",
    "    anime = anime[[\"anime_id\", \"type\"]]\n",
    "    users = pd.read_parquet(\"../datasets/users.parquet\")\n",
    "    base_df = users.merge(anime, on=\"anime_id\", how=\"left\")\n",
    "    return base_df\n",
    "\n",
    "base_df = get_dataset()\n",
    "data = split_data(base_df)"
   ]
  },
  {
   "cell_type": "code",
   "execution_count": 3,
   "id": "optional-desktop",
   "metadata": {},
   "outputs": [],
   "source": [
    "kf = KFold(n_splits=5)"
   ]
  },
  {
   "cell_type": "code",
   "execution_count": 4,
   "id": "funny-heaven",
   "metadata": {},
   "outputs": [],
   "source": [
    "def predict_and_error(data, algo):\n",
    "    for trainset, testset in kf.split(data):\n",
    "        algo.fit(trainset)\n",
    "        predictions = algo.test(testset)\n",
    "        # Mean Squared Error\n",
    "        accuracy.rmse(predictions, verbose=True)\n",
    "        # Mean Absolute Erro\n",
    "        accuracy.mse(predictions, verbose=True)\n",
    "        # Mean Absolute Erro\n",
    "        accuracy.mae(predictions, verbose=True)\n",
    "        # Fraction of Concordant Pairs\n",
    "        accuracy.fcp(predictions, verbose=True)\n",
    "    return predictions"
   ]
  },
  {
   "cell_type": "markdown",
   "id": "noble-metropolitan",
   "metadata": {},
   "source": [
    "### Cosine Similarity"
   ]
  },
  {
   "cell_type": "code",
   "execution_count": 5,
   "id": "southern-transcript",
   "metadata": {},
   "outputs": [],
   "source": [
    "algo = KNNBasic(k=7, sim_options={\"name\": \"cosine\", \"user_based\": False})"
   ]
  },
  {
   "cell_type": "code",
   "execution_count": 6,
   "id": "generous-stocks",
   "metadata": {},
   "outputs": [
    {
     "name": "stdout",
     "output_type": "stream",
     "text": [
      "Computing the cosine similarity matrix...\n",
      "Done computing similarity matrix.\n",
      "RMSE: 2.2053\n",
      "MSE: 4.8632\n",
      "MAE:  1.5258\n",
      "FCP:  0.6230\n",
      "Computing the cosine similarity matrix...\n",
      "Done computing similarity matrix.\n",
      "RMSE: 2.2056\n",
      "MSE: 4.8648\n",
      "MAE:  1.5262\n",
      "FCP:  0.6213\n",
      "Computing the cosine similarity matrix...\n",
      "Done computing similarity matrix.\n",
      "RMSE: 2.2056\n",
      "MSE: 4.8648\n",
      "MAE:  1.5277\n",
      "FCP:  0.6229\n",
      "Computing the cosine similarity matrix...\n",
      "Done computing similarity matrix.\n",
      "RMSE: 2.2029\n",
      "MSE: 4.8530\n",
      "MAE:  1.5250\n",
      "FCP:  0.6216\n",
      "Computing the cosine similarity matrix...\n",
      "Done computing similarity matrix.\n",
      "RMSE: 2.2054\n",
      "MSE: 4.8637\n",
      "MAE:  1.5260\n",
      "FCP:  0.6215\n"
     ]
    }
   ],
   "source": [
    "predictions = predict_and_error(data, algo)"
   ]
  },
  {
   "cell_type": "code",
   "execution_count": 7,
   "id": "dried-trance",
   "metadata": {},
   "outputs": [],
   "source": [
    "df = pd.DataFrame(columns=[\"user\", \"anime\", \"actual\", \"est\", \"details\"], data=predictions)"
   ]
  },
  {
   "cell_type": "code",
   "execution_count": 8,
   "id": "sacred-context",
   "metadata": {},
   "outputs": [
    {
     "data": {
      "text/html": [
       "<div>\n",
       "<style scoped>\n",
       "    .dataframe tbody tr th:only-of-type {\n",
       "        vertical-align: middle;\n",
       "    }\n",
       "\n",
       "    .dataframe tbody tr th {\n",
       "        vertical-align: top;\n",
       "    }\n",
       "\n",
       "    .dataframe thead th {\n",
       "        text-align: right;\n",
       "    }\n",
       "</style>\n",
       "<table border=\"1\" class=\"dataframe\">\n",
       "  <thead>\n",
       "    <tr style=\"text-align: right;\">\n",
       "      <th></th>\n",
       "      <th>user</th>\n",
       "      <th>anime</th>\n",
       "      <th>actual</th>\n",
       "      <th>est</th>\n",
       "      <th>details</th>\n",
       "    </tr>\n",
       "  </thead>\n",
       "  <tbody>\n",
       "    <tr>\n",
       "      <th>286417</th>\n",
       "      <td>28620</td>\n",
       "      <td>6045</td>\n",
       "      <td>8.0</td>\n",
       "      <td>5.849256</td>\n",
       "      <td>{'actual_k': 7, 'was_impossible': False}</td>\n",
       "    </tr>\n",
       "  </tbody>\n",
       "</table>\n",
       "</div>"
      ],
      "text/plain": [
       "         user  anime  actual       est  \\\n",
       "286417  28620   6045     8.0  5.849256   \n",
       "\n",
       "                                         details  \n",
       "286417  {'actual_k': 7, 'was_impossible': False}  "
      ]
     },
     "execution_count": 8,
     "metadata": {},
     "output_type": "execute_result"
    }
   ],
   "source": [
    "df.sample()"
   ]
  },
  {
   "cell_type": "code",
   "execution_count": 9,
   "id": "simple-stack",
   "metadata": {},
   "outputs": [],
   "source": [
    "df.to_csv(\"../predictions/knn_basic_cosine.csv\")\n",
    "df.to_parquet(\"../predictions/knn_basic_cosine.parquet\")"
   ]
  },
  {
   "cell_type": "markdown",
   "id": "finite-newport",
   "metadata": {},
   "source": [
    "### Mean Squared Difference"
   ]
  },
  {
   "cell_type": "code",
   "execution_count": 10,
   "id": "productive-fairy",
   "metadata": {},
   "outputs": [],
   "source": [
    "algo = KNNBasic(k=7, sim_options={\"name\": \"msd\", \"user_based\": False})"
   ]
  },
  {
   "cell_type": "code",
   "execution_count": 11,
   "id": "accredited-charm",
   "metadata": {},
   "outputs": [
    {
     "name": "stdout",
     "output_type": "stream",
     "text": [
      "Computing the msd similarity matrix...\n",
      "Done computing similarity matrix.\n",
      "RMSE: 2.1883\n",
      "MSE: 4.7886\n",
      "MAE:  1.5157\n",
      "FCP:  0.6401\n",
      "Computing the msd similarity matrix...\n",
      "Done computing similarity matrix.\n",
      "RMSE: 2.1847\n",
      "MSE: 4.7728\n",
      "MAE:  1.5152\n",
      "FCP:  0.6379\n",
      "Computing the msd similarity matrix...\n",
      "Done computing similarity matrix.\n",
      "RMSE: 2.1902\n",
      "MSE: 4.7968\n",
      "MAE:  1.5166\n",
      "FCP:  0.6392\n",
      "Computing the msd similarity matrix...\n",
      "Done computing similarity matrix.\n",
      "RMSE: 2.1894\n",
      "MSE: 4.7934\n",
      "MAE:  1.5178\n",
      "FCP:  0.6371\n",
      "Computing the msd similarity matrix...\n",
      "Done computing similarity matrix.\n",
      "RMSE: 2.1903\n",
      "MSE: 4.7974\n",
      "MAE:  1.5176\n",
      "FCP:  0.6395\n"
     ]
    }
   ],
   "source": [
    "predictions_msd = predict_and_error(data, algo)"
   ]
  },
  {
   "cell_type": "code",
   "execution_count": 12,
   "id": "stopped-campbell",
   "metadata": {},
   "outputs": [],
   "source": [
    "df = pd.DataFrame(columns=[\"user\", \"anime\", \"actual\", \"est\", \"details\"], data=predictions_msd)"
   ]
  },
  {
   "cell_type": "code",
   "execution_count": 13,
   "id": "adequate-humidity",
   "metadata": {},
   "outputs": [],
   "source": [
    "df.to_csv(\"../predictions/knn_basic_msd.csv\")\n",
    "df.to_parquet(\"../predictions/knn_basic_msd.parquet\")"
   ]
  },
  {
   "cell_type": "markdown",
   "id": "desirable-nudist",
   "metadata": {},
   "source": [
    "### Pearson"
   ]
  },
  {
   "cell_type": "code",
   "execution_count": 14,
   "id": "precise-species",
   "metadata": {},
   "outputs": [],
   "source": [
    "algo = KNNBasic(k=7, sim_options={\"name\": \"pearson\", \"user_based\": False})"
   ]
  },
  {
   "cell_type": "code",
   "execution_count": 15,
   "id": "rough-cincinnati",
   "metadata": {},
   "outputs": [
    {
     "name": "stdout",
     "output_type": "stream",
     "text": [
      "Computing the pearson similarity matrix...\n",
      "Done computing similarity matrix.\n",
      "RMSE: 2.2440\n",
      "MSE: 5.0358\n",
      "MAE:  1.5921\n",
      "FCP:  0.5807\n",
      "Computing the pearson similarity matrix...\n",
      "Done computing similarity matrix.\n",
      "RMSE: 2.2484\n",
      "MSE: 5.0552\n",
      "MAE:  1.5965\n",
      "FCP:  0.5812\n",
      "Computing the pearson similarity matrix...\n",
      "Done computing similarity matrix.\n",
      "RMSE: 2.2446\n",
      "MSE: 5.0381\n",
      "MAE:  1.5955\n",
      "FCP:  0.5791\n",
      "Computing the pearson similarity matrix...\n",
      "Done computing similarity matrix.\n",
      "RMSE: 2.2481\n",
      "MSE: 5.0539\n",
      "MAE:  1.5957\n",
      "FCP:  0.5816\n",
      "Computing the pearson similarity matrix...\n",
      "Done computing similarity matrix.\n",
      "RMSE: 2.2458\n",
      "MSE: 5.0437\n",
      "MAE:  1.5950\n",
      "FCP:  0.5817\n"
     ]
    }
   ],
   "source": [
    "predictions_pearson = predict_and_error(data, algo)"
   ]
  },
  {
   "cell_type": "code",
   "execution_count": 16,
   "id": "smoking-press",
   "metadata": {},
   "outputs": [],
   "source": [
    "df = pd.DataFrame(columns=[\"user\", \"anime\", \"actual\", \"est\", \"details\"], data=predictions_pearson)"
   ]
  },
  {
   "cell_type": "code",
   "execution_count": 17,
   "id": "formal-interim",
   "metadata": {},
   "outputs": [],
   "source": [
    "df.to_csv(\"../predictions/knn_basic_pearson.csv\")\n",
    "df.to_parquet(\"../predictions/knn_basic_pearson.parquet\")"
   ]
  },
  {
   "cell_type": "markdown",
   "id": "intense-shanghai",
   "metadata": {},
   "source": [
    "### Pearson Baseline"
   ]
  },
  {
   "cell_type": "code",
   "execution_count": 18,
   "id": "recognized-fifteen",
   "metadata": {},
   "outputs": [],
   "source": [
    "algo = KNNBasic(k=7, sim_options={\"name\": \"pearson_baseline\", \"user_based\": False})"
   ]
  },
  {
   "cell_type": "code",
   "execution_count": 19,
   "id": "fourth-township",
   "metadata": {},
   "outputs": [
    {
     "name": "stdout",
     "output_type": "stream",
     "text": [
      "Estimating biases using als...\n",
      "Computing the pearson_baseline similarity matrix...\n",
      "Done computing similarity matrix.\n",
      "RMSE: 2.0870\n",
      "MSE: 4.3555\n",
      "MAE:  1.4204\n",
      "FCP:  0.6859\n",
      "Estimating biases using als...\n",
      "Computing the pearson_baseline similarity matrix...\n",
      "Done computing similarity matrix.\n",
      "RMSE: 2.0860\n",
      "MSE: 4.3516\n",
      "MAE:  1.4213\n",
      "FCP:  0.6863\n",
      "Estimating biases using als...\n",
      "Computing the pearson_baseline similarity matrix...\n",
      "Done computing similarity matrix.\n",
      "RMSE: 2.0869\n",
      "MSE: 4.3552\n",
      "MAE:  1.4220\n",
      "FCP:  0.6858\n",
      "Estimating biases using als...\n",
      "Computing the pearson_baseline similarity matrix...\n",
      "Done computing similarity matrix.\n",
      "RMSE: 2.0872\n",
      "MSE: 4.3563\n",
      "MAE:  1.4208\n",
      "FCP:  0.6864\n",
      "Estimating biases using als...\n",
      "Computing the pearson_baseline similarity matrix...\n",
      "Done computing similarity matrix.\n",
      "RMSE: 2.0877\n",
      "MSE: 4.3586\n",
      "MAE:  1.4225\n",
      "FCP:  0.6869\n"
     ]
    }
   ],
   "source": [
    "predictions_pearson_baseline = predict_and_error(data, algo)"
   ]
  },
  {
   "cell_type": "code",
   "execution_count": 20,
   "id": "composed-robinson",
   "metadata": {},
   "outputs": [],
   "source": [
    "df = pd.DataFrame(columns=[\"user\", \"anime\", \"actual\", \"est\", \"details\"], data=predictions_pearson_baseline)"
   ]
  },
  {
   "cell_type": "code",
   "execution_count": 21,
   "id": "unexpected-parks",
   "metadata": {},
   "outputs": [],
   "source": [
    "df.to_csv(\"../predictions/knn_basic_pearson_baseline.csv\")\n",
    "df.to_parquet(\"../predictions/knn_basic_pearson_baseline.parquet\")"
   ]
  },
  {
   "cell_type": "code",
   "execution_count": null,
   "id": "cubic-cooperative",
   "metadata": {},
   "outputs": [],
   "source": []
  }
 ],
 "metadata": {
  "kernelspec": {
   "display_name": "Python 3",
   "language": "python",
   "name": "python3"
  },
  "language_info": {
   "codemirror_mode": {
    "name": "ipython",
    "version": 3
   },
   "file_extension": ".py",
   "mimetype": "text/x-python",
   "name": "python",
   "nbconvert_exporter": "python",
   "pygments_lexer": "ipython3",
   "version": "3.6.5"
  }
 },
 "nbformat": 4,
 "nbformat_minor": 5
}
