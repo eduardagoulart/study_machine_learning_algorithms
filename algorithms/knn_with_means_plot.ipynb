{
 "cells": [
  {
   "cell_type": "code",
   "execution_count": 1,
   "id": "c177f5f3",
   "metadata": {},
   "outputs": [],
   "source": [
    "import pandas as pd\n",
    "import numpy as np\n",
    "import matplotlib.pyplot as plt\n",
    "import seaborn as sns"
   ]
  },
  {
   "cell_type": "markdown",
   "id": "a38776c3",
   "metadata": {},
   "source": [
    "### Cosine"
   ]
  },
  {
   "cell_type": "code",
   "execution_count": 2,
   "id": "15bf6c35",
   "metadata": {},
   "outputs": [],
   "source": [
    "cossine_fold_0 = pd.read_parquet(f\"../predictions/knn_with_means/anime_type_tv/no_filter/knn_with_means_cosine_0.parquet\")\n",
    "cossine_fold_1 = pd.read_parquet(f\"../predictions/knn_with_means/anime_type_tv/no_filter/knn_with_means_cosine_1.parquet\")\n",
    "cossine_fold_2 = pd.read_parquet(f\"../predictions/knn_with_means/anime_type_tv/no_filter/knn_with_means_cosine_2.parquet\")\n",
    "cossine_fold_3 = pd.read_parquet(f\"../predictions/knn_with_means/anime_type_tv/no_filter/knn_with_means_cosine_3.parquet\")\n",
    "\n",
    "df = pd.concat([cossine_fold_0, cossine_fold_1, cossine_fold_2, cossine_fold_3])"
   ]
  },
  {
   "cell_type": "code",
   "execution_count": 3,
   "id": "b03f05d0",
   "metadata": {},
   "outputs": [],
   "source": [
    "df_actual_1 = df.loc[df[\"actual\"] == 1]"
   ]
  },
  {
   "cell_type": "code",
   "execution_count": 4,
   "id": "fe3268ef",
   "metadata": {},
   "outputs": [],
   "source": [
    "round_actual_1 = np.round(df_actual_1[\"est\"], decimals=0)\n",
    "round_actual_1 = round_actual_1.reset_index()"
   ]
  },
  {
   "cell_type": "code",
   "execution_count": 5,
   "id": "7446c9a7",
   "metadata": {},
   "outputs": [],
   "source": [
    "df_actual_1 = df_actual_1.reset_index()[[\"index\", \"actual\", \"details\"]]\n",
    "df_actual_1 = df_actual_1.merge(round_actual_1, on=\"index\", how=\"left\")"
   ]
  },
  {
   "cell_type": "code",
   "execution_count": 6,
   "id": "5ee53507",
   "metadata": {},
   "outputs": [
    {
     "name": "stdout",
     "output_type": "stream",
     "text": [
      "         actual                                            details  est\n",
      "index                                                                  \n",
      "385         1.0  {'actual_k': 7.0, 'reason': None, 'was_impossi...  8.0\n",
      "1387        1.0  {'actual_k': 7.0, 'reason': None, 'was_impossi...  6.0\n",
      "2016        1.0  {'actual_k': 7.0, 'reason': None, 'was_impossi...  8.0\n",
      "3094        1.0  {'actual_k': 7.0, 'reason': None, 'was_impossi...  7.0\n",
      "3133        1.0  {'actual_k': 7.0, 'reason': None, 'was_impossi...  5.0\n",
      "...         ...                                                ...  ...\n",
      "1055144     1.0  {'actual_k': 7.0, 'reason': None, 'was_impossi...  5.0\n",
      "1056145     1.0  {'actual_k': 7.0, 'reason': None, 'was_impossi...  8.0\n",
      "1056174     1.0  {'actual_k': 7.0, 'reason': None, 'was_impossi...  1.0\n",
      "1056551     1.0  {'actual_k': 7.0, 'reason': None, 'was_impossi...  5.0\n",
      "1056585     1.0  {'actual_k': 7.0, 'reason': None, 'was_impossi...  6.0\n",
      "\n",
      "[6601 rows x 3 columns]\n"
     ]
    }
   ],
   "source": [
    "df_actual_1 = df_actual_1.set_index(\"index\")\n",
    "print(df_actual_1)"
   ]
  },
  {
   "cell_type": "code",
   "execution_count": 7,
   "id": "dd195bd4",
   "metadata": {},
   "outputs": [],
   "source": [
    "plot_cosine_counter = df_actual_1.groupby(\"est\", as_index=False).count()"
   ]
  },
  {
   "cell_type": "code",
   "execution_count": 8,
   "id": "7337c0e7",
   "metadata": {},
   "outputs": [
    {
     "data": {
      "text/plain": [
       "<AxesSubplot:title={'center':'Actual 1 counter'}, xlabel='est'>"
      ]
     },
     "execution_count": 8,
     "metadata": {},
     "output_type": "execute_result"
    },
    {
     "data": {
      "image/png": "[encoded data removed]",
      "text/plain": [
       "<Figure size 432x288 with 1 Axes>"
      ]
     },
     "metadata": {
      "needs_background": "light"
     },
     "output_type": "display_data"
    }
   ],
   "source": [
    "plot_cosine_counter.plot.bar(x='est', y='actual', title=\"Actual 1 counter\")"
   ]
  },
  {
   "cell_type": "code",
   "execution_count": 9,
   "id": "6d0d9efb",
   "metadata": {},
   "outputs": [],
   "source": [
    "df_actual_2 = df.loc[df[\"actual\"] == 2]\n",
    "round_actual_2 = np.round(df_actual_2[\"est\"], decimals=0)\n",
    "round_actual_2 = round_actual_2.reset_index()"
   ]
  },
  {
   "cell_type": "code",
   "execution_count": 10,
   "id": "61dc9f9b",
   "metadata": {},
   "outputs": [],
   "source": [
    "df_actual_2 = df_actual_2.reset_index()[[\"index\", \"actual\", \"details\"]]\n",
    "df_actual_2 = df_actual_2.merge(round_actual_2, on=\"index\", how=\"left\")"
   ]
  },
  {
   "cell_type": "code",
   "execution_count": 11,
   "id": "80504703",
   "metadata": {},
   "outputs": [
    {
     "name": "stdout",
     "output_type": "stream",
     "text": [
      "    est  actual  details\n",
      "0   1.0     284      284\n",
      "1   2.0     231      231\n",
      "2   3.0     591      591\n",
      "3   4.0    1258     1258\n",
      "4   5.0    2010     2010\n",
      "5   6.0    2553     2553\n",
      "6   7.0    1983     1983\n",
      "7   8.0     999      999\n",
      "8   9.0     305      305\n",
      "9  10.0      37       37\n"
     ]
    }
   ],
   "source": [
    "df_actual_2 = df_actual_2.set_index(\"index\")\n",
    "plot_cosine_counter_2 = df_actual_2.groupby(\"est\", as_index=False).count()\n",
    "print(plot_cosine_counter_2)"
   ]
  },
  {
   "cell_type": "code",
   "execution_count": 12,
   "id": "b57eebbc",
   "metadata": {},
   "outputs": [
    {
     "name": "stdout",
     "output_type": "stream",
     "text": [
      "10251\n"
     ]
    }
   ],
   "source": [
    "print(sum(plot_cosine_counter_2[\"actual\"]))"
   ]
  },
  {
   "cell_type": "code",
   "execution_count": 13,
   "id": "0358d06a",
   "metadata": {},
   "outputs": [
    {
     "data": {
      "text/plain": [
       "<AxesSubplot:title={'center':'Actual 2 counter'}, xlabel='est'>"
      ]
     },
     "execution_count": 13,
     "metadata": {},
     "output_type": "execute_result"
    },
    {
     "data": {
      "image/png": "[encoded data removed]",
      "text/plain": [
       "<Figure size 432x288 with 1 Axes>"
      ]
     },
     "metadata": {
      "needs_background": "light"
     },
     "output_type": "display_data"
    }
   ],
   "source": [
    "plot_cosine_counter_2.plot.bar(x='est', y='actual', title=\"Actual 2 counter\")"
   ]
  },
  {
   "cell_type": "code",
   "execution_count": 14,
   "id": "8f51421b",
   "metadata": {},
   "outputs": [],
   "source": [
    "df_actual_3 = df.loc[df[\"actual\"] == 3]\n",
    "round_actual_3 = np.round(df_actual_3[\"est\"], decimals=0)\n",
    "round_actual_3 = round_actual_3.reset_index()"
   ]
  },
  {
   "cell_type": "code",
   "execution_count": 15,
   "id": "e7585baa",
   "metadata": {},
   "outputs": [],
   "source": [
    "df_actual_3 = df_actual_3.reset_index()[[\"index\", \"actual\", \"details\"]]\n",
    "df_actual_3 = df_actual_3.merge(round_actual_3, on=\"index\", how=\"left\")"
   ]
  },
  {
   "cell_type": "code",
   "execution_count": 16,
   "id": "47e301ed",
   "metadata": {},
   "outputs": [
    {
     "name": "stdout",
     "output_type": "stream",
     "text": [
      "    est  actual  details\n",
      "0   1.0     366      366\n",
      "1   2.0     258      258\n",
      "2   3.0     699      699\n",
      "3   4.0    1980     1980\n",
      "4   5.0    4066     4066\n",
      "5   6.0    5547     5547\n",
      "6   7.0    4363     4363\n",
      "7   8.0    1948     1948\n",
      "8   9.0     397      397\n",
      "9  10.0      52       52\n"
     ]
    }
   ],
   "source": [
    "df_actual_3 = df_actual_3.set_index(\"index\")\n",
    "plot_cosine_counter_3 = df_actual_3.groupby(\"est\", as_index=False).count()\n",
    "print(plot_cosine_counter_3)"
   ]
  },
  {
   "cell_type": "code",
   "execution_count": 17,
   "id": "114f4d5c",
   "metadata": {},
   "outputs": [
    {
     "name": "stdout",
     "output_type": "stream",
     "text": [
      "19676\n"
     ]
    }
   ],
   "source": [
    "print(sum(plot_cosine_counter_3[\"actual\"]))"
   ]
  },
  {
   "cell_type": "code",
   "execution_count": 18,
   "id": "e7eb4a80",
   "metadata": {},
   "outputs": [
    {
     "data": {
      "text/plain": [
       "<AxesSubplot:title={'center':'Actual 3 counter'}, xlabel='est'>"
      ]
     },
     "execution_count": 18,
     "metadata": {},
     "output_type": "execute_result"
    },
    {
     "data": {
      "image/png": "[encoded data removed]",
      "text/plain": [
       "<Figure size 432x288 with 1 Axes>"
      ]
     },
     "metadata": {
      "needs_background": "light"
     },
     "output_type": "display_data"
    }
   ],
   "source": [
    "plot_cosine_counter_3.plot.bar(x='est', y='actual', title=\"Actual 3 counter\")"
   ]
  },
  {
   "cell_type": "code",
   "execution_count": 19,
   "id": "08d2464b",
   "metadata": {},
   "outputs": [],
   "source": [
    "df_actual_4 = df.loc[df[\"actual\"] == 4]\n",
    "round_actual_4 = np.round(df_actual_4[\"est\"], decimals=0)\n",
    "round_actual_4 = round_actual_4.reset_index()"
   ]
  },
  {
   "cell_type": "code",
   "execution_count": 20,
   "id": "99322c5a",
   "metadata": {},
   "outputs": [],
   "source": [
    "df_actual_4 = df_actual_4.reset_index()[[\"index\", \"actual\", \"details\"]]\n",
    "df_actual_4 = df_actual_4.merge(round_actual_4, on=\"index\", how=\"left\")"
   ]
  },
  {
   "cell_type": "code",
   "execution_count": 21,
   "id": "e42593ce",
   "metadata": {},
   "outputs": [
    {
     "name": "stdout",
     "output_type": "stream",
     "text": [
      "    est  actual  details\n",
      "0   1.0     736      736\n",
      "1   2.0     530      530\n",
      "2   3.0    1080     1080\n",
      "3   4.0    3172     3172\n",
      "4   5.0    9045     9045\n",
      "5   6.0   15516    15516\n",
      "6   7.0   13951    13951\n",
      "7   8.0    6368     6368\n",
      "8   9.0    1407     1407\n",
      "9  10.0     155      155\n"
     ]
    }
   ],
   "source": [
    "df_actual_4 = df_actual_4.set_index(\"index\")\n",
    "plot_cosine_counter_4 = df_actual_4.groupby(\"est\", as_index=False).count()\n",
    "print(plot_cosine_counter_4)"
   ]
  },
  {
   "cell_type": "code",
   "execution_count": 22,
   "id": "1e8b531e",
   "metadata": {},
   "outputs": [
    {
     "name": "stdout",
     "output_type": "stream",
     "text": [
      "51960\n"
     ]
    }
   ],
   "source": [
    "print(sum(plot_cosine_counter_4[\"actual\"]))"
   ]
  },
  {
   "cell_type": "code",
   "execution_count": 23,
   "id": "7b7bac64",
   "metadata": {},
   "outputs": [
    {
     "data": {
      "text/plain": [
       "<AxesSubplot:title={'center':'Actual 4 counter'}, xlabel='est'>"
      ]
     },
     "execution_count": 23,
     "metadata": {},
     "output_type": "execute_result"
    },
    {
     "data": {
      "image/png": "[encoded data removed]",
      "text/plain": [
       "<Figure size 432x288 with 1 Axes>"
      ]
     },
     "metadata": {
      "needs_background": "light"
     },
     "output_type": "display_data"
    }
   ],
   "source": [
    "plot_cosine_counter_4.plot.bar(x='est', y='actual', title=\"Actual 4 counter\")"
   ]
  },
  {
   "cell_type": "code",
   "execution_count": 24,
   "id": "b5b01531",
   "metadata": {},
   "outputs": [],
   "source": [
    "df_actual_5 = df.loc[df[\"actual\"] == 5]\n",
    "round_actual_5 = np.round(df_actual_5[\"est\"], decimals=0)\n",
    "round_actual_5 = round_actual_5.reset_index()"
   ]
  },
  {
   "cell_type": "code",
   "execution_count": 25,
   "id": "ad94ab4c",
   "metadata": {},
   "outputs": [],
   "source": [
    "df_actual_5 = df_actual_5.reset_index()[[\"index\", \"actual\", \"details\"]]\n",
    "df_actual_5 = df_actual_5.merge(round_actual_4, on=\"index\", how=\"left\")"
   ]
  },
  {
   "cell_type": "code",
   "execution_count": 26,
   "id": "0e904df4",
   "metadata": {},
   "outputs": [
    {
     "name": "stdout",
     "output_type": "stream",
     "text": [
      "    est  actual  details\n",
      "0   1.0      75       75\n",
      "1   2.0      41       41\n",
      "2   3.0      89       89\n",
      "3   4.0     291      291\n",
      "4   5.0     829      829\n",
      "5   6.0    1471     1471\n",
      "6   7.0    1380     1380\n",
      "7   8.0     597      597\n",
      "8   9.0     137      137\n",
      "9  10.0      17       17\n"
     ]
    }
   ],
   "source": [
    "df_actual_5 = df_actual_5.set_index(\"index\")\n",
    "plot_cosine_counter_5 = df_actual_5.groupby(\"est\", as_index=False).count()\n",
    "print(plot_cosine_counter_5)"
   ]
  },
  {
   "cell_type": "code",
   "execution_count": 27,
   "id": "2ca554f0",
   "metadata": {},
   "outputs": [
    {
     "name": "stdout",
     "output_type": "stream",
     "text": [
      "4927\n"
     ]
    }
   ],
   "source": [
    "print(sum(plot_cosine_counter_5[\"actual\"]))"
   ]
  },
  {
   "cell_type": "code",
   "execution_count": 28,
   "id": "1034a88a",
   "metadata": {},
   "outputs": [
    {
     "data": {
      "text/plain": [
       "<AxesSubplot:title={'center':'Actual 5 counter'}, xlabel='est'>"
      ]
     },
     "execution_count": 28,
     "metadata": {},
     "output_type": "execute_result"
    },
    {
     "data": {
      "image/png": "[encoded data removed]",
      "text/plain": [
       "<Figure size 432x288 with 1 Axes>"
      ]
     },
     "metadata": {
      "needs_background": "light"
     },
     "output_type": "display_data"
    }
   ],
   "source": [
    "plot_cosine_counter_5.plot.bar(x='est', y='actual', title=\"Actual 5 counter\")"
   ]
  },
  {
   "cell_type": "code",
   "execution_count": 29,
   "id": "620c42ad",
   "metadata": {},
   "outputs": [],
   "source": [
    "df_actual_6 = df.loc[df[\"actual\"] == 6]\n",
    "round_actual_6 = np.round(df_actual_6[\"est\"], decimals=0)\n",
    "round_actual_6 = round_actual_6.reset_index()"
   ]
  },
  {
   "cell_type": "code",
   "execution_count": 30,
   "id": "4fdc9281",
   "metadata": {},
   "outputs": [],
   "source": [
    "df_actual_6 = df_actual_6.reset_index()[[\"index\", \"actual\", \"details\"]]\n",
    "df_actual_6 = df_actual_6.merge(round_actual_6, on=\"index\", how=\"left\")"
   ]
  },
  {
   "cell_type": "code",
   "execution_count": 31,
   "id": "53be0959",
   "metadata": {},
   "outputs": [
    {
     "name": "stdout",
     "output_type": "stream",
     "text": [
      "    est  actual  details\n",
      "0   1.0    3944     3944\n",
      "1   2.0    2755     2755\n",
      "2   3.0    4165     4165\n",
      "3   4.0    7988     7988\n",
      "4   5.0   24250    24250\n",
      "5   6.0   89045    89045\n",
      "6   7.0  155414   155414\n",
      "7   8.0   86812    86812\n",
      "8   9.0   18073    18073\n",
      "9  10.0    1658     1658\n"
     ]
    }
   ],
   "source": [
    "df_actual_6 = df_actual_6.set_index(\"index\")\n",
    "plot_cosine_counter_6 = df_actual_6.groupby(\"est\", as_index=False).count()\n",
    "print(plot_cosine_counter_6)"
   ]
  },
  {
   "cell_type": "code",
   "execution_count": 32,
   "id": "bb7a96b6",
   "metadata": {},
   "outputs": [
    {
     "data": {
      "text/plain": [
       "<AxesSubplot:title={'center':'Actual 6 counter'}, xlabel='est'>"
      ]
     },
     "execution_count": 32,
     "metadata": {},
     "output_type": "execute_result"
    },
    {
     "data": {
      "image/png": "[encoded data removed]",
      "text/plain": [
       "<Figure size 432x288 with 1 Axes>"
      ]
     },
     "metadata": {
      "needs_background": "light"
     },
     "output_type": "display_data"
    }
   ],
   "source": [
    "plot_cosine_counter_6.plot.bar(x='est', y='actual', title=\"Actual 6 counter\")"
   ]
  },
  {
   "cell_type": "code",
   "execution_count": 33,
   "id": "2297c79a",
   "metadata": {},
   "outputs": [],
   "source": [
    "df_actual_7 = df.loc[df[\"actual\"] == 7]\n",
    "round_actual_7 = np.round(df_actual_7[\"est\"], decimals=0)\n",
    "round_actual_7 = round_actual_7.reset_index()"
   ]
  },
  {
   "cell_type": "code",
   "execution_count": 34,
   "id": "e7cdb786",
   "metadata": {},
   "outputs": [],
   "source": [
    "df_actual_7 = df_actual_7.reset_index()[[\"index\", \"actual\", \"details\"]]\n",
    "df_actual_7 = df_actual_7.merge(round_actual_7, on=\"index\", how=\"left\")"
   ]
  },
  {
   "cell_type": "code",
   "execution_count": 35,
   "id": "90e6be0f",
   "metadata": {},
   "outputs": [
    {
     "name": "stdout",
     "output_type": "stream",
     "text": [
      "    est  actual  details\n",
      "0   1.0   10080    10080\n",
      "1   2.0    6777     6777\n",
      "2   3.0    9913     9913\n",
      "3   4.0   15757    15757\n",
      "4   5.0   36022    36022\n",
      "5   6.0  131445   131445\n",
      "6   7.0  417360   417360\n",
      "7   8.0  390642   390642\n",
      "8   9.0   93120    93120\n",
      "9  10.0    7525     7525\n"
     ]
    }
   ],
   "source": [
    "df_actual_7 = df_actual_7.set_index(\"index\")\n",
    "plot_cosine_counter_7 = df_actual_7.groupby(\"est\", as_index=False).count()\n",
    "print(plot_cosine_counter_7)"
   ]
  },
  {
   "cell_type": "code",
   "execution_count": 36,
   "id": "af564519",
   "metadata": {},
   "outputs": [
    {
     "data": {
      "text/plain": [
       "<AxesSubplot:title={'center':'Actual 7 counter'}, xlabel='est'>"
      ]
     },
     "execution_count": 36,
     "metadata": {},
     "output_type": "execute_result"
    },
    {
     "data": {
      "image/png": "[encoded data removed]",
      "text/plain": [
       "<Figure size 432x288 with 1 Axes>"
      ]
     },
     "metadata": {
      "needs_background": "light"
     },
     "output_type": "display_data"
    }
   ],
   "source": [
    "plot_cosine_counter_7.plot.bar(x='est', y='actual', title=\"Actual 7 counter\")"
   ]
  },
  {
   "cell_type": "code",
   "execution_count": 37,
   "id": "dfbdcc69",
   "metadata": {},
   "outputs": [],
   "source": [
    "df_actual_8 = df.loc[df[\"actual\"] == 8]\n",
    "round_actual_8 = np.round(df_actual_8[\"est\"], decimals=0)\n",
    "round_actual_8 = round_actual_8.reset_index()"
   ]
  },
  {
   "cell_type": "code",
   "execution_count": 38,
   "id": "eae74df2",
   "metadata": {},
   "outputs": [],
   "source": [
    "df_actual_8 = df_actual_8.reset_index()[[\"index\", \"actual\", \"details\"]]\n",
    "df_actual_8 = df_actual_8.merge(round_actual_8, on=\"index\", how=\"left\")"
   ]
  },
  {
   "cell_type": "code",
   "execution_count": 39,
   "id": "3bcff982",
   "metadata": {},
   "outputs": [
    {
     "name": "stdout",
     "output_type": "stream",
     "text": [
      "    est  actual  details\n",
      "0   1.0   13331    13331\n",
      "1   2.0    8662     8662\n",
      "2   3.0   13034    13034\n",
      "3   4.0   18073    18073\n",
      "4   5.0   31683    31683\n",
      "5   6.0   90272    90272\n",
      "6   7.0  355174   355174\n",
      "7   8.0  702607   702607\n",
      "8   9.0  287104   287104\n",
      "9  10.0   25360    25360\n"
     ]
    }
   ],
   "source": [
    "df_actual_8 = df_actual_8.set_index(\"index\")\n",
    "plot_cosine_counter_8 = df_actual_8.groupby(\"est\", as_index=False).count()\n",
    "print(plot_cosine_counter_8)"
   ]
  },
  {
   "cell_type": "code",
   "execution_count": 40,
   "id": "120da11a",
   "metadata": {},
   "outputs": [
    {
     "data": {
      "text/plain": [
       "<AxesSubplot:title={'center':'Actual 8 counter'}, xlabel='est'>"
      ]
     },
     "execution_count": 40,
     "metadata": {},
     "output_type": "execute_result"
    },
    {
     "data": {
      "image/png": "[encoded data removed]",
      "text/plain": [
       "<Figure size 432x288 with 1 Axes>"
      ]
     },
     "metadata": {
      "needs_background": "light"
     },
     "output_type": "display_data"
    }
   ],
   "source": [
    "plot_cosine_counter_8.plot.bar(x='est', y='actual', title=\"Actual 8 counter\")"
   ]
  },
  {
   "cell_type": "code",
   "execution_count": 41,
   "id": "d3d7f444",
   "metadata": {},
   "outputs": [],
   "source": [
    "df_actua_9 = df.loc[df[\"actual\"] == 9]\n",
    "round_actual_9 = np.round(df_actua_9[\"est\"], decimals=0)\n",
    "round_actual_9 = round_actual_9.reset_index()"
   ]
  },
  {
   "cell_type": "code",
   "execution_count": 42,
   "id": "51fb0d6b",
   "metadata": {},
   "outputs": [],
   "source": [
    "df_actua_9 = df_actua_9.reset_index()[[\"index\", \"actual\", \"details\"]]\n",
    "df_actua_9 = df_actua_9.merge(round_actual_9, on=\"index\", how=\"left\")"
   ]
  },
  {
   "cell_type": "code",
   "execution_count": 43,
   "id": "bfe0c579",
   "metadata": {},
   "outputs": [
    {
     "name": "stdout",
     "output_type": "stream",
     "text": [
      "    est  actual  details\n",
      "0   1.0   11059    11059\n",
      "1   2.0    7230     7230\n",
      "2   3.0    9444     9444\n",
      "3   4.0   12074    12074\n",
      "4   5.0   18922    18922\n",
      "5   6.0   42387    42387\n",
      "6   7.0  139996   139996\n",
      "7   8.0  418578   418578\n",
      "8   9.0  395854   395854\n",
      "9  10.0   58281    58281\n"
     ]
    }
   ],
   "source": [
    "df_actua_9 = df_actua_9.set_index(\"index\")\n",
    "plot_cosine_counter_9 = df_actua_9.groupby(\"est\", as_index=False).count()\n",
    "print(plot_cosine_counter_9)"
   ]
  },
  {
   "cell_type": "code",
   "execution_count": 44,
   "id": "e63af04d",
   "metadata": {},
   "outputs": [
    {
     "data": {
      "text/plain": [
       "<AxesSubplot:title={'center':'Actual 9 counter'}, xlabel='est'>"
      ]
     },
     "execution_count": 44,
     "metadata": {},
     "output_type": "execute_result"
    },
    {
     "data": {
      "image/png": "[encoded data removed]",
      "text/plain": [
       "<Figure size 432x288 with 1 Axes>"
      ]
     },
     "metadata": {
      "needs_background": "light"
     },
     "output_type": "display_data"
    }
   ],
   "source": [
    "plot_cosine_counter_9.plot.bar(x='est', y='actual', title=\"Actual 9 counter\")"
   ]
  },
  {
   "cell_type": "code",
   "execution_count": 45,
   "id": "b632bc81",
   "metadata": {},
   "outputs": [],
   "source": [
    "df_actua_10 = df.loc[df[\"actual\"] == 10]\n",
    "round_actual_10 = np.round(df_actua_10[\"est\"], decimals=0)\n",
    "round_actual_10 = round_actual_10.reset_index()"
   ]
  },
  {
   "cell_type": "code",
   "execution_count": 46,
   "id": "1a148564",
   "metadata": {},
   "outputs": [],
   "source": [
    "df_actua_10 = df_actua_10.reset_index()[[\"index\", \"actual\", \"details\"]]\n",
    "df_actua_10 = df_actua_10.merge(round_actual_10, on=\"index\", how=\"left\")"
   ]
  },
  {
   "cell_type": "code",
   "execution_count": 47,
   "id": "caa007bc",
   "metadata": {},
   "outputs": [
    {
     "name": "stdout",
     "output_type": "stream",
     "text": [
      "    est  actual  details\n",
      "0   1.0   12510    12510\n",
      "1   2.0    7129     7129\n",
      "2   3.0    7399     7399\n",
      "3   4.0    9401     9401\n",
      "4   5.0   13799    13799\n",
      "5   6.0   24256    24256\n",
      "6   7.0   55902    55902\n",
      "7   8.0  165976   165976\n",
      "8   9.0  301820   301820\n",
      "9  10.0  168344   168344\n"
     ]
    }
   ],
   "source": [
    "df_actua_10 = df_actua_10.set_index(\"index\")\n",
    "plot_cosine_counter_10 = df_actua_10.groupby(\"est\", as_index=False).count()\n",
    "print(plot_cosine_counter_10)"
   ]
  },
  {
   "cell_type": "code",
   "execution_count": 48,
   "id": "1cd67926",
   "metadata": {},
   "outputs": [
    {
     "data": {
      "text/plain": [
       "<AxesSubplot:title={'center':'Actual 10 counter'}, xlabel='est'>"
      ]
     },
     "execution_count": 48,
     "metadata": {},
     "output_type": "execute_result"
    },
    {
     "data": {
      "image/png": "[encoded data removed]",
      "text/plain": [
       "<Figure size 432x288 with 1 Axes>"
      ]
     },
     "metadata": {
      "needs_background": "light"
     },
     "output_type": "display_data"
    }
   ],
   "source": [
    "plot_cosine_counter_10.plot.bar(x='est', y='actual', title=\"Actual 10 counter\")"
   ]
  },
  {
   "cell_type": "code",
   "execution_count": 49,
   "id": "d221a423",
   "metadata": {},
   "outputs": [],
   "source": [
    "round_df = np.round(df[\"est\"], decimals=0)\n",
    "round_df = round_df.reset_index()\n",
    "df = df.reset_index()[[\"index\", \"actual\", \"details\"]]\n",
    "df = df.merge(round_df, on=\"index\", how=\"left\")"
   ]
  },
  {
   "cell_type": "code",
   "execution_count": 50,
   "id": "edd7b05b",
   "metadata": {},
   "outputs": [
    {
     "name": "stdout",
     "output_type": "stream",
     "text": [
      "    est   actual  details\n",
      "0   1.0  2277964  2277964\n",
      "1   2.0   285160   285160\n",
      "2   3.0   275180   275180\n",
      "3   4.0   330784   330784\n",
      "4   5.0   568616   568616\n",
      "5   6.0  1380780  1380780\n",
      "6   7.0  3326600  3326600\n",
      "7   8.0  4760285  4760285\n",
      "8   9.0  2965104  2965104\n",
      "9  10.0   737032   737032\n"
     ]
    }
   ],
   "source": [
    "df = df.set_index(\"index\")\n",
    "plot_df = df.groupby(\"est\", as_index=False).count()\n",
    "print(plot_df)"
   ]
  },
  {
   "cell_type": "code",
   "execution_count": 51,
   "id": "54843dd9",
   "metadata": {},
   "outputs": [],
   "source": [
    "def plot_violin_graph(list_of_data, title):\n",
    "    # Create a figure instance\n",
    "    label = [\"fold 0\", \"fold 1\", \"fold 2\", \"fold 3\"]\n",
    "    fig = plt.figure()\n",
    "  \n",
    "    # Create an axes instance\n",
    "    ax = fig.gca()\n",
    "    ax.set_title(title)\n",
    "    # Create the violinplot\n",
    "    violinplot = ax.violinplot(list_of_data)\n",
    "    plt.show()"
   ]
  },
  {
   "cell_type": "code",
   "execution_count": 52,
   "id": "fdf9f7e6",
   "metadata": {},
   "outputs": [
    {
     "data": {
      "image/png": "[encoded data removed]",
      "text/plain": [
       "<Figure size 432x288 with 1 Axes>"
      ]
     },
     "metadata": {
      "needs_background": "light"
     },
     "output_type": "display_data"
    }
   ],
   "source": [
    "est_df = df[\"est\"].tolist()\n",
    "plot_violin_graph(est_df, title=\"all folds estimation\")"
   ]
  },
  {
   "cell_type": "code",
   "execution_count": 53,
   "id": "9b329b2b",
   "metadata": {},
   "outputs": [
    {
     "data": {
      "image/png": "[encoded data removed]",
      "text/plain": [
       "<Figure size 432x288 with 1 Axes>"
      ]
     },
     "metadata": {
      "needs_background": "light"
     },
     "output_type": "display_data"
    }
   ],
   "source": [
    "est_df = df[\"actual\"].tolist()\n",
    "plot_violin_graph(est_df, title=\"all folds actual\")"
   ]
  }
 ],
 "metadata": {
  "kernelspec": {
   "display_name": "Python 3",
   "language": "python",
   "name": "python3"
  },
  "language_info": {
   "codemirror_mode": {
    "name": "ipython",
    "version": 3
   },
   "file_extension": ".py",
   "mimetype": "text/x-python",
   "name": "python",
   "nbconvert_exporter": "python",
   "pygments_lexer": "ipython3",
   "version": "3.6.5"
  }
 },
 "nbformat": 4,
 "nbformat_minor": 5
}
