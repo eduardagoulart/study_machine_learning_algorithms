{
 "cells": [
  {
   "cell_type": "code",
   "execution_count": 1,
   "id": "2a0da2dd",
   "metadata": {},
   "outputs": [],
   "source": [
    "import pandas as pd\n",
    "import numpy as np\n",
    "from surprise import SlopeOne\n",
    "from surprise import accuracy\n",
    "from surprise.model_selection import cross_validate\n",
    "from surprise.model_selection import train_test_split\n",
    "from surprise.model_selection import KFold\n",
    "\n",
    "from read_and_split_data import split_data, filter_animes_without_grade"
   ]
  },
  {
   "cell_type": "code",
   "execution_count": 2,
   "id": "1877aaab",
   "metadata": {},
   "outputs": [],
   "source": [
    "def get_dataset():\n",
    "    anime = pd.read_parquet(\"../datasets/anime.parquet\")\n",
    "    anime = anime[[\"anime_id\", \"type\"]]\n",
    "    users = pd.read_parquet(\"../datasets/users.parquet\")\n",
    "    base_df = users.merge(anime, on=\"anime_id\", how=\"left\")\n",
    "    return base_df\n",
    "\n",
    "base_df = get_dataset()\n",
    "data = split_data(base_df)"
   ]
  },
  {
   "cell_type": "code",
   "execution_count": 3,
   "id": "2d42c7f1",
   "metadata": {},
   "outputs": [],
   "source": [
    "kf = KFold(n_splits=5)"
   ]
  },
  {
   "cell_type": "code",
   "execution_count": 4,
   "id": "41b766af",
   "metadata": {},
   "outputs": [],
   "source": [
    "def predict_and_error(data, algo, path):\n",
    "    fold = 0\n",
    "    predictions_list = []\n",
    "    for trainset, testset in kf.split(data):\n",
    "        algo.fit(trainset)\n",
    "        predictions = algo.test(testset)\n",
    "        predictions_list.append(predictions)\n",
    "        # Mean Squared Error\n",
    "        accuracy.rmse(predictions, verbose=True)\n",
    "        # Mean Absolute Erro\n",
    "        accuracy.mse(predictions, verbose=True)\n",
    "        # Mean Absolute Erro\n",
    "        accuracy.mae(predictions, verbose=True)\n",
    "        # Fraction of Concordant Pairs\n",
    "        accuracy.fcp(predictions, verbose=True)\n",
    "        base_df = pd.DataFrame(columns=[\"user\", \"anime\", \"actual\", \"est\", \"details\"], data=predictions)\n",
    "        base_df.to_csv(f\"{path}_{fold}.csv\")\n",
    "        base_df.to_parquet(f\"{path}_{fold}.parquet\")\n",
    "        fold += 1\n",
    "    return predictions"
   ]
  },
  {
   "cell_type": "code",
   "execution_count": 5,
   "id": "8fe581e6",
   "metadata": {},
   "outputs": [],
   "source": [
    "algo_normal_predictor = SlopeOne()"
   ]
  },
  {
   "cell_type": "code",
   "execution_count": 6,
   "id": "99037458",
   "metadata": {},
   "outputs": [
    {
     "name": "stdout",
     "output_type": "stream",
     "text": [
      "RMSE: 2.1772\n",
      "MSE: 4.7401\n",
      "MAE:  1.4950\n",
      "FCP:  0.6898\n",
      "RMSE: 2.1731\n",
      "MSE: 4.7225\n",
      "MAE:  1.4927\n",
      "FCP:  0.6889\n",
      "RMSE: 2.1706\n",
      "MSE: 4.7117\n",
      "MAE:  1.4914\n",
      "FCP:  0.6886\n",
      "RMSE: 2.1714\n",
      "MSE: 4.7150\n",
      "MAE:  1.4915\n",
      "FCP:  0.6888\n",
      "RMSE: 2.1724\n",
      "MSE: 4.7192\n",
      "MAE:  1.4932\n",
      "FCP:  0.6882\n"
     ]
    }
   ],
   "source": [
    "predictions = predict_and_error(data, algo_normal_predictor, path=\"../predictions/slope_one/anime_type_tv/no_filter/slope_one\")"
   ]
  },
  {
   "cell_type": "code",
   "execution_count": 7,
   "id": "c41d1f51",
   "metadata": {},
   "outputs": [],
   "source": [
    "base_df_without_negative = filter_animes_without_grade(base_df)"
   ]
  },
  {
   "cell_type": "code",
   "execution_count": 8,
   "id": "7be812c0",
   "metadata": {},
   "outputs": [
    {
     "name": "stdout",
     "output_type": "stream",
     "text": [
      "RMSE: 2.1766\n",
      "MSE: 4.7377\n",
      "MAE:  1.4939\n",
      "FCP:  0.6884\n",
      "RMSE: 2.1705\n",
      "MSE: 4.7110\n",
      "MAE:  1.4910\n",
      "FCP:  0.6891\n",
      "RMSE: 2.1702\n",
      "MSE: 4.7098\n",
      "MAE:  1.4930\n",
      "FCP:  0.6900\n",
      "RMSE: 2.1726\n",
      "MSE: 4.7201\n",
      "MAE:  1.4921\n",
      "FCP:  0.6891\n",
      "RMSE: 2.1742\n",
      "MSE: 4.7273\n",
      "MAE:  1.4939\n",
      "FCP:  0.6881\n"
     ]
    }
   ],
   "source": [
    "predictions_without_negative = predict_and_error(data, algo_normal_predictor, path=\"../predictions/slope_one/anime_type_tv/with_filter_remove_negative/slope_one\")"
   ]
  }
 ],
 "metadata": {
  "kernelspec": {
   "display_name": "Python 3",
   "language": "python",
   "name": "python3"
  },
  "language_info": {
   "codemirror_mode": {
    "name": "ipython",
    "version": 3
   },
   "file_extension": ".py",
   "mimetype": "text/x-python",
   "name": "python",
   "nbconvert_exporter": "python",
   "pygments_lexer": "ipython3",
   "version": "3.6.5"
  }
 },
 "nbformat": 4,
 "nbformat_minor": 5
}
