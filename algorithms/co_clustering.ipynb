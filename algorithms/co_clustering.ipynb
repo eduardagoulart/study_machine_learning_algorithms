{
 "cells": [
  {
   "cell_type": "code",
   "execution_count": 1,
   "id": "2a0da2dd",
   "metadata": {},
   "outputs": [],
   "source": [
    "import pandas as pd\n",
    "import numpy as np\n",
    "from surprise import CoClustering\n",
    "from surprise import accuracy\n",
    "from surprise.model_selection import cross_validate\n",
    "from surprise.model_selection import train_test_split\n",
    "from surprise.model_selection import KFold\n",
    "\n",
    "from read_and_split_data import split_data, filter_animes_without_grade"
   ]
  },
  {
   "cell_type": "code",
   "execution_count": 2,
   "id": "1877aaab",
   "metadata": {},
   "outputs": [],
   "source": [
    "def get_dataset():\n",
    "    anime = pd.read_parquet(\"../datasets/anime.parquet\")\n",
    "    anime = anime[[\"anime_id\", \"type\"]]\n",
    "    users = pd.read_parquet(\"../datasets/users.parquet\")\n",
    "    base_df = users.merge(anime, on=\"anime_id\", how=\"left\")\n",
    "    return base_df\n",
    "\n",
    "base_df = get_dataset()\n",
    "data = split_data(base_df)"
   ]
  },
  {
   "cell_type": "code",
   "execution_count": 3,
   "id": "2d42c7f1",
   "metadata": {},
   "outputs": [],
   "source": [
    "kf = KFold(n_splits=5)"
   ]
  },
  {
   "cell_type": "code",
   "execution_count": 4,
   "id": "41b766af",
   "metadata": {},
   "outputs": [],
   "source": [
    "def predict_and_error(data, algo, path):\n",
    "    fold = 0\n",
    "    predictions_list = []\n",
    "    for trainset, testset in kf.split(data):\n",
    "        algo.fit(trainset)\n",
    "        predictions = algo.test(testset)\n",
    "        predictions_list.append(predictions)\n",
    "        # Mean Squared Error\n",
    "        accuracy.rmse(predictions, verbose=True)\n",
    "        # Mean Absolute Erro\n",
    "        accuracy.mse(predictions, verbose=True)\n",
    "        # Mean Absolute Erro\n",
    "        accuracy.mae(predictions, verbose=True)\n",
    "        # Fraction of Concordant Pairs\n",
    "        accuracy.fcp(predictions, verbose=True)\n",
    "        base_df = pd.DataFrame(columns=[\"user\", \"anime\", \"actual\", \"est\", \"details\"], data=predictions)\n",
    "        base_df.to_parquet(f\"{path}_{fold}.parquet\")\n",
    "        fold += 1\n",
    "    return predictions"
   ]
  },
  {
   "cell_type": "code",
   "execution_count": 5,
   "id": "8fe581e6",
   "metadata": {},
   "outputs": [],
   "source": [
    "algo_normal_predictor = CoClustering()"
   ]
  },
  {
   "cell_type": "code",
   "execution_count": 6,
   "id": "99037458",
   "metadata": {},
   "outputs": [
    {
     "name": "stdout",
     "output_type": "stream",
     "text": [
      "RMSE: 2.1808\n",
      "MSE: 4.7558\n",
      "MAE:  1.5027\n",
      "FCP:  0.6855\n",
      "RMSE: 2.1728\n",
      "MSE: 4.7213\n",
      "MAE:  1.4954\n",
      "FCP:  0.6888\n",
      "RMSE: 2.1672\n",
      "MSE: 4.6966\n",
      "MAE:  1.4983\n",
      "FCP:  0.6882\n",
      "RMSE: 2.1791\n",
      "MSE: 4.7483\n",
      "MAE:  1.5028\n",
      "FCP:  0.6832\n",
      "RMSE: 2.1672\n",
      "MSE: 4.6969\n",
      "MAE:  1.4936\n",
      "FCP:  0.6905\n"
     ]
    }
   ],
   "source": [
    "predictions = predict_and_error(data, algo_normal_predictor, path=\"../predictions/co_clustering/anime_type_tv/no_filter/co_clustering\")"
   ]
  },
  {
   "cell_type": "code",
   "execution_count": 7,
   "id": "c41d1f51",
   "metadata": {},
   "outputs": [],
   "source": [
    "base_df_without_negative = filter_animes_without_grade(base_df)"
   ]
  },
  {
   "cell_type": "code",
   "execution_count": 8,
   "id": "7be812c0",
   "metadata": {},
   "outputs": [
    {
     "name": "stdout",
     "output_type": "stream",
     "text": [
      "RMSE: 2.1643\n",
      "MSE: 4.6844\n",
      "MAE:  1.4955\n",
      "FCP:  0.6905\n",
      "RMSE: 2.1661\n",
      "MSE: 4.6921\n",
      "MAE:  1.4925\n",
      "FCP:  0.6897\n",
      "RMSE: 2.1732\n",
      "MSE: 4.7226\n",
      "MAE:  1.4979\n",
      "FCP:  0.6881\n",
      "RMSE: 2.1745\n",
      "MSE: 4.7287\n",
      "MAE:  1.5030\n",
      "FCP:  0.6898\n",
      "RMSE: 2.1643\n",
      "MSE: 4.6842\n",
      "MAE:  1.4916\n",
      "FCP:  0.6894\n"
     ]
    }
   ],
   "source": [
    "predictions_without_negative = predict_and_error(data, algo_normal_predictor, path=\"../predictions/co_clustering/anime_type_tv/with_filter_remove_negative/co_clustering\")"
   ]
  }
 ],
 "metadata": {
  "kernelspec": {
   "display_name": "Python 3",
   "language": "python",
   "name": "python3"
  },
  "language_info": {
   "codemirror_mode": {
    "name": "ipython",
    "version": 3
   },
   "file_extension": ".py",
   "mimetype": "text/x-python",
   "name": "python",
   "nbconvert_exporter": "python",
   "pygments_lexer": "ipython3",
   "version": "3.6.5"
  }
 },
 "nbformat": 4,
 "nbformat_minor": 5
}
