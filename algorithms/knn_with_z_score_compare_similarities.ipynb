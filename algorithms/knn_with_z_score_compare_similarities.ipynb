{
 "cells": [
  {
   "cell_type": "code",
   "execution_count": 1,
   "id": "2bf9e0dc",
   "metadata": {},
   "outputs": [],
   "source": [
    "import pandas as pd\n",
    "import numpy as np\n",
    "import matplotlib.pyplot as plt\n",
    "import seaborn as sns"
   ]
  },
  {
   "cell_type": "code",
   "execution_count": 2,
   "id": "77aaecbb",
   "metadata": {},
   "outputs": [],
   "source": [
    "def set_axis_style(ax, labels):\n",
    "    ax.xaxis.set_tick_params(direction='out')\n",
    "    ax.xaxis.set_ticks_position('bottom')\n",
    "    ax.set_xticks(np.arange(1, len(labels) + 1))\n",
    "    ax.set_xticklabels(labels)\n",
    "    ax.set_xlim(0.25, len(labels) + 0.75)\n",
    "    \n",
    "def plot_violin_graph(list_of_data, title):\n",
    "    # Create a figure instance\n",
    "    label = [\"Cossine\", \"MSD\", \"Pearson\", \"Pearson Baseline\"]\n",
    "    fig = plt.figure()\n",
    "  \n",
    "    # Create an axes instance\n",
    "    ax = fig.gca()\n",
    "    ax.set_title(title)\n",
    "    set_axis_style(ax, label)\n",
    "    # Create the violinplot\n",
    "    violinplot = ax.violinplot(list_of_data)\n",
    "    plt.show()\n",
    "    "
   ]
  },
  {
   "cell_type": "code",
   "execution_count": 3,
   "id": "c3a6b768",
   "metadata": {},
   "outputs": [],
   "source": [
    "cossine_fold_0 = pd.read_parquet(f\"../predictions/knn_with_z_score/anime_type_tv/no_filter/knn_with_z_score_cosine_0.parquet\")\n",
    "cossine_fold_1 = pd.read_parquet(f\"../predictions/knn_with_z_score/anime_type_tv/no_filter/knn_with_z_score_cosine_1.parquet\")\n",
    "cossine_fold_2 = pd.read_parquet(f\"../predictions/knn_with_z_score/anime_type_tv/no_filter/knn_with_z_score_cosine_2.parquet\")\n",
    "cossine_fold_3 = pd.read_parquet(f\"../predictions/knn_with_z_score/anime_type_tv/no_filter/knn_with_z_score_cosine_3.parquet\")\n",
    "cossine_fold_4 = pd.read_parquet(f\"../predictions/knn_with_z_score/anime_type_tv/no_filter/knn_with_z_score_cosine_4.parquet\")\n",
    "\n",
    "cossine = pd.concat([cossine_fold_0, cossine_fold_1, cossine_fold_2, cossine_fold_3, cossine_fold_4])"
   ]
  },
  {
   "cell_type": "code",
   "execution_count": 4,
   "id": "6c478949",
   "metadata": {},
   "outputs": [],
   "source": [
    "msd_fold_0 = pd.read_parquet(f\"../predictions/knn_with_z_score/anime_type_tv/no_filter/knn_with_z_score_msd_0.parquet\")\n",
    "msd_fold_1 = pd.read_parquet(f\"../predictions/knn_with_z_score/anime_type_tv/no_filter/knn_with_z_score_msd_1.parquet\")\n",
    "msd_fold_2 = pd.read_parquet(f\"../predictions/knn_with_z_score/anime_type_tv/no_filter/knn_with_z_score_msd_2.parquet\")\n",
    "msd_fold_3 = pd.read_parquet(f\"../predictions/knn_with_z_score/anime_type_tv/no_filter/knn_with_z_score_msd_3.parquet\")\n",
    "msd_fold_4 = pd.read_parquet(f\"../predictions/knn_with_z_score/anime_type_tv/no_filter/knn_with_z_score_msd_4.parquet\")\n",
    "\n",
    "msd = pd.concat([msd_fold_0, msd_fold_1, msd_fold_2, msd_fold_3, msd_fold_4])"
   ]
  },
  {
   "cell_type": "code",
   "execution_count": 5,
   "id": "55c550d1",
   "metadata": {},
   "outputs": [],
   "source": [
    "pearson_baseline_fold_0 = pd.read_parquet(f\"../predictions/knn_with_z_score/anime_type_tv/no_filter/knn_with_z_score_pearson_baseline_0.parquet\")\n",
    "pearson_baseline_fold_1 = pd.read_parquet(f\"../predictions/knn_with_z_score/anime_type_tv/no_filter/knn_with_z_score_pearson_baseline_1.parquet\")\n",
    "pearson_baseline_fold_2 = pd.read_parquet(f\"../predictions/knn_with_z_score/anime_type_tv/no_filter/knn_with_z_score_pearson_baseline_2.parquet\")\n",
    "pearson_baseline_fold_3 = pd.read_parquet(f\"../predictions/knn_with_z_score/anime_type_tv/no_filter/knn_with_z_score_pearson_baseline_3.parquet\")\n",
    "pearson_baseline_fold_4 = pd.read_parquet(f\"../predictions/knn_with_z_score/anime_type_tv/no_filter/knn_with_z_score_pearson_baseline_4.parquet\")\n",
    "\n",
    "pearson_baseline = pd.concat([pearson_baseline_fold_0, pearson_baseline_fold_1, pearson_baseline_fold_2, pearson_baseline_fold_3, pearson_baseline_fold_4])"
   ]
  },
  {
   "cell_type": "code",
   "execution_count": 6,
   "id": "149f9b4c",
   "metadata": {},
   "outputs": [],
   "source": [
    "pearson_fold_0 = pd.read_parquet(f\"../predictions/knn_with_z_score/anime_type_tv/no_filter/knn_with_z_score_pearson_0.parquet\")\n",
    "pearson_fold_1 = pd.read_parquet(f\"../predictions/knn_with_z_score/anime_type_tv/no_filter/knn_with_z_score_pearson_1.parquet\")\n",
    "pearson_fold_2 = pd.read_parquet(f\"../predictions/knn_with_z_score/anime_type_tv/no_filter/knn_with_z_score_pearson_2.parquet\")\n",
    "pearson_fold_3 = pd.read_parquet(f\"../predictions/knn_with_z_score/anime_type_tv/no_filter/knn_with_z_score_pearson_3.parquet\")\n",
    "pearson_fold_4 = pd.read_parquet(f\"../predictions/knn_with_z_score/anime_type_tv/no_filter/knn_with_z_score_pearson_4.parquet\")\n",
    "\n",
    "pearson = pd.concat([pearson_fold_0, pearson_fold_1, pearson_fold_2, pearson_fold_3, pearson_fold_4])"
   ]
  },
  {
   "cell_type": "code",
   "execution_count": 7,
   "id": "a7d96f84",
   "metadata": {},
   "outputs": [],
   "source": [
    "est_list = [\n",
    "    cossine[\"est\"].to_list(),\n",
    "    msd[\"est\"].to_list(),\n",
    "    pearson[\"est\"].to_list(),\n",
    "    pearson_baseline[\"est\"].to_list(),\n",
    "]"
   ]
  },
  {
   "cell_type": "code",
   "execution_count": 8,
   "id": "33fbcb01",
   "metadata": {},
   "outputs": [
    {
     "data": {
      "image/png": "[encoded data removed]",
      "text/plain": [
       "<Figure size 432x288 with 1 Axes>"
      ]
     },
     "metadata": {
      "needs_background": "light"
     },
     "output_type": "display_data"
    }
   ],
   "source": [
    "plot_violin_graph(est_list, title=\"KNN With Z Score\")"
   ]
  },
  {
   "cell_type": "code",
   "execution_count": 9,
   "id": "794300f7",
   "metadata": {},
   "outputs": [],
   "source": [
    "def round_est_values(df):\n",
    "    round_actual = np.round(df[\"est\"], decimals=0)\n",
    "    round_actual = round_actual.reset_index()\n",
    "    df = df.reset_index()[[\"index\", \"actual\", \"details\"]]\n",
    "    df = df.merge(round_actual, on=\"index\", how=\"left\")\n",
    "    df = df.set_index(\"index\")\n",
    "    grouped = df.groupby(\"est\", as_index=False).count()\n",
    "    return grouped"
   ]
  },
  {
   "cell_type": "code",
   "execution_count": 10,
   "id": "1bf792ec",
   "metadata": {},
   "outputs": [
    {
     "name": "stdout",
     "output_type": "stream",
     "text": [
      "    est   actual  details\n",
      "0   1.0  3562625  3562625\n",
      "1   2.0   441305   441305\n",
      "2   3.0   431295   431295\n",
      "3   4.0   522980   522980\n",
      "4   5.0   893950   893950\n",
      "5   6.0  2169735  2169735\n",
      "6   7.0  5149391  5149391\n",
      "7   8.0  7368120  7368120\n",
      "8   9.0  4684940  4684940\n",
      "9  10.0  1193635  1193635\n"
     ]
    }
   ],
   "source": [
    "cossine_grouped = round_est_values(cossine)\n",
    "print(cossine_grouped)"
   ]
  },
  {
   "cell_type": "code",
   "execution_count": 11,
   "id": "68ec2316",
   "metadata": {},
   "outputs": [
    {
     "name": "stdout",
     "output_type": "stream",
     "text": [
      "    est   actual  details\n",
      "0   1.0  3567210  3567210\n",
      "1   2.0   464925   464925\n",
      "2   3.0   445975   445975\n",
      "3   4.0   547010   547010\n",
      "4   5.0   924770   924770\n",
      "5   6.0  2157946  2157946\n",
      "6   7.0  4978345  4978345\n",
      "7   8.0  7177460  7177460\n",
      "8   9.0  4747375  4747375\n",
      "9  10.0  1406960  1406960\n"
     ]
    }
   ],
   "source": [
    "msd_grouped = round_est_values(msd)\n",
    "print(msd_grouped)"
   ]
  },
  {
   "cell_type": "code",
   "execution_count": 12,
   "id": "6724c0bd",
   "metadata": {},
   "outputs": [
    {
     "name": "stdout",
     "output_type": "stream",
     "text": [
      "    est   actual  details\n",
      "0   1.0  3670585  3670585\n",
      "1   2.0   365415   365415\n",
      "2   3.0   376645   376645\n",
      "3   4.0   492245   492245\n",
      "4   5.0   899875   899875\n",
      "5   6.0  2231730  2231730\n",
      "6   7.0  5143150  5143150\n",
      "7   8.0  7205001  7205001\n",
      "8   9.0  4729510  4729510\n",
      "9  10.0  1303820  1303820\n"
     ]
    }
   ],
   "source": [
    "pearson_baseline_grouped = round_est_values(pearson_baseline)\n",
    "print(pearson_baseline_grouped)"
   ]
  },
  {
   "cell_type": "code",
   "execution_count": 13,
   "id": "b561a494",
   "metadata": {},
   "outputs": [
    {
     "name": "stdout",
     "output_type": "stream",
     "text": [
      "    est   actual  details\n",
      "0   1.0  3589060  3589060\n",
      "1   2.0   461115   461115\n",
      "2   3.0   441695   441695\n",
      "3   4.0   539885   539885\n",
      "4   5.0   917880   917880\n",
      "5   6.0  2208215  2208215\n",
      "6   7.0  5071171  5071171\n",
      "7   8.0  7073440  7073440\n",
      "8   9.0  4605725  4605725\n",
      "9  10.0  1509790  1509790\n"
     ]
    }
   ],
   "source": [
    "pearson_grouped = round_est_values(pearson)\n",
    "print(pearson_grouped)"
   ]
  },
  {
   "cell_type": "code",
   "execution_count": 14,
   "id": "97a28863",
   "metadata": {},
   "outputs": [],
   "source": [
    "cossine_grouped = cossine_grouped.rename(columns={\"actual\": \"cossine\"})\n",
    "msd_grouped = msd_grouped.rename(columns={\"actual\": \"msd\"})\n",
    "pearson_baseline_grouped = pearson_baseline_grouped.rename(columns={\"actual\": \"pearson baseline\"})\n",
    "pearson_grouped = pearson_grouped.rename(columns={\"actual\": \"pearson\"})"
   ]
  },
  {
   "cell_type": "code",
   "execution_count": 15,
   "id": "5bec1839",
   "metadata": {},
   "outputs": [
    {
     "data": {
      "text/plain": [
       "<matplotlib.legend.Legend at 0x30bb63898>"
      ]
     },
     "execution_count": 15,
     "metadata": {},
     "output_type": "execute_result"
    },
    {
     "data": {
      "image/png": "[encoded data removed]",
      "text/plain": [
       "<Figure size 432x288 with 4 Axes>"
      ]
     },
     "metadata": {
      "needs_background": "light"
     },
     "output_type": "display_data"
    }
   ],
   "source": [
    "fig, ax = plt.subplots()\n",
    "ax1 = ax.twinx()\n",
    "ax2 = ax.twinx()\n",
    "ax3 = ax.twinx()\n",
    "\n",
    "cossine_grouped.plot(x=\"est\", y=[\"cossine\"], ax=ax2, ls=\"dashdot\", color=\"purple\")\n",
    "msd_grouped.plot(x=\"est\", y=[\"msd\"], ax=ax3, ls=\"dotted\", color=\"green\")\n",
    "pearson_baseline_grouped.plot(x=\"est\", y=[\"pearson baseline\"], ax=ax)\n",
    "pearson_grouped.plot(x=\"est\", y=[\"pearson\"], ax=ax1, ls=\"dashed\", color=\"red\")\n",
    "fig.legend(loc=\"upper right\", bbox_to_anchor=(1,1), bbox_transform=ax.transAxes)"
   ]
  },
  {
   "cell_type": "code",
   "execution_count": 16,
   "id": "67fa0a15",
   "metadata": {},
   "outputs": [],
   "source": [
    "cossine_fold_0 = pd.read_parquet(f\"../predictions/knn_with_z_score/anime_type_tv/with_filter_remove_negative/knn_with_z_score_cosine_0.parquet\")\n",
    "cossine_fold_1 = pd.read_parquet(f\"../predictions/knn_with_z_score/anime_type_tv/with_filter_remove_negative/knn_with_z_score_cosine_1.parquet\")\n",
    "cossine_fold_2 = pd.read_parquet(f\"../predictions/knn_with_z_score/anime_type_tv/with_filter_remove_negative/knn_with_z_score_cosine_2.parquet\")\n",
    "cossine_fold_3 = pd.read_parquet(f\"../predictions/knn_with_z_score/anime_type_tv/with_filter_remove_negative/knn_with_z_score_cosine_3.parquet\")\n",
    "cossine_fold_4 = pd.read_parquet(f\"../predictions/knn_with_z_score/anime_type_tv/with_filter_remove_negative/knn_with_z_score_cosine_4.parquet\")\n",
    "\n",
    "cossine = pd.concat([cossine_fold_0, cossine_fold_1, cossine_fold_2, cossine_fold_3, cossine_fold_4])"
   ]
  },
  {
   "cell_type": "code",
   "execution_count": 17,
   "id": "6e51ac42",
   "metadata": {},
   "outputs": [],
   "source": [
    "msd_fold_0 = pd.read_parquet(f\"../predictions/knn_with_z_score/anime_type_tv/with_filter_remove_negative/knn_with_z_score_msd_0.parquet\")\n",
    "msd_fold_1 = pd.read_parquet(f\"../predictions/knn_with_z_score/anime_type_tv/with_filter_remove_negative/knn_with_z_score_msd_1.parquet\")\n",
    "msd_fold_2 = pd.read_parquet(f\"../predictions/knn_with_z_score/anime_type_tv/with_filter_remove_negative/knn_with_z_score_msd_2.parquet\")\n",
    "msd_fold_3 = pd.read_parquet(f\"../predictions/knn_with_z_score/anime_type_tv/with_filter_remove_negative/knn_with_z_score_msd_3.parquet\")\n",
    "msd_fold_4 = pd.read_parquet(f\"../predictions/knn_with_z_score/anime_type_tv/with_filter_remove_negative/knn_with_z_score_msd_4.parquet\")\n",
    "\n",
    "msd = pd.concat([msd_fold_0, msd_fold_1, msd_fold_2, msd_fold_3, msd_fold_4])"
   ]
  },
  {
   "cell_type": "code",
   "execution_count": 18,
   "id": "d6ad4b18",
   "metadata": {},
   "outputs": [],
   "source": [
    "pearson_baseline_fold_0 = pd.read_parquet(f\"../predictions/knn_with_z_score/anime_type_tv/with_filter_remove_negative/knn_with_z_score_pearson_baseline_0.parquet\")\n",
    "pearson_baseline_fold_1 = pd.read_parquet(f\"../predictions/knn_with_z_score/anime_type_tv/with_filter_remove_negative/knn_with_z_score_pearson_baseline_1.parquet\")\n",
    "pearson_baseline_fold_2 = pd.read_parquet(f\"../predictions/knn_with_z_score/anime_type_tv/with_filter_remove_negative/knn_with_z_score_pearson_baseline_2.parquet\")\n",
    "pearson_baseline_fold_3 = pd.read_parquet(f\"../predictions/knn_with_z_score/anime_type_tv/with_filter_remove_negative/knn_with_z_score_pearson_baseline_3.parquet\")\n",
    "pearson_baseline_fold_4 = pd.read_parquet(f\"../predictions/knn_with_z_score/anime_type_tv/with_filter_remove_negative/knn_with_z_score_pearson_baseline_4.parquet\")\n",
    "\n",
    "pearson_baseline = pd.concat([pearson_baseline_fold_0, pearson_baseline_fold_1, pearson_baseline_fold_2, pearson_baseline_fold_3, pearson_baseline_fold_4])"
   ]
  },
  {
   "cell_type": "code",
   "execution_count": 19,
   "id": "9bc5b629",
   "metadata": {},
   "outputs": [],
   "source": [
    "pearson_fold_0 = pd.read_parquet(f\"../predictions/knn_with_z_score/anime_type_tv/with_filter_remove_negative/knn_with_z_score_pearson_0.parquet\")\n",
    "pearson_fold_1 = pd.read_parquet(f\"../predictions/knn_with_z_score/anime_type_tv/with_filter_remove_negative/knn_with_z_score_pearson_1.parquet\")\n",
    "pearson_fold_2 = pd.read_parquet(f\"../predictions/knn_with_z_score/anime_type_tv/with_filter_remove_negative/knn_with_z_score_pearson_2.parquet\")\n",
    "pearson_fold_3 = pd.read_parquet(f\"../predictions/knn_with_z_score/anime_type_tv/with_filter_remove_negative/knn_with_z_score_pearson_3.parquet\")\n",
    "pearson_fold_4 = pd.read_parquet(f\"../predictions/knn_with_z_score/anime_type_tv/with_filter_remove_negative/knn_with_z_score_pearson_4.parquet\")\n",
    "\n",
    "pearson = pd.concat([pearson_fold_0, pearson_fold_1, pearson_fold_2, pearson_fold_3, pearson_fold_4])"
   ]
  },
  {
   "cell_type": "code",
   "execution_count": 20,
   "id": "86fac44b",
   "metadata": {},
   "outputs": [],
   "source": [
    "est_list = [\n",
    "    cossine[\"est\"].to_list(),\n",
    "    msd[\"est\"].to_list(),\n",
    "    pearson[\"est\"].to_list(),\n",
    "    pearson_baseline[\"est\"].to_list(),\n",
    "]"
   ]
  },
  {
   "cell_type": "code",
   "execution_count": 21,
   "id": "78c2eaa3",
   "metadata": {},
   "outputs": [
    {
     "data": {
      "image/png": "[encoded data removed]",
      "text/plain": [
       "<Figure size 432x288 with 1 Axes>"
      ]
     },
     "metadata": {
      "needs_background": "light"
     },
     "output_type": "display_data"
    }
   ],
   "source": [
    "plot_violin_graph(est_list, title=\"Comparação KNN similaridades filtrando -1\")"
   ]
  },
  {
   "cell_type": "code",
   "execution_count": 22,
   "id": "e889c549",
   "metadata": {},
   "outputs": [
    {
     "name": "stdout",
     "output_type": "stream",
     "text": [
      "    est   actual  details\n",
      "0   1.0  3558435  3558435\n",
      "1   2.0   446240   446240\n",
      "2   3.0   432170   432170\n",
      "3   4.0   520790   520790\n",
      "4   5.0   894175   894175\n",
      "5   6.0  2166280  2166280\n",
      "6   7.0  5152530  5152530\n",
      "7   8.0  7371896  7371896\n",
      "8   9.0  4681980  4681980\n",
      "9  10.0  1193480  1193480\n"
     ]
    }
   ],
   "source": [
    "cossine_grouped = round_est_values(cossine)\n",
    "print(cossine_grouped)"
   ]
  },
  {
   "cell_type": "code",
   "execution_count": 23,
   "id": "da2b5200",
   "metadata": {},
   "outputs": [
    {
     "name": "stdout",
     "output_type": "stream",
     "text": [
      "    est   actual  details\n",
      "0   1.0  3570256  3570256\n",
      "1   2.0   462890   462890\n",
      "2   3.0   443795   443795\n",
      "3   4.0   547245   547245\n",
      "4   5.0   923070   923070\n",
      "5   6.0  2160255  2160255\n",
      "6   7.0  4981925  4981925\n",
      "7   8.0  7177695  7177695\n",
      "8   9.0  4746290  4746290\n",
      "9  10.0  1404555  1404555\n"
     ]
    }
   ],
   "source": [
    "msd_grouped = round_est_values(msd)\n",
    "print(msd_grouped)"
   ]
  },
  {
   "cell_type": "code",
   "execution_count": 24,
   "id": "e037dc4c",
   "metadata": {},
   "outputs": [
    {
     "name": "stdout",
     "output_type": "stream",
     "text": [
      "    est   actual  details\n",
      "0   1.0  3668345  3668345\n",
      "1   2.0   368210   368210\n",
      "2   3.0   373700   373700\n",
      "3   4.0   493910   493910\n",
      "4   5.0   900725   900725\n",
      "5   6.0  2228940  2228940\n",
      "6   7.0  5141820  5141820\n",
      "7   8.0  7206916  7206916\n",
      "8   9.0  4731585  4731585\n",
      "9  10.0  1303825  1303825\n"
     ]
    }
   ],
   "source": [
    "pearson_baseline_grouped = round_est_values(pearson_baseline)\n",
    "print(pearson_baseline_grouped)"
   ]
  },
  {
   "cell_type": "code",
   "execution_count": 25,
   "id": "a88aa4ec",
   "metadata": {},
   "outputs": [
    {
     "name": "stdout",
     "output_type": "stream",
     "text": [
      "    est   actual  details\n",
      "0   1.0  3589920  3589920\n",
      "1   2.0   460775   460775\n",
      "2   3.0   440290   440290\n",
      "3   4.0   540525   540525\n",
      "4   5.0   918655   918655\n",
      "5   6.0  2210680  2210680\n",
      "6   7.0  5073295  5073295\n",
      "7   8.0  7068205  7068205\n",
      "8   9.0  4607630  4607630\n",
      "9  10.0  1508001  1508001\n"
     ]
    }
   ],
   "source": [
    "pearson_grouped = round_est_values(pearson)\n",
    "print(pearson_grouped)"
   ]
  },
  {
   "cell_type": "code",
   "execution_count": 26,
   "id": "01ca964c",
   "metadata": {},
   "outputs": [],
   "source": [
    "cossine_grouped = cossine_grouped.rename(columns={\"actual\": \"cossine\"})\n",
    "msd_grouped = msd_grouped.rename(columns={\"actual\": \"msd\"})\n",
    "pearson_baseline_grouped = pearson_baseline_grouped.rename(columns={\"actual\": \"pearson baseline\"})\n",
    "pearson_grouped = pearson_grouped.rename(columns={\"actual\": \"pearson\"})"
   ]
  },
  {
   "cell_type": "code",
   "execution_count": 27,
   "id": "87f13a74",
   "metadata": {},
   "outputs": [
    {
     "data": {
      "text/plain": [
       "<matplotlib.legend.Legend at 0x2ac17afd0>"
      ]
     },
     "execution_count": 27,
     "metadata": {},
     "output_type": "execute_result"
    },
    {
     "data": {
      "image/png": "[encoded data removed]",
      "text/plain": [
       "<Figure size 432x288 with 4 Axes>"
      ]
     },
     "metadata": {
      "needs_background": "light"
     },
     "output_type": "display_data"
    }
   ],
   "source": [
    "fig, ax = plt.subplots()\n",
    "ax1 = ax.twinx()\n",
    "ax2 = ax.twinx()\n",
    "ax3 = ax.twinx()\n",
    "\n",
    "cossine_grouped.plot(x=\"est\", y=[\"cossine\"], ax=ax2, ls=\"dashdot\", color=\"purple\")\n",
    "msd_grouped.plot(x=\"est\", y=[\"msd\"], ax=ax3, ls=\"dotted\", color=\"green\")\n",
    "pearson_baseline_grouped.plot(x=\"est\", y=[\"pearson baseline\"], ax=ax)\n",
    "pearson_grouped.plot(x=\"est\", y=[\"pearson\"], ax=ax1, ls=\"dashed\", color=\"red\")\n",
    "fig.legend(loc=\"upper right\", bbox_to_anchor=(1,1), bbox_transform=ax.transAxes)"
   ]
  },
  {
   "cell_type": "code",
   "execution_count": null,
   "id": "f94cdca9",
   "metadata": {},
   "outputs": [],
   "source": []
  }
 ],
 "metadata": {
  "kernelspec": {
   "display_name": "Python 3",
   "language": "python",
   "name": "python3"
  },
  "language_info": {
   "codemirror_mode": {
    "name": "ipython",
    "version": 3
   },
   "file_extension": ".py",
   "mimetype": "text/x-python",
   "name": "python",
   "nbconvert_exporter": "python",
   "pygments_lexer": "ipython3",
   "version": "3.6.5"
  }
 },
 "nbformat": 4,
 "nbformat_minor": 5
}
