{
 "cells": [
  {
   "cell_type": "code",
   "execution_count": 1,
   "id": "bd2042e9",
   "metadata": {},
   "outputs": [],
   "source": [
    "import pandas as pd\n",
    "import numpy as np\n",
    "import matplotlib.pyplot as plt\n",
    "import seaborn as sns"
   ]
  },
  {
   "cell_type": "markdown",
   "id": "ecbb3e12",
   "metadata": {},
   "source": [
    "### Cosine"
   ]
  },
  {
   "cell_type": "code",
   "execution_count": 2,
   "id": "5860db48",
   "metadata": {},
   "outputs": [],
   "source": [
    "cossine_fold_0 = pd.read_parquet(f\"../predictions/knn_basic/anime_type_tv/no_filter/knn_basic_cosine_0.parquet\")\n",
    "cossine_fold_1 = pd.read_parquet(f\"../predictions/knn_basic/anime_type_tv/no_filter/knn_basic_cosine_1.parquet\")\n",
    "cossine_fold_2 = pd.read_parquet(f\"../predictions/knn_basic/anime_type_tv/no_filter/knn_basic_cosine_2.parquet\")\n",
    "cossine_fold_3 = pd.read_parquet(f\"../predictions/knn_basic/anime_type_tv/no_filter/knn_basic_cosine_3.parquet\")\n",
    "\n",
    "df = pd.concat([cossine_fold_0, cossine_fold_1, cossine_fold_2, cossine_fold_3])"
   ]
  },
  {
   "cell_type": "code",
   "execution_count": 3,
   "id": "fe3a3e6d",
   "metadata": {},
   "outputs": [],
   "source": [
    "df_actual_1 = df.loc[df[\"actual\"] == 1]"
   ]
  },
  {
   "cell_type": "code",
   "execution_count": 4,
   "id": "4fa17216",
   "metadata": {},
   "outputs": [],
   "source": [
    "round_actual_1 = np.round(df_actual_1[\"est\"], decimals=0)\n",
    "round_actual_1 = round_actual_1.reset_index()"
   ]
  },
  {
   "cell_type": "code",
   "execution_count": 5,
   "id": "127f6279",
   "metadata": {},
   "outputs": [],
   "source": [
    "df_actual_1 = df_actual_1.reset_index()[[\"index\", \"actual\", \"details\"]]\n",
    "df_actual_1 = df_actual_1.merge(round_actual_1, on=\"index\", how=\"left\")"
   ]
  },
  {
   "cell_type": "code",
   "execution_count": 6,
   "id": "2320bf38",
   "metadata": {},
   "outputs": [
    {
     "name": "stdout",
     "output_type": "stream",
     "text": [
      "         actual                                            details  est\n",
      "index                                                                  \n",
      "812         1.0  {'actual_k': 7.0, 'reason': None, 'was_impossi...  7.0\n",
      "861         1.0  {'actual_k': 7.0, 'reason': None, 'was_impossi...  2.0\n",
      "1322        1.0  {'actual_k': 7.0, 'reason': None, 'was_impossi...  7.0\n",
      "2217        1.0  {'actual_k': 7.0, 'reason': None, 'was_impossi...  7.0\n",
      "2966        1.0  {'actual_k': 1.0, 'reason': None, 'was_impossi...  9.0\n",
      "...         ...                                                ...  ...\n",
      "1053885     1.0  {'actual_k': 7.0, 'reason': None, 'was_impossi...  7.0\n",
      "1054006     1.0  {'actual_k': 7.0, 'reason': None, 'was_impossi...  4.0\n",
      "1054515     1.0  {'actual_k': 7.0, 'reason': None, 'was_impossi...  4.0\n",
      "1054830     1.0  {'actual_k': 7.0, 'reason': None, 'was_impossi...  3.0\n",
      "1056164     1.0  {'actual_k': 7.0, 'reason': None, 'was_impossi...  6.0\n",
      "\n",
      "[6600 rows x 3 columns]\n"
     ]
    }
   ],
   "source": [
    "df_actual_1 = df_actual_1.set_index(\"index\")\n",
    "print(df_actual_1)"
   ]
  },
  {
   "cell_type": "code",
   "execution_count": 7,
   "id": "55b1c0c0",
   "metadata": {},
   "outputs": [],
   "source": [
    "plot_cosine_counter = df_actual_1.groupby(\"est\", as_index=False).count()"
   ]
  },
  {
   "cell_type": "code",
   "execution_count": 8,
   "id": "5ded8792",
   "metadata": {},
   "outputs": [
    {
     "data": {
      "text/plain": [
       "<AxesSubplot:title={'center':'Actual 1 counter'}, xlabel='est'>"
      ]
     },
     "execution_count": 8,
     "metadata": {},
     "output_type": "execute_result"
    },
    {
     "data": {
      "image/png": "[encoded data removed]",
      "text/plain": [
       "<Figure size 432x288 with 1 Axes>"
      ]
     },
     "metadata": {
      "needs_background": "light"
     },
     "output_type": "display_data"
    }
   ],
   "source": [
    "plot_cosine_counter.plot.bar(x='est', y='actual', title=\"Actual 1 counter\")"
   ]
  },
  {
   "cell_type": "code",
   "execution_count": 9,
   "id": "0410116f",
   "metadata": {},
   "outputs": [],
   "source": [
    "df_actual_2 = df.loc[df[\"actual\"] == 2]\n",
    "round_actual_2 = np.round(df_actual_2[\"est\"], decimals=0)\n",
    "round_actual_2 = round_actual_2.reset_index()"
   ]
  },
  {
   "cell_type": "code",
   "execution_count": 10,
   "id": "d701ff01",
   "metadata": {},
   "outputs": [],
   "source": [
    "df_actual_2 = df_actual_2.reset_index()[[\"index\", \"actual\", \"details\"]]\n",
    "df_actual_2 = df_actual_2.merge(round_actual_2, on=\"index\", how=\"left\")"
   ]
  },
  {
   "cell_type": "code",
   "execution_count": 11,
   "id": "408a1485",
   "metadata": {},
   "outputs": [
    {
     "name": "stdout",
     "output_type": "stream",
     "text": [
      "    est  actual  details\n",
      "0   1.0     221      221\n",
      "1   2.0     200      200\n",
      "2   3.0     422      422\n",
      "3   4.0     849      849\n",
      "4   5.0    1623     1623\n",
      "5   6.0    2422     2422\n",
      "6   7.0    2565     2565\n",
      "7   8.0    1465     1465\n",
      "8   9.0     431      431\n",
      "9  10.0      47       47\n"
     ]
    }
   ],
   "source": [
    "df_actual_2 = df_actual_2.set_index(\"index\")\n",
    "plot_cosine_counter_2 = df_actual_2.groupby(\"est\", as_index=False).count()\n",
    "print(plot_cosine_counter_2)"
   ]
  },
  {
   "cell_type": "code",
   "execution_count": 12,
   "id": "c32739fb",
   "metadata": {},
   "outputs": [
    {
     "name": "stdout",
     "output_type": "stream",
     "text": [
      "10245\n"
     ]
    }
   ],
   "source": [
    "print(sum(plot_cosine_counter_2[\"actual\"]))"
   ]
  },
  {
   "cell_type": "code",
   "execution_count": 13,
   "id": "7d345b8c",
   "metadata": {},
   "outputs": [
    {
     "data": {
      "text/plain": [
       "<AxesSubplot:title={'center':'Actual 2 counter'}, xlabel='est'>"
      ]
     },
     "execution_count": 13,
     "metadata": {},
     "output_type": "execute_result"
    },
    {
     "data": {
      "image/png": "[encoded data removed]",
      "text/plain": [
       "<Figure size 432x288 with 1 Axes>"
      ]
     },
     "metadata": {
      "needs_background": "light"
     },
     "output_type": "display_data"
    }
   ],
   "source": [
    "plot_cosine_counter_2.plot.bar(x='est', y='actual', title=\"Actual 2 counter\")"
   ]
  },
  {
   "cell_type": "code",
   "execution_count": 14,
   "id": "2c45f3a1",
   "metadata": {},
   "outputs": [],
   "source": [
    "df_actual_3 = df.loc[df[\"actual\"] == 3]\n",
    "round_actual_3 = np.round(df_actual_3[\"est\"], decimals=0)\n",
    "round_actual_3 = round_actual_3.reset_index()"
   ]
  },
  {
   "cell_type": "code",
   "execution_count": 15,
   "id": "c6a3cc86",
   "metadata": {},
   "outputs": [],
   "source": [
    "df_actual_3 = df_actual_3.reset_index()[[\"index\", \"actual\", \"details\"]]\n",
    "df_actual_3 = df_actual_3.merge(round_actual_3, on=\"index\", how=\"left\")"
   ]
  },
  {
   "cell_type": "code",
   "execution_count": 16,
   "id": "7236aba7",
   "metadata": {},
   "outputs": [
    {
     "name": "stdout",
     "output_type": "stream",
     "text": [
      "    est  actual  details\n",
      "0   1.0     341      341\n",
      "1   2.0     229      229\n",
      "2   3.0     536      536\n",
      "3   4.0    1455     1455\n",
      "4   5.0    3188     3188\n",
      "5   6.0    5071     5071\n",
      "6   7.0    5233     5233\n",
      "7   8.0    2787     2787\n",
      "8   9.0     698      698\n",
      "9  10.0      54       54\n"
     ]
    }
   ],
   "source": [
    "df_actual_3 = df_actual_3.set_index(\"index\")\n",
    "plot_cosine_counter_3 = df_actual_3.groupby(\"est\", as_index=False).count()\n",
    "print(plot_cosine_counter_3)"
   ]
  },
  {
   "cell_type": "code",
   "execution_count": 17,
   "id": "d9eb923f",
   "metadata": {},
   "outputs": [
    {
     "name": "stdout",
     "output_type": "stream",
     "text": [
      "19592\n"
     ]
    }
   ],
   "source": [
    "print(sum(plot_cosine_counter_3[\"actual\"]))"
   ]
  },
  {
   "cell_type": "code",
   "execution_count": 18,
   "id": "d7499f8f",
   "metadata": {},
   "outputs": [
    {
     "data": {
      "text/plain": [
       "<AxesSubplot:title={'center':'Actual 3 counter'}, xlabel='est'>"
      ]
     },
     "execution_count": 18,
     "metadata": {},
     "output_type": "execute_result"
    },
    {
     "data": {
      "image/png": "[encoded data removed]",
      "text/plain": [
       "<Figure size 432x288 with 1 Axes>"
      ]
     },
     "metadata": {
      "needs_background": "light"
     },
     "output_type": "display_data"
    }
   ],
   "source": [
    "plot_cosine_counter_3.plot.bar(x='est', y='actual', title=\"Actual 3 counter\")"
   ]
  },
  {
   "cell_type": "code",
   "execution_count": 19,
   "id": "82db3c55",
   "metadata": {},
   "outputs": [],
   "source": [
    "df_actual_4 = df.loc[df[\"actual\"] == 4]\n",
    "round_actual_4 = np.round(df_actual_4[\"est\"], decimals=0)\n",
    "round_actual_4 = round_actual_4.reset_index()"
   ]
  },
  {
   "cell_type": "code",
   "execution_count": 20,
   "id": "eb37a57b",
   "metadata": {},
   "outputs": [],
   "source": [
    "df_actual_4 = df_actual_4.reset_index()[[\"index\", \"actual\", \"details\"]]\n",
    "df_actual_4 = df_actual_4.merge(round_actual_4, on=\"index\", how=\"left\")"
   ]
  },
  {
   "cell_type": "code",
   "execution_count": 21,
   "id": "aaa187b9",
   "metadata": {},
   "outputs": [
    {
     "name": "stdout",
     "output_type": "stream",
     "text": [
      "    est  actual  details\n",
      "0   1.0     708      708\n",
      "1   2.0     469      469\n",
      "2   3.0     922      922\n",
      "3   4.0    2476     2476\n",
      "4   5.0    6464     6464\n",
      "5   6.0   13215    13215\n",
      "6   7.0   16202    16202\n",
      "7   8.0    8987     8987\n",
      "8   9.0    2232     2232\n",
      "9  10.0     161      161\n"
     ]
    }
   ],
   "source": [
    "df_actual_4 = df_actual_4.set_index(\"index\")\n",
    "plot_cosine_counter_4 = df_actual_4.groupby(\"est\", as_index=False).count()\n",
    "print(plot_cosine_counter_4)"
   ]
  },
  {
   "cell_type": "code",
   "execution_count": 23,
   "id": "3cc44438",
   "metadata": {},
   "outputs": [
    {
     "name": "stdout",
     "output_type": "stream",
     "text": [
      "51836\n"
     ]
    }
   ],
   "source": [
    "print(sum(plot_cosine_counter_4[\"actual\"]))"
   ]
  },
  {
   "cell_type": "code",
   "execution_count": 24,
   "id": "457438ab",
   "metadata": {},
   "outputs": [
    {
     "data": {
      "text/plain": [
       "<AxesSubplot:title={'center':'Actual 4 counter'}, xlabel='est'>"
      ]
     },
     "execution_count": 24,
     "metadata": {},
     "output_type": "execute_result"
    },
    {
     "data": {
      "image/png": "[encoded data removed]",
      "text/plain": [
       "<Figure size 432x288 with 1 Axes>"
      ]
     },
     "metadata": {
      "needs_background": "light"
     },
     "output_type": "display_data"
    }
   ],
   "source": [
    "plot_cosine_counter_4.plot.bar(x='est', y='actual', title=\"Actual 4 counter\")"
   ]
  },
  {
   "cell_type": "code",
   "execution_count": 26,
   "id": "b233bc4a",
   "metadata": {},
   "outputs": [],
   "source": [
    "df_actual_5 = df.loc[df[\"actual\"] == 5]\n",
    "round_actual_5 = np.round(df_actual_5[\"est\"], decimals=0)\n",
    "round_actual_5 = round_actual_5.reset_index()"
   ]
  },
  {
   "cell_type": "code",
   "execution_count": 27,
   "id": "7bb1f408",
   "metadata": {},
   "outputs": [],
   "source": [
    "df_actual_5 = df_actual_5.reset_index()[[\"index\", \"actual\", \"details\"]]\n",
    "df_actual_5 = df_actual_5.merge(round_actual_4, on=\"index\", how=\"left\")"
   ]
  },
  {
   "cell_type": "code",
   "execution_count": 28,
   "id": "c049768d",
   "metadata": {},
   "outputs": [
    {
     "name": "stdout",
     "output_type": "stream",
     "text": [
      "    est  actual  details\n",
      "0   1.0      63       63\n",
      "1   2.0      35       35\n",
      "2   3.0      94       94\n",
      "3   4.0     227      227\n",
      "4   5.0     616      616\n",
      "5   6.0    1238     1238\n",
      "6   7.0    1446     1446\n",
      "7   8.0     862      862\n",
      "8   9.0     222      222\n",
      "9  10.0      12       12\n"
     ]
    }
   ],
   "source": [
    "df_actual_5 = df_actual_5.set_index(\"index\")\n",
    "plot_cosine_counter_5 = df_actual_5.groupby(\"est\", as_index=False).count()\n",
    "print(plot_cosine_counter_5)"
   ]
  },
  {
   "cell_type": "code",
   "execution_count": 29,
   "id": "60ce0d32",
   "metadata": {},
   "outputs": [
    {
     "name": "stdout",
     "output_type": "stream",
     "text": [
      "4815\n"
     ]
    }
   ],
   "source": [
    "print(sum(plot_cosine_counter_5[\"actual\"]))"
   ]
  },
  {
   "cell_type": "code",
   "execution_count": 30,
   "id": "61acb8d5",
   "metadata": {},
   "outputs": [
    {
     "data": {
      "text/plain": [
       "<AxesSubplot:title={'center':'Actual 5 counter'}, xlabel='est'>"
      ]
     },
     "execution_count": 30,
     "metadata": {},
     "output_type": "execute_result"
    },
    {
     "data": {
      "image/png": "[encoded data removed]",
      "text/plain": [
       "<Figure size 432x288 with 1 Axes>"
      ]
     },
     "metadata": {
      "needs_background": "light"
     },
     "output_type": "display_data"
    }
   ],
   "source": [
    "plot_cosine_counter_5.plot.bar(x='est', y='actual', title=\"Actual 5 counter\")"
   ]
  },
  {
   "cell_type": "code",
   "execution_count": 31,
   "id": "bf7408ae",
   "metadata": {},
   "outputs": [],
   "source": [
    "df_actual_6 = df.loc[df[\"actual\"] == 6]\n",
    "round_actual_6 = np.round(df_actual_6[\"est\"], decimals=0)\n",
    "round_actual_6 = round_actual_6.reset_index()"
   ]
  },
  {
   "cell_type": "code",
   "execution_count": 32,
   "id": "ba1c25d8",
   "metadata": {},
   "outputs": [],
   "source": [
    "df_actual_6 = df_actual_6.reset_index()[[\"index\", \"actual\", \"details\"]]\n",
    "df_actual_6 = df_actual_6.merge(round_actual_6, on=\"index\", how=\"left\")"
   ]
  },
  {
   "cell_type": "code",
   "execution_count": 33,
   "id": "372b5706",
   "metadata": {},
   "outputs": [
    {
     "name": "stdout",
     "output_type": "stream",
     "text": [
      "    est  actual  details\n",
      "0   1.0    4115     4115\n",
      "1   2.0    2479     2479\n",
      "2   3.0    3980     3980\n",
      "3   4.0    7467     7467\n",
      "4   5.0   19268    19268\n",
      "5   6.0   69949    69949\n",
      "6   7.0  151868   151868\n",
      "7   8.0  108268   108268\n",
      "8   9.0   25131    25131\n",
      "9  10.0    1504     1504\n"
     ]
    }
   ],
   "source": [
    "df_actual_6 = df_actual_6.set_index(\"index\")\n",
    "plot_cosine_counter_6 = df_actual_6.groupby(\"est\", as_index=False).count()\n",
    "print(plot_cosine_counter_6)"
   ]
  },
  {
   "cell_type": "code",
   "execution_count": 34,
   "id": "a4fec8ec",
   "metadata": {},
   "outputs": [
    {
     "data": {
      "text/plain": [
       "<AxesSubplot:title={'center':'Actual 6 counter'}, xlabel='est'>"
      ]
     },
     "execution_count": 34,
     "metadata": {},
     "output_type": "execute_result"
    },
    {
     "data": {
      "image/png": "[encoded data removed]",
      "text/plain": [
       "<Figure size 432x288 with 1 Axes>"
      ]
     },
     "metadata": {
      "needs_background": "light"
     },
     "output_type": "display_data"
    }
   ],
   "source": [
    "plot_cosine_counter_6.plot.bar(x='est', y='actual', title=\"Actual 6 counter\")"
   ]
  },
  {
   "cell_type": "code",
   "execution_count": 35,
   "id": "59ecde62",
   "metadata": {},
   "outputs": [],
   "source": [
    "df_actual_7 = df.loc[df[\"actual\"] == 7]\n",
    "round_actual_7 = np.round(df_actual_7[\"est\"], decimals=0)\n",
    "round_actual_7 = round_actual_7.reset_index()"
   ]
  },
  {
   "cell_type": "code",
   "execution_count": 36,
   "id": "3fa32368",
   "metadata": {},
   "outputs": [],
   "source": [
    "df_actual_7 = df_actual_7.reset_index()[[\"index\", \"actual\", \"details\"]]\n",
    "df_actual_7 = df_actual_7.merge(round_actual_7, on=\"index\", how=\"left\")"
   ]
  },
  {
   "cell_type": "code",
   "execution_count": 37,
   "id": "04584b95",
   "metadata": {},
   "outputs": [
    {
     "name": "stdout",
     "output_type": "stream",
     "text": [
      "    est  actual  details\n",
      "0   1.0   10693    10693\n",
      "1   2.0    6160     6160\n",
      "2   3.0    9844     9844\n",
      "3   4.0   15664    15664\n",
      "4   5.0   32523    32523\n",
      "5   6.0  113083   113083\n",
      "6   7.0  377299   377299\n",
      "7   8.0  428820   428820\n",
      "8   9.0  117594   117594\n",
      "9  10.0    6335     6335\n"
     ]
    }
   ],
   "source": [
    "df_actual_7 = df_actual_7.set_index(\"index\")\n",
    "plot_cosine_counter_7 = df_actual_7.groupby(\"est\", as_index=False).count()\n",
    "print(plot_cosine_counter_7)"
   ]
  },
  {
   "cell_type": "code",
   "execution_count": 38,
   "id": "a6533b4c",
   "metadata": {},
   "outputs": [
    {
     "data": {
      "text/plain": [
       "<AxesSubplot:title={'center':'Actual 7 counter'}, xlabel='est'>"
      ]
     },
     "execution_count": 38,
     "metadata": {},
     "output_type": "execute_result"
    },
    {
     "data": {
      "image/png": "[encoded data removed]",
      "text/plain": [
       "<Figure size 432x288 with 1 Axes>"
      ]
     },
     "metadata": {
      "needs_background": "light"
     },
     "output_type": "display_data"
    }
   ],
   "source": [
    "plot_cosine_counter_7.plot.bar(x='est', y='actual', title=\"Actual 7 counter\")"
   ]
  },
  {
   "cell_type": "code",
   "execution_count": 42,
   "id": "2ce73f37",
   "metadata": {},
   "outputs": [],
   "source": [
    "df_actual_8 = df.loc[df[\"actual\"] == 8]\n",
    "round_actual_8 = np.round(df_actual_8[\"est\"], decimals=0)\n",
    "round_actual_8 = round_actual_8.reset_index()"
   ]
  },
  {
   "cell_type": "code",
   "execution_count": 43,
   "id": "a0bdc37f",
   "metadata": {},
   "outputs": [],
   "source": [
    "df_actual_8 = df_actual_8.reset_index()[[\"index\", \"actual\", \"details\"]]\n",
    "df_actual_8 = df_actual_8.merge(round_actual_8, on=\"index\", how=\"left\")"
   ]
  },
  {
   "cell_type": "code",
   "execution_count": 44,
   "id": "6c526d53",
   "metadata": {},
   "outputs": [
    {
     "name": "stdout",
     "output_type": "stream",
     "text": [
      "    est  actual  details\n",
      "0   1.0   14374    14374\n",
      "1   2.0    8847     8847\n",
      "2   3.0   13445    13445\n",
      "3   4.0   18385    18385\n",
      "4   5.0   32406    32406\n",
      "5   6.0   90939    90939\n",
      "6   7.0  338349   338349\n",
      "7   8.0  701458   701458\n",
      "8   9.0  308227   308227\n",
      "9  10.0   19159    19159\n"
     ]
    }
   ],
   "source": [
    "df_actual_8 = df_actual_8.set_index(\"index\")\n",
    "plot_cosine_counter_8 = df_actual_8.groupby(\"est\", as_index=False).count()\n",
    "print(plot_cosine_counter_8)"
   ]
  },
  {
   "cell_type": "code",
   "execution_count": 45,
   "id": "3ee1cf0f",
   "metadata": {},
   "outputs": [
    {
     "data": {
      "text/plain": [
       "<AxesSubplot:title={'center':'Actual 8 counter'}, xlabel='est'>"
      ]
     },
     "execution_count": 45,
     "metadata": {},
     "output_type": "execute_result"
    },
    {
     "data": {
      "image/png": "[encoded data removed]",
      "text/plain": [
       "<Figure size 432x288 with 1 Axes>"
      ]
     },
     "metadata": {
      "needs_background": "light"
     },
     "output_type": "display_data"
    }
   ],
   "source": [
    "plot_cosine_counter_8.plot.bar(x='est', y='actual', title=\"Actual 8 counter\")"
   ]
  },
  {
   "cell_type": "code",
   "execution_count": 46,
   "id": "d899b205",
   "metadata": {},
   "outputs": [],
   "source": [
    "df_actua_9 = df.loc[df[\"actual\"] == 9]\n",
    "round_actual_9 = np.round(df_actua_9[\"est\"], decimals=0)\n",
    "round_actual_9 = round_actual_9.reset_index()"
   ]
  },
  {
   "cell_type": "code",
   "execution_count": 47,
   "id": "1ec70bad",
   "metadata": {},
   "outputs": [],
   "source": [
    "df_actua_9 = df_actua_9.reset_index()[[\"index\", \"actual\", \"details\"]]\n",
    "df_actua_9 = df_actua_9.merge(round_actual_9, on=\"index\", how=\"left\")"
   ]
  },
  {
   "cell_type": "code",
   "execution_count": 48,
   "id": "59133405",
   "metadata": {},
   "outputs": [
    {
     "name": "stdout",
     "output_type": "stream",
     "text": [
      "    est  actual  details\n",
      "0   1.0   11804    11804\n",
      "1   2.0    7753     7753\n",
      "2   3.0   10369    10369\n",
      "3   4.0   11719    11719\n",
      "4   5.0   20046    20046\n",
      "5   6.0   46856    46856\n",
      "6   7.0  145867   145867\n",
      "7   8.0  424401   424401\n",
      "8   9.0  393152   393152\n",
      "9  10.0   40190    40190\n"
     ]
    }
   ],
   "source": [
    "df_actua_9 = df_actua_9.set_index(\"index\")\n",
    "plot_cosine_counter_9 = df_actua_9.groupby(\"est\", as_index=False).count()\n",
    "print(plot_cosine_counter_9)"
   ]
  },
  {
   "cell_type": "code",
   "execution_count": 49,
   "id": "e853f244",
   "metadata": {},
   "outputs": [
    {
     "data": {
      "text/plain": [
       "<AxesSubplot:title={'center':'Actual 9 counter'}, xlabel='est'>"
      ]
     },
     "execution_count": 49,
     "metadata": {},
     "output_type": "execute_result"
    },
    {
     "data": {
      "image/png": "[encoded data removed]",
      "text/plain": [
       "<Figure size 432x288 with 1 Axes>"
      ]
     },
     "metadata": {
      "needs_background": "light"
     },
     "output_type": "display_data"
    }
   ],
   "source": [
    "plot_cosine_counter_9.plot.bar(x='est', y='actual', title=\"Actual 9 counter\")"
   ]
  },
  {
   "cell_type": "code",
   "execution_count": 50,
   "id": "89c87ee8",
   "metadata": {},
   "outputs": [],
   "source": [
    "df_actua_10 = df.loc[df[\"actual\"] == 10]\n",
    "round_actual_10 = np.round(df_actua_10[\"est\"], decimals=0)\n",
    "round_actual_10 = round_actual_10.reset_index()"
   ]
  },
  {
   "cell_type": "code",
   "execution_count": 51,
   "id": "da6505f1",
   "metadata": {},
   "outputs": [],
   "source": [
    "df_actua_10 = df_actua_10.reset_index()[[\"index\", \"actual\", \"details\"]]\n",
    "df_actua_10 = df_actua_10.merge(round_actual_10, on=\"index\", how=\"left\")"
   ]
  },
  {
   "cell_type": "code",
   "execution_count": 52,
   "id": "656ae99f",
   "metadata": {},
   "outputs": [
    {
     "name": "stdout",
     "output_type": "stream",
     "text": [
      "    est  actual  details\n",
      "0   1.0   13060    13060\n",
      "1   2.0    8273     8273\n",
      "2   3.0    6786     6786\n",
      "3   4.0    9284     9284\n",
      "4   5.0   15779    15779\n",
      "5   6.0   25706    25706\n",
      "6   7.0   60860    60860\n",
      "7   8.0  184419   184419\n",
      "8   9.0  302879   302879\n",
      "9  10.0  137994   137994\n"
     ]
    }
   ],
   "source": [
    "df_actua_10 = df_actua_10.set_index(\"index\")\n",
    "plot_cosine_counter_10 = df_actua_10.groupby(\"est\", as_index=False).count()\n",
    "print(plot_cosine_counter_10)"
   ]
  },
  {
   "cell_type": "code",
   "execution_count": 53,
   "id": "5043b6b4",
   "metadata": {},
   "outputs": [
    {
     "data": {
      "text/plain": [
       "<AxesSubplot:title={'center':'Actual 10 counter'}, xlabel='est'>"
      ]
     },
     "execution_count": 53,
     "metadata": {},
     "output_type": "execute_result"
    },
    {
     "data": {
      "image/png": "[encoded data removed]",
      "text/plain": [
       "<Figure size 432x288 with 1 Axes>"
      ]
     },
     "metadata": {
      "needs_background": "light"
     },
     "output_type": "display_data"
    }
   ],
   "source": [
    "plot_cosine_counter_10.plot.bar(x='est', y='actual', title=\"Actual 10 counter\")"
   ]
  },
  {
   "cell_type": "code",
   "execution_count": 54,
   "id": "140a4970",
   "metadata": {},
   "outputs": [],
   "source": [
    "round_df = np.round(df[\"est\"], decimals=0)\n",
    "round_df = round_df.reset_index()\n",
    "df = df.reset_index()[[\"index\", \"actual\", \"details\"]]\n",
    "df = df.merge(round_df, on=\"index\", how=\"left\")"
   ]
  },
  {
   "cell_type": "code",
   "execution_count": 55,
   "id": "54c46a98",
   "metadata": {},
   "outputs": [
    {
     "name": "stdout",
     "output_type": "stream",
     "text": [
      "    est   actual  details\n",
      "0   1.0  2298685  2298685\n",
      "1   2.0   287148   287148\n",
      "2   3.0   264120   264120\n",
      "3   4.0   310904   310904\n",
      "4   5.0   521064   521064\n",
      "5   6.0  1246136  1246136\n",
      "6   7.0  3227364  3227364\n",
      "7   8.0  5054976  5054976\n",
      "8   9.0  3115600  3115600\n",
      "9  10.0   581508   581508\n"
     ]
    }
   ],
   "source": [
    "df = df.set_index(\"index\")\n",
    "plot_df = df.groupby(\"est\", as_index=False).count()\n",
    "print(plot_df)"
   ]
  },
  {
   "cell_type": "code",
   "execution_count": 39,
   "id": "47af97d6",
   "metadata": {},
   "outputs": [],
   "source": [
    "def plot_violin_graph(list_of_data, title):\n",
    "    # Create a figure instance\n",
    "    label = [\"fold 0\", \"fold 1\", \"fold 2\", \"fold 3\"]\n",
    "    fig = plt.figure()\n",
    "  \n",
    "    # Create an axes instance\n",
    "    ax = fig.gca()\n",
    "    ax.set_title(title)\n",
    "    # Create the violinplot\n",
    "    violinplot = ax.violinplot(list_of_data)\n",
    "    plt.show()"
   ]
  },
  {
   "cell_type": "code",
   "execution_count": 40,
   "id": "2643e14b",
   "metadata": {},
   "outputs": [
    {
     "data": {
      "image/png": "[encoded data removed]",
      "text/plain": [
       "<Figure size 432x288 with 1 Axes>"
      ]
     },
     "metadata": {
      "needs_background": "light"
     },
     "output_type": "display_data"
    }
   ],
   "source": [
    "est_df = df[\"est\"].tolist()\n",
    "plot_violin_graph(est_df, title=\"all folds estimation\")"
   ]
  },
  {
   "cell_type": "code",
   "execution_count": 41,
   "id": "7449241a",
   "metadata": {},
   "outputs": [
    {
     "data": {
      "image/png": "[encoded data removed]",
      "text/plain": [
       "<Figure size 432x288 with 1 Axes>"
      ]
     },
     "metadata": {
      "needs_background": "light"
     },
     "output_type": "display_data"
    }
   ],
   "source": [
    "est_df = df[\"actual\"].tolist()\n",
    "plot_violin_graph(est_df, title=\"all folds actual\")"
   ]
  }
 ],
 "metadata": {
  "kernelspec": {
   "display_name": "Python 3",
   "language": "python",
   "name": "python3"
  },
  "language_info": {
   "codemirror_mode": {
    "name": "ipython",
    "version": 3
   },
   "file_extension": ".py",
   "mimetype": "text/x-python",
   "name": "python",
   "nbconvert_exporter": "python",
   "pygments_lexer": "ipython3",
   "version": "3.6.5"
  }
 },
 "nbformat": 4,
 "nbformat_minor": 5
}
