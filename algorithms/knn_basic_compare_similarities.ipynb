{
 "cells": [
  {
   "cell_type": "code",
   "execution_count": 1,
   "id": "2bf9e0dc",
   "metadata": {},
   "outputs": [],
   "source": [
    "import pandas as pd\n",
    "import numpy as np\n",
    "import matplotlib.pyplot as plt\n",
    "import seaborn as sns"
   ]
  },
  {
   "cell_type": "code",
   "execution_count": 2,
   "id": "77aaecbb",
   "metadata": {},
   "outputs": [],
   "source": [
    "def set_axis_style(ax, labels):\n",
    "    ax.xaxis.set_tick_params(direction='out')\n",
    "    ax.xaxis.set_ticks_position('bottom')\n",
    "    ax.set_xticks(np.arange(1, len(labels) + 1))\n",
    "    ax.set_xticklabels(labels)\n",
    "    ax.set_xlim(0.25, len(labels) + 0.75)\n",
    "    \n",
    "def plot_violin_graph(list_of_data, title):\n",
    "    # Create a figure instance\n",
    "    label = [\"Cossine\", \"MSD\", \"Pearson\", \"Pearson Baseline\"]\n",
    "    fig = plt.figure()\n",
    "  \n",
    "    # Create an axes instance\n",
    "    ax = fig.gca()\n",
    "    ax.set_title(title)\n",
    "    set_axis_style(ax, label)\n",
    "    # Create the violinplot\n",
    "    violinplot = ax.violinplot(list_of_data)\n",
    "    plt.show()\n",
    "    "
   ]
  },
  {
   "cell_type": "code",
   "execution_count": 3,
   "id": "c3a6b768",
   "metadata": {},
   "outputs": [],
   "source": [
    "cossine_fold_0 = pd.read_parquet(f\"../predictions/knn_basic/anime_type_tv/no_filter/knn_basic_cosine_0.parquet\")\n",
    "cossine_fold_1 = pd.read_parquet(f\"../predictions/knn_basic/anime_type_tv/no_filter/knn_basic_cosine_1.parquet\")\n",
    "cossine_fold_2 = pd.read_parquet(f\"../predictions/knn_basic/anime_type_tv/no_filter/knn_basic_cosine_2.parquet\")\n",
    "cossine_fold_3 = pd.read_parquet(f\"../predictions/knn_basic/anime_type_tv/no_filter/knn_basic_cosine_3.parquet\")\n",
    "cossine_fold_4 = pd.read_parquet(f\"../predictions/knn_basic/anime_type_tv/no_filter/knn_basic_cosine_4.parquet\")\n",
    "\n",
    "cossine = pd.concat([cossine_fold_0, cossine_fold_1, cossine_fold_2, cossine_fold_3, cossine_fold_4])"
   ]
  },
  {
   "cell_type": "code",
   "execution_count": 4,
   "id": "6c478949",
   "metadata": {},
   "outputs": [],
   "source": [
    "msd_fold_0 = pd.read_parquet(f\"../predictions/knn_basic/anime_type_tv/no_filter/knn_basic_msd_0.parquet\")\n",
    "msd_fold_1 = pd.read_parquet(f\"../predictions/knn_basic/anime_type_tv/no_filter/knn_basic_msd_1.parquet\")\n",
    "msd_fold_2 = pd.read_parquet(f\"../predictions/knn_basic/anime_type_tv/no_filter/knn_basic_msd_2.parquet\")\n",
    "msd_fold_3 = pd.read_parquet(f\"../predictions/knn_basic/anime_type_tv/no_filter/knn_basic_msd_3.parquet\")\n",
    "msd_fold_4 = pd.read_parquet(f\"../predictions/knn_basic/anime_type_tv/no_filter/knn_basic_msd_4.parquet\")\n",
    "\n",
    "msd = pd.concat([msd_fold_0, msd_fold_1, msd_fold_2, msd_fold_3, msd_fold_4])"
   ]
  },
  {
   "cell_type": "code",
   "execution_count": 5,
   "id": "55c550d1",
   "metadata": {},
   "outputs": [],
   "source": [
    "pearson_baseline_fold_0 = pd.read_parquet(f\"../predictions/knn_basic/anime_type_tv/no_filter/knn_basic_pearson_baseline_0.parquet\")\n",
    "pearson_baseline_fold_1 = pd.read_parquet(f\"../predictions/knn_basic/anime_type_tv/no_filter/knn_basic_pearson_baseline_1.parquet\")\n",
    "pearson_baseline_fold_2 = pd.read_parquet(f\"../predictions/knn_basic/anime_type_tv/no_filter/knn_basic_pearson_baseline_2.parquet\")\n",
    "pearson_baseline_fold_3 = pd.read_parquet(f\"../predictions/knn_basic/anime_type_tv/no_filter/knn_basic_pearson_baseline_3.parquet\")\n",
    "pearson_baseline_fold_4 = pd.read_parquet(f\"../predictions/knn_basic/anime_type_tv/no_filter/knn_basic_pearson_baseline_4.parquet\")\n",
    "\n",
    "pearson_baseline = pd.concat([pearson_baseline_fold_0, pearson_baseline_fold_1, pearson_baseline_fold_2, pearson_baseline_fold_3, pearson_baseline_fold_4])"
   ]
  },
  {
   "cell_type": "code",
   "execution_count": 6,
   "id": "149f9b4c",
   "metadata": {},
   "outputs": [],
   "source": [
    "pearson_fold_0 = pd.read_parquet(f\"../predictions/knn_basic/anime_type_tv/no_filter/knn_basic_pearson_0.parquet\")\n",
    "pearson_fold_1 = pd.read_parquet(f\"../predictions/knn_basic/anime_type_tv/no_filter/knn_basic_pearson_1.parquet\")\n",
    "pearson_fold_2 = pd.read_parquet(f\"../predictions/knn_basic/anime_type_tv/no_filter/knn_basic_pearson_2.parquet\")\n",
    "pearson_fold_3 = pd.read_parquet(f\"../predictions/knn_basic/anime_type_tv/no_filter/knn_basic_pearson_3.parquet\")\n",
    "pearson_fold_4 = pd.read_parquet(f\"../predictions/knn_basic/anime_type_tv/no_filter/knn_basic_pearson_4.parquet\")\n",
    "\n",
    "pearson = pd.concat([pearson_fold_0, pearson_fold_1, pearson_fold_2, pearson_fold_3, pearson_fold_4])"
   ]
  },
  {
   "cell_type": "code",
   "execution_count": 7,
   "id": "a7d96f84",
   "metadata": {},
   "outputs": [],
   "source": [
    "est_list = [\n",
    "    cossine[\"est\"].to_list(),\n",
    "    msd[\"est\"].to_list(),\n",
    "    pearson[\"est\"].to_list(),\n",
    "    pearson_baseline[\"est\"].to_list(),\n",
    "]"
   ]
  },
  {
   "cell_type": "code",
   "execution_count": 8,
   "id": "33fbcb01",
   "metadata": {},
   "outputs": [
    {
     "data": {
      "image/png": "[encoded data removed]",
      "text/plain": [
       "<Figure size 432x288 with 1 Axes>"
      ]
     },
     "metadata": {
      "needs_background": "light"
     },
     "output_type": "display_data"
    }
   ],
   "source": [
    "plot_violin_graph(est_list, title=\"KNN Basic\")"
   ]
  },
  {
   "cell_type": "code",
   "execution_count": 9,
   "id": "794300f7",
   "metadata": {},
   "outputs": [],
   "source": [
    "def round_est_values(df):\n",
    "    round_actual = np.round(df[\"est\"], decimals=0)\n",
    "    round_actual = round_actual.reset_index()\n",
    "    df = df.reset_index()[[\"index\", \"actual\", \"details\"]]\n",
    "    df = df.merge(round_actual, on=\"index\", how=\"left\")\n",
    "    df = df.set_index(\"index\")\n",
    "    grouped = df.groupby(\"est\", as_index=False).count()\n",
    "    return grouped"
   ]
  },
  {
   "cell_type": "code",
   "execution_count": 10,
   "id": "1bf792ec",
   "metadata": {},
   "outputs": [
    {
     "name": "stdout",
     "output_type": "stream",
     "text": [
      "    est   actual  details\n",
      "0   1.0  3594646  3594646\n",
      "1   2.0   447285   447285\n",
      "2   3.0   411320   411320\n",
      "3   4.0   484945   484945\n",
      "4   5.0   812830   812830\n",
      "5   6.0  1947940  1947940\n",
      "6   7.0  5041945  5041945\n",
      "7   8.0  7912335  7912335\n",
      "8   9.0  4856475  4856475\n",
      "9  10.0   908255   908255\n"
     ]
    }
   ],
   "source": [
    "cossine_grouped = round_est_values(cossine)\n",
    "print(cossine_grouped)"
   ]
  },
  {
   "cell_type": "code",
   "execution_count": 11,
   "id": "68ec2316",
   "metadata": {},
   "outputs": [
    {
     "name": "stdout",
     "output_type": "stream",
     "text": [
      "    est   actual  details\n",
      "0   1.0  3745366  3745366\n",
      "1   2.0   426175   426175\n",
      "2   3.0   434725   434725\n",
      "3   4.0   542780   542780\n",
      "4   5.0   952090   952090\n",
      "5   6.0  2403525  2403525\n",
      "6   7.0  5806200  5806200\n",
      "7   8.0  7481530  7481530\n",
      "8   9.0  3874225  3874225\n",
      "9  10.0   751360   751360\n"
     ]
    }
   ],
   "source": [
    "msd_grouped = round_est_values(msd)\n",
    "print(msd_grouped)"
   ]
  },
  {
   "cell_type": "code",
   "execution_count": 12,
   "id": "6724c0bd",
   "metadata": {},
   "outputs": [
    {
     "name": "stdout",
     "output_type": "stream",
     "text": [
      "    est   actual  details\n",
      "0   1.0  3644455  3644455\n",
      "1   2.0   369600   369600\n",
      "2   3.0   359455   359455\n",
      "3   4.0   437540   437540\n",
      "4   5.0   746875   746875\n",
      "5   6.0  1863640  1863640\n",
      "6   7.0  5046080  5046080\n",
      "7   8.0  8073811  8073811\n",
      "8   9.0  4875600  4875600\n",
      "9  10.0  1000920  1000920\n"
     ]
    }
   ],
   "source": [
    "pearson_baseline_grouped = round_est_values(pearson_baseline)\n",
    "print(pearson_baseline_grouped)"
   ]
  },
  {
   "cell_type": "code",
   "execution_count": 13,
   "id": "b561a494",
   "metadata": {},
   "outputs": [
    {
     "name": "stdout",
     "output_type": "stream",
     "text": [
      "    est   actual  details\n",
      "0   1.0  3787495  3787495\n",
      "1   2.0   437295   437295\n",
      "2   3.0   438865   438865\n",
      "3   4.0   561415   561415\n",
      "4   5.0  1032655  1032655\n",
      "5   6.0  2718725  2718725\n",
      "6   7.0  6530681  6530681\n",
      "7   8.0  7360305  7360305\n",
      "8   9.0  2992505  2992505\n",
      "9  10.0   558035   558035\n"
     ]
    }
   ],
   "source": [
    "pearson_grouped = round_est_values(pearson)\n",
    "print(pearson_grouped)"
   ]
  },
  {
   "cell_type": "code",
   "execution_count": 14,
   "id": "97a28863",
   "metadata": {},
   "outputs": [],
   "source": [
    "cossine_grouped = cossine_grouped.rename(columns={\"actual\": \"cossine\"})\n",
    "msd_grouped = msd_grouped.rename(columns={\"actual\": \"msd\"})\n",
    "pearson_baseline_grouped = pearson_baseline_grouped.rename(columns={\"actual\": \"pearson baseline\"})\n",
    "pearson_grouped = pearson_grouped.rename(columns={\"actual\": \"pearson\"})"
   ]
  },
  {
   "cell_type": "code",
   "execution_count": 15,
   "id": "5bec1839",
   "metadata": {},
   "outputs": [
    {
     "data": {
      "text/plain": [
       "<matplotlib.legend.Legend at 0x311a34c50>"
      ]
     },
     "execution_count": 15,
     "metadata": {},
     "output_type": "execute_result"
    },
    {
     "data": {
      "image/png": "[encoded data removed]",
      "text/plain": [
       "<Figure size 432x288 with 4 Axes>"
      ]
     },
     "metadata": {
      "needs_background": "light"
     },
     "output_type": "display_data"
    }
   ],
   "source": [
    "fig, ax = plt.subplots()\n",
    "ax1 = ax.twinx()\n",
    "ax2 = ax.twinx()\n",
    "ax3 = ax.twinx()\n",
    "\n",
    "cossine_grouped.plot(x=\"est\", y=[\"cossine\"], ax=ax2, ls=\"dashdot\", color=\"purple\")\n",
    "msd_grouped.plot(x=\"est\", y=[\"msd\"], ax=ax3, ls=\"dotted\", color=\"green\")\n",
    "pearson_baseline_grouped.plot(x=\"est\", y=[\"pearson baseline\"], ax=ax)\n",
    "pearson_grouped.plot(x=\"est\", y=[\"pearson\"], ax=ax1, ls=\"dashed\", color=\"red\")\n",
    "fig.legend(loc=\"upper right\", bbox_to_anchor=(1,1), bbox_transform=ax.transAxes)"
   ]
  }
 ],
 "metadata": {
  "kernelspec": {
   "display_name": "Python 3",
   "language": "python",
   "name": "python3"
  },
  "language_info": {
   "codemirror_mode": {
    "name": "ipython",
    "version": 3
   },
   "file_extension": ".py",
   "mimetype": "text/x-python",
   "name": "python",
   "nbconvert_exporter": "python",
   "pygments_lexer": "ipython3",
   "version": "3.6.5"
  }
 },
 "nbformat": 4,
 "nbformat_minor": 5
}
