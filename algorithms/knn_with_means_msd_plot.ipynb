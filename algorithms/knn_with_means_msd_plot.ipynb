{
 "cells": [
  {
   "cell_type": "code",
   "execution_count": 1,
   "id": "e3a39540",
   "metadata": {},
   "outputs": [],
   "source": [
    "import pandas as pd\n",
    "import numpy as np\n",
    "import matplotlib.pyplot as plt\n",
    "import seaborn as sns"
   ]
  },
  {
   "cell_type": "code",
   "execution_count": 2,
   "id": "d8fc146d",
   "metadata": {},
   "outputs": [],
   "source": [
    "def round_est_values(df):\n",
    "    round_actual = np.round(df[\"est\"], decimals=0)\n",
    "    round_actual = round_actual.reset_index()\n",
    "    df = df.reset_index()[[\"index\", \"actual\", \"details\"]]\n",
    "    df = df.merge(round_actual, on=\"index\", how=\"left\")\n",
    "    df = df.set_index(\"index\")\n",
    "    grouped = df.groupby(\"est\", as_index=False).count()\n",
    "    return grouped"
   ]
  },
  {
   "cell_type": "code",
   "execution_count": 3,
   "id": "22c87c14",
   "metadata": {},
   "outputs": [],
   "source": [
    "msd_fold_0 = pd.read_parquet(f\"../predictions/knn_with_means/anime_type_tv/no_filter/knn_with_means_msd_0.parquet\")\n",
    "msd_fold_1 = pd.read_parquet(f\"../predictions/knn_with_means/anime_type_tv/no_filter/knn_with_means_msd_1.parquet\")\n",
    "msd_fold_2 = pd.read_parquet(f\"../predictions/knn_with_means/anime_type_tv/no_filter/knn_with_means_msd_2.parquet\")\n",
    "msd_fold_3 = pd.read_parquet(f\"../predictions/knn_with_means/anime_type_tv/no_filter/knn_with_means_msd_3.parquet\")\n",
    "msd_fold_4 = pd.read_parquet(f\"../predictions/knn_with_means/anime_type_tv/no_filter/knn_with_means_msd_4.parquet\")\n",
    "\n",
    "df = pd.concat([msd_fold_0, msd_fold_1, msd_fold_2, msd_fold_3, msd_fold_4])"
   ]
  },
  {
   "cell_type": "markdown",
   "id": "47fffb85",
   "metadata": {},
   "source": [
    "### MSD"
   ]
  },
  {
   "cell_type": "markdown",
   "id": "0b3cee00",
   "metadata": {},
   "source": [
    "Os gráficos são comparativo da nota real VS a nota predita. Filtrando cada nota real (de 1 a 10), quais são as notas preditas por cada algoritmo usando similaridade msd"
   ]
  },
  {
   "cell_type": "code",
   "execution_count": 4,
   "id": "4ec82d71",
   "metadata": {},
   "outputs": [
    {
     "name": "stdout",
     "output_type": "stream",
     "text": [
      "    est   actual  details\n",
      "0   1.0  3579365  3579365\n",
      "1   2.0   458366   458366\n",
      "2   3.0   437400   437400\n",
      "3   4.0   545655   545655\n",
      "4   5.0   920800   920800\n",
      "5   6.0  2147070  2147070\n",
      "6   7.0  5014240  5014240\n",
      "7   8.0  7218390  7218390\n",
      "8   9.0  4709275  4709275\n",
      "9  10.0  1387415  1387415\n"
     ]
    }
   ],
   "source": [
    "df_grouped = round_est_values(df)\n",
    "print(df_grouped)"
   ]
  },
  {
   "cell_type": "code",
   "execution_count": 5,
   "id": "9c495da8",
   "metadata": {},
   "outputs": [
    {
     "data": {
      "text/plain": [
       "<AxesSubplot:title={'center':'Distribuição valores preditos - knn_with_means'}, xlabel='est'>"
      ]
     },
     "execution_count": 5,
     "metadata": {},
     "output_type": "execute_result"
    },
    {
     "data": {
      "image/png": "[encoded data removed]",
      "text/plain": [
       "<Figure size 432x288 with 1 Axes>"
      ]
     },
     "metadata": {
      "needs_background": "light"
     },
     "output_type": "display_data"
    }
   ],
   "source": [
    "df_grouped.plot.bar(x='est', y='actual', title=\"Distribuição valores preditos - knn_with_means\")"
   ]
  },
  {
   "cell_type": "code",
   "execution_count": 6,
   "id": "3d4fb94a",
   "metadata": {},
   "outputs": [
    {
     "name": "stdout",
     "output_type": "stream",
     "text": [
      "    est  actual  details\n",
      "0   1.0     717      717\n",
      "1   2.0     518      518\n",
      "2   3.0     711      711\n",
      "3   4.0     963      963\n",
      "4   5.0    1245     1245\n",
      "5   6.0    1499     1499\n",
      "6   7.0    1334     1334\n",
      "7   8.0     796      796\n",
      "8   9.0     358      358\n",
      "9  10.0     100      100\n"
     ]
    }
   ],
   "source": [
    "df_actual_1 = df.loc[df[\"actual\"] == 1]\n",
    "plot_msd_counter = round_est_values(df_actual_1)\n",
    "print(plot_msd_counter)"
   ]
  },
  {
   "cell_type": "code",
   "execution_count": 7,
   "id": "4e504e37",
   "metadata": {},
   "outputs": [
    {
     "data": {
      "text/plain": [
       "<AxesSubplot:title={'center':'(MSD) Actual 1 counter'}, xlabel='est'>"
      ]
     },
     "execution_count": 7,
     "metadata": {},
     "output_type": "execute_result"
    },
    {
     "data": {
      "image/png": "[encoded data removed]",
      "text/plain": [
       "<Figure size 432x288 with 1 Axes>"
      ]
     },
     "metadata": {
      "needs_background": "light"
     },
     "output_type": "display_data"
    }
   ],
   "source": [
    "plot_msd_counter.plot.bar(x='est', y='actual', title=\"(MSD) Actual 1 counter\")"
   ]
  },
  {
   "cell_type": "code",
   "execution_count": 8,
   "id": "d5b3e881",
   "metadata": {},
   "outputs": [
    {
     "name": "stdout",
     "output_type": "stream",
     "text": [
      "    est  actual  details\n",
      "0   1.0     351      351\n",
      "1   2.0     363      363\n",
      "2   3.0     957      957\n",
      "3   4.0    1739     1739\n",
      "4   5.0    2563     2563\n",
      "5   6.0    2937     2937\n",
      "6   7.0    2287     2287\n",
      "7   8.0    1185     1185\n",
      "8   9.0     397      397\n",
      "9  10.0      57       57\n"
     ]
    }
   ],
   "source": [
    "df_actual_2 = df.loc[df[\"actual\"] == 2]\n",
    "plot_msd_counter_2 = round_est_values(df_actual_2)\n",
    "print(plot_msd_counter_2)"
   ]
  },
  {
   "cell_type": "code",
   "execution_count": 9,
   "id": "47097ce1",
   "metadata": {},
   "outputs": [
    {
     "data": {
      "text/plain": [
       "<AxesSubplot:title={'center':'(MSD) Actual 2 counter'}, xlabel='est'>"
      ]
     },
     "execution_count": 9,
     "metadata": {},
     "output_type": "execute_result"
    },
    {
     "data": {
      "image/png": "[encoded data removed]",
      "text/plain": [
       "<Figure size 432x288 with 1 Axes>"
      ]
     },
     "metadata": {
      "needs_background": "light"
     },
     "output_type": "display_data"
    }
   ],
   "source": [
    "plot_msd_counter_2.plot.bar(x='est', y='actual', title=\"(MSD) Actual 2 counter\")"
   ]
  },
  {
   "cell_type": "code",
   "execution_count": 10,
   "id": "148743c3",
   "metadata": {},
   "outputs": [
    {
     "name": "stdout",
     "output_type": "stream",
     "text": [
      "    est  actual  details\n",
      "0   1.0     479      479\n",
      "1   2.0     393      393\n",
      "2   3.0    1143     1143\n",
      "3   4.0    2887     2887\n",
      "4   5.0    5338     5338\n",
      "5   6.0    6329     6329\n",
      "6   7.0    4911     4911\n",
      "7   8.0    2284     2284\n",
      "8   9.0     623      623\n",
      "9  10.0     103      103\n"
     ]
    }
   ],
   "source": [
    "df_actual_3 = df.loc[df[\"actual\"] == 3]\n",
    "plot_msd_counter_3 = round_est_values(df_actual_3)\n",
    "print(plot_msd_counter_3)"
   ]
  },
  {
   "cell_type": "code",
   "execution_count": 11,
   "id": "766a09da",
   "metadata": {},
   "outputs": [
    {
     "data": {
      "text/plain": [
       "<AxesSubplot:title={'center':'(MSD) Actual 3 counter'}, xlabel='est'>"
      ]
     },
     "execution_count": 11,
     "metadata": {},
     "output_type": "execute_result"
    },
    {
     "data": {
      "image/png": "[encoded data removed]",
      "text/plain": [
       "<Figure size 432x288 with 1 Axes>"
      ]
     },
     "metadata": {
      "needs_background": "light"
     },
     "output_type": "display_data"
    }
   ],
   "source": [
    "plot_msd_counter_3.plot.bar(x='est', y='actual', title=\"(MSD) Actual 3 counter\")"
   ]
  },
  {
   "cell_type": "code",
   "execution_count": 12,
   "id": "9763368d",
   "metadata": {},
   "outputs": [
    {
     "name": "stdout",
     "output_type": "stream",
     "text": [
      "    est  actual  details\n",
      "0   1.0    1048     1048\n",
      "1   2.0     781      781\n",
      "2   3.0    1681     1681\n",
      "3   4.0    4836     4836\n",
      "4   5.0   11931    11931\n",
      "5   6.0   18717    18717\n",
      "6   7.0   16536    16536\n",
      "7   8.0    7694     7694\n",
      "8   9.0    2014     2014\n",
      "9  10.0     309      309\n"
     ]
    }
   ],
   "source": [
    "df_actual_4 = df.loc[df[\"actual\"] == 4]\n",
    "plot_msd_counter_4 = round_est_values(df_actual_4)\n",
    "print(plot_msd_counter_4)"
   ]
  },
  {
   "cell_type": "code",
   "execution_count": 13,
   "id": "8f31ee3c",
   "metadata": {},
   "outputs": [
    {
     "data": {
      "text/plain": [
       "<AxesSubplot:title={'center':'(MSD) Actual 4 counter'}, xlabel='est'>"
      ]
     },
     "execution_count": 13,
     "metadata": {},
     "output_type": "execute_result"
    },
    {
     "data": {
      "image/png": "[encoded data removed]",
      "text/plain": [
       "<Figure size 432x288 with 1 Axes>"
      ]
     },
     "metadata": {
      "needs_background": "light"
     },
     "output_type": "display_data"
    }
   ],
   "source": [
    "plot_msd_counter_4.plot.bar(x='est', y='actual', title=\"(MSD) Actual 4 counter\")"
   ]
  },
  {
   "cell_type": "code",
   "execution_count": 14,
   "id": "d47b8a66",
   "metadata": {},
   "outputs": [
    {
     "name": "stdout",
     "output_type": "stream",
     "text": [
      "    est  actual  details\n",
      "0   1.0    2630     2630\n",
      "1   2.0    1947     1947\n",
      "2   3.0    3328     3328\n",
      "3   4.0    7577     7577\n",
      "4   5.0   24828    24828\n",
      "5   6.0   56059    56059\n",
      "6   7.0   59185    59185\n",
      "7   8.0   28434    28434\n",
      "8   9.0    6888     6888\n",
      "9  10.0     961      961\n"
     ]
    }
   ],
   "source": [
    "df_actual_5 = df.loc[df[\"actual\"] == 5]\n",
    "plot_msd_counter_5 = round_est_values(df_actual_5)\n",
    "print(plot_msd_counter_5)"
   ]
  },
  {
   "cell_type": "code",
   "execution_count": 15,
   "id": "186b4675",
   "metadata": {},
   "outputs": [
    {
     "data": {
      "text/plain": [
       "<AxesSubplot:title={'center':'(MSD) Actual 5 counter'}, xlabel='est'>"
      ]
     },
     "execution_count": 15,
     "metadata": {},
     "output_type": "execute_result"
    },
    {
     "data": {
      "image/png": "[encoded data removed]",
      "text/plain": [
       "<Figure size 432x288 with 1 Axes>"
      ]
     },
     "metadata": {
      "needs_background": "light"
     },
     "output_type": "display_data"
    }
   ],
   "source": [
    "plot_msd_counter_5.plot.bar(x='est', y='actual', title=\"(MSD) Actual 5 counter\")"
   ]
  },
  {
   "cell_type": "code",
   "execution_count": 16,
   "id": "9c133b82",
   "metadata": {},
   "outputs": [
    {
     "name": "stdout",
     "output_type": "stream",
     "text": [
      "    est  actual  details\n",
      "0   1.0    5467     5467\n",
      "1   2.0    3880     3880\n",
      "2   3.0    5899     5899\n",
      "3   4.0   11872    11872\n",
      "4   5.0   34367    34367\n",
      "5   6.0  119785   119785\n",
      "6   7.0  199889   199889\n",
      "7   8.0  112553   112553\n",
      "8   9.0   26445    26445\n",
      "9  10.0    3375     3375\n"
     ]
    }
   ],
   "source": [
    "df_actual_6 = df.loc[df[\"actual\"] == 6]\n",
    "plot_msd_counter_6 = round_est_values(df_actual_6)\n",
    "print(plot_msd_counter_6)"
   ]
  },
  {
   "cell_type": "code",
   "execution_count": 17,
   "id": "047fbe05",
   "metadata": {},
   "outputs": [
    {
     "data": {
      "text/plain": [
       "<AxesSubplot:title={'center':'(MSD) Actual 6 counter'}, xlabel='est'>"
      ]
     },
     "execution_count": 17,
     "metadata": {},
     "output_type": "execute_result"
    },
    {
     "data": {
      "image/png": "[encoded data removed]",
      "text/plain": [
       "<Figure size 432x288 with 1 Axes>"
      ]
     },
     "metadata": {
      "needs_background": "light"
     },
     "output_type": "display_data"
    }
   ],
   "source": [
    "plot_msd_counter_6.plot.bar(x='est', y='actual', title=\"(MSD) Actual 6 counter\")"
   ]
  },
  {
   "cell_type": "code",
   "execution_count": 18,
   "id": "0946827e",
   "metadata": {},
   "outputs": [
    {
     "name": "stdout",
     "output_type": "stream",
     "text": [
      "    est  actual  details\n",
      "0   1.0   14262    14262\n",
      "1   2.0   10171    10171\n",
      "2   3.0   14683    14683\n",
      "3   4.0   23590    23590\n",
      "4   5.0   52261    52261\n",
      "5   6.0  183583   183583\n",
      "6   7.0  566418   566418\n",
      "7   8.0  535092   535092\n",
      "8   9.0  140642   140642\n",
      "9  10.0   15446    15446\n"
     ]
    }
   ],
   "source": [
    "df_actual_7 = df.loc[df[\"actual\"] == 7]\n",
    "plot_msd_counter_7 = round_est_values(df_actual_7)\n",
    "print(plot_msd_counter_7)"
   ]
  },
  {
   "cell_type": "code",
   "execution_count": 19,
   "id": "2dd5d395",
   "metadata": {},
   "outputs": [
    {
     "data": {
      "text/plain": [
       "<AxesSubplot:title={'center':'(MSD) Actual 7 counter'}, xlabel='est'>"
      ]
     },
     "execution_count": 19,
     "metadata": {},
     "output_type": "execute_result"
    },
    {
     "data": {
      "image/png": "[encoded data removed]",
      "text/plain": [
       "<Figure size 432x288 with 1 Axes>"
      ]
     },
     "metadata": {
      "needs_background": "light"
     },
     "output_type": "display_data"
    }
   ],
   "source": [
    "plot_msd_counter_7.plot.bar(x='est', y='actual', title=\"(MSD) Actual 7 counter\")"
   ]
  },
  {
   "cell_type": "code",
   "execution_count": 20,
   "id": "32591dc0",
   "metadata": {},
   "outputs": [
    {
     "name": "stdout",
     "output_type": "stream",
     "text": [
      "    est  actual  details\n",
      "0   1.0   19376    19376\n",
      "1   2.0   13849    13849\n",
      "2   3.0   18586    18586\n",
      "3   4.0   26318    26318\n",
      "4   5.0   46817    46817\n",
      "5   6.0  127757   127757\n",
      "6   7.0  484691   484691\n",
      "7   8.0  976438   976438\n",
      "8   9.0  428113   428113\n",
      "9  10.0   49023    49023\n"
     ]
    }
   ],
   "source": [
    "df_actual_8 = df.loc[df[\"actual\"] == 8]\n",
    "plot_msd_counter_8 = round_est_values(df_actual_8)\n",
    "print(plot_msd_counter_8)"
   ]
  },
  {
   "cell_type": "code",
   "execution_count": 21,
   "id": "677f6ea0",
   "metadata": {},
   "outputs": [
    {
     "data": {
      "text/plain": [
       "<AxesSubplot:title={'center':'(MSD) Actual 8 counter'}, xlabel='est'>"
      ]
     },
     "execution_count": 21,
     "metadata": {},
     "output_type": "execute_result"
    },
    {
     "data": {
      "image/png": "[encoded data removed]",
      "text/plain": [
       "<Figure size 432x288 with 1 Axes>"
      ]
     },
     "metadata": {
      "needs_background": "light"
     },
     "output_type": "display_data"
    }
   ],
   "source": [
    "plot_msd_counter_8.plot.bar(x='est', y='actual', title=\"(MSD) Actual 8 counter\")"
   ]
  },
  {
   "cell_type": "code",
   "execution_count": 22,
   "id": "79d11434",
   "metadata": {},
   "outputs": [
    {
     "name": "stdout",
     "output_type": "stream",
     "text": [
      "    est  actual  details\n",
      "0   1.0   16174    16174\n",
      "1   2.0   10739    10739\n",
      "2   3.0   13078    13078\n",
      "3   4.0   17504    17504\n",
      "4   5.0   27579    27579\n",
      "5   6.0   59474    59474\n",
      "6   7.0  186992   186992\n",
      "7   8.0  556775   556775\n",
      "8   9.0  562328   562328\n",
      "9  10.0  100629   100629\n"
     ]
    }
   ],
   "source": [
    "df_actua_9 = df.loc[df[\"actual\"] == 9]\n",
    "plot_msd_counter_9 = round_est_values(df_actua_9)\n",
    "print(plot_msd_counter_9)"
   ]
  },
  {
   "cell_type": "code",
   "execution_count": 23,
   "id": "8195813e",
   "metadata": {},
   "outputs": [
    {
     "data": {
      "text/plain": [
       "<AxesSubplot:title={'center':'(MSD) Actual 9 counter'}, xlabel='est'>"
      ]
     },
     "execution_count": 23,
     "metadata": {},
     "output_type": "execute_result"
    },
    {
     "data": {
      "image/png": "[encoded data removed]",
      "text/plain": [
       "<Figure size 432x288 with 1 Axes>"
      ]
     },
     "metadata": {
      "needs_background": "light"
     },
     "output_type": "display_data"
    }
   ],
   "source": [
    "plot_msd_counter_9.plot.bar(x='est', y='actual', title=\"(MSD) Actual 9 counter\")"
   ]
  },
  {
   "cell_type": "code",
   "execution_count": 24,
   "id": "7ee69a50",
   "metadata": {},
   "outputs": [
    {
     "name": "stdout",
     "output_type": "stream",
     "text": [
      "    est  actual  details\n",
      "0   1.0   17920    17920\n",
      "1   2.0    9504     9504\n",
      "2   3.0    9818     9818\n",
      "3   4.0   13618    13618\n",
      "4   5.0   19130    19130\n",
      "5   6.0   32356    32356\n",
      "6   7.0   73655    73655\n",
      "7   8.0  210900   210900\n",
      "8   9.0  395208   395208\n",
      "9  10.0  267228   267228\n"
     ]
    }
   ],
   "source": [
    "df_actua_10 = df.loc[df[\"actual\"] == 10]\n",
    "plot_msd_counter_10 = round_est_values(df_actua_10)\n",
    "print(plot_msd_counter_10)"
   ]
  },
  {
   "cell_type": "code",
   "execution_count": 25,
   "id": "57c550c6",
   "metadata": {},
   "outputs": [
    {
     "data": {
      "text/plain": [
       "<AxesSubplot:title={'center':'(MSD) Actual 10 counter'}, xlabel='est'>"
      ]
     },
     "execution_count": 25,
     "metadata": {},
     "output_type": "execute_result"
    },
    {
     "data": {
      "image/png": "[encoded data removed]",
      "text/plain": [
       "<Figure size 432x288 with 1 Axes>"
      ]
     },
     "metadata": {
      "needs_background": "light"
     },
     "output_type": "display_data"
    }
   ],
   "source": [
    "plot_msd_counter_10.plot.bar(x='est', y='actual', title=\"(MSD) Actual 10 counter\")"
   ]
  },
  {
   "cell_type": "code",
   "execution_count": 26,
   "id": "4b7463f0",
   "metadata": {},
   "outputs": [],
   "source": [
    "round_df = np.round(df[\"est\"], decimals=0)\n",
    "round_df = round_df.reset_index()\n",
    "df = df.reset_index()[[\"index\", \"actual\", \"details\"]]\n",
    "df = df.merge(round_df, on=\"index\", how=\"left\")"
   ]
  },
  {
   "cell_type": "code",
   "execution_count": 27,
   "id": "76110117",
   "metadata": {},
   "outputs": [
    {
     "name": "stdout",
     "output_type": "stream",
     "text": [
      "    est   actual  details\n",
      "0   1.0  3579365  3579365\n",
      "1   2.0   458366   458366\n",
      "2   3.0   437400   437400\n",
      "3   4.0   545655   545655\n",
      "4   5.0   920800   920800\n",
      "5   6.0  2147070  2147070\n",
      "6   7.0  5014240  5014240\n",
      "7   8.0  7218390  7218390\n",
      "8   9.0  4709275  4709275\n",
      "9  10.0  1387415  1387415\n"
     ]
    }
   ],
   "source": [
    "df = df.set_index(\"index\")\n",
    "plot_df = df.groupby(\"est\", as_index=False).count()\n",
    "print(plot_df)"
   ]
  },
  {
   "cell_type": "code",
   "execution_count": 28,
   "id": "4df0ebc3",
   "metadata": {},
   "outputs": [],
   "source": [
    "def plot_violin_graph_base(list_of_data, title):\n",
    "    # Create a figure instance\n",
    "    fig = plt.figure()\n",
    "  \n",
    "    # Create an axes instance\n",
    "    ax = fig.gca()\n",
    "    ax.set_title(title)\n",
    "    # Create the violinplot\n",
    "    violinplot = ax.violinplot(list_of_data)\n",
    "    plt.show()"
   ]
  },
  {
   "cell_type": "markdown",
   "id": "2387f0a9",
   "metadata": {},
   "source": [
    "Gráfico para o estudo de como está distribuição de notas preditas"
   ]
  },
  {
   "cell_type": "code",
   "execution_count": 29,
   "id": "9baa64dc",
   "metadata": {},
   "outputs": [
    {
     "data": {
      "image/png": "[encoded data removed]",
      "text/plain": [
       "<Figure size 432x288 with 1 Axes>"
      ]
     },
     "metadata": {
      "needs_background": "light"
     },
     "output_type": "display_data"
    }
   ],
   "source": [
    "est_df = df[\"est\"].tolist()\n",
    "plot_violin_graph_base(est_df, title=\"all folds estimation\")"
   ]
  },
  {
   "cell_type": "markdown",
   "id": "6c291100",
   "metadata": {},
   "source": [
    "é notório também que as notas reais estão amis concentradas entre 6 e 8, o que infuencia na predição. O algoritmo tende a acertar mais quando com essas notas e errar com notas entre 1 e 4"
   ]
  },
  {
   "cell_type": "code",
   "execution_count": 30,
   "id": "23f2a141",
   "metadata": {},
   "outputs": [
    {
     "data": {
      "image/png": "[encoded data removed]",
      "text/plain": [
       "<Figure size 432x288 with 1 Axes>"
      ]
     },
     "metadata": {
      "needs_background": "light"
     },
     "output_type": "display_data"
    }
   ],
   "source": [
    "est_df = df[\"actual\"].tolist()\n",
    "plot_violin_graph_base(est_df, title=\"all folds actual\")"
   ]
  },
  {
   "cell_type": "markdown",
   "id": "8da375f2",
   "metadata": {},
   "source": [
    "# Removing negative grades"
   ]
  },
  {
   "cell_type": "markdown",
   "id": "0ec3a66f",
   "metadata": {},
   "source": [
    "### Cossine"
   ]
  },
  {
   "cell_type": "code",
   "execution_count": 31,
   "id": "bbbc60c5",
   "metadata": {},
   "outputs": [],
   "source": [
    "knn_basic_0 = pd.read_parquet(f\"../predictions/knn_with_means/anime_type_tv/with_filter_remove_negative/knn_with_means_msd_0.parquet\")\n",
    "knn_basic_1 = pd.read_parquet(f\"../predictions/knn_with_means/anime_type_tv/with_filter_remove_negative/knn_with_means_msd_1.parquet\")\n",
    "knn_basic_2 = pd.read_parquet(f\"../predictions/knn_with_means/anime_type_tv/with_filter_remove_negative/knn_with_means_msd_2.parquet\")\n",
    "knn_basic_3 = pd.read_parquet(f\"../predictions/knn_with_means/anime_type_tv/with_filter_remove_negative/knn_with_means_msd_3.parquet\")\n",
    "knn_basic_4 = pd.read_parquet(f\"../predictions/knn_with_means/anime_type_tv/with_filter_remove_negative/knn_with_means_msd_4.parquet\")\n",
    "\n",
    "knn_basic = pd.concat([knn_basic_0, knn_basic_1, knn_basic_2, knn_basic_3, knn_basic_4])"
   ]
  },
  {
   "cell_type": "code",
   "execution_count": 32,
   "id": "c027cf4b",
   "metadata": {},
   "outputs": [
    {
     "name": "stdout",
     "output_type": "stream",
     "text": [
      "    est   actual  details\n",
      "0   1.0  3579110  3579110\n",
      "1   2.0   460260   460260\n",
      "2   3.0   438020   438020\n",
      "3   4.0   542720   542720\n",
      "4   5.0   918430   918430\n",
      "5   6.0  2148976  2148976\n",
      "6   7.0  5023175  5023175\n",
      "7   8.0  7210640  7210640\n",
      "8   9.0  4709660  4709660\n",
      "9  10.0  1386985  1386985\n"
     ]
    }
   ],
   "source": [
    "df_grouped = round_est_values(knn_basic)\n",
    "print(df_grouped)"
   ]
  },
  {
   "cell_type": "code",
   "execution_count": 33,
   "id": "8e7c03a9",
   "metadata": {},
   "outputs": [
    {
     "data": {
      "text/plain": [
       "<AxesSubplot:title={'center':'Distribuição valores preditos (filtro -1) - knn_with_means'}, xlabel='est'>"
      ]
     },
     "execution_count": 33,
     "metadata": {},
     "output_type": "execute_result"
    },
    {
     "data": {
      "image/png": "[encoded data removed]",
      "text/plain": [
       "<Figure size 432x288 with 1 Axes>"
      ]
     },
     "metadata": {
      "needs_background": "light"
     },
     "output_type": "display_data"
    }
   ],
   "source": [
    "df_grouped.plot.bar(x='est', y='actual', title=\"Distribuição valores preditos (filtro -1) - knn_with_means\")"
   ]
  },
  {
   "cell_type": "code",
   "execution_count": 34,
   "id": "c2999b6e",
   "metadata": {},
   "outputs": [
    {
     "name": "stdout",
     "output_type": "stream",
     "text": [
      "    est  actual  details\n",
      "0   1.0     691      691\n",
      "1   2.0     523      523\n",
      "2   3.0     705      705\n",
      "3   4.0     970      970\n",
      "4   5.0    1255     1255\n",
      "5   6.0    1507     1507\n",
      "6   7.0    1374     1374\n",
      "7   8.0     792      792\n",
      "8   9.0     339      339\n",
      "9  10.0      93       93\n"
     ]
    }
   ],
   "source": [
    "df_actual_with_filter_1 = knn_basic.loc[knn_basic[\"actual\"] == 1]\n",
    "df_actual_with_filter_1_plot = round_est_values(df_actual_with_filter_1)\n",
    "print(df_actual_with_filter_1_plot)"
   ]
  },
  {
   "cell_type": "code",
   "execution_count": 35,
   "id": "0fb96551",
   "metadata": {},
   "outputs": [
    {
     "data": {
      "text/plain": [
       "<AxesSubplot:title={'center':'(MSD) Actual 1 counter (filter -1)'}, xlabel='est'>"
      ]
     },
     "execution_count": 35,
     "metadata": {},
     "output_type": "execute_result"
    },
    {
     "data": {
      "image/png": "[encoded data removed]",
      "text/plain": [
       "<Figure size 432x288 with 1 Axes>"
      ]
     },
     "metadata": {
      "needs_background": "light"
     },
     "output_type": "display_data"
    }
   ],
   "source": [
    "df_actual_with_filter_1_plot.plot.bar(x='est', y='actual', title=\"(MSD) Actual 1 counter (filter -1)\")"
   ]
  },
  {
   "cell_type": "code",
   "execution_count": 36,
   "id": "49bb933d",
   "metadata": {},
   "outputs": [
    {
     "name": "stdout",
     "output_type": "stream",
     "text": [
      "    est  actual  details\n",
      "0   1.0     344      344\n",
      "1   2.0     380      380\n",
      "2   3.0     923      923\n",
      "3   4.0    1718     1718\n",
      "4   5.0    2540     2540\n",
      "5   6.0    2977     2977\n",
      "6   7.0    2235     2235\n",
      "7   8.0    1257     1257\n",
      "8   9.0     373      373\n",
      "9  10.0      71       71\n"
     ]
    }
   ],
   "source": [
    "df_actual_with_filter_2 = knn_basic.loc[knn_basic[\"actual\"] == 2]\n",
    "df_actual_with_filter_2_plot = round_est_values(df_actual_with_filter_2)\n",
    "print(df_actual_with_filter_2_plot)"
   ]
  },
  {
   "cell_type": "code",
   "execution_count": 37,
   "id": "3844f54e",
   "metadata": {},
   "outputs": [
    {
     "data": {
      "text/plain": [
       "<AxesSubplot:title={'center':'(MSD) Actual 2 counter (filter -1)'}, xlabel='est'>"
      ]
     },
     "execution_count": 37,
     "metadata": {},
     "output_type": "execute_result"
    },
    {
     "data": {
      "image/png": "[encoded data removed]",
      "text/plain": [
       "<Figure size 432x288 with 1 Axes>"
      ]
     },
     "metadata": {
      "needs_background": "light"
     },
     "output_type": "display_data"
    }
   ],
   "source": [
    "df_actual_with_filter_2_plot.plot.bar(x='est', y='actual', title=\"(MSD) Actual 2 counter (filter -1)\")"
   ]
  },
  {
   "cell_type": "code",
   "execution_count": 38,
   "id": "4a218f67",
   "metadata": {},
   "outputs": [
    {
     "name": "stdout",
     "output_type": "stream",
     "text": [
      "    est  actual  details\n",
      "0   1.0     454      454\n",
      "1   2.0     392      392\n",
      "2   3.0    1110     1110\n",
      "3   4.0    2922     2922\n",
      "4   5.0    5324     5324\n",
      "5   6.0    6399     6399\n",
      "6   7.0    4849     4849\n",
      "7   8.0    2329     2329\n",
      "8   9.0     608      608\n",
      "9  10.0     109      109\n"
     ]
    }
   ],
   "source": [
    "df_actual_with_filter_3 = knn_basic.loc[knn_basic[\"actual\"] == 3]\n",
    "df_actual_with_filter_3_plot = round_est_values(df_actual_with_filter_3)\n",
    "print(df_actual_with_filter_3_plot)"
   ]
  },
  {
   "cell_type": "code",
   "execution_count": 39,
   "id": "5fb4dd78",
   "metadata": {},
   "outputs": [
    {
     "data": {
      "text/plain": [
       "<AxesSubplot:title={'center':'(MSD) Actual 3 counter (filter -1)'}, xlabel='est'>"
      ]
     },
     "execution_count": 39,
     "metadata": {},
     "output_type": "execute_result"
    },
    {
     "data": {
      "image/png": "[encoded data removed]",
      "text/plain": [
       "<Figure size 432x288 with 1 Axes>"
      ]
     },
     "metadata": {
      "needs_background": "light"
     },
     "output_type": "display_data"
    }
   ],
   "source": [
    "df_actual_with_filter_3_plot.plot.bar(x='est', y='actual', title=\"(MSD) Actual 3 counter (filter -1)\")"
   ]
  },
  {
   "cell_type": "code",
   "execution_count": 40,
   "id": "4c51f87e",
   "metadata": {},
   "outputs": [
    {
     "name": "stdout",
     "output_type": "stream",
     "text": [
      "    est  actual  details\n",
      "0   1.0    1012     1012\n",
      "1   2.0     779      779\n",
      "2   3.0    1670     1670\n",
      "3   4.0    4789     4789\n",
      "4   5.0   11964    11964\n",
      "5   6.0   18704    18704\n",
      "6   7.0   16666    16666\n",
      "7   8.0    7610     7610\n",
      "8   9.0    2037     2037\n",
      "9  10.0     278      278\n"
     ]
    }
   ],
   "source": [
    "df_actual_with_filter_4 = knn_basic.loc[knn_basic[\"actual\"] == 4]\n",
    "df_actual_with_filter_4_plot = round_est_values(df_actual_with_filter_4)\n",
    "print(df_actual_with_filter_4_plot)"
   ]
  },
  {
   "cell_type": "code",
   "execution_count": 41,
   "id": "c101ef76",
   "metadata": {},
   "outputs": [
    {
     "data": {
      "text/plain": [
       "<AxesSubplot:title={'center':'(MSD) Actual 4 counter (filter -1)'}, xlabel='est'>"
      ]
     },
     "execution_count": 41,
     "metadata": {},
     "output_type": "execute_result"
    },
    {
     "data": {
      "image/png": "[encoded data removed]",
      "text/plain": [
       "<Figure size 432x288 with 1 Axes>"
      ]
     },
     "metadata": {
      "needs_background": "light"
     },
     "output_type": "display_data"
    }
   ],
   "source": [
    "df_actual_with_filter_4_plot.plot.bar(x='est', y='actual', title=\"(MSD) Actual 4 counter (filter -1)\")"
   ]
  },
  {
   "cell_type": "code",
   "execution_count": 42,
   "id": "4475d1a8",
   "metadata": {},
   "outputs": [
    {
     "name": "stdout",
     "output_type": "stream",
     "text": [
      "    est  actual  details\n",
      "0   1.0    2685     2685\n",
      "1   2.0    1857     1857\n",
      "2   3.0    3203     3203\n",
      "3   4.0    7496     7496\n",
      "4   5.0   24941    24941\n",
      "5   6.0   55913    55913\n",
      "6   7.0   59268    59268\n",
      "7   8.0   28013    28013\n",
      "8   9.0    7008     7008\n",
      "9  10.0     983      983\n"
     ]
    }
   ],
   "source": [
    "df_actual_with_filter_5 = knn_basic.loc[knn_basic[\"actual\"] == 5]\n",
    "df_actual_with_filter_5_plot = round_est_values(df_actual_with_filter_5)\n",
    "print(df_actual_with_filter_5_plot)"
   ]
  },
  {
   "cell_type": "code",
   "execution_count": 43,
   "id": "b4695c2f",
   "metadata": {},
   "outputs": [
    {
     "data": {
      "text/plain": [
       "<AxesSubplot:title={'center':'(MSD) Actual 5 counter (filter -1)'}, xlabel='est'>"
      ]
     },
     "execution_count": 43,
     "metadata": {},
     "output_type": "execute_result"
    },
    {
     "data": {
      "image/png": "[encoded data removed]",
      "text/plain": [
       "<Figure size 432x288 with 1 Axes>"
      ]
     },
     "metadata": {
      "needs_background": "light"
     },
     "output_type": "display_data"
    }
   ],
   "source": [
    "df_actual_with_filter_5_plot.plot.bar(x='est', y='actual', title=\"(MSD) Actual 5 counter (filter -1)\")"
   ]
  },
  {
   "cell_type": "code",
   "execution_count": 44,
   "id": "f5d29957",
   "metadata": {},
   "outputs": [
    {
     "name": "stdout",
     "output_type": "stream",
     "text": [
      "    est  actual  details\n",
      "0   1.0    5394     5394\n",
      "1   2.0    3998     3998\n",
      "2   3.0    6076     6076\n",
      "3   4.0   11524    11524\n",
      "4   5.0   34233    34233\n",
      "5   6.0  119373   119373\n",
      "6   7.0  199762   199762\n",
      "7   8.0  112691   112691\n",
      "8   9.0   26498    26498\n",
      "9  10.0    3341     3341\n"
     ]
    }
   ],
   "source": [
    "df_actual_with_filter_6 = knn_basic.loc[knn_basic[\"actual\"] == 6]\n",
    "df_actual_with_filter_6_plot = round_est_values(df_actual_with_filter_6)\n",
    "print(df_actual_with_filter_6_plot)"
   ]
  },
  {
   "cell_type": "code",
   "execution_count": 45,
   "id": "a19b5baa",
   "metadata": {},
   "outputs": [
    {
     "data": {
      "text/plain": [
       "<AxesSubplot:title={'center':'(MSD) Actual 6 counter (filter -1)'}, xlabel='est'>"
      ]
     },
     "execution_count": 45,
     "metadata": {},
     "output_type": "execute_result"
    },
    {
     "data": {
      "image/png": "[encoded data removed]",
      "text/plain": [
       "<Figure size 432x288 with 1 Axes>"
      ]
     },
     "metadata": {
      "needs_background": "light"
     },
     "output_type": "display_data"
    }
   ],
   "source": [
    "df_actual_with_filter_6_plot.plot.bar(x='est', y='actual', title=\"(MSD) Actual 6 counter (filter -1)\")"
   ]
  },
  {
   "cell_type": "code",
   "execution_count": 46,
   "id": "ded75f2a",
   "metadata": {},
   "outputs": [
    {
     "name": "stdout",
     "output_type": "stream",
     "text": [
      "    est  actual  details\n",
      "0   1.0   14170    14170\n",
      "1   2.0   10221    10221\n",
      "2   3.0   14469    14469\n",
      "3   4.0   23641    23641\n",
      "4   5.0   52120    52120\n",
      "5   6.0  183625   183625\n",
      "6   7.0  566140   566140\n",
      "7   8.0  535298   535298\n",
      "8   9.0  140105   140105\n",
      "9  10.0   15505    15505\n"
     ]
    }
   ],
   "source": [
    "df_actual_with_filter_7 = knn_basic.loc[knn_basic[\"actual\"] == 7]\n",
    "df_actual_with_filter_7_plot = round_est_values(df_actual_with_filter_7)\n",
    "print(df_actual_with_filter_7_plot)"
   ]
  },
  {
   "cell_type": "code",
   "execution_count": 47,
   "id": "8f23646f",
   "metadata": {},
   "outputs": [
    {
     "data": {
      "text/plain": [
       "<AxesSubplot:title={'center':'(MSD) Actual 7 counter (filter -1)'}, xlabel='est'>"
      ]
     },
     "execution_count": 47,
     "metadata": {},
     "output_type": "execute_result"
    },
    {
     "data": {
      "image/png": "[encoded data removed]",
      "text/plain": [
       "<Figure size 432x288 with 1 Axes>"
      ]
     },
     "metadata": {
      "needs_background": "light"
     },
     "output_type": "display_data"
    }
   ],
   "source": [
    "df_actual_with_filter_7_plot.plot.bar(x='est', y='actual', title=\"(MSD) Actual 7 counter (filter -1)\")"
   ]
  },
  {
   "cell_type": "code",
   "execution_count": 48,
   "id": "7aaaca48",
   "metadata": {},
   "outputs": [
    {
     "name": "stdout",
     "output_type": "stream",
     "text": [
      "    est  actual  details\n",
      "0   1.0   19536    19536\n",
      "1   2.0   13651    13651\n",
      "2   3.0   18757    18757\n",
      "3   4.0   26462    26462\n",
      "4   5.0   46576    46576\n",
      "5   6.0  128911   128911\n",
      "6   7.0  483994   483994\n",
      "7   8.0  976412   976412\n",
      "8   9.0  427596   427596\n",
      "9  10.0   48881    48881\n"
     ]
    }
   ],
   "source": [
    "df_actual_with_filter_8 = knn_basic.loc[knn_basic[\"actual\"] == 8]\n",
    "df_actual_with_filter_8_plot = round_est_values(df_actual_with_filter_8)\n",
    "print(df_actual_with_filter_8_plot)"
   ]
  },
  {
   "cell_type": "code",
   "execution_count": 49,
   "id": "f80ac502",
   "metadata": {},
   "outputs": [
    {
     "data": {
      "text/plain": [
       "<AxesSubplot:title={'center':'(MSD) Actual 8 counter (filter -1)'}, xlabel='est'>"
      ]
     },
     "execution_count": 49,
     "metadata": {},
     "output_type": "execute_result"
    },
    {
     "data": {
      "image/png": "[encoded data removed]",
      "text/plain": [
       "<Figure size 432x288 with 1 Axes>"
      ]
     },
     "metadata": {
      "needs_background": "light"
     },
     "output_type": "display_data"
    }
   ],
   "source": [
    "df_actual_with_filter_8_plot.plot.bar(x='est', y='actual', title=\"(MSD) Actual 8 counter (filter -1)\")"
   ]
  },
  {
   "cell_type": "code",
   "execution_count": 50,
   "id": "f7043e38",
   "metadata": {},
   "outputs": [
    {
     "name": "stdout",
     "output_type": "stream",
     "text": [
      "    est  actual  details\n",
      "0   1.0   16281    16281\n",
      "1   2.0   10600    10600\n",
      "2   3.0   12874    12874\n",
      "3   4.0   17756    17756\n",
      "4   5.0   27745    27745\n",
      "5   6.0   58932    58932\n",
      "6   7.0  187933   187933\n",
      "7   8.0  555121   555121\n",
      "8   9.0  562517   562517\n",
      "9  10.0  100395   100395\n"
     ]
    }
   ],
   "source": [
    "df_actual_with_filter_9 = knn_basic.loc[knn_basic[\"actual\"] == 9]\n",
    "df_actual_with_filter_9_plot = round_est_values(df_actual_with_filter_9)\n",
    "print(df_actual_with_filter_9_plot)"
   ]
  },
  {
   "cell_type": "code",
   "execution_count": 51,
   "id": "a88e0f30",
   "metadata": {},
   "outputs": [
    {
     "data": {
      "text/plain": [
       "<AxesSubplot:title={'center':'(MSD) Actual 9 counter (filter -1)'}, xlabel='est'>"
      ]
     },
     "execution_count": 51,
     "metadata": {},
     "output_type": "execute_result"
    },
    {
     "data": {
      "image/png": "[encoded data removed]",
      "text/plain": [
       "<Figure size 432x288 with 1 Axes>"
      ]
     },
     "metadata": {
      "needs_background": "light"
     },
     "output_type": "display_data"
    }
   ],
   "source": [
    "df_actual_with_filter_9_plot.plot.bar(x='est', y='actual', title=\"(MSD) Actual 9 counter (filter -1)\")"
   ]
  },
  {
   "cell_type": "code",
   "execution_count": 52,
   "id": "234efc23",
   "metadata": {},
   "outputs": [
    {
     "name": "stdout",
     "output_type": "stream",
     "text": [
      "    est  actual  details\n",
      "0   1.0   17576    17576\n",
      "1   2.0    9583     9583\n",
      "2   3.0    9966     9966\n",
      "3   4.0   13568    13568\n",
      "4   5.0   18799    18799\n",
      "5   6.0   32989    32989\n",
      "6   7.0   73721    73721\n",
      "7   8.0  211404   211404\n",
      "8   9.0  394410   394410\n",
      "9  10.0  266669   266669\n"
     ]
    }
   ],
   "source": [
    "df_actual_with_filter_10 = knn_basic.loc[knn_basic[\"actual\"] == 10]\n",
    "df_actual_with_filter_10_plot = round_est_values(df_actual_with_filter_10)\n",
    "print(df_actual_with_filter_10_plot)"
   ]
  },
  {
   "cell_type": "code",
   "execution_count": 53,
   "id": "a698359b",
   "metadata": {},
   "outputs": [
    {
     "data": {
      "text/plain": [
       "<AxesSubplot:title={'center':'(MSD) Actual 10 counter (filter -1)'}, xlabel='est'>"
      ]
     },
     "execution_count": 53,
     "metadata": {},
     "output_type": "execute_result"
    },
    {
     "data": {
      "image/png": "[encoded data removed]",
      "text/plain": [
       "<Figure size 432x288 with 1 Axes>"
      ]
     },
     "metadata": {
      "needs_background": "light"
     },
     "output_type": "display_data"
    }
   ],
   "source": [
    "df_actual_with_filter_10_plot.plot.bar(x='est', y='actual', title=\"(MSD) Actual 10 counter (filter -1)\")"
   ]
  },
  {
   "cell_type": "code",
   "execution_count": 54,
   "id": "01771018",
   "metadata": {},
   "outputs": [],
   "source": [
    "round_df = np.round(knn_basic[\"est\"], decimals=0)\n",
    "round_df = round_df.reset_index()\n",
    "knn_basic = knn_basic.reset_index()[[\"index\", \"actual\", \"details\"]]\n",
    "knn_basic = knn_basic.merge(round_df, on=\"index\", how=\"left\")\n",
    "knn_basic = knn_basic.set_index(\"index\")"
   ]
  },
  {
   "cell_type": "code",
   "execution_count": 55,
   "id": "1a714544",
   "metadata": {},
   "outputs": [
    {
     "data": {
      "image/png": "[encoded data removed]",
      "text/plain": [
       "<Figure size 432x288 with 1 Axes>"
      ]
     },
     "metadata": {
      "needs_background": "light"
     },
     "output_type": "display_data"
    }
   ],
   "source": [
    "est_df = knn_basic[\"est\"].tolist()\n",
    "plot_violin_graph_base(est_df, title=\"Estimation (filter -1)\")"
   ]
  },
  {
   "cell_type": "code",
   "execution_count": null,
   "id": "a1e61e79",
   "metadata": {},
   "outputs": [],
   "source": []
  },
  {
   "cell_type": "code",
   "execution_count": null,
   "id": "bd6c067b",
   "metadata": {},
   "outputs": [],
   "source": []
  }
 ],
 "metadata": {
  "kernelspec": {
   "display_name": "Python 3",
   "language": "python",
   "name": "python3"
  },
  "language_info": {
   "codemirror_mode": {
    "name": "ipython",
    "version": 3
   },
   "file_extension": ".py",
   "mimetype": "text/x-python",
   "name": "python",
   "nbconvert_exporter": "python",
   "pygments_lexer": "ipython3",
   "version": "3.6.5"
  }
 },
 "nbformat": 4,
 "nbformat_minor": 5
}
