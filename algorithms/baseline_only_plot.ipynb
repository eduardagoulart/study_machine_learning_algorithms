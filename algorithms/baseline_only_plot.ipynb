{
 "cells": [
  {
   "cell_type": "code",
   "execution_count": 1,
   "id": "e3a39540",
   "metadata": {},
   "outputs": [],
   "source": [
    "import pandas as pd\n",
    "import numpy as np\n",
    "import matplotlib.pyplot as plt\n",
    "import seaborn as sns"
   ]
  },
  {
   "cell_type": "code",
   "execution_count": 2,
   "id": "4c3542b5",
   "metadata": {},
   "outputs": [],
   "source": [
    "def round_est_values(df):\n",
    "    round_actual = np.round(df[\"est\"], decimals=0)\n",
    "    round_actual = round_actual.reset_index()\n",
    "    df = df.reset_index()[[\"index\", \"actual\", \"details\"]]\n",
    "    df = df.merge(round_actual, on=\"index\", how=\"left\")\n",
    "    df = df.set_index(\"index\")\n",
    "    grouped = df.groupby(\"est\", as_index=False).count()\n",
    "    return grouped"
   ]
  },
  {
   "cell_type": "code",
   "execution_count": 3,
   "id": "22c87c14",
   "metadata": {},
   "outputs": [],
   "source": [
    "baseline_only_0 = pd.read_parquet(f\"../predictions/baseline_only/anime_type_tv/no_filter/baseline_only_0.parquet\")\n",
    "baseline_only_1 = pd.read_parquet(f\"../predictions/baseline_only/anime_type_tv/no_filter/baseline_only_1.parquet\")\n",
    "baseline_only_2 = pd.read_parquet(f\"../predictions/baseline_only/anime_type_tv/no_filter/baseline_only_2.parquet\")\n",
    "baseline_only_3 = pd.read_parquet(f\"../predictions/baseline_only/anime_type_tv/no_filter/baseline_only_3.parquet\")\n",
    "baseline_only_4 = pd.read_parquet(f\"../predictions/baseline_only/anime_type_tv/no_filter/baseline_only_4.parquet\")\n",
    "\n",
    "df = pd.concat([baseline_only_0, baseline_only_1, baseline_only_2, baseline_only_3, baseline_only_4])"
   ]
  },
  {
   "cell_type": "markdown",
   "id": "47fffb85",
   "metadata": {},
   "source": [
    "### Baseline Only"
   ]
  },
  {
   "cell_type": "markdown",
   "id": "d24ba1fb",
   "metadata": {},
   "source": [
    "Os gráficos são comparativo da nota real VS a nota predita. Filtrando cada nota real (de 1 a 10), quais são as notas preditas por cada algoritmo usando similaridade cosseno"
   ]
  },
  {
   "cell_type": "code",
   "execution_count": 4,
   "id": "3d997823",
   "metadata": {},
   "outputs": [
    {
     "name": "stdout",
     "output_type": "stream",
     "text": [
      "    est   actual  details\n",
      "0   1.0  2735376  2735376\n",
      "1   2.0   646900   646900\n",
      "2   3.0   578660   578660\n",
      "3   4.0   623050   623050\n",
      "4   5.0   917035   917035\n",
      "5   6.0  2630180  2630180\n",
      "6   7.0  7618510  7618510\n",
      "7   8.0  7977990  7977990\n",
      "8   9.0  2420680  2420680\n",
      "9  10.0   269595   269595\n"
     ]
    }
   ],
   "source": [
    "df_grouped = round_est_values(df)\n",
    "print(df_grouped)"
   ]
  },
  {
   "cell_type": "code",
   "execution_count": 5,
   "id": "c15d3c5d",
   "metadata": {},
   "outputs": [
    {
     "data": {
      "text/plain": [
       "<AxesSubplot:title={'center':'Distribuição valores preditos - baseline_only'}, xlabel='est'>"
      ]
     },
     "execution_count": 5,
     "metadata": {},
     "output_type": "execute_result"
    },
    {
     "data": {
      "image/png": "[encoded data removed]",
      "text/plain": [
       "<Figure size 432x288 with 1 Axes>"
      ]
     },
     "metadata": {
      "needs_background": "light"
     },
     "output_type": "display_data"
    }
   ],
   "source": [
    "df_grouped.plot.bar(x='est', y='actual', title=\"Distribuição valores preditos - baseline_only\")"
   ]
  },
  {
   "cell_type": "code",
   "execution_count": 6,
   "id": "3d4fb94a",
   "metadata": {},
   "outputs": [
    {
     "name": "stdout",
     "output_type": "stream",
     "text": [
      "    est  actual  details\n",
      "0   1.0     457      457\n",
      "1   2.0     295      295\n",
      "2   3.0     459      459\n",
      "3   4.0     810      810\n",
      "4   5.0    1391     1391\n",
      "5   6.0    2267     2267\n",
      "6   7.0    1749     1749\n",
      "7   8.0     670      670\n",
      "8   9.0     144      144\n",
      "9  10.0      11       11\n"
     ]
    }
   ],
   "source": [
    "df_actual_1 = df.loc[df[\"actual\"] == 1]\n",
    "plot_cosine_counter = round_est_values(df_actual_1)\n",
    "print(plot_cosine_counter)"
   ]
  },
  {
   "cell_type": "code",
   "execution_count": 7,
   "id": "4e504e37",
   "metadata": {},
   "outputs": [
    {
     "data": {
      "text/plain": [
       "<AxesSubplot:title={'center':'Actual 1 counter'}, xlabel='est'>"
      ]
     },
     "execution_count": 7,
     "metadata": {},
     "output_type": "execute_result"
    },
    {
     "data": {
      "image/png": "[encoded data removed]",
      "text/plain": [
       "<Figure size 432x288 with 1 Axes>"
      ]
     },
     "metadata": {
      "needs_background": "light"
     },
     "output_type": "display_data"
    }
   ],
   "source": [
    "plot_cosine_counter.plot.bar(x='est', y='actual', title=\"Actual 1 counter\")"
   ]
  },
  {
   "cell_type": "code",
   "execution_count": 8,
   "id": "d5b3e881",
   "metadata": {},
   "outputs": [
    {
     "name": "stdout",
     "output_type": "stream",
     "text": [
      "    est  actual  details\n",
      "0   1.0     174      174\n",
      "1   2.0     149      149\n",
      "2   3.0     386      386\n",
      "3   4.0    1172     1172\n",
      "4   5.0    2625     2625\n",
      "5   6.0    4369     4369\n",
      "6   7.0    2975     2975\n",
      "7   8.0     864      864\n",
      "8   9.0     108      108\n",
      "9  10.0       4        4\n"
     ]
    }
   ],
   "source": [
    "df_actual_2 = df.loc[df[\"actual\"] == 2]\n",
    "plot_cosine_counter_2 = round_est_values(df_actual_2)\n",
    "print(plot_cosine_counter_2)"
   ]
  },
  {
   "cell_type": "code",
   "execution_count": 9,
   "id": "47097ce1",
   "metadata": {},
   "outputs": [
    {
     "data": {
      "text/plain": [
       "<AxesSubplot:title={'center':'Actual 2 counter'}, xlabel='est'>"
      ]
     },
     "execution_count": 9,
     "metadata": {},
     "output_type": "execute_result"
    },
    {
     "data": {
      "image/png": "[encoded data removed]",
      "text/plain": [
       "<Figure size 432x288 with 1 Axes>"
      ]
     },
     "metadata": {
      "needs_background": "light"
     },
     "output_type": "display_data"
    }
   ],
   "source": [
    "plot_cosine_counter_2.plot.bar(x='est', y='actual', title=\"Actual 2 counter\")"
   ]
  },
  {
   "cell_type": "code",
   "execution_count": 10,
   "id": "148743c3",
   "metadata": {},
   "outputs": [
    {
     "name": "stdout",
     "output_type": "stream",
     "text": [
      "    est  actual  details\n",
      "0   1.0     196      196\n",
      "1   2.0     221      221\n",
      "2   3.0     447      447\n",
      "3   4.0    1627     1627\n",
      "4   5.0    5145     5145\n",
      "5   6.0    9061     9061\n",
      "6   7.0    6219     6219\n",
      "7   8.0    1407     1407\n",
      "8   9.0     181      181\n",
      "9  10.0      10       10\n"
     ]
    }
   ],
   "source": [
    "df_actual_3 = df.loc[df[\"actual\"] == 3]\n",
    "plot_cosine_counter_3 = round_est_values(df_actual_3)\n",
    "print(plot_cosine_counter_3)"
   ]
  },
  {
   "cell_type": "code",
   "execution_count": 11,
   "id": "766a09da",
   "metadata": {},
   "outputs": [
    {
     "data": {
      "text/plain": [
       "<AxesSubplot:title={'center':'Actual 3 counter'}, xlabel='est'>"
      ]
     },
     "execution_count": 11,
     "metadata": {},
     "output_type": "execute_result"
    },
    {
     "data": {
      "image/png": "[encoded data removed]",
      "text/plain": [
       "<Figure size 432x288 with 1 Axes>"
      ]
     },
     "metadata": {
      "needs_background": "light"
     },
     "output_type": "display_data"
    }
   ],
   "source": [
    "plot_cosine_counter_3.plot.bar(x='est', y='actual', title=\"Actual 3 counter\")"
   ]
  },
  {
   "cell_type": "code",
   "execution_count": 12,
   "id": "9763368d",
   "metadata": {},
   "outputs": [
    {
     "name": "stdout",
     "output_type": "stream",
     "text": [
      "    est  actual  details\n",
      "0   1.0     442      442\n",
      "1   2.0     483      483\n",
      "2   3.0     902      902\n",
      "3   4.0    2421     2421\n",
      "4   5.0    9979     9979\n",
      "5   6.0   24978    24978\n",
      "6   7.0   20675    20675\n",
      "7   8.0    4996     4996\n",
      "8   9.0     494      494\n",
      "9  10.0      21       21\n"
     ]
    }
   ],
   "source": [
    "df_actual_4 = df.loc[df[\"actual\"] == 4]\n",
    "plot_cosine_counter_4 = round_est_values(df_actual_4)\n",
    "print(plot_cosine_counter_4)"
   ]
  },
  {
   "cell_type": "code",
   "execution_count": 13,
   "id": "8f31ee3c",
   "metadata": {},
   "outputs": [
    {
     "data": {
      "text/plain": [
       "<AxesSubplot:title={'center':'Actual 4 counter'}, xlabel='est'>"
      ]
     },
     "execution_count": 13,
     "metadata": {},
     "output_type": "execute_result"
    },
    {
     "data": {
      "image/png": "[encoded data removed]",
      "text/plain": [
       "<Figure size 432x288 with 1 Axes>"
      ]
     },
     "metadata": {
      "needs_background": "light"
     },
     "output_type": "display_data"
    }
   ],
   "source": [
    "plot_cosine_counter_4.plot.bar(x='est', y='actual', title=\"Actual 4 counter\")"
   ]
  },
  {
   "cell_type": "code",
   "execution_count": 14,
   "id": "d47b8a66",
   "metadata": {},
   "outputs": [
    {
     "name": "stdout",
     "output_type": "stream",
     "text": [
      "    est  actual  details\n",
      "0   1.0    1177     1177\n",
      "1   2.0    1162     1162\n",
      "2   3.0    2290     2290\n",
      "3   4.0    4635     4635\n",
      "4   5.0   18676    18676\n",
      "5   6.0   69356    69356\n",
      "6   7.0   74072    74072\n",
      "7   8.0   18545    18545\n",
      "8   9.0    1725     1725\n",
      "9  10.0      75       75\n"
     ]
    }
   ],
   "source": [
    "df_actual_5 = df.loc[df[\"actual\"] == 5]\n",
    "plot_cosine_counter_5 = round_est_values(df_actual_5)\n",
    "print(plot_cosine_counter_5)"
   ]
  },
  {
   "cell_type": "code",
   "execution_count": 15,
   "id": "186b4675",
   "metadata": {},
   "outputs": [
    {
     "data": {
      "text/plain": [
       "<AxesSubplot:title={'center':'Actual 5 counter'}, xlabel='est'>"
      ]
     },
     "execution_count": 15,
     "metadata": {},
     "output_type": "execute_result"
    },
    {
     "data": {
      "image/png": "[encoded data removed]",
      "text/plain": [
       "<Figure size 432x288 with 1 Axes>"
      ]
     },
     "metadata": {
      "needs_background": "light"
     },
     "output_type": "display_data"
    }
   ],
   "source": [
    "plot_cosine_counter_5.plot.bar(x='est', y='actual', title=\"Actual 5 counter\")"
   ]
  },
  {
   "cell_type": "code",
   "execution_count": 16,
   "id": "9c133b82",
   "metadata": {},
   "outputs": [
    {
     "name": "stdout",
     "output_type": "stream",
     "text": [
      "    est  actual  details\n",
      "0   1.0    2391     2391\n",
      "1   2.0    2716     2716\n",
      "2   3.0    4639     4639\n",
      "3   4.0    8567     8567\n",
      "4   5.0   25379    25379\n",
      "5   6.0  140873   140873\n",
      "6   7.0  253466   253466\n",
      "7   8.0   77934    77934\n",
      "8   9.0    6789     6789\n",
      "9  10.0     274      274\n"
     ]
    }
   ],
   "source": [
    "df_actual_6 = df.loc[df[\"actual\"] == 6]\n",
    "plot_cosine_counter_6 = round_est_values(df_actual_6)\n",
    "print(plot_cosine_counter_6)"
   ]
  },
  {
   "cell_type": "code",
   "execution_count": 17,
   "id": "047fbe05",
   "metadata": {},
   "outputs": [
    {
     "data": {
      "text/plain": [
       "<AxesSubplot:title={'center':'Actual 6 counter'}, xlabel='est'>"
      ]
     },
     "execution_count": 17,
     "metadata": {},
     "output_type": "execute_result"
    },
    {
     "data": {
      "image/png": "[encoded data removed]",
      "text/plain": [
       "<Figure size 432x288 with 1 Axes>"
      ]
     },
     "metadata": {
      "needs_background": "light"
     },
     "output_type": "display_data"
    }
   ],
   "source": [
    "plot_cosine_counter_6.plot.bar(x='est', y='actual', title=\"Actual 6 counter\")"
   ]
  },
  {
   "cell_type": "code",
   "execution_count": 18,
   "id": "0946827e",
   "metadata": {},
   "outputs": [
    {
     "name": "stdout",
     "output_type": "stream",
     "text": [
      "    est  actual  details\n",
      "0   1.0    6200     6200\n",
      "1   2.0    7259     7259\n",
      "2   3.0   12305    12305\n",
      "3   4.0   20594    20594\n",
      "4   5.0   41580    41580\n",
      "5   6.0  215993   215993\n",
      "6   7.0  787205   787205\n",
      "7   8.0  422793   422793\n",
      "8   9.0   40474    40474\n",
      "9  10.0    1337     1337\n"
     ]
    }
   ],
   "source": [
    "df_actual_7 = df.loc[df[\"actual\"] == 7]\n",
    "plot_cosine_counter_7 = round_est_values(df_actual_7)\n",
    "print(plot_cosine_counter_7)"
   ]
  },
  {
   "cell_type": "code",
   "execution_count": 19,
   "id": "2dd5d395",
   "metadata": {},
   "outputs": [
    {
     "data": {
      "text/plain": [
       "<AxesSubplot:title={'center':'Actual 7 counter'}, xlabel='est'>"
      ]
     },
     "execution_count": 19,
     "metadata": {},
     "output_type": "execute_result"
    },
    {
     "data": {
      "image/png": "[encoded data removed]",
      "text/plain": [
       "<Figure size 432x288 with 1 Axes>"
      ]
     },
     "metadata": {
      "needs_background": "light"
     },
     "output_type": "display_data"
    }
   ],
   "source": [
    "plot_cosine_counter_7.plot.bar(x='est', y='actual', title=\"Actual 7 counter\")"
   ]
  },
  {
   "cell_type": "code",
   "execution_count": 20,
   "id": "32591dc0",
   "metadata": {},
   "outputs": [
    {
     "name": "stdout",
     "output_type": "stream",
     "text": [
      "    est  actual  details\n",
      "0   1.0    8219     8219\n",
      "1   2.0   10491    10491\n",
      "2   3.0   16680    16680\n",
      "3   4.0   26101    26101\n",
      "4   5.0   43299    43299\n",
      "5   6.0  147180   147180\n",
      "6   7.0  803750   803750\n",
      "7   8.0  975339   975339\n",
      "8   9.0  151993   151993\n",
      "9  10.0    5084     5084\n"
     ]
    }
   ],
   "source": [
    "df_actual_8 = df.loc[df[\"actual\"] == 8]\n",
    "plot_cosine_counter_8 = round_est_values(df_actual_8)\n",
    "print(plot_cosine_counter_8)"
   ]
  },
  {
   "cell_type": "code",
   "execution_count": 21,
   "id": "677f6ea0",
   "metadata": {},
   "outputs": [
    {
     "data": {
      "text/plain": [
       "<AxesSubplot:title={'center':'Actual 8 counter'}, xlabel='est'>"
      ]
     },
     "execution_count": 21,
     "metadata": {},
     "output_type": "execute_result"
    },
    {
     "data": {
      "image/png": "[encoded data removed]",
      "text/plain": [
       "<Figure size 432x288 with 1 Axes>"
      ]
     },
     "metadata": {
      "needs_background": "light"
     },
     "output_type": "display_data"
    }
   ],
   "source": [
    "plot_cosine_counter_8.plot.bar(x='est', y='actual', title=\"Actual 8 counter\")"
   ]
  },
  {
   "cell_type": "code",
   "execution_count": 22,
   "id": "79d11434",
   "metadata": {},
   "outputs": [
    {
     "name": "stdout",
     "output_type": "stream",
     "text": [
      "    est  actual  details\n",
      "0   1.0    6603     6603\n",
      "1   2.0    8889     8889\n",
      "2   3.0   12874    12874\n",
      "3   4.0   18792    18792\n",
      "4   5.0   28504    28504\n",
      "5   6.0   69104    69104\n",
      "6   7.0  353213   353213\n",
      "7   8.0  771724   771724\n",
      "8   9.0  266061   266061\n",
      "9  10.0   14144    14144\n"
     ]
    }
   ],
   "source": [
    "df_actua_9 = df.loc[df[\"actual\"] == 9]\n",
    "plot_cosine_counter_9 = round_est_values(df_actua_9)\n",
    "print(plot_cosine_counter_9)"
   ]
  },
  {
   "cell_type": "code",
   "execution_count": 23,
   "id": "8195813e",
   "metadata": {},
   "outputs": [
    {
     "data": {
      "text/plain": [
       "<AxesSubplot:title={'center':'Actual 9 counter'}, xlabel='est'>"
      ]
     },
     "execution_count": 23,
     "metadata": {},
     "output_type": "execute_result"
    },
    {
     "data": {
      "image/png": "[encoded data removed]",
      "text/plain": [
       "<Figure size 432x288 with 1 Axes>"
      ]
     },
     "metadata": {
      "needs_background": "light"
     },
     "output_type": "display_data"
    }
   ],
   "source": [
    "plot_cosine_counter_9.plot.bar(x='est', y='actual', title=\"Actual 9 counter\")"
   ]
  },
  {
   "cell_type": "code",
   "execution_count": 24,
   "id": "7ee69a50",
   "metadata": {},
   "outputs": [
    {
     "name": "stdout",
     "output_type": "stream",
     "text": [
      "    est  actual  details\n",
      "0   1.0    8113     8113\n",
      "1   2.0    8882     8882\n",
      "2   3.0   12248    12248\n",
      "3   4.0   15339    15339\n",
      "4   5.0   20331    20331\n",
      "5   6.0   39635    39635\n",
      "6   7.0  148989   148989\n",
      "7   8.0  410439   410439\n",
      "8   9.0  320901   320901\n",
      "9  10.0   63208    63208\n"
     ]
    }
   ],
   "source": [
    "df_actua_10 = df.loc[df[\"actual\"] == 10]\n",
    "plot_cosine_counter_10 = round_est_values(df_actua_10)\n",
    "print(plot_cosine_counter_10)"
   ]
  },
  {
   "cell_type": "code",
   "execution_count": 25,
   "id": "57c550c6",
   "metadata": {},
   "outputs": [
    {
     "data": {
      "text/plain": [
       "<AxesSubplot:title={'center':'Actual 10 counter'}, xlabel='est'>"
      ]
     },
     "execution_count": 25,
     "metadata": {},
     "output_type": "execute_result"
    },
    {
     "data": {
      "image/png": "[encoded data removed]",
      "text/plain": [
       "<Figure size 432x288 with 1 Axes>"
      ]
     },
     "metadata": {
      "needs_background": "light"
     },
     "output_type": "display_data"
    }
   ],
   "source": [
    "plot_cosine_counter_10.plot.bar(x='est', y='actual', title=\"Actual 10 counter\")"
   ]
  },
  {
   "cell_type": "code",
   "execution_count": 26,
   "id": "4b7463f0",
   "metadata": {},
   "outputs": [],
   "source": [
    "round_df = np.round(df[\"est\"], decimals=0)\n",
    "round_df = round_df.reset_index()\n",
    "df = df.reset_index()[[\"index\", \"actual\", \"details\"]]\n",
    "df = df.merge(round_df, on=\"index\", how=\"left\")"
   ]
  },
  {
   "cell_type": "code",
   "execution_count": 27,
   "id": "76110117",
   "metadata": {},
   "outputs": [
    {
     "name": "stdout",
     "output_type": "stream",
     "text": [
      "    est   actual  details\n",
      "0   1.0  2735376  2735376\n",
      "1   2.0   646900   646900\n",
      "2   3.0   578660   578660\n",
      "3   4.0   623050   623050\n",
      "4   5.0   917035   917035\n",
      "5   6.0  2630180  2630180\n",
      "6   7.0  7618510  7618510\n",
      "7   8.0  7977990  7977990\n",
      "8   9.0  2420680  2420680\n",
      "9  10.0   269595   269595\n"
     ]
    }
   ],
   "source": [
    "df = df.set_index(\"index\")\n",
    "plot_df = df.groupby(\"est\", as_index=False).count()\n",
    "print(plot_df)"
   ]
  },
  {
   "cell_type": "code",
   "execution_count": 28,
   "id": "4df0ebc3",
   "metadata": {},
   "outputs": [],
   "source": [
    "def plot_violin_graph_base(list_of_data, title):\n",
    "    # Create a figure instance\n",
    "    fig = plt.figure()\n",
    "  \n",
    "    # Create an axes instance\n",
    "    ax = fig.gca()\n",
    "    ax.set_title(title)\n",
    "    # Create the violinplot\n",
    "    violinplot = ax.violinplot(list_of_data)\n",
    "    plt.show()"
   ]
  },
  {
   "cell_type": "markdown",
   "id": "3c0fc682",
   "metadata": {},
   "source": [
    "Gráfico para o estudo de como está distribuição de notas preditas"
   ]
  },
  {
   "cell_type": "code",
   "execution_count": 29,
   "id": "9baa64dc",
   "metadata": {},
   "outputs": [
    {
     "data": {
      "image/png": "[encoded data removed]",
      "text/plain": [
       "<Figure size 432x288 with 1 Axes>"
      ]
     },
     "metadata": {
      "needs_background": "light"
     },
     "output_type": "display_data"
    }
   ],
   "source": [
    "est_df = df[\"est\"].tolist()\n",
    "plot_violin_graph_base(est_df, title=\"all folds estimation\")"
   ]
  },
  {
   "cell_type": "markdown",
   "id": "dd1a5864",
   "metadata": {},
   "source": [
    "é notório também que as notas reais estão amis concentradas entre 6 e 8, o que infuencia na predição. O algoritmo tende a acertar mais quando com essas notas e errar com notas entre 1 e 4"
   ]
  },
  {
   "cell_type": "code",
   "execution_count": 30,
   "id": "23f2a141",
   "metadata": {},
   "outputs": [
    {
     "data": {
      "image/png": "[encoded data removed]",
      "text/plain": [
       "<Figure size 432x288 with 1 Axes>"
      ]
     },
     "metadata": {
      "needs_background": "light"
     },
     "output_type": "display_data"
    }
   ],
   "source": [
    "est_df = df[\"actual\"].tolist()\n",
    "plot_violin_graph_base(est_df, title=\"all folds actual\")"
   ]
  },
  {
   "cell_type": "markdown",
   "id": "88cb15b1",
   "metadata": {},
   "source": [
    "# Removing negative grades"
   ]
  },
  {
   "cell_type": "markdown",
   "id": "afce69a1",
   "metadata": {},
   "source": [
    "### Baseline Only"
   ]
  },
  {
   "cell_type": "code",
   "execution_count": 31,
   "id": "1cd1663f",
   "metadata": {},
   "outputs": [],
   "source": [
    "baseline_only_0 = pd.read_parquet(f\"../predictions/baseline_only/anime_type_tv/with_filter_remove_negative/baseline_only_0.parquet\")\n",
    "baseline_only_1 = pd.read_parquet(f\"../predictions/baseline_only/anime_type_tv/with_filter_remove_negative/baseline_only_1.parquet\")\n",
    "baseline_only_2 = pd.read_parquet(f\"../predictions/baseline_only/anime_type_tv/with_filter_remove_negative/baseline_only_2.parquet\")\n",
    "baseline_only_3 = pd.read_parquet(f\"../predictions/baseline_only/anime_type_tv/with_filter_remove_negative/baseline_only_3.parquet\")\n",
    "baseline_only_4 = pd.read_parquet(f\"../predictions/baseline_only/anime_type_tv/with_filter_remove_negative/baseline_only_4.parquet\")\n",
    "\n",
    "baseline_only = pd.concat([baseline_only_0, baseline_only_1, baseline_only_2, baseline_only_3, baseline_only_4])"
   ]
  },
  {
   "cell_type": "code",
   "execution_count": 32,
   "id": "92150b0d",
   "metadata": {},
   "outputs": [
    {
     "name": "stdout",
     "output_type": "stream",
     "text": [
      "    est   actual  details\n",
      "0   1.0  2735536  2735536\n",
      "1   2.0   647685   647685\n",
      "2   3.0   577900   577900\n",
      "3   4.0   623355   623355\n",
      "4   5.0   918475   918475\n",
      "5   6.0  2628075  2628075\n",
      "6   7.0  7617370  7617370\n",
      "7   8.0  7978135  7978135\n",
      "8   9.0  2422115  2422115\n",
      "9  10.0   269330   269330\n"
     ]
    }
   ],
   "source": [
    "df_grouped = round_est_values(baseline_only)\n",
    "print(df_grouped)"
   ]
  },
  {
   "cell_type": "code",
   "execution_count": 33,
   "id": "0bd61861",
   "metadata": {},
   "outputs": [
    {
     "data": {
      "text/plain": [
       "<AxesSubplot:title={'center':'Distribuição valores preditos (filtro -1) - baseline_only'}, xlabel='est'>"
      ]
     },
     "execution_count": 33,
     "metadata": {},
     "output_type": "execute_result"
    },
    {
     "data": {
      "image/png": "[encoded data removed]",
      "text/plain": [
       "<Figure size 432x288 with 1 Axes>"
      ]
     },
     "metadata": {
      "needs_background": "light"
     },
     "output_type": "display_data"
    }
   ],
   "source": [
    "df_grouped.plot.bar(x='est', y='actual', title=\"Distribuição valores preditos (filtro -1) - baseline_only\")"
   ]
  },
  {
   "cell_type": "code",
   "execution_count": 34,
   "id": "aab96e47",
   "metadata": {},
   "outputs": [
    {
     "name": "stdout",
     "output_type": "stream",
     "text": [
      "    est  actual  details\n",
      "0   1.0     447      447\n",
      "1   2.0     307      307\n",
      "2   3.0     445      445\n",
      "3   4.0     824      824\n",
      "4   5.0    1373     1373\n",
      "5   6.0    2275     2275\n",
      "6   7.0    1748     1748\n",
      "7   8.0     672      672\n",
      "8   9.0     138      138\n",
      "9  10.0      12       12\n"
     ]
    }
   ],
   "source": [
    "df_actual_with_filter_1 = baseline_only.loc[baseline_only[\"actual\"] == 1]\n",
    "df_actual_with_filter_1_plot = round_est_values(df_actual_with_filter_1)\n",
    "print(df_actual_with_filter_1_plot)"
   ]
  },
  {
   "cell_type": "code",
   "execution_count": 35,
   "id": "484d11a3",
   "metadata": {},
   "outputs": [
    {
     "data": {
      "text/plain": [
       "<AxesSubplot:title={'center':'Actual 1 counter (filter -1)'}, xlabel='est'>"
      ]
     },
     "execution_count": 35,
     "metadata": {},
     "output_type": "execute_result"
    },
    {
     "data": {
      "image/png": "[encoded data removed]",
      "text/plain": [
       "<Figure size 432x288 with 1 Axes>"
      ]
     },
     "metadata": {
      "needs_background": "light"
     },
     "output_type": "display_data"
    }
   ],
   "source": [
    "df_actual_with_filter_1_plot.plot.bar(x='est', y='actual', title=\"Actual 1 counter (filter -1)\")"
   ]
  },
  {
   "cell_type": "code",
   "execution_count": 36,
   "id": "a3cb317d",
   "metadata": {},
   "outputs": [
    {
     "name": "stdout",
     "output_type": "stream",
     "text": [
      "    est  actual  details\n",
      "0   1.0     168      168\n",
      "1   2.0     149      149\n",
      "2   3.0     384      384\n",
      "3   4.0    1167     1167\n",
      "4   5.0    2645     2645\n",
      "5   6.0    4357     4357\n",
      "6   7.0    2990     2990\n",
      "7   8.0     847      847\n",
      "8   9.0     114      114\n",
      "9  10.0       5        5\n"
     ]
    }
   ],
   "source": [
    "df_actual_with_filter_2 = baseline_only.loc[baseline_only[\"actual\"] == 2]\n",
    "df_actual_with_filter_2_plot = round_est_values(df_actual_with_filter_2)\n",
    "print(df_actual_with_filter_2_plot)"
   ]
  },
  {
   "cell_type": "code",
   "execution_count": 37,
   "id": "3f4e8876",
   "metadata": {},
   "outputs": [
    {
     "data": {
      "text/plain": [
       "<AxesSubplot:title={'center':'Actual 2 counter (filter -1)'}, xlabel='est'>"
      ]
     },
     "execution_count": 37,
     "metadata": {},
     "output_type": "execute_result"
    },
    {
     "data": {
      "image/png": "[encoded data removed]",
      "text/plain": [
       "<Figure size 432x288 with 1 Axes>"
      ]
     },
     "metadata": {
      "needs_background": "light"
     },
     "output_type": "display_data"
    }
   ],
   "source": [
    "df_actual_with_filter_2_plot.plot.bar(x='est', y='actual', title=\"Actual 2 counter (filter -1)\")"
   ]
  },
  {
   "cell_type": "code",
   "execution_count": 38,
   "id": "69d2c1aa",
   "metadata": {},
   "outputs": [
    {
     "name": "stdout",
     "output_type": "stream",
     "text": [
      "    est  actual  details\n",
      "0   1.0     194      194\n",
      "1   2.0     225      225\n",
      "2   3.0     463      463\n",
      "3   4.0    1604     1604\n",
      "4   5.0    5129     5129\n",
      "5   6.0    9066     9066\n",
      "6   7.0    6202     6202\n",
      "7   8.0    1399     1399\n",
      "8   9.0     175      175\n",
      "9  10.0      11       11\n"
     ]
    }
   ],
   "source": [
    "df_actual_with_filter_3 = baseline_only.loc[baseline_only[\"actual\"] == 3]\n",
    "df_actual_with_filter_3_plot = round_est_values(df_actual_with_filter_3)\n",
    "print(df_actual_with_filter_3_plot)"
   ]
  },
  {
   "cell_type": "code",
   "execution_count": 39,
   "id": "f134350c",
   "metadata": {},
   "outputs": [
    {
     "data": {
      "text/plain": [
       "<AxesSubplot:title={'center':'Actual 3 counter (filter -1)'}, xlabel='est'>"
      ]
     },
     "execution_count": 39,
     "metadata": {},
     "output_type": "execute_result"
    },
    {
     "data": {
      "image/png": "[encoded data removed]",
      "text/plain": [
       "<Figure size 432x288 with 1 Axes>"
      ]
     },
     "metadata": {
      "needs_background": "light"
     },
     "output_type": "display_data"
    }
   ],
   "source": [
    "df_actual_with_filter_3_plot.plot.bar(x='est', y='actual', title=\"Actual 3 counter (filter -1)\")"
   ]
  },
  {
   "cell_type": "code",
   "execution_count": 40,
   "id": "81478902",
   "metadata": {},
   "outputs": [
    {
     "name": "stdout",
     "output_type": "stream",
     "text": [
      "    est  actual  details\n",
      "0   1.0     458      458\n",
      "1   2.0     480      480\n",
      "2   3.0     915      915\n",
      "3   4.0    2436     2436\n",
      "4   5.0   10032    10032\n",
      "5   6.0   25038    25038\n",
      "6   7.0   20795    20795\n",
      "7   8.0    4948     4948\n",
      "8   9.0     519      519\n",
      "9  10.0      24       24\n"
     ]
    }
   ],
   "source": [
    "df_actual_with_filter_4 = baseline_only.loc[baseline_only[\"actual\"] == 4]\n",
    "df_actual_with_filter_4_plot = round_est_values(df_actual_with_filter_4)\n",
    "print(df_actual_with_filter_4_plot)"
   ]
  },
  {
   "cell_type": "code",
   "execution_count": 41,
   "id": "51923082",
   "metadata": {},
   "outputs": [
    {
     "data": {
      "text/plain": [
       "<AxesSubplot:title={'center':'Actual 4 counter (filter -1)'}, xlabel='est'>"
      ]
     },
     "execution_count": 41,
     "metadata": {},
     "output_type": "execute_result"
    },
    {
     "data": {
      "image/png": "[encoded data removed]",
      "text/plain": [
       "<Figure size 432x288 with 1 Axes>"
      ]
     },
     "metadata": {
      "needs_background": "light"
     },
     "output_type": "display_data"
    }
   ],
   "source": [
    "df_actual_with_filter_4_plot.plot.bar(x='est', y='actual', title=\"Actual 4 counter (filter -1)\")"
   ]
  },
  {
   "cell_type": "code",
   "execution_count": 42,
   "id": "06daddb0",
   "metadata": {},
   "outputs": [
    {
     "name": "stdout",
     "output_type": "stream",
     "text": [
      "    est  actual  details\n",
      "0   1.0    1164     1164\n",
      "1   2.0    1187     1187\n",
      "2   3.0    2335     2335\n",
      "3   4.0    4596     4596\n",
      "4   5.0   18686    18686\n",
      "5   6.0   69232    69232\n",
      "6   7.0   73804    73804\n",
      "7   8.0   18503    18503\n",
      "8   9.0    1722     1722\n",
      "9  10.0      78       78\n"
     ]
    }
   ],
   "source": [
    "df_actual_with_filter_5 = baseline_only.loc[baseline_only[\"actual\"] == 5]\n",
    "df_actual_with_filter_5_plot = round_est_values(df_actual_with_filter_5)\n",
    "print(df_actual_with_filter_5_plot)"
   ]
  },
  {
   "cell_type": "code",
   "execution_count": 43,
   "id": "d3563afd",
   "metadata": {},
   "outputs": [
    {
     "data": {
      "text/plain": [
       "<AxesSubplot:title={'center':'Actual 5 counter (filter -1)'}, xlabel='est'>"
      ]
     },
     "execution_count": 43,
     "metadata": {},
     "output_type": "execute_result"
    },
    {
     "data": {
      "image/png": "[encoded data removed]",
      "text/plain": [
       "<Figure size 432x288 with 1 Axes>"
      ]
     },
     "metadata": {
      "needs_background": "light"
     },
     "output_type": "display_data"
    }
   ],
   "source": [
    "df_actual_with_filter_5_plot.plot.bar(x='est', y='actual', title=\"Actual 5 counter (filter -1)\")"
   ]
  },
  {
   "cell_type": "code",
   "execution_count": 44,
   "id": "c7717855",
   "metadata": {},
   "outputs": [
    {
     "name": "stdout",
     "output_type": "stream",
     "text": [
      "    est  actual  details\n",
      "0   1.0    2347     2347\n",
      "1   2.0    2682     2682\n",
      "2   3.0    4620     4620\n",
      "3   4.0    8661     8661\n",
      "4   5.0   25504    25504\n",
      "5   6.0  140698   140698\n",
      "6   7.0  254014   254014\n",
      "7   8.0   77878    77878\n",
      "8   9.0    6746     6746\n",
      "9  10.0     280      280\n"
     ]
    }
   ],
   "source": [
    "df_actual_with_filter_6 = baseline_only.loc[baseline_only[\"actual\"] == 6]\n",
    "df_actual_with_filter_6_plot = round_est_values(df_actual_with_filter_6)\n",
    "print(df_actual_with_filter_6_plot)"
   ]
  },
  {
   "cell_type": "code",
   "execution_count": 45,
   "id": "f9b94eb1",
   "metadata": {},
   "outputs": [
    {
     "data": {
      "text/plain": [
       "<AxesSubplot:title={'center':'Actual 6 counter (filter -1)'}, xlabel='est'>"
      ]
     },
     "execution_count": 45,
     "metadata": {},
     "output_type": "execute_result"
    },
    {
     "data": {
      "image/png": "[encoded data removed]",
      "text/plain": [
       "<Figure size 432x288 with 1 Axes>"
      ]
     },
     "metadata": {
      "needs_background": "light"
     },
     "output_type": "display_data"
    }
   ],
   "source": [
    "df_actual_with_filter_6_plot.plot.bar(x='est', y='actual', title=\"Actual 6 counter (filter -1)\")"
   ]
  },
  {
   "cell_type": "code",
   "execution_count": 46,
   "id": "13434d13",
   "metadata": {},
   "outputs": [
    {
     "name": "stdout",
     "output_type": "stream",
     "text": [
      "    est  actual  details\n",
      "0   1.0    6063     6063\n",
      "1   2.0    7282     7282\n",
      "2   3.0   12239    12239\n",
      "3   4.0   20752    20752\n",
      "4   5.0   41628    41628\n",
      "5   6.0  216031   216031\n",
      "6   7.0  787299   787299\n",
      "7   8.0  422865   422865\n",
      "8   9.0   40692    40692\n",
      "9  10.0    1287     1287\n"
     ]
    }
   ],
   "source": [
    "df_actual_with_filter_7 = baseline_only.loc[baseline_only[\"actual\"] == 7]\n",
    "df_actual_with_filter_7_plot = round_est_values(df_actual_with_filter_7)\n",
    "print(df_actual_with_filter_7_plot)"
   ]
  },
  {
   "cell_type": "code",
   "execution_count": 47,
   "id": "e531bc2f",
   "metadata": {},
   "outputs": [
    {
     "data": {
      "text/plain": [
       "<AxesSubplot:title={'center':'Actual 7 counter (filter -1)'}, xlabel='est'>"
      ]
     },
     "execution_count": 47,
     "metadata": {},
     "output_type": "execute_result"
    },
    {
     "data": {
      "image/png": "[encoded data removed]",
      "text/plain": [
       "<Figure size 432x288 with 1 Axes>"
      ]
     },
     "metadata": {
      "needs_background": "light"
     },
     "output_type": "display_data"
    }
   ],
   "source": [
    "df_actual_with_filter_7_plot.plot.bar(x='est', y='actual', title=\"Actual 7 counter (filter -1)\")"
   ]
  },
  {
   "cell_type": "code",
   "execution_count": 48,
   "id": "cd794856",
   "metadata": {},
   "outputs": [
    {
     "name": "stdout",
     "output_type": "stream",
     "text": [
      "    est  actual  details\n",
      "0   1.0    7980     7980\n",
      "1   2.0   10649    10649\n",
      "2   3.0   16611    16611\n",
      "3   4.0   25989    25989\n",
      "4   5.0   43204    43204\n",
      "5   6.0  147260   147260\n",
      "6   7.0  803360   803360\n",
      "7   8.0  978447   978447\n",
      "8   9.0  152531   152531\n",
      "9  10.0    5101     5101\n"
     ]
    }
   ],
   "source": [
    "df_actual_with_filter_8 = baseline_only.loc[baseline_only[\"actual\"] == 8]\n",
    "df_actual_with_filter_8_plot = round_est_values(df_actual_with_filter_8)\n",
    "print(df_actual_with_filter_8_plot)"
   ]
  },
  {
   "cell_type": "code",
   "execution_count": 49,
   "id": "76e9b15a",
   "metadata": {},
   "outputs": [
    {
     "data": {
      "text/plain": [
       "<AxesSubplot:title={'center':'Actual 8 counter (filter -1)'}, xlabel='est'>"
      ]
     },
     "execution_count": 49,
     "metadata": {},
     "output_type": "execute_result"
    },
    {
     "data": {
      "image/png": "[encoded data removed]",
      "text/plain": [
       "<Figure size 432x288 with 1 Axes>"
      ]
     },
     "metadata": {
      "needs_background": "light"
     },
     "output_type": "display_data"
    }
   ],
   "source": [
    "df_actual_with_filter_8_plot.plot.bar(x='est', y='actual', title=\"Actual 8 counter (filter -1)\")"
   ]
  },
  {
   "cell_type": "code",
   "execution_count": 50,
   "id": "dc00696a",
   "metadata": {},
   "outputs": [
    {
     "name": "stdout",
     "output_type": "stream",
     "text": [
      "    est  actual  details\n",
      "0   1.0    6727     6727\n",
      "1   2.0    8865     8865\n",
      "2   3.0   12898    12898\n",
      "3   4.0   18722    18722\n",
      "4   5.0   28512    28512\n",
      "5   6.0   69334    69334\n",
      "6   7.0  352682   352682\n",
      "7   8.0  772434   772434\n",
      "8   9.0  265762   265762\n",
      "9  10.0   14096    14096\n"
     ]
    }
   ],
   "source": [
    "df_actual_with_filter_9 = baseline_only.loc[baseline_only[\"actual\"] == 9]\n",
    "df_actual_with_filter_9_plot = round_est_values(df_actual_with_filter_9)\n",
    "print(df_actual_with_filter_9_plot)"
   ]
  },
  {
   "cell_type": "code",
   "execution_count": 51,
   "id": "06841515",
   "metadata": {},
   "outputs": [
    {
     "data": {
      "text/plain": [
       "<AxesSubplot:title={'center':'Actual 9 counter (filter -1)'}, xlabel='est'>"
      ]
     },
     "execution_count": 51,
     "metadata": {},
     "output_type": "execute_result"
    },
    {
     "data": {
      "image/png": "[encoded data removed]",
      "text/plain": [
       "<Figure size 432x288 with 1 Axes>"
      ]
     },
     "metadata": {
      "needs_background": "light"
     },
     "output_type": "display_data"
    }
   ],
   "source": [
    "df_actual_with_filter_9_plot.plot.bar(x='est', y='actual', title=\"Actual 9 counter (filter -1)\")"
   ]
  },
  {
   "cell_type": "code",
   "execution_count": 52,
   "id": "c3df8a5e",
   "metadata": {},
   "outputs": [
    {
     "name": "stdout",
     "output_type": "stream",
     "text": [
      "    est  actual  details\n",
      "0   1.0    8051     8051\n",
      "1   2.0    9058     9058\n",
      "2   3.0   12327    12327\n",
      "3   4.0   15295    15295\n",
      "4   5.0   20540    20540\n",
      "5   6.0   39715    39715\n",
      "6   7.0  148379   148379\n",
      "7   8.0  410728   410728\n",
      "8   9.0  321254   321254\n",
      "9  10.0   63008    63008\n"
     ]
    }
   ],
   "source": [
    "df_actual_with_filter_10 = baseline_only.loc[baseline_only[\"actual\"] == 10]\n",
    "df_actual_with_filter_10_plot = round_est_values(df_actual_with_filter_10)\n",
    "print(df_actual_with_filter_10_plot)"
   ]
  },
  {
   "cell_type": "code",
   "execution_count": 53,
   "id": "6b0fbf3c",
   "metadata": {},
   "outputs": [
    {
     "data": {
      "text/plain": [
       "<AxesSubplot:title={'center':'Actual 10 counter (filter -1)'}, xlabel='est'>"
      ]
     },
     "execution_count": 53,
     "metadata": {},
     "output_type": "execute_result"
    },
    {
     "data": {
      "image/png": "[encoded data removed]",
      "text/plain": [
       "<Figure size 432x288 with 1 Axes>"
      ]
     },
     "metadata": {
      "needs_background": "light"
     },
     "output_type": "display_data"
    }
   ],
   "source": [
    "df_actual_with_filter_10_plot.plot.bar(x='est', y='actual', title=\"Actual 10 counter (filter -1)\")"
   ]
  },
  {
   "cell_type": "code",
   "execution_count": 54,
   "id": "28581003",
   "metadata": {},
   "outputs": [],
   "source": [
    "round_df = np.round(baseline_only[\"est\"], decimals=0)\n",
    "round_df = round_df.reset_index()\n",
    "baseline_only = baseline_only.reset_index()[[\"index\", \"actual\", \"details\"]]\n",
    "baseline_only = baseline_only.merge(round_df, on=\"index\", how=\"left\")\n",
    "baseline_only = baseline_only.set_index(\"index\")"
   ]
  },
  {
   "cell_type": "code",
   "execution_count": 55,
   "id": "e22bca6b",
   "metadata": {},
   "outputs": [
    {
     "data": {
      "image/png": "[encoded data removed]",
      "text/plain": [
       "<Figure size 432x288 with 1 Axes>"
      ]
     },
     "metadata": {
      "needs_background": "light"
     },
     "output_type": "display_data"
    }
   ],
   "source": [
    "est_df = baseline_only[\"est\"].tolist()\n",
    "plot_violin_graph_base(est_df, title=\"Estimation (filter -1)\")"
   ]
  },
  {
   "cell_type": "code",
   "execution_count": null,
   "id": "78426101",
   "metadata": {},
   "outputs": [],
   "source": []
  },
  {
   "cell_type": "code",
   "execution_count": null,
   "id": "b94c8f39",
   "metadata": {},
   "outputs": [],
   "source": []
  }
 ],
 "metadata": {
  "kernelspec": {
   "display_name": "Python 3",
   "language": "python",
   "name": "python3"
  },
  "language_info": {
   "codemirror_mode": {
    "name": "ipython",
    "version": 3
   },
   "file_extension": ".py",
   "mimetype": "text/x-python",
   "name": "python",
   "nbconvert_exporter": "python",
   "pygments_lexer": "ipython3",
   "version": "3.6.5"
  }
 },
 "nbformat": 4,
 "nbformat_minor": 5
}
