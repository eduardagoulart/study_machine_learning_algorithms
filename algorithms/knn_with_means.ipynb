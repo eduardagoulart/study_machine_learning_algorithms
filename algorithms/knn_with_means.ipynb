{
 "cells": [
  {
   "cell_type": "code",
   "execution_count": 1,
   "id": "expressed-defense",
   "metadata": {},
   "outputs": [],
   "source": [
    "import pandas as pd\n",
    "import numpy as np\n",
    "import matplotlib.pyplot as plt\n",
    "import seaborn as sns\n",
    "from surprise import KNNWithMeans\n",
    "from surprise import accuracy\n",
    "from surprise.model_selection import cross_validate\n",
    "from surprise.model_selection import train_test_split\n",
    "from surprise.model_selection import KFold\n",
    "\n",
    "from read_and_split_data import split_data, filter_animes_without_grade"
   ]
  },
  {
   "cell_type": "code",
   "execution_count": 2,
   "id": "usual-symposium",
   "metadata": {},
   "outputs": [],
   "source": [
    "def get_dataset():\n",
    "    anime = pd.read_parquet(\"../datasets/anime.parquet\")\n",
    "    anime = anime[[\"anime_id\", \"type\"]]\n",
    "    users = pd.read_parquet(\"../datasets/users.parquet\")\n",
    "    base_df = users.merge(anime, on=\"anime_id\", how=\"left\")\n",
    "    return base_df\n",
    "\n",
    "base_df = get_dataset()\n",
    "data = split_data(base_df)"
   ]
  },
  {
   "cell_type": "code",
   "execution_count": 3,
   "id": "optional-desktop",
   "metadata": {},
   "outputs": [],
   "source": [
    "kf = KFold(n_splits=5)"
   ]
  },
  {
   "cell_type": "code",
   "execution_count": 4,
   "id": "funny-heaven",
   "metadata": {},
   "outputs": [],
   "source": [
    "def predict_and_error(data, algo, path):\n",
    "    fold = 0\n",
    "    predictions_list = []\n",
    "    for trainset, testset in kf.split(data):\n",
    "        algo.fit(trainset)\n",
    "        predictions = algo.test(testset)\n",
    "        predictions_list.append(predictions)\n",
    "        # Mean Squared Error\n",
    "        accuracy.rmse(predictions, verbose=True)\n",
    "        # Mean Absolute Erro\n",
    "        accuracy.mse(predictions, verbose=True)\n",
    "        # Mean Absolute Erro\n",
    "        accuracy.mae(predictions, verbose=True)\n",
    "        # Fraction of Concordant Pairs\n",
    "        accuracy.fcp(predictions, verbose=True)\n",
    "        base_df = pd.DataFrame(columns=[\"user\", \"anime\", \"actual\", \"est\", \"details\"], data=predictions)\n",
    "        base_df.to_csv(f\"{path}_{fold}.csv\")\n",
    "        base_df.to_parquet(f\"{path}_{fold}.parquet\")\n",
    "        fold += 1\n",
    "    return predictions"
   ]
  },
  {
   "cell_type": "code",
   "execution_count": 5,
   "id": "478ab01d",
   "metadata": {},
   "outputs": [],
   "source": [
    "def set_axis_style(ax, labels):\n",
    "    ax.xaxis.set_tick_params(direction='out')\n",
    "    ax.xaxis.set_ticks_position('bottom')\n",
    "    ax.set_xticks(np.arange(1, len(labels) + 1))\n",
    "    ax.set_xticklabels(labels)\n",
    "    ax.set_xlim(0.25, len(labels) + 0.75)\n",
    "    \n",
    "def plot_violin_graph(list_of_data, title):\n",
    "    # Create a figure instance\n",
    "    label = [\"fold 0\", \"fold 1\", \"fold 2\", \"fold 3\"]\n",
    "    fig = plt.figure()\n",
    "  \n",
    "    # Create an axes instance\n",
    "    ax = fig.gca()\n",
    "    ax.set_title(title)\n",
    "    set_axis_style(ax, label)\n",
    "    # Create the violinplot\n",
    "    violinplot = ax.violinplot(list_of_data)\n",
    "    plt.show()"
   ]
  },
  {
   "cell_type": "markdown",
   "id": "noble-metropolitan",
   "metadata": {},
   "source": [
    "### Cosine Similarity"
   ]
  },
  {
   "cell_type": "code",
   "execution_count": 6,
   "id": "southern-transcript",
   "metadata": {},
   "outputs": [],
   "source": [
    "algo_cossine = KNNWithMeans(k=7, sim_options={\"name\": \"cosine\", \"user_based\": False})"
   ]
  },
  {
   "cell_type": "code",
   "execution_count": 7,
   "id": "generous-stocks",
   "metadata": {},
   "outputs": [
    {
     "name": "stdout",
     "output_type": "stream",
     "text": [
      "Computing the cosine similarity matrix...\n",
      "Done computing similarity matrix.\n",
      "RMSE: 2.1615\n",
      "MSE: 4.6720\n",
      "MAE:  1.4794\n",
      "FCP:  0.6774\n",
      "Computing the cosine similarity matrix...\n",
      "Done computing similarity matrix.\n",
      "RMSE: 2.1614\n",
      "MSE: 4.6716\n",
      "MAE:  1.4780\n",
      "FCP:  0.6800\n",
      "Computing the cosine similarity matrix...\n",
      "Done computing similarity matrix.\n",
      "RMSE: 2.1628\n",
      "MSE: 4.6777\n",
      "MAE:  1.4792\n",
      "FCP:  0.6774\n",
      "Computing the cosine similarity matrix...\n",
      "Done computing similarity matrix.\n",
      "RMSE: 2.1603\n",
      "MSE: 4.6670\n",
      "MAE:  1.4770\n",
      "FCP:  0.6777\n",
      "Computing the cosine similarity matrix...\n",
      "Done computing similarity matrix.\n",
      "RMSE: 2.1580\n",
      "MSE: 4.6568\n",
      "MAE:  1.4771\n",
      "FCP:  0.6776\n"
     ]
    }
   ],
   "source": [
    "predictions_cosine = predict_and_error(data, algo_cossine, path=\"../predictions/knn_with_means/anime_type_tv/no_filter/knn_with_means_cosine\")"
   ]
  },
  {
   "cell_type": "markdown",
   "id": "finite-newport",
   "metadata": {},
   "source": [
    "### Mean Squared Difference"
   ]
  },
  {
   "cell_type": "code",
   "execution_count": 8,
   "id": "productive-fairy",
   "metadata": {},
   "outputs": [],
   "source": [
    "algo_mds = KNNWithMeans(k=7, sim_options={\"name\": \"msd\", \"user_based\": False})"
   ]
  },
  {
   "cell_type": "code",
   "execution_count": 9,
   "id": "accredited-charm",
   "metadata": {},
   "outputs": [
    {
     "name": "stdout",
     "output_type": "stream",
     "text": [
      "Computing the msd similarity matrix...\n",
      "Done computing similarity matrix.\n",
      "RMSE: 2.1625\n",
      "MSE: 4.6763\n",
      "MAE:  1.4766\n",
      "FCP:  0.6764\n",
      "Computing the msd similarity matrix...\n",
      "Done computing similarity matrix.\n",
      "RMSE: 2.1694\n",
      "MSE: 4.7065\n",
      "MAE:  1.4822\n",
      "FCP:  0.6743\n",
      "Computing the msd similarity matrix...\n",
      "Done computing similarity matrix.\n",
      "RMSE: 2.1661\n",
      "MSE: 4.6919\n",
      "MAE:  1.4776\n",
      "FCP:  0.6744\n",
      "Computing the msd similarity matrix...\n",
      "Done computing similarity matrix.\n",
      "RMSE: 2.1690\n",
      "MSE: 4.7046\n",
      "MAE:  1.4805\n",
      "FCP:  0.6751\n",
      "Computing the msd similarity matrix...\n",
      "Done computing similarity matrix.\n",
      "RMSE: 2.1651\n",
      "MSE: 4.6877\n",
      "MAE:  1.4786\n",
      "FCP:  0.6755\n"
     ]
    }
   ],
   "source": [
    "predictions_msd = predict_and_error(data, algo_mds, path=\"../predictions/knn_with_means/anime_type_tv/no_filter/knn_with_means_msd\")"
   ]
  },
  {
   "cell_type": "markdown",
   "id": "desirable-nudist",
   "metadata": {},
   "source": [
    "### Pearson"
   ]
  },
  {
   "cell_type": "code",
   "execution_count": 10,
   "id": "precise-species",
   "metadata": {},
   "outputs": [],
   "source": [
    "algo_pearson = KNNWithMeans(k=7, sim_options={\"name\": \"pearson\", \"user_based\": False})"
   ]
  },
  {
   "cell_type": "code",
   "execution_count": 11,
   "id": "rough-cincinnati",
   "metadata": {},
   "outputs": [
    {
     "name": "stdout",
     "output_type": "stream",
     "text": [
      "Computing the pearson similarity matrix...\n",
      "Done computing similarity matrix.\n",
      "RMSE: 2.1732\n",
      "MSE: 4.7227\n",
      "MAE:  1.4864\n",
      "FCP:  0.6736\n",
      "Computing the pearson similarity matrix...\n",
      "Done computing similarity matrix.\n",
      "RMSE: 2.1696\n",
      "MSE: 4.7074\n",
      "MAE:  1.4865\n",
      "FCP:  0.6726\n",
      "Computing the pearson similarity matrix...\n",
      "Done computing similarity matrix.\n",
      "RMSE: 2.1718\n",
      "MSE: 4.7167\n",
      "MAE:  1.4865\n",
      "FCP:  0.6725\n",
      "Computing the pearson similarity matrix...\n",
      "Done computing similarity matrix.\n",
      "RMSE: 2.1738\n",
      "MSE: 4.7254\n",
      "MAE:  1.4885\n",
      "FCP:  0.6734\n",
      "Computing the pearson similarity matrix...\n",
      "Done computing similarity matrix.\n",
      "RMSE: 2.1742\n",
      "MSE: 4.7271\n",
      "MAE:  1.4896\n",
      "FCP:  0.6720\n"
     ]
    }
   ],
   "source": [
    "predictions_pearson = predict_and_error(data, algo_pearson, path=\"../predictions/knn_with_means/anime_type_tv/no_filter/knn_with_means_pearson\")"
   ]
  },
  {
   "cell_type": "markdown",
   "id": "intense-shanghai",
   "metadata": {},
   "source": [
    "### Pearson Baseline"
   ]
  },
  {
   "cell_type": "code",
   "execution_count": 12,
   "id": "recognized-fifteen",
   "metadata": {},
   "outputs": [],
   "source": [
    "algo_pearson_baseline = KNNWithMeans(k=7, sim_options={\"name\": \"pearson_baseline\", \"user_based\": False})"
   ]
  },
  {
   "cell_type": "code",
   "execution_count": 13,
   "id": "fourth-township",
   "metadata": {},
   "outputs": [
    {
     "name": "stdout",
     "output_type": "stream",
     "text": [
      "Estimating biases using als...\n",
      "Computing the pearson_baseline similarity matrix...\n",
      "Done computing similarity matrix.\n",
      "RMSE: 2.0524\n",
      "MSE: 4.2123\n",
      "MAE:  1.3851\n",
      "FCP:  0.7186\n",
      "Estimating biases using als...\n",
      "Computing the pearson_baseline similarity matrix...\n",
      "Done computing similarity matrix.\n",
      "RMSE: 2.0512\n",
      "MSE: 4.2075\n",
      "MAE:  1.3842\n",
      "FCP:  0.7177\n",
      "Estimating biases using als...\n",
      "Computing the pearson_baseline similarity matrix...\n",
      "Done computing similarity matrix.\n",
      "RMSE: 2.0544\n",
      "MSE: 4.2207\n",
      "MAE:  1.3846\n",
      "FCP:  0.7183\n",
      "Estimating biases using als...\n",
      "Computing the pearson_baseline similarity matrix...\n",
      "Done computing similarity matrix.\n",
      "RMSE: 2.0517\n",
      "MSE: 4.2096\n",
      "MAE:  1.3839\n",
      "FCP:  0.7168\n",
      "Estimating biases using als...\n",
      "Computing the pearson_baseline similarity matrix...\n",
      "Done computing similarity matrix.\n",
      "RMSE: 2.0492\n",
      "MSE: 4.1991\n",
      "MAE:  1.3817\n",
      "FCP:  0.7185\n"
     ]
    }
   ],
   "source": [
    "predictions_pearson_baseline = predict_and_error(data, algo_pearson_baseline, path=\"../predictions/knn_with_means/anime_type_tv/no_filter/knn_with_means_pearson_baseline\")"
   ]
  },
  {
   "cell_type": "markdown",
   "id": "6b0682fe",
   "metadata": {},
   "source": [
    "# Filter grade -1"
   ]
  },
  {
   "cell_type": "markdown",
   "id": "b69500f2",
   "metadata": {},
   "source": [
    "### Cossine"
   ]
  },
  {
   "cell_type": "code",
   "execution_count": 14,
   "id": "26ff7210",
   "metadata": {},
   "outputs": [],
   "source": [
    "base_df_without_negative = filter_animes_without_grade(base_df)"
   ]
  },
  {
   "cell_type": "code",
   "execution_count": 15,
   "id": "8bc66b8f",
   "metadata": {},
   "outputs": [
    {
     "name": "stdout",
     "output_type": "stream",
     "text": [
      "Computing the cosine similarity matrix...\n",
      "Done computing similarity matrix.\n",
      "RMSE: 2.1610\n",
      "MSE: 4.6697\n",
      "MAE:  1.4774\n",
      "FCP:  0.6780\n",
      "Computing the cosine similarity matrix...\n",
      "Done computing similarity matrix.\n",
      "RMSE: 2.1616\n",
      "MSE: 4.6727\n",
      "MAE:  1.4790\n",
      "FCP:  0.6772\n",
      "Computing the cosine similarity matrix...\n",
      "Done computing similarity matrix.\n",
      "RMSE: 2.1578\n",
      "MSE: 4.6562\n",
      "MAE:  1.4758\n",
      "FCP:  0.6785\n",
      "Computing the cosine similarity matrix...\n",
      "Done computing similarity matrix.\n",
      "RMSE: 2.1610\n",
      "MSE: 4.6697\n",
      "MAE:  1.4775\n",
      "FCP:  0.6784\n",
      "Computing the cosine similarity matrix...\n",
      "Done computing similarity matrix.\n",
      "RMSE: 2.1628\n",
      "MSE: 4.6778\n",
      "MAE:  1.4794\n",
      "FCP:  0.6777\n"
     ]
    }
   ],
   "source": [
    "predictions_cosine = predict_and_error(data, algo_cossine, path=\"../predictions/knn_with_means/anime_type_tv/with_filter_remove_negative/knn_with_means_cosine\")"
   ]
  },
  {
   "cell_type": "markdown",
   "id": "728f910e",
   "metadata": {},
   "source": [
    "### Msd"
   ]
  },
  {
   "cell_type": "code",
   "execution_count": 16,
   "id": "81c2dbda",
   "metadata": {},
   "outputs": [
    {
     "name": "stdout",
     "output_type": "stream",
     "text": [
      "Computing the msd similarity matrix...\n",
      "Done computing similarity matrix.\n",
      "RMSE: 2.1694\n",
      "MSE: 4.7063\n",
      "MAE:  1.4821\n",
      "FCP:  0.6744\n",
      "Computing the msd similarity matrix...\n",
      "Done computing similarity matrix.\n",
      "RMSE: 2.1636\n",
      "MSE: 4.6813\n",
      "MAE:  1.4760\n",
      "FCP:  0.6754\n",
      "Computing the msd similarity matrix...\n",
      "Done computing similarity matrix.\n",
      "RMSE: 2.1662\n",
      "MSE: 4.6923\n",
      "MAE:  1.4791\n",
      "FCP:  0.6756\n",
      "Computing the msd similarity matrix...\n",
      "Done computing similarity matrix.\n",
      "RMSE: 2.1658\n",
      "MSE: 4.6907\n",
      "MAE:  1.4785\n",
      "FCP:  0.6747\n",
      "Computing the msd similarity matrix...\n",
      "Done computing similarity matrix.\n",
      "RMSE: 2.1645\n",
      "MSE: 4.6853\n",
      "MAE:  1.4779\n",
      "FCP:  0.6760\n"
     ]
    }
   ],
   "source": [
    "predictions_msd = predict_and_error(data, algo_mds, path=\"../predictions/knn_with_means/anime_type_tv/with_filter_remove_negative/knn_with_means_msd\")"
   ]
  },
  {
   "cell_type": "markdown",
   "id": "1c8371a9",
   "metadata": {},
   "source": [
    "### Pearson"
   ]
  },
  {
   "cell_type": "code",
   "execution_count": 17,
   "id": "dad0e837",
   "metadata": {},
   "outputs": [
    {
     "name": "stdout",
     "output_type": "stream",
     "text": [
      "Computing the pearson similarity matrix...\n",
      "Done computing similarity matrix.\n",
      "RMSE: 2.1751\n",
      "MSE: 4.7310\n",
      "MAE:  1.4891\n",
      "FCP:  0.6717\n",
      "Computing the pearson similarity matrix...\n",
      "Done computing similarity matrix.\n",
      "RMSE: 2.1743\n",
      "MSE: 4.7276\n",
      "MAE:  1.4891\n",
      "FCP:  0.6725\n",
      "Computing the pearson similarity matrix...\n",
      "Done computing similarity matrix.\n",
      "RMSE: 2.1700\n",
      "MSE: 4.7087\n",
      "MAE:  1.4856\n",
      "FCP:  0.6735\n",
      "Computing the pearson similarity matrix...\n",
      "Done computing similarity matrix.\n",
      "RMSE: 2.1737\n",
      "MSE: 4.7250\n",
      "MAE:  1.4870\n",
      "FCP:  0.6730\n",
      "Computing the pearson similarity matrix...\n",
      "Done computing similarity matrix.\n",
      "RMSE: 2.1712\n",
      "MSE: 4.7142\n",
      "MAE:  1.4868\n",
      "FCP:  0.6719\n"
     ]
    }
   ],
   "source": [
    "predictions_pearson = predict_and_error(data, algo_pearson, path=\"../predictions/knn_with_means/anime_type_tv/with_filter_remove_negative/knn_with_means_pearson\")"
   ]
  },
  {
   "cell_type": "markdown",
   "id": "2022120e",
   "metadata": {},
   "source": [
    "### Pearson Baseline"
   ]
  },
  {
   "cell_type": "code",
   "execution_count": 18,
   "id": "67bfcec5",
   "metadata": {},
   "outputs": [
    {
     "name": "stdout",
     "output_type": "stream",
     "text": [
      "Estimating biases using als...\n",
      "Computing the pearson_baseline similarity matrix...\n",
      "Done computing similarity matrix.\n",
      "RMSE: 2.0527\n",
      "MSE: 4.2136\n",
      "MAE:  1.3849\n",
      "FCP:  0.7175\n",
      "Estimating biases using als...\n",
      "Computing the pearson_baseline similarity matrix...\n",
      "Done computing similarity matrix.\n",
      "RMSE: 2.0527\n",
      "MSE: 4.2134\n",
      "MAE:  1.3840\n",
      "FCP:  0.7177\n",
      "Estimating biases using als...\n",
      "Computing the pearson_baseline similarity matrix...\n",
      "Done computing similarity matrix.\n",
      "RMSE: 2.0513\n",
      "MSE: 4.2080\n",
      "MAE:  1.3835\n",
      "FCP:  0.7177\n",
      "Estimating biases using als...\n",
      "Computing the pearson_baseline similarity matrix...\n",
      "Done computing similarity matrix.\n",
      "RMSE: 2.0495\n",
      "MSE: 4.2005\n",
      "MAE:  1.3825\n",
      "FCP:  0.7190\n",
      "Estimating biases using als...\n",
      "Computing the pearson_baseline similarity matrix...\n",
      "Done computing similarity matrix.\n",
      "RMSE: 2.0498\n",
      "MSE: 4.2017\n",
      "MAE:  1.3828\n",
      "FCP:  0.7184\n"
     ]
    }
   ],
   "source": [
    "predictions_pearson_baseline = predict_and_error(data, algo_pearson_baseline, path=\"../predictions/knn_with_means/anime_type_tv/with_filter_remove_negative/knn_with_means_pearson_baseline\")"
   ]
  },
  {
   "cell_type": "code",
   "execution_count": null,
   "id": "dcc91f9a",
   "metadata": {},
   "outputs": [],
   "source": []
  }
 ],
 "metadata": {
  "kernelspec": {
   "display_name": "Python 3",
   "language": "python",
   "name": "python3"
  },
  "language_info": {
   "codemirror_mode": {
    "name": "ipython",
    "version": 3
   },
   "file_extension": ".py",
   "mimetype": "text/x-python",
   "name": "python",
   "nbconvert_exporter": "python",
   "pygments_lexer": "ipython3",
   "version": "3.6.5"
  }
 },
 "nbformat": 4,
 "nbformat_minor": 5
}
