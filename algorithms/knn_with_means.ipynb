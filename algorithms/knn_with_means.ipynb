{
 "cells": [
  {
   "cell_type": "code",
   "execution_count": 1,
   "id": "expressed-defense",
   "metadata": {},
   "outputs": [],
   "source": [
    "import pandas as pd\n",
    "from surprise import KNNWithMeans\n",
    "from surprise import accuracy\n",
    "from surprise.model_selection import cross_validate\n",
    "from surprise.model_selection import train_test_split\n",
    "from surprise.model_selection import KFold\n",
    "\n",
    "from read_and_split_data import split_data"
   ]
  },
  {
   "cell_type": "code",
   "execution_count": 2,
   "id": "usual-symposium",
   "metadata": {},
   "outputs": [],
   "source": [
    "def get_dataset():\n",
    "    anime = pd.read_parquet(\"../datasets/anime.parquet\")\n",
    "    anime = anime[[\"anime_id\", \"type\"]]\n",
    "    users = pd.read_parquet(\"../datasets/users.parquet\")\n",
    "    base_df = users.merge(anime, on=\"anime_id\", how=\"left\")\n",
    "    return base_df\n",
    "\n",
    "base_df = get_dataset()\n",
    "data = split_data(base_df)"
   ]
  },
  {
   "cell_type": "code",
   "execution_count": 3,
   "id": "optional-desktop",
   "metadata": {},
   "outputs": [],
   "source": [
    "kf = KFold(n_splits=5)"
   ]
  },
  {
   "cell_type": "code",
   "execution_count": 4,
   "id": "funny-heaven",
   "metadata": {},
   "outputs": [],
   "source": [
    "def predict_and_error(data, algo):\n",
    "    for trainset, testset in kf.split(data):\n",
    "        algo.fit(trainset)\n",
    "        predictions = algo.test(testset)\n",
    "        # Mean Squared Error\n",
    "        accuracy.rmse(predictions, verbose=True)\n",
    "        # Mean Absolute Erro\n",
    "        accuracy.mse(predictions, verbose=True)\n",
    "        # Mean Absolute Erro\n",
    "        accuracy.mae(predictions, verbose=True)\n",
    "        # Fraction of Concordant Pairs\n",
    "        accuracy.fcp(predictions, verbose=True)\n",
    "    return predictions"
   ]
  },
  {
   "cell_type": "markdown",
   "id": "noble-metropolitan",
   "metadata": {},
   "source": [
    "### Cosine Similarity"
   ]
  },
  {
   "cell_type": "code",
   "execution_count": 5,
   "id": "southern-transcript",
   "metadata": {},
   "outputs": [],
   "source": [
    "algo = KNNWithMeans(k=7, sim_options={\"name\": \"cosine\", \"user_based\": False})"
   ]
  },
  {
   "cell_type": "code",
   "execution_count": 6,
   "id": "generous-stocks",
   "metadata": {},
   "outputs": [
    {
     "name": "stdout",
     "output_type": "stream",
     "text": [
      "Computing the cosine similarity matrix...\n",
      "Done computing similarity matrix.\n",
      "RMSE: 2.1599\n",
      "MSE: 4.6651\n",
      "MAE:  1.4769\n",
      "FCP:  0.6783\n",
      "Computing the cosine similarity matrix...\n",
      "Done computing similarity matrix.\n",
      "RMSE: 2.1584\n",
      "MSE: 4.6588\n",
      "MAE:  1.4763\n",
      "FCP:  0.6789\n",
      "Computing the cosine similarity matrix...\n",
      "Done computing similarity matrix.\n",
      "RMSE: 2.1623\n",
      "MSE: 4.6756\n",
      "MAE:  1.4791\n",
      "FCP:  0.6767\n",
      "Computing the cosine similarity matrix...\n",
      "Done computing similarity matrix.\n",
      "RMSE: 2.1587\n",
      "MSE: 4.6599\n",
      "MAE:  1.4763\n",
      "FCP:  0.6780\n",
      "Computing the cosine similarity matrix...\n",
      "Done computing similarity matrix.\n",
      "RMSE: 2.1622\n",
      "MSE: 4.6752\n",
      "MAE:  1.4792\n",
      "FCP:  0.6778\n"
     ]
    }
   ],
   "source": [
    "predictions = predict_and_error(data, algo)"
   ]
  },
  {
   "cell_type": "code",
   "execution_count": 7,
   "id": "dried-trance",
   "metadata": {},
   "outputs": [],
   "source": [
    "df = pd.DataFrame(columns=[\"user\", \"anime\", \"actual\", \"est\", \"details\"], data=predictions)"
   ]
  },
  {
   "cell_type": "code",
   "execution_count": 8,
   "id": "sacred-context",
   "metadata": {},
   "outputs": [
    {
     "data": {
      "text/html": [
       "<div>\n",
       "<style scoped>\n",
       "    .dataframe tbody tr th:only-of-type {\n",
       "        vertical-align: middle;\n",
       "    }\n",
       "\n",
       "    .dataframe tbody tr th {\n",
       "        vertical-align: top;\n",
       "    }\n",
       "\n",
       "    .dataframe thead th {\n",
       "        text-align: right;\n",
       "    }\n",
       "</style>\n",
       "<table border=\"1\" class=\"dataframe\">\n",
       "  <thead>\n",
       "    <tr style=\"text-align: right;\">\n",
       "      <th></th>\n",
       "      <th>user</th>\n",
       "      <th>anime</th>\n",
       "      <th>actual</th>\n",
       "      <th>est</th>\n",
       "      <th>details</th>\n",
       "    </tr>\n",
       "  </thead>\n",
       "  <tbody>\n",
       "    <tr>\n",
       "      <th>960914</th>\n",
       "      <td>58736</td>\n",
       "      <td>14645</td>\n",
       "      <td>7.0</td>\n",
       "      <td>6.436638</td>\n",
       "      <td>{'actual_k': 7, 'was_impossible': False}</td>\n",
       "    </tr>\n",
       "  </tbody>\n",
       "</table>\n",
       "</div>"
      ],
      "text/plain": [
       "         user  anime  actual       est  \\\n",
       "960914  58736  14645     7.0  6.436638   \n",
       "\n",
       "                                         details  \n",
       "960914  {'actual_k': 7, 'was_impossible': False}  "
      ]
     },
     "execution_count": 8,
     "metadata": {},
     "output_type": "execute_result"
    }
   ],
   "source": [
    "df.sample()"
   ]
  },
  {
   "cell_type": "code",
   "execution_count": 9,
   "id": "simple-stack",
   "metadata": {},
   "outputs": [],
   "source": [
    "df.to_csv(\"../predictions/knn_with_means/anime_type_tv/no_filter/knn_with_means_cosine.csv\")\n",
    "df.to_parquet(\"../predictions/knn_with_means/anime_type_tv/no_filter/knn_with_means_cosine.parquet\")"
   ]
  },
  {
   "cell_type": "markdown",
   "id": "finite-newport",
   "metadata": {},
   "source": [
    "### Mean Squared Difference"
   ]
  },
  {
   "cell_type": "code",
   "execution_count": 10,
   "id": "productive-fairy",
   "metadata": {},
   "outputs": [],
   "source": [
    "algo = KNNWithMeans(k=7, sim_options={\"name\": \"msd\", \"user_based\": False})"
   ]
  },
  {
   "cell_type": "code",
   "execution_count": 11,
   "id": "accredited-charm",
   "metadata": {},
   "outputs": [
    {
     "name": "stdout",
     "output_type": "stream",
     "text": [
      "Computing the msd similarity matrix...\n",
      "Done computing similarity matrix.\n",
      "RMSE: 2.1645\n",
      "MSE: 4.6852\n",
      "MAE:  1.4770\n",
      "FCP:  0.6757\n",
      "Computing the msd similarity matrix...\n",
      "Done computing similarity matrix.\n",
      "RMSE: 2.1662\n",
      "MSE: 4.6923\n",
      "MAE:  1.4791\n",
      "FCP:  0.6756\n",
      "Computing the msd similarity matrix...\n",
      "Done computing similarity matrix.\n",
      "RMSE: 2.1647\n",
      "MSE: 4.6860\n",
      "MAE:  1.4777\n",
      "FCP:  0.6760\n",
      "Computing the msd similarity matrix...\n",
      "Done computing similarity matrix.\n",
      "RMSE: 2.1702\n",
      "MSE: 4.7099\n",
      "MAE:  1.4799\n",
      "FCP:  0.6752\n",
      "Computing the msd similarity matrix...\n",
      "Done computing similarity matrix.\n",
      "RMSE: 2.1649\n",
      "MSE: 4.6866\n",
      "MAE:  1.4795\n",
      "FCP:  0.6744\n"
     ]
    }
   ],
   "source": [
    "predictions_msd = predict_and_error(data, algo)"
   ]
  },
  {
   "cell_type": "code",
   "execution_count": 12,
   "id": "stopped-campbell",
   "metadata": {},
   "outputs": [],
   "source": [
    "df = pd.DataFrame(columns=[\"user\", \"anime\", \"actual\", \"est\", \"details\"], data=predictions_msd)"
   ]
  },
  {
   "cell_type": "code",
   "execution_count": 13,
   "id": "adequate-humidity",
   "metadata": {},
   "outputs": [],
   "source": [
    "df.to_csv(\"../predictions/knn_with_means/anime_type_tv/no_filter/knn_with_means_msd.csv\")\n",
    "df.to_parquet(\"../predictions/knn_with_means/anime_type_tv/no_filter/knn_with_means_msd.parquet\")"
   ]
  },
  {
   "cell_type": "markdown",
   "id": "desirable-nudist",
   "metadata": {},
   "source": [
    "### Pearson"
   ]
  },
  {
   "cell_type": "code",
   "execution_count": 14,
   "id": "precise-species",
   "metadata": {},
   "outputs": [],
   "source": [
    "algo = KNNWithMeans(k=7, sim_options={\"name\": \"pearson\", \"user_based\": False})"
   ]
  },
  {
   "cell_type": "code",
   "execution_count": 15,
   "id": "rough-cincinnati",
   "metadata": {},
   "outputs": [
    {
     "name": "stdout",
     "output_type": "stream",
     "text": [
      "Computing the pearson similarity matrix...\n",
      "Done computing similarity matrix.\n",
      "RMSE: 2.1746\n",
      "MSE: 4.7290\n",
      "MAE:  1.4890\n",
      "FCP:  0.6729\n",
      "Computing the pearson similarity matrix...\n",
      "Done computing similarity matrix.\n",
      "RMSE: 2.1702\n",
      "MSE: 4.7099\n",
      "MAE:  1.4857\n",
      "FCP:  0.6725\n",
      "Computing the pearson similarity matrix...\n",
      "Done computing similarity matrix.\n",
      "RMSE: 2.1683\n",
      "MSE: 4.7015\n",
      "MAE:  1.4857\n",
      "FCP:  0.6743\n",
      "Computing the pearson similarity matrix...\n",
      "Done computing similarity matrix.\n",
      "RMSE: 2.1755\n",
      "MSE: 4.7328\n",
      "MAE:  1.4883\n",
      "FCP:  0.6729\n",
      "Computing the pearson similarity matrix...\n",
      "Done computing similarity matrix.\n",
      "RMSE: 2.1742\n",
      "MSE: 4.7273\n",
      "MAE:  1.4888\n",
      "FCP:  0.6723\n"
     ]
    }
   ],
   "source": [
    "predictions_pearson = predict_and_error(data, algo)"
   ]
  },
  {
   "cell_type": "code",
   "execution_count": 16,
   "id": "smoking-press",
   "metadata": {},
   "outputs": [],
   "source": [
    "df = pd.DataFrame(columns=[\"user\", \"anime\", \"actual\", \"est\", \"details\"], data=predictions_pearson)"
   ]
  },
  {
   "cell_type": "code",
   "execution_count": 17,
   "id": "formal-interim",
   "metadata": {},
   "outputs": [],
   "source": [
    "df.to_csv(\"../predictions/knn_with_means/anime_type_tv/no_filter/knn_with_means_pearson.csv\")\n",
    "df.to_parquet(\"../predictions/knn_with_means/anime_type_tv/no_filter/knn_with_means_pearson.parquet\")"
   ]
  },
  {
   "cell_type": "markdown",
   "id": "intense-shanghai",
   "metadata": {},
   "source": [
    "### Pearson Baseline"
   ]
  },
  {
   "cell_type": "code",
   "execution_count": 18,
   "id": "recognized-fifteen",
   "metadata": {},
   "outputs": [],
   "source": [
    "algo = KNNWithMeans(k=7, sim_options={\"name\": \"pearson_baseline\", \"user_based\": False})"
   ]
  },
  {
   "cell_type": "code",
   "execution_count": 19,
   "id": "fourth-township",
   "metadata": {},
   "outputs": [
    {
     "name": "stdout",
     "output_type": "stream",
     "text": [
      "Estimating biases using als...\n",
      "Computing the pearson_baseline similarity matrix...\n",
      "Done computing similarity matrix.\n",
      "RMSE: 2.0524\n",
      "MSE: 4.2121\n",
      "MAE:  1.3842\n",
      "FCP:  0.7187\n",
      "Estimating biases using als...\n",
      "Computing the pearson_baseline similarity matrix...\n",
      "Done computing similarity matrix.\n",
      "RMSE: 2.0497\n",
      "MSE: 4.2013\n",
      "MAE:  1.3831\n",
      "FCP:  0.7175\n",
      "Estimating biases using als...\n",
      "Computing the pearson_baseline similarity matrix...\n",
      "Done computing similarity matrix.\n",
      "RMSE: 2.0517\n",
      "MSE: 4.2095\n",
      "MAE:  1.3842\n",
      "FCP:  0.7183\n",
      "Estimating biases using als...\n",
      "Computing the pearson_baseline similarity matrix...\n",
      "Done computing similarity matrix.\n",
      "RMSE: 2.0487\n",
      "MSE: 4.1973\n",
      "MAE:  1.3826\n",
      "FCP:  0.7182\n",
      "Estimating biases using als...\n",
      "Computing the pearson_baseline similarity matrix...\n",
      "Done computing similarity matrix.\n",
      "RMSE: 2.0535\n",
      "MSE: 4.2170\n",
      "MAE:  1.3829\n",
      "FCP:  0.7182\n"
     ]
    }
   ],
   "source": [
    "predictions_pearson_baseline = predict_and_error(data, algo)"
   ]
  },
  {
   "cell_type": "code",
   "execution_count": 20,
   "id": "composed-robinson",
   "metadata": {},
   "outputs": [],
   "source": [
    "df = pd.DataFrame(columns=[\"user\", \"anime\", \"actual\", \"est\", \"details\"], data=predictions_pearson_baseline)"
   ]
  },
  {
   "cell_type": "code",
   "execution_count": 21,
   "id": "unexpected-parks",
   "metadata": {},
   "outputs": [],
   "source": [
    "df.to_csv(\"../predictions/knn_with_means/anime_type_tv/no_filter/knn_with_means_pearson_baseline.csv\")\n",
    "df.to_parquet(\"../predictions/knn_with_means/anime_type_tv/no_filter/knn_with_means_pearson_baseline.parquet\")"
   ]
  },
  {
   "cell_type": "code",
   "execution_count": null,
   "id": "cubic-cooperative",
   "metadata": {},
   "outputs": [],
   "source": []
  }
 ],
 "metadata": {
  "kernelspec": {
   "display_name": "Python 3",
   "language": "python",
   "name": "python3"
  },
  "language_info": {
   "codemirror_mode": {
    "name": "ipython",
    "version": 3
   },
   "file_extension": ".py",
   "mimetype": "text/x-python",
   "name": "python",
   "nbconvert_exporter": "python",
   "pygments_lexer": "ipython3",
   "version": "3.6.5"
  }
 },
 "nbformat": 4,
 "nbformat_minor": 5
}
