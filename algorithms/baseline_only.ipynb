{
 "cells": [
  {
   "cell_type": "code",
   "execution_count": 1,
   "id": "2a0da2dd",
   "metadata": {},
   "outputs": [],
   "source": [
    "import pandas as pd\n",
    "import numpy as np\n",
    "from surprise import BaselineOnly\n",
    "from surprise import accuracy\n",
    "from surprise.model_selection import cross_validate\n",
    "from surprise.model_selection import train_test_split\n",
    "from surprise.model_selection import KFold\n",
    "\n",
    "from read_and_split_data import split_data, filter_animes_without_grade"
   ]
  },
  {
   "cell_type": "code",
   "execution_count": 2,
   "id": "1877aaab",
   "metadata": {},
   "outputs": [],
   "source": [
    "def get_dataset():\n",
    "    anime = pd.read_parquet(\"../datasets/anime.parquet\")\n",
    "    anime = anime[[\"anime_id\", \"type\"]]\n",
    "    users = pd.read_parquet(\"../datasets/users.parquet\")\n",
    "    base_df = users.merge(anime, on=\"anime_id\", how=\"left\")\n",
    "    return base_df\n",
    "\n",
    "base_df = get_dataset()\n",
    "data = split_data(base_df)"
   ]
  },
  {
   "cell_type": "code",
   "execution_count": 3,
   "id": "2d42c7f1",
   "metadata": {},
   "outputs": [],
   "source": [
    "kf = KFold(n_splits=5)"
   ]
  },
  {
   "cell_type": "code",
   "execution_count": 4,
   "id": "41b766af",
   "metadata": {},
   "outputs": [],
   "source": [
    "def predict_and_error(data, algo, path):\n",
    "    fold = 0\n",
    "    predictions_list = []\n",
    "    for trainset, testset in kf.split(data):\n",
    "        algo.fit(trainset)\n",
    "        predictions = algo.test(testset)\n",
    "        predictions_list.append(predictions)\n",
    "        # Mean Squared Error\n",
    "        accuracy.rmse(predictions, verbose=True)\n",
    "        # Mean Absolute Erro\n",
    "        accuracy.mse(predictions, verbose=True)\n",
    "        # Mean Absolute Erro\n",
    "        accuracy.mae(predictions, verbose=True)\n",
    "        # Fraction of Concordant Pairs\n",
    "        accuracy.fcp(predictions, verbose=True)\n",
    "        base_df = pd.DataFrame(columns=[\"user\", \"anime\", \"actual\", \"est\", \"details\"], data=predictions)\n",
    "        base_df.to_parquet(f\"{path}_{fold}.parquet\")\n",
    "        fold += 1\n",
    "    return predictions"
   ]
  },
  {
   "cell_type": "code",
   "execution_count": 5,
   "id": "8fe581e6",
   "metadata": {},
   "outputs": [],
   "source": [
    "algo_normal_predictor = BaselineOnly()"
   ]
  },
  {
   "cell_type": "code",
   "execution_count": 6,
   "id": "99037458",
   "metadata": {},
   "outputs": [
    {
     "name": "stdout",
     "output_type": "stream",
     "text": [
      "Estimating biases using als...\n",
      "RMSE: 2.2240\n",
      "MSE: 4.9461\n",
      "MAE:  1.5715\n",
      "FCP:  0.6835\n",
      "Estimating biases using als...\n",
      "RMSE: 2.2216\n",
      "MSE: 4.9353\n",
      "MAE:  1.5699\n",
      "FCP:  0.6845\n",
      "Estimating biases using als...\n",
      "RMSE: 2.2214\n",
      "MSE: 4.9348\n",
      "MAE:  1.5702\n",
      "FCP:  0.6842\n",
      "Estimating biases using als...\n",
      "RMSE: 2.2217\n",
      "MSE: 4.9361\n",
      "MAE:  1.5711\n",
      "FCP:  0.6856\n",
      "Estimating biases using als...\n",
      "RMSE: 2.2242\n",
      "MSE: 4.9470\n",
      "MAE:  1.5700\n",
      "FCP:  0.6846\n"
     ]
    }
   ],
   "source": [
    "predictions = predict_and_error(data, algo_normal_predictor, path=\"../predictions/baseline_only/anime_type_tv/no_filter/baseline_only\")"
   ]
  },
  {
   "cell_type": "code",
   "execution_count": 7,
   "id": "c41d1f51",
   "metadata": {},
   "outputs": [],
   "source": [
    "base_df_without_negative = filter_animes_without_grade(base_df)"
   ]
  },
  {
   "cell_type": "code",
   "execution_count": 8,
   "id": "7be812c0",
   "metadata": {},
   "outputs": [
    {
     "name": "stdout",
     "output_type": "stream",
     "text": [
      "Estimating biases using als...\n",
      "RMSE: 2.2204\n",
      "MSE: 4.9303\n",
      "MAE:  1.5695\n",
      "FCP:  0.6843\n",
      "Estimating biases using als...\n",
      "RMSE: 2.2220\n",
      "MSE: 4.9371\n",
      "MAE:  1.5696\n",
      "FCP:  0.6837\n",
      "Estimating biases using als...\n",
      "RMSE: 2.2233\n",
      "MSE: 4.9432\n",
      "MAE:  1.5704\n",
      "FCP:  0.6844\n",
      "Estimating biases using als...\n",
      "RMSE: 2.2249\n",
      "MSE: 4.9503\n",
      "MAE:  1.5719\n",
      "FCP:  0.6845\n",
      "Estimating biases using als...\n",
      "RMSE: 2.2222\n",
      "MSE: 4.9380\n",
      "MAE:  1.5712\n",
      "FCP:  0.6848\n"
     ]
    }
   ],
   "source": [
    "predictions_without_negative = predict_and_error(data, algo_normal_predictor, path=\"../predictions/baseline_only/anime_type_tv/with_filter_remove_negative/baseline_only\")"
   ]
  }
 ],
 "metadata": {
  "kernelspec": {
   "display_name": "Python 3",
   "language": "python",
   "name": "python3"
  },
  "language_info": {
   "codemirror_mode": {
    "name": "ipython",
    "version": 3
   },
   "file_extension": ".py",
   "mimetype": "text/x-python",
   "name": "python",
   "nbconvert_exporter": "python",
   "pygments_lexer": "ipython3",
   "version": "3.6.5"
  }
 },
 "nbformat": 4,
 "nbformat_minor": 5
}
