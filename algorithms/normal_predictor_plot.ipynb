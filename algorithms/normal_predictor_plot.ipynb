{
 "cells": [
  {
   "cell_type": "code",
   "execution_count": 1,
   "id": "e3a39540",
   "metadata": {},
   "outputs": [],
   "source": [
    "import pandas as pd\n",
    "import numpy as np\n",
    "import matplotlib.pyplot as plt\n",
    "import seaborn as sns"
   ]
  },
  {
   "cell_type": "code",
   "execution_count": 2,
   "id": "4c3542b5",
   "metadata": {},
   "outputs": [],
   "source": [
    "def round_est_values(df):\n",
    "    round_actual = np.round(df[\"est\"], decimals=0)\n",
    "    round_actual = round_actual.reset_index()\n",
    "    df = df.reset_index()[[\"index\", \"actual\", \"details\"]]\n",
    "    df = df.merge(round_actual, on=\"index\", how=\"left\")\n",
    "    df = df.set_index(\"index\")\n",
    "    grouped = df.groupby(\"est\", as_index=False).count()\n",
    "    return grouped"
   ]
  },
  {
   "cell_type": "code",
   "execution_count": 3,
   "id": "22c87c14",
   "metadata": {},
   "outputs": [],
   "source": [
    "normal_predictor_0 = pd.read_parquet(f\"../predictions/normal_predictor/anime_type_tv/no_filter/normal_predictor_0.parquet\")\n",
    "normal_predictor_1 = pd.read_parquet(f\"../predictions/normal_predictor/anime_type_tv/no_filter/normal_predictor_1.parquet\")\n",
    "normal_predictor_2 = pd.read_parquet(f\"../predictions/normal_predictor/anime_type_tv/no_filter/normal_predictor_2.parquet\")\n",
    "normal_predictor_3 = pd.read_parquet(f\"../predictions/normal_predictor/anime_type_tv/no_filter/normal_predictor_3.parquet\")\n",
    "normal_predictor_4 = pd.read_parquet(f\"../predictions/normal_predictor/anime_type_tv/no_filter/normal_predictor_4.parquet\")\n",
    "\n",
    "df = pd.concat([normal_predictor_0, normal_predictor_1, normal_predictor_2, normal_predictor_3, normal_predictor_4])"
   ]
  },
  {
   "cell_type": "markdown",
   "id": "47fffb85",
   "metadata": {},
   "source": [
    "### Cosine"
   ]
  },
  {
   "cell_type": "markdown",
   "id": "d24ba1fb",
   "metadata": {},
   "source": [
    "Os gráficos são comparativo da nota real VS a nota predita. Filtrando cada nota real (de 1 a 10), quais são as notas preditas por cada algoritmo usando similaridade cosseno"
   ]
  },
  {
   "cell_type": "code",
   "execution_count": 4,
   "id": "3d997823",
   "metadata": {},
   "outputs": [
    {
     "name": "stdout",
     "output_type": "stream",
     "text": [
      "    est   actual  details\n",
      "0   1.0  2422735  2422735\n",
      "1   2.0  1416480  1416480\n",
      "2   3.0  1894880  1894880\n",
      "3   4.0  2349505  2349505\n",
      "4   5.0  2695370  2695370\n",
      "5   6.0  2860685  2860685\n",
      "6   7.0  2840426  2840426\n",
      "7   8.0  2604810  2604810\n",
      "8   9.0  2216960  2216960\n",
      "9  10.0  5116125  5116125\n"
     ]
    }
   ],
   "source": [
    "df_grouped = round_est_values(df)\n",
    "print(df_grouped)"
   ]
  },
  {
   "cell_type": "code",
   "execution_count": 5,
   "id": "c15d3c5d",
   "metadata": {},
   "outputs": [
    {
     "data": {
      "text/plain": [
       "<AxesSubplot:title={'center':'Distribuição valores preditos - normal_predictor'}, xlabel='est'>"
      ]
     },
     "execution_count": 5,
     "metadata": {},
     "output_type": "execute_result"
    },
    {
     "data": {
      "image/png": "[encoded data removed]",
      "text/plain": [
       "<Figure size 432x288 with 1 Axes>"
      ]
     },
     "metadata": {
      "needs_background": "light"
     },
     "output_type": "display_data"
    }
   ],
   "source": [
    "df_grouped.plot.bar(x='est', y='actual', title=\"Distribuição valores preditos - normal_predictor\")"
   ]
  },
  {
   "cell_type": "code",
   "execution_count": 6,
   "id": "3d4fb94a",
   "metadata": {},
   "outputs": [
    {
     "name": "stdout",
     "output_type": "stream",
     "text": [
      "    est  actual  details\n",
      "0   1.0     787      787\n",
      "1   2.0     407      407\n",
      "2   3.0     598      598\n",
      "3   4.0     715      715\n",
      "4   5.0     884      884\n",
      "5   6.0     873      873\n",
      "6   7.0     845      845\n",
      "7   8.0     857      857\n",
      "8   9.0     702      702\n",
      "9  10.0    1561     1561\n"
     ]
    }
   ],
   "source": [
    "df_actual_1 = df.loc[df[\"actual\"] == 1]\n",
    "plot_cosine_counter = round_est_values(df_actual_1)\n",
    "print(plot_cosine_counter)"
   ]
  },
  {
   "cell_type": "code",
   "execution_count": 7,
   "id": "4e504e37",
   "metadata": {},
   "outputs": [
    {
     "data": {
      "text/plain": [
       "<AxesSubplot:title={'center':'Actual 1 counter'}, xlabel='est'>"
      ]
     },
     "execution_count": 7,
     "metadata": {},
     "output_type": "execute_result"
    },
    {
     "data": {
      "image/png": "[encoded data removed]",
      "text/plain": [
       "<Figure size 432x288 with 1 Axes>"
      ]
     },
     "metadata": {
      "needs_background": "light"
     },
     "output_type": "display_data"
    }
   ],
   "source": [
    "plot_cosine_counter.plot.bar(x='est', y='actual', title=\"Actual 1 counter\")"
   ]
  },
  {
   "cell_type": "code",
   "execution_count": 8,
   "id": "d5b3e881",
   "metadata": {},
   "outputs": [
    {
     "name": "stdout",
     "output_type": "stream",
     "text": [
      "    est  actual  details\n",
      "0   1.0    1217     1217\n",
      "1   2.0     696      696\n",
      "2   3.0     877      877\n",
      "3   4.0    1165     1165\n",
      "4   5.0    1280     1280\n",
      "5   6.0    1443     1443\n",
      "6   7.0    1394     1394\n",
      "7   8.0    1275     1275\n",
      "8   9.0    1092     1092\n",
      "9  10.0    2395     2395\n"
     ]
    }
   ],
   "source": [
    "df_actual_2 = df.loc[df[\"actual\"] == 2]\n",
    "plot_cosine_counter_2 = round_est_values(df_actual_2)\n",
    "print(plot_cosine_counter_2)"
   ]
  },
  {
   "cell_type": "code",
   "execution_count": 9,
   "id": "47097ce1",
   "metadata": {},
   "outputs": [
    {
     "data": {
      "text/plain": [
       "<AxesSubplot:title={'center':'Actual 2 counter'}, xlabel='est'>"
      ]
     },
     "execution_count": 9,
     "metadata": {},
     "output_type": "execute_result"
    },
    {
     "data": {
      "image/png": "[encoded data removed]",
      "text/plain": [
       "<Figure size 432x288 with 1 Axes>"
      ]
     },
     "metadata": {
      "needs_background": "light"
     },
     "output_type": "display_data"
    }
   ],
   "source": [
    "plot_cosine_counter_2.plot.bar(x='est', y='actual', title=\"Actual 2 counter\")"
   ]
  },
  {
   "cell_type": "code",
   "execution_count": 10,
   "id": "148743c3",
   "metadata": {},
   "outputs": [
    {
     "name": "stdout",
     "output_type": "stream",
     "text": [
      "    est  actual  details\n",
      "0   1.0    2264     2264\n",
      "1   2.0    1334     1334\n",
      "2   3.0    1706     1706\n",
      "3   4.0    2157     2157\n",
      "4   5.0    2497     2497\n",
      "5   6.0    2743     2743\n",
      "6   7.0    2653     2653\n",
      "7   8.0    2408     2408\n",
      "8   9.0    2071     2071\n",
      "9  10.0    4685     4685\n"
     ]
    }
   ],
   "source": [
    "df_actual_3 = df.loc[df[\"actual\"] == 3]\n",
    "plot_cosine_counter_3 = round_est_values(df_actual_3)\n",
    "print(plot_cosine_counter_3)"
   ]
  },
  {
   "cell_type": "code",
   "execution_count": 11,
   "id": "766a09da",
   "metadata": {},
   "outputs": [
    {
     "data": {
      "text/plain": [
       "<AxesSubplot:title={'center':'Actual 3 counter'}, xlabel='est'>"
      ]
     },
     "execution_count": 11,
     "metadata": {},
     "output_type": "execute_result"
    },
    {
     "data": {
      "image/png": "[encoded data removed]",
      "text/plain": [
       "<Figure size 432x288 with 1 Axes>"
      ]
     },
     "metadata": {
      "needs_background": "light"
     },
     "output_type": "display_data"
    }
   ],
   "source": [
    "plot_cosine_counter_3.plot.bar(x='est', y='actual', title=\"Actual 3 counter\")"
   ]
  },
  {
   "cell_type": "code",
   "execution_count": 12,
   "id": "9763368d",
   "metadata": {},
   "outputs": [
    {
     "name": "stdout",
     "output_type": "stream",
     "text": [
      "    est  actual  details\n",
      "0   1.0    6053     6053\n",
      "1   2.0    3501     3501\n",
      "2   3.0    4661     4661\n",
      "3   4.0    5877     5877\n",
      "4   5.0    6645     6645\n",
      "5   6.0    7073     7073\n",
      "6   7.0    7072     7072\n",
      "7   8.0    6458     6458\n",
      "8   9.0    5570     5570\n",
      "9  10.0   12631    12631\n"
     ]
    }
   ],
   "source": [
    "df_actual_4 = df.loc[df[\"actual\"] == 4]\n",
    "plot_cosine_counter_4 = round_est_values(df_actual_4)\n",
    "print(plot_cosine_counter_4)"
   ]
  },
  {
   "cell_type": "code",
   "execution_count": 13,
   "id": "8f31ee3c",
   "metadata": {},
   "outputs": [
    {
     "data": {
      "text/plain": [
       "<AxesSubplot:title={'center':'Actual 4 counter'}, xlabel='est'>"
      ]
     },
     "execution_count": 13,
     "metadata": {},
     "output_type": "execute_result"
    },
    {
     "data": {
      "image/png": "[encoded data removed]",
      "text/plain": [
       "<Figure size 432x288 with 1 Axes>"
      ]
     },
     "metadata": {
      "needs_background": "light"
     },
     "output_type": "display_data"
    }
   ],
   "source": [
    "plot_cosine_counter_4.plot.bar(x='est', y='actual', title=\"Actual 4 counter\")"
   ]
  },
  {
   "cell_type": "code",
   "execution_count": 14,
   "id": "d47b8a66",
   "metadata": {},
   "outputs": [
    {
     "name": "stdout",
     "output_type": "stream",
     "text": [
      "    est  actual  details\n",
      "0   1.0   17846    17846\n",
      "1   2.0   10231    10231\n",
      "2   3.0   13755    13755\n",
      "3   4.0   17221    17221\n",
      "4   5.0   19479    19479\n",
      "5   6.0   20628    20628\n",
      "6   7.0   20410    20410\n",
      "7   8.0   18902    18902\n",
      "8   9.0   16157    16157\n",
      "9  10.0   36916    36916\n"
     ]
    }
   ],
   "source": [
    "df_actual_5 = df.loc[df[\"actual\"] == 5]\n",
    "plot_cosine_counter_5 = round_est_values(df_actual_5)\n",
    "print(plot_cosine_counter_5)"
   ]
  },
  {
   "cell_type": "code",
   "execution_count": 15,
   "id": "186b4675",
   "metadata": {},
   "outputs": [
    {
     "data": {
      "text/plain": [
       "<AxesSubplot:title={'center':'Actual 5 counter'}, xlabel='est'>"
      ]
     },
     "execution_count": 15,
     "metadata": {},
     "output_type": "execute_result"
    },
    {
     "data": {
      "image/png": "[encoded data removed]",
      "text/plain": [
       "<Figure size 432x288 with 1 Axes>"
      ]
     },
     "metadata": {
      "needs_background": "light"
     },
     "output_type": "display_data"
    }
   ],
   "source": [
    "plot_cosine_counter_5.plot.bar(x='est', y='actual', title=\"Actual 5 counter\")"
   ]
  },
  {
   "cell_type": "code",
   "execution_count": 16,
   "id": "9c133b82",
   "metadata": {},
   "outputs": [
    {
     "name": "stdout",
     "output_type": "stream",
     "text": [
      "    est  actual  details\n",
      "0   1.0   47563    47563\n",
      "1   2.0   28186    28186\n",
      "2   3.0   37395    37395\n",
      "3   4.0   46305    46305\n",
      "4   5.0   53280    53280\n",
      "5   6.0   57095    57095\n",
      "6   7.0   56322    56322\n",
      "7   8.0   51626    51626\n",
      "8   9.0   43890    43890\n",
      "9  10.0  101412   101412\n"
     ]
    }
   ],
   "source": [
    "df_actual_6 = df.loc[df[\"actual\"] == 6]\n",
    "plot_cosine_counter_6 = round_est_values(df_actual_6)\n",
    "print(plot_cosine_counter_6)"
   ]
  },
  {
   "cell_type": "code",
   "execution_count": 17,
   "id": "047fbe05",
   "metadata": {},
   "outputs": [
    {
     "data": {
      "text/plain": [
       "<AxesSubplot:title={'center':'Actual 6 counter'}, xlabel='est'>"
      ]
     },
     "execution_count": 17,
     "metadata": {},
     "output_type": "execute_result"
    },
    {
     "data": {
      "image/png": "[encoded data removed]",
      "text/plain": [
       "<Figure size 432x288 with 1 Axes>"
      ]
     },
     "metadata": {
      "needs_background": "light"
     },
     "output_type": "display_data"
    }
   ],
   "source": [
    "plot_cosine_counter_6.plot.bar(x='est', y='actual', title=\"Actual 6 counter\")"
   ]
  },
  {
   "cell_type": "code",
   "execution_count": 18,
   "id": "0946827e",
   "metadata": {},
   "outputs": [
    {
     "name": "stdout",
     "output_type": "stream",
     "text": [
      "    est  actual  details\n",
      "0   1.0  142644   142644\n",
      "1   2.0   83603    83603\n",
      "2   3.0  111500   111500\n",
      "3   4.0  137720   137720\n",
      "4   5.0  159054   159054\n",
      "5   6.0  168440   168440\n",
      "6   7.0  167225   167225\n",
      "7   8.0  153258   153258\n",
      "8   9.0  130105   130105\n",
      "9  10.0  301391   301391\n"
     ]
    }
   ],
   "source": [
    "df_actual_7 = df.loc[df[\"actual\"] == 7]\n",
    "plot_cosine_counter_7 = round_est_values(df_actual_7)\n",
    "print(plot_cosine_counter_7)"
   ]
  },
  {
   "cell_type": "code",
   "execution_count": 19,
   "id": "2dd5d395",
   "metadata": {},
   "outputs": [
    {
     "data": {
      "text/plain": [
       "<AxesSubplot:title={'center':'Actual 7 counter'}, xlabel='est'>"
      ]
     },
     "execution_count": 19,
     "metadata": {},
     "output_type": "execute_result"
    },
    {
     "data": {
      "image/png": "[encoded data removed]",
      "text/plain": [
       "<Figure size 432x288 with 1 Axes>"
      ]
     },
     "metadata": {
      "needs_background": "light"
     },
     "output_type": "display_data"
    }
   ],
   "source": [
    "plot_cosine_counter_7.plot.bar(x='est', y='actual', title=\"Actual 7 counter\")"
   ]
  },
  {
   "cell_type": "code",
   "execution_count": 20,
   "id": "32591dc0",
   "metadata": {},
   "outputs": [
    {
     "name": "stdout",
     "output_type": "stream",
     "text": [
      "    est  actual  details\n",
      "0   1.0  201071   201071\n",
      "1   2.0  117725   117725\n",
      "2   3.0  156948   156948\n",
      "3   4.0  194438   194438\n",
      "4   5.0  223311   223311\n",
      "5   6.0  237079   237079\n",
      "6   7.0  235805   235805\n",
      "7   8.0  215625   215625\n",
      "8   9.0  183993   183993\n",
      "9  10.0  424737   424737\n"
     ]
    }
   ],
   "source": [
    "df_actual_8 = df.loc[df[\"actual\"] == 8]\n",
    "plot_cosine_counter_8 = round_est_values(df_actual_8)\n",
    "print(plot_cosine_counter_8)"
   ]
  },
  {
   "cell_type": "code",
   "execution_count": 21,
   "id": "677f6ea0",
   "metadata": {},
   "outputs": [
    {
     "data": {
      "text/plain": [
       "<AxesSubplot:title={'center':'Actual 8 counter'}, xlabel='est'>"
      ]
     },
     "execution_count": 21,
     "metadata": {},
     "output_type": "execute_result"
    },
    {
     "data": {
      "image/png": "[encoded data removed]",
      "text/plain": [
       "<Figure size 432x288 with 1 Axes>"
      ]
     },
     "metadata": {
      "needs_background": "light"
     },
     "output_type": "display_data"
    }
   ],
   "source": [
    "plot_cosine_counter_8.plot.bar(x='est', y='actual', title=\"Actual 8 counter\")"
   ]
  },
  {
   "cell_type": "code",
   "execution_count": 22,
   "id": "79d11434",
   "metadata": {},
   "outputs": [
    {
     "name": "stdout",
     "output_type": "stream",
     "text": [
      "    est  actual  details\n",
      "0   1.0  141187   141187\n",
      "1   2.0   83151    83151\n",
      "2   3.0  111198   111198\n",
      "3   4.0  137336   137336\n",
      "4   5.0  158883   158883\n",
      "5   6.0  167356   167356\n",
      "6   7.0  167017   167017\n",
      "7   8.0  153401   153401\n",
      "8   9.0  129526   129526\n",
      "9  10.0  300419   300419\n"
     ]
    }
   ],
   "source": [
    "df_actua_9 = df.loc[df[\"actual\"] == 9]\n",
    "plot_cosine_counter_9 = round_est_values(df_actua_9)\n",
    "print(plot_cosine_counter_9)"
   ]
  },
  {
   "cell_type": "code",
   "execution_count": 23,
   "id": "8195813e",
   "metadata": {},
   "outputs": [
    {
     "data": {
      "text/plain": [
       "<AxesSubplot:title={'center':'Actual 9 counter'}, xlabel='est'>"
      ]
     },
     "execution_count": 23,
     "metadata": {},
     "output_type": "execute_result"
    },
    {
     "data": {
      "image/png": "[encoded data removed]",
      "text/plain": [
       "<Figure size 432x288 with 1 Axes>"
      ]
     },
     "metadata": {
      "needs_background": "light"
     },
     "output_type": "display_data"
    }
   ],
   "source": [
    "plot_cosine_counter_9.plot.bar(x='est', y='actual', title=\"Actual 9 counter\")"
   ]
  },
  {
   "cell_type": "code",
   "execution_count": 24,
   "id": "7ee69a50",
   "metadata": {},
   "outputs": [
    {
     "name": "stdout",
     "output_type": "stream",
     "text": [
      "    est  actual  details\n",
      "0   1.0   96652    96652\n",
      "1   2.0   56499    56499\n",
      "2   3.0   74911    74911\n",
      "3   4.0   93853    93853\n",
      "4   5.0  107518   107518\n",
      "5   6.0  113255   113255\n",
      "6   7.0  112163   112163\n",
      "7   8.0  102779   102779\n",
      "8   9.0   88364    88364\n",
      "9  10.0  203371   203371\n"
     ]
    }
   ],
   "source": [
    "df_actua_10 = df.loc[df[\"actual\"] == 10]\n",
    "plot_cosine_counter_10 = round_est_values(df_actua_10)\n",
    "print(plot_cosine_counter_10)"
   ]
  },
  {
   "cell_type": "code",
   "execution_count": 25,
   "id": "57c550c6",
   "metadata": {},
   "outputs": [
    {
     "data": {
      "text/plain": [
       "<AxesSubplot:title={'center':'Actual 10 counter'}, xlabel='est'>"
      ]
     },
     "execution_count": 25,
     "metadata": {},
     "output_type": "execute_result"
    },
    {
     "data": {
      "image/png": "[encoded data removed]",
      "text/plain": [
       "<Figure size 432x288 with 1 Axes>"
      ]
     },
     "metadata": {
      "needs_background": "light"
     },
     "output_type": "display_data"
    }
   ],
   "source": [
    "plot_cosine_counter_10.plot.bar(x='est', y='actual', title=\"Actual 10 counter\")"
   ]
  },
  {
   "cell_type": "code",
   "execution_count": 26,
   "id": "4b7463f0",
   "metadata": {},
   "outputs": [],
   "source": [
    "round_df = np.round(df[\"est\"], decimals=0)\n",
    "round_df = round_df.reset_index()\n",
    "df = df.reset_index()[[\"index\", \"actual\", \"details\"]]\n",
    "df = df.merge(round_df, on=\"index\", how=\"left\")"
   ]
  },
  {
   "cell_type": "code",
   "execution_count": 27,
   "id": "76110117",
   "metadata": {},
   "outputs": [
    {
     "name": "stdout",
     "output_type": "stream",
     "text": [
      "    est   actual  details\n",
      "0   1.0  2422735  2422735\n",
      "1   2.0  1416480  1416480\n",
      "2   3.0  1894880  1894880\n",
      "3   4.0  2349505  2349505\n",
      "4   5.0  2695370  2695370\n",
      "5   6.0  2860685  2860685\n",
      "6   7.0  2840426  2840426\n",
      "7   8.0  2604810  2604810\n",
      "8   9.0  2216960  2216960\n",
      "9  10.0  5116125  5116125\n"
     ]
    }
   ],
   "source": [
    "df = df.set_index(\"index\")\n",
    "plot_df = df.groupby(\"est\", as_index=False).count()\n",
    "print(plot_df)"
   ]
  },
  {
   "cell_type": "code",
   "execution_count": 28,
   "id": "4df0ebc3",
   "metadata": {},
   "outputs": [],
   "source": [
    "def plot_violin_graph_base(list_of_data, title):\n",
    "    # Create a figure instance\n",
    "    fig = plt.figure()\n",
    "  \n",
    "    # Create an axes instance\n",
    "    ax = fig.gca()\n",
    "    ax.set_title(title)\n",
    "    # Create the violinplot\n",
    "    violinplot = ax.violinplot(list_of_data)\n",
    "    plt.show()"
   ]
  },
  {
   "cell_type": "markdown",
   "id": "3c0fc682",
   "metadata": {},
   "source": [
    "Gráfico para o estudo de como está distribuição de notas preditas"
   ]
  },
  {
   "cell_type": "code",
   "execution_count": 29,
   "id": "9baa64dc",
   "metadata": {},
   "outputs": [
    {
     "data": {
      "image/png": "[encoded data removed]",
      "text/plain": [
       "<Figure size 432x288 with 1 Axes>"
      ]
     },
     "metadata": {
      "needs_background": "light"
     },
     "output_type": "display_data"
    }
   ],
   "source": [
    "est_df = df[\"est\"].tolist()\n",
    "plot_violin_graph_base(est_df, title=\"all folds estimation\")"
   ]
  },
  {
   "cell_type": "markdown",
   "id": "dd1a5864",
   "metadata": {},
   "source": [
    "é notório também que as notas reais estão amis concentradas entre 6 e 8, o que infuencia na predição. O algoritmo tende a acertar mais quando com essas notas e errar com notas entre 1 e 4"
   ]
  },
  {
   "cell_type": "code",
   "execution_count": 30,
   "id": "23f2a141",
   "metadata": {},
   "outputs": [
    {
     "data": {
      "image/png": "[encoded data removed]",
      "text/plain": [
       "<Figure size 432x288 with 1 Axes>"
      ]
     },
     "metadata": {
      "needs_background": "light"
     },
     "output_type": "display_data"
    }
   ],
   "source": [
    "est_df = df[\"actual\"].tolist()\n",
    "plot_violin_graph_base(est_df, title=\"all folds actual\")"
   ]
  },
  {
   "cell_type": "markdown",
   "id": "88cb15b1",
   "metadata": {},
   "source": [
    "# Removing negative grades"
   ]
  },
  {
   "cell_type": "markdown",
   "id": "afce69a1",
   "metadata": {},
   "source": [
    "### Cossine"
   ]
  },
  {
   "cell_type": "code",
   "execution_count": 31,
   "id": "1cd1663f",
   "metadata": {},
   "outputs": [],
   "source": [
    "normal_predictor_0 = pd.read_parquet(f\"../predictions/normal_predictor/anime_type_tv/with_filter_remove_negative/normal_predictor_0.parquet\")\n",
    "normal_predictor_1 = pd.read_parquet(f\"../predictions/normal_predictor/anime_type_tv/with_filter_remove_negative/normal_predictor_1.parquet\")\n",
    "normal_predictor_2 = pd.read_parquet(f\"../predictions/normal_predictor/anime_type_tv/with_filter_remove_negative/normal_predictor_2.parquet\")\n",
    "normal_predictor_3 = pd.read_parquet(f\"../predictions/normal_predictor/anime_type_tv/with_filter_remove_negative/normal_predictor_3.parquet\")\n",
    "normal_predictor_4 = pd.read_parquet(f\"../predictions/normal_predictor/anime_type_tv/with_filter_remove_negative/normal_predictor_4.parquet\")\n",
    "\n",
    "knn_basic = pd.concat([normal_predictor_0, normal_predictor_1, normal_predictor_2, normal_predictor_3, normal_predictor_4])"
   ]
  },
  {
   "cell_type": "code",
   "execution_count": 32,
   "id": "92150b0d",
   "metadata": {},
   "outputs": [
    {
     "name": "stdout",
     "output_type": "stream",
     "text": [
      "    est   actual  details\n",
      "0   1.0  2430465  2430465\n",
      "1   2.0  1418875  1418875\n",
      "2   3.0  1894980  1894980\n",
      "3   4.0  2340280  2340280\n",
      "4   5.0  2689616  2689616\n",
      "5   6.0  2865550  2865550\n",
      "6   7.0  2834705  2834705\n",
      "7   8.0  2602485  2602485\n",
      "8   9.0  2217020  2217020\n",
      "9  10.0  5124000  5124000\n"
     ]
    }
   ],
   "source": [
    "df_grouped = round_est_values(knn_basic)\n",
    "print(df_grouped)"
   ]
  },
  {
   "cell_type": "code",
   "execution_count": 33,
   "id": "0bd61861",
   "metadata": {},
   "outputs": [
    {
     "data": {
      "text/plain": [
       "<AxesSubplot:title={'center':'Distribuição valores preditos (filtro -1) - normal_predictor'}, xlabel='est'>"
      ]
     },
     "execution_count": 33,
     "metadata": {},
     "output_type": "execute_result"
    },
    {
     "data": {
      "image/png": "[encoded data removed]",
      "text/plain": [
       "<Figure size 432x288 with 1 Axes>"
      ]
     },
     "metadata": {
      "needs_background": "light"
     },
     "output_type": "display_data"
    }
   ],
   "source": [
    "df_grouped.plot.bar(x='est', y='actual', title=\"Distribuição valores preditos (filtro -1) - normal_predictor\")"
   ]
  },
  {
   "cell_type": "code",
   "execution_count": 34,
   "id": "aab96e47",
   "metadata": {},
   "outputs": [
    {
     "name": "stdout",
     "output_type": "stream",
     "text": [
      "    est  actual  details\n",
      "0   1.0     780      780\n",
      "1   2.0     451      451\n",
      "2   3.0     593      593\n",
      "3   4.0     750      750\n",
      "4   5.0     835      835\n",
      "5   6.0     865      865\n",
      "6   7.0     830      830\n",
      "7   8.0     869      869\n",
      "8   9.0     734      734\n",
      "9  10.0    1550     1550\n"
     ]
    }
   ],
   "source": [
    "df_actual_with_filter_1 = knn_basic.loc[knn_basic[\"actual\"] == 1]\n",
    "df_actual_with_filter_1_plot = round_est_values(df_actual_with_filter_1)\n",
    "print(df_actual_with_filter_1_plot)"
   ]
  },
  {
   "cell_type": "code",
   "execution_count": 35,
   "id": "484d11a3",
   "metadata": {},
   "outputs": [
    {
     "data": {
      "text/plain": [
       "<AxesSubplot:title={'center':'Actual 1 counter (filter -1)'}, xlabel='est'>"
      ]
     },
     "execution_count": 35,
     "metadata": {},
     "output_type": "execute_result"
    },
    {
     "data": {
      "image/png": "[encoded data removed]",
      "text/plain": [
       "<Figure size 432x288 with 1 Axes>"
      ]
     },
     "metadata": {
      "needs_background": "light"
     },
     "output_type": "display_data"
    }
   ],
   "source": [
    "df_actual_with_filter_1_plot.plot.bar(x='est', y='actual', title=\"Actual 1 counter (filter -1)\")"
   ]
  },
  {
   "cell_type": "code",
   "execution_count": 36,
   "id": "a3cb317d",
   "metadata": {},
   "outputs": [
    {
     "name": "stdout",
     "output_type": "stream",
     "text": [
      "    est  actual  details\n",
      "0   1.0    1119     1119\n",
      "1   2.0     666      666\n",
      "2   3.0     916      916\n",
      "3   4.0    1103     1103\n",
      "4   5.0    1325     1325\n",
      "5   6.0    1448     1448\n",
      "6   7.0    1363     1363\n",
      "7   8.0    1285     1285\n",
      "8   9.0    1080     1080\n",
      "9  10.0    2503     2503\n"
     ]
    }
   ],
   "source": [
    "df_actual_with_filter_2 = knn_basic.loc[knn_basic[\"actual\"] == 2]\n",
    "df_actual_with_filter_2_plot = round_est_values(df_actual_with_filter_2)\n",
    "print(df_actual_with_filter_2_plot)"
   ]
  },
  {
   "cell_type": "code",
   "execution_count": 37,
   "id": "3f4e8876",
   "metadata": {},
   "outputs": [
    {
     "data": {
      "text/plain": [
       "<AxesSubplot:title={'center':'Actual 2 counter (filter -1)'}, xlabel='est'>"
      ]
     },
     "execution_count": 37,
     "metadata": {},
     "output_type": "execute_result"
    },
    {
     "data": {
      "image/png": "[encoded data removed]",
      "text/plain": [
       "<Figure size 432x288 with 1 Axes>"
      ]
     },
     "metadata": {
      "needs_background": "light"
     },
     "output_type": "display_data"
    }
   ],
   "source": [
    "df_actual_with_filter_2_plot.plot.bar(x='est', y='actual', title=\"Actual 2 counter (filter -1)\")"
   ]
  },
  {
   "cell_type": "code",
   "execution_count": 38,
   "id": "69d2c1aa",
   "metadata": {},
   "outputs": [
    {
     "name": "stdout",
     "output_type": "stream",
     "text": [
      "    est  actual  details\n",
      "0   1.0    2187     2187\n",
      "1   2.0    1276     1276\n",
      "2   3.0    1759     1759\n",
      "3   4.0    2190     2190\n",
      "4   5.0    2530     2530\n",
      "5   6.0    2689     2689\n",
      "6   7.0    2615     2615\n",
      "7   8.0    2509     2509\n",
      "8   9.0    1987     1987\n",
      "9  10.0    4764     4764\n"
     ]
    }
   ],
   "source": [
    "df_actual_with_filter_3 = knn_basic.loc[knn_basic[\"actual\"] == 3]\n",
    "df_actual_with_filter_3_plot = round_est_values(df_actual_with_filter_3)\n",
    "print(df_actual_with_filter_3_plot)"
   ]
  },
  {
   "cell_type": "code",
   "execution_count": 39,
   "id": "f134350c",
   "metadata": {},
   "outputs": [
    {
     "data": {
      "text/plain": [
       "<AxesSubplot:title={'center':'Actual 3 counter (filter -1)'}, xlabel='est'>"
      ]
     },
     "execution_count": 39,
     "metadata": {},
     "output_type": "execute_result"
    },
    {
     "data": {
      "image/png": "[encoded data removed]",
      "text/plain": [
       "<Figure size 432x288 with 1 Axes>"
      ]
     },
     "metadata": {
      "needs_background": "light"
     },
     "output_type": "display_data"
    }
   ],
   "source": [
    "df_actual_with_filter_3_plot.plot.bar(x='est', y='actual', title=\"Actual 3 counter (filter -1)\")"
   ]
  },
  {
   "cell_type": "code",
   "execution_count": 40,
   "id": "81478902",
   "metadata": {},
   "outputs": [
    {
     "name": "stdout",
     "output_type": "stream",
     "text": [
      "    est  actual  details\n",
      "0   1.0    5965     5965\n",
      "1   2.0    3615     3615\n",
      "2   3.0    4733     4733\n",
      "3   4.0    5911     5911\n",
      "4   5.0    6561     6561\n",
      "5   6.0    7077     7077\n",
      "6   7.0    7014     7014\n",
      "7   8.0    6448     6448\n",
      "8   9.0    5420     5420\n",
      "9  10.0   12859    12859\n"
     ]
    }
   ],
   "source": [
    "df_actual_with_filter_4 = knn_basic.loc[knn_basic[\"actual\"] == 4]\n",
    "df_actual_with_filter_4_plot = round_est_values(df_actual_with_filter_4)\n",
    "print(df_actual_with_filter_4_plot)"
   ]
  },
  {
   "cell_type": "code",
   "execution_count": 41,
   "id": "51923082",
   "metadata": {},
   "outputs": [
    {
     "data": {
      "text/plain": [
       "<AxesSubplot:title={'center':'Actual 4 counter (filter -1)'}, xlabel='est'>"
      ]
     },
     "execution_count": 41,
     "metadata": {},
     "output_type": "execute_result"
    },
    {
     "data": {
      "image/png": "[encoded data removed]",
      "text/plain": [
       "<Figure size 432x288 with 1 Axes>"
      ]
     },
     "metadata": {
      "needs_background": "light"
     },
     "output_type": "display_data"
    }
   ],
   "source": [
    "df_actual_with_filter_4_plot.plot.bar(x='est', y='actual', title=\"Actual 4 counter (filter -1)\")"
   ]
  },
  {
   "cell_type": "code",
   "execution_count": 42,
   "id": "06daddb0",
   "metadata": {},
   "outputs": [
    {
     "name": "stdout",
     "output_type": "stream",
     "text": [
      "    est  actual  details\n",
      "0   1.0   17691    17691\n",
      "1   2.0   10319    10319\n",
      "2   3.0   13679    13679\n",
      "3   4.0   17074    17074\n",
      "4   5.0   19556    19556\n",
      "5   6.0   20805    20805\n",
      "6   7.0   20568    20568\n",
      "7   8.0   18767    18767\n",
      "8   9.0   15869    15869\n",
      "9  10.0   37057    37057\n"
     ]
    }
   ],
   "source": [
    "df_actual_with_filter_5 = knn_basic.loc[knn_basic[\"actual\"] == 5]\n",
    "df_actual_with_filter_5_plot = round_est_values(df_actual_with_filter_5)\n",
    "print(df_actual_with_filter_5_plot)"
   ]
  },
  {
   "cell_type": "code",
   "execution_count": 43,
   "id": "d3563afd",
   "metadata": {},
   "outputs": [
    {
     "data": {
      "text/plain": [
       "<AxesSubplot:title={'center':'Actual 5 counter (filter -1)'}, xlabel='est'>"
      ]
     },
     "execution_count": 43,
     "metadata": {},
     "output_type": "execute_result"
    },
    {
     "data": {
      "image/png": "[encoded data removed]",
      "text/plain": [
       "<Figure size 432x288 with 1 Axes>"
      ]
     },
     "metadata": {
      "needs_background": "light"
     },
     "output_type": "display_data"
    }
   ],
   "source": [
    "df_actual_with_filter_5_plot.plot.bar(x='est', y='actual', title=\"Actual 5 counter (filter -1)\")"
   ]
  },
  {
   "cell_type": "code",
   "execution_count": 44,
   "id": "c7717855",
   "metadata": {},
   "outputs": [
    {
     "name": "stdout",
     "output_type": "stream",
     "text": [
      "    est  actual  details\n",
      "0   1.0   48075    48075\n",
      "1   2.0   28176    28176\n",
      "2   3.0   37700    37700\n",
      "3   4.0   46323    46323\n",
      "4   5.0   53363    53363\n",
      "5   6.0   56461    56461\n",
      "6   7.0   56540    56540\n",
      "7   8.0   51193    51193\n",
      "8   9.0   43897    43897\n",
      "9  10.0  100930   100930\n"
     ]
    }
   ],
   "source": [
    "df_actual_with_filter_6 = knn_basic.loc[knn_basic[\"actual\"] == 6]\n",
    "df_actual_with_filter_6_plot = round_est_values(df_actual_with_filter_6)\n",
    "print(df_actual_with_filter_6_plot)"
   ]
  },
  {
   "cell_type": "code",
   "execution_count": 45,
   "id": "f9b94eb1",
   "metadata": {},
   "outputs": [
    {
     "data": {
      "text/plain": [
       "<AxesSubplot:title={'center':'Actual 6 counter (filter -1)'}, xlabel='est'>"
      ]
     },
     "execution_count": 45,
     "metadata": {},
     "output_type": "execute_result"
    },
    {
     "data": {
      "image/png": "[encoded data removed]",
      "text/plain": [
       "<Figure size 432x288 with 1 Axes>"
      ]
     },
     "metadata": {
      "needs_background": "light"
     },
     "output_type": "display_data"
    }
   ],
   "source": [
    "df_actual_with_filter_6_plot.plot.bar(x='est', y='actual', title=\"Actual 6 counter (filter -1)\")"
   ]
  },
  {
   "cell_type": "code",
   "execution_count": 46,
   "id": "13434d13",
   "metadata": {},
   "outputs": [
    {
     "name": "stdout",
     "output_type": "stream",
     "text": [
      "    est  actual  details\n",
      "0   1.0  143012   143012\n",
      "1   2.0   83532    83532\n",
      "2   3.0  111063   111063\n",
      "3   4.0  138393   138393\n",
      "4   5.0  158596   158596\n",
      "5   6.0  169011   169011\n",
      "6   7.0  167005   167005\n",
      "7   8.0  152942   152942\n",
      "8   9.0  131632   131632\n",
      "9  10.0  300918   300918\n"
     ]
    }
   ],
   "source": [
    "df_actual_with_filter_7 = knn_basic.loc[knn_basic[\"actual\"] == 7]\n",
    "df_actual_with_filter_7_plot = round_est_values(df_actual_with_filter_7)\n",
    "print(df_actual_with_filter_7_plot)"
   ]
  },
  {
   "cell_type": "code",
   "execution_count": 47,
   "id": "e531bc2f",
   "metadata": {},
   "outputs": [
    {
     "data": {
      "text/plain": [
       "<AxesSubplot:title={'center':'Actual 7 counter (filter -1)'}, xlabel='est'>"
      ]
     },
     "execution_count": 47,
     "metadata": {},
     "output_type": "execute_result"
    },
    {
     "data": {
      "image/png": "[encoded data removed]",
      "text/plain": [
       "<Figure size 432x288 with 1 Axes>"
      ]
     },
     "metadata": {
      "needs_background": "light"
     },
     "output_type": "display_data"
    }
   ],
   "source": [
    "df_actual_with_filter_7_plot.plot.bar(x='est', y='actual', title=\"Actual 7 counter (filter -1)\")"
   ]
  },
  {
   "cell_type": "code",
   "execution_count": 48,
   "id": "cd794856",
   "metadata": {},
   "outputs": [
    {
     "name": "stdout",
     "output_type": "stream",
     "text": [
      "    est  actual  details\n",
      "0   1.0  202098   202098\n",
      "1   2.0  118016   118016\n",
      "2   3.0  157273   157273\n",
      "3   4.0  193192   193192\n",
      "4   5.0  222031   222031\n",
      "5   6.0  237505   237505\n",
      "6   7.0  234912   234912\n",
      "7   8.0  216295   216295\n",
      "8   9.0  183310   183310\n",
      "9  10.0  423876   423876\n"
     ]
    }
   ],
   "source": [
    "df_actual_with_filter_8 = knn_basic.loc[knn_basic[\"actual\"] == 8]\n",
    "df_actual_with_filter_8_plot = round_est_values(df_actual_with_filter_8)\n",
    "print(df_actual_with_filter_8_plot)"
   ]
  },
  {
   "cell_type": "code",
   "execution_count": 49,
   "id": "76e9b15a",
   "metadata": {},
   "outputs": [
    {
     "data": {
      "text/plain": [
       "<AxesSubplot:title={'center':'Actual 8 counter (filter -1)'}, xlabel='est'>"
      ]
     },
     "execution_count": 49,
     "metadata": {},
     "output_type": "execute_result"
    },
    {
     "data": {
      "image/png": "[encoded data removed]",
      "text/plain": [
       "<Figure size 432x288 with 1 Axes>"
      ]
     },
     "metadata": {
      "needs_background": "light"
     },
     "output_type": "display_data"
    }
   ],
   "source": [
    "df_actual_with_filter_8_plot.plot.bar(x='est', y='actual', title=\"Actual 8 counter (filter -1)\")"
   ]
  },
  {
   "cell_type": "code",
   "execution_count": 50,
   "id": "dc00696a",
   "metadata": {},
   "outputs": [
    {
     "name": "stdout",
     "output_type": "stream",
     "text": [
      "    est  actual  details\n",
      "0   1.0  142229   142229\n",
      "1   2.0   82877    82877\n",
      "2   3.0  110957   110957\n",
      "3   4.0  136856   136856\n",
      "4   5.0  157076   157076\n",
      "5   6.0  168724   168724\n",
      "6   7.0  166209   166209\n",
      "7   8.0  152729   152729\n",
      "8   9.0  129238   129238\n",
      "9  10.0  301399   301399\n"
     ]
    }
   ],
   "source": [
    "df_actual_with_filter_9 = knn_basic.loc[knn_basic[\"actual\"] == 9]\n",
    "df_actual_with_filter_9_plot = round_est_values(df_actual_with_filter_9)\n",
    "print(df_actual_with_filter_9_plot)"
   ]
  },
  {
   "cell_type": "code",
   "execution_count": 51,
   "id": "06841515",
   "metadata": {},
   "outputs": [
    {
     "data": {
      "text/plain": [
       "<AxesSubplot:title={'center':'Actual 9 counter (filter -1)'}, xlabel='est'>"
      ]
     },
     "execution_count": 51,
     "metadata": {},
     "output_type": "execute_result"
    },
    {
     "data": {
      "image/png": "[encoded data removed]",
      "text/plain": [
       "<Figure size 432x288 with 1 Axes>"
      ]
     },
     "metadata": {
      "needs_background": "light"
     },
     "output_type": "display_data"
    }
   ],
   "source": [
    "df_actual_with_filter_9_plot.plot.bar(x='est', y='actual', title=\"Actual 9 counter (filter -1)\")"
   ]
  },
  {
   "cell_type": "code",
   "execution_count": 52,
   "id": "c3df8a5e",
   "metadata": {},
   "outputs": [
    {
     "name": "stdout",
     "output_type": "stream",
     "text": [
      "    est  actual  details\n",
      "0   1.0   96395    96395\n",
      "1   2.0   56839    56839\n",
      "2   3.0   74972    74972\n",
      "3   4.0   92757    92757\n",
      "4   5.0  107107   107107\n",
      "5   6.0  112828   112828\n",
      "6   7.0  112797   112797\n",
      "7   8.0  103364   103364\n",
      "8   9.0   87573    87573\n",
      "9  10.0  202967   202967\n"
     ]
    }
   ],
   "source": [
    "df_actual_with_filter_10 = knn_basic.loc[knn_basic[\"actual\"] == 10]\n",
    "df_actual_with_filter_10_plot = round_est_values(df_actual_with_filter_10)\n",
    "print(df_actual_with_filter_10_plot)"
   ]
  },
  {
   "cell_type": "code",
   "execution_count": 53,
   "id": "6b0fbf3c",
   "metadata": {},
   "outputs": [
    {
     "data": {
      "text/plain": [
       "<AxesSubplot:title={'center':'Actual 10 counter (filter -1)'}, xlabel='est'>"
      ]
     },
     "execution_count": 53,
     "metadata": {},
     "output_type": "execute_result"
    },
    {
     "data": {
      "image/png": "[encoded data removed]",
      "text/plain": [
       "<Figure size 432x288 with 1 Axes>"
      ]
     },
     "metadata": {
      "needs_background": "light"
     },
     "output_type": "display_data"
    }
   ],
   "source": [
    "df_actual_with_filter_10_plot.plot.bar(x='est', y='actual', title=\"Actual 10 counter (filter -1)\")"
   ]
  },
  {
   "cell_type": "code",
   "execution_count": 54,
   "id": "28581003",
   "metadata": {},
   "outputs": [],
   "source": [
    "round_df = np.round(knn_basic[\"est\"], decimals=0)\n",
    "round_df = round_df.reset_index()\n",
    "knn_basic = knn_basic.reset_index()[[\"index\", \"actual\", \"details\"]]\n",
    "knn_basic = knn_basic.merge(round_df, on=\"index\", how=\"left\")\n",
    "knn_basic = knn_basic.set_index(\"index\")"
   ]
  },
  {
   "cell_type": "code",
   "execution_count": 55,
   "id": "e22bca6b",
   "metadata": {},
   "outputs": [
    {
     "data": {
      "image/png": "[encoded data removed]",
      "text/plain": [
       "<Figure size 432x288 with 1 Axes>"
      ]
     },
     "metadata": {
      "needs_background": "light"
     },
     "output_type": "display_data"
    }
   ],
   "source": [
    "est_df = knn_basic[\"est\"].tolist()\n",
    "plot_violin_graph_base(est_df, title=\"Estimation (filter -1)\")"
   ]
  },
  {
   "cell_type": "code",
   "execution_count": null,
   "id": "78426101",
   "metadata": {},
   "outputs": [],
   "source": []
  },
  {
   "cell_type": "code",
   "execution_count": null,
   "id": "b94c8f39",
   "metadata": {},
   "outputs": [],
   "source": []
  }
 ],
 "metadata": {
  "kernelspec": {
   "display_name": "Python 3",
   "language": "python",
   "name": "python3"
  },
  "language_info": {
   "codemirror_mode": {
    "name": "ipython",
    "version": 3
   },
   "file_extension": ".py",
   "mimetype": "text/x-python",
   "name": "python",
   "nbconvert_exporter": "python",
   "pygments_lexer": "ipython3",
   "version": "3.6.5"
  }
 },
 "nbformat": 4,
 "nbformat_minor": 5
}
