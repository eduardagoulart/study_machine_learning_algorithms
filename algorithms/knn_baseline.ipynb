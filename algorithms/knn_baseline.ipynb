{
 "cells": [
  {
   "cell_type": "code",
   "execution_count": 1,
   "id": "expressed-defense",
   "metadata": {},
   "outputs": [],
   "source": [
    "import pandas as pd\n",
    "import numpy as np\n",
    "import matplotlib.pyplot as plt\n",
    "import seaborn as sns\n",
    "from surprise import KNNBaseline\n",
    "from surprise import accuracy\n",
    "from surprise.model_selection import cross_validate\n",
    "from surprise.model_selection import train_test_split\n",
    "from surprise.model_selection import KFold\n",
    "\n",
    "from read_and_split_data import split_data, filter_animes_without_grade"
   ]
  },
  {
   "cell_type": "code",
   "execution_count": 2,
   "id": "usual-symposium",
   "metadata": {},
   "outputs": [],
   "source": [
    "def get_dataset():\n",
    "    anime = pd.read_parquet(\"../datasets/anime.parquet\")\n",
    "    anime = anime[[\"anime_id\", \"type\"]]\n",
    "    users = pd.read_parquet(\"../datasets/users.parquet\")\n",
    "    base_df = users.merge(anime, on=\"anime_id\", how=\"left\")\n",
    "    return base_df\n",
    "\n",
    "base_df = get_dataset()\n",
    "data = split_data(base_df)"
   ]
  },
  {
   "cell_type": "code",
   "execution_count": 3,
   "id": "optional-desktop",
   "metadata": {},
   "outputs": [],
   "source": [
    "kf = KFold(n_splits=5)"
   ]
  },
  {
   "cell_type": "code",
   "execution_count": 4,
   "id": "funny-heaven",
   "metadata": {},
   "outputs": [],
   "source": [
    "def predict_and_error(data, algo, path):\n",
    "    fold = 0\n",
    "    predictions_list = []\n",
    "    for trainset, testset in kf.split(data):\n",
    "        algo.fit(trainset)\n",
    "        predictions = algo.test(testset)\n",
    "        predictions_list.append(predictions)\n",
    "        # Mean Squared Error\n",
    "        accuracy.rmse(predictions, verbose=True)\n",
    "        # Mean Absolute Erro\n",
    "        accuracy.mse(predictions, verbose=True)\n",
    "        # Mean Absolute Erro\n",
    "        accuracy.mae(predictions, verbose=True)\n",
    "        # Fraction of Concordant Pairs\n",
    "        accuracy.fcp(predictions, verbose=True)\n",
    "        base_df = pd.DataFrame(columns=[\"user\", \"anime\", \"actual\", \"est\", \"details\"], data=predictions)\n",
    "        base_df.to_csv(f\"{path}_{fold}.csv\")\n",
    "        base_df.to_parquet(f\"{path}_{fold}.parquet\")\n",
    "        fold += 1\n",
    "    return predictions"
   ]
  },
  {
   "cell_type": "code",
   "execution_count": 5,
   "id": "478ab01d",
   "metadata": {},
   "outputs": [],
   "source": [
    "def set_axis_style(ax, labels):\n",
    "    ax.xaxis.set_tick_params(direction='out')\n",
    "    ax.xaxis.set_ticks_position('bottom')\n",
    "    ax.set_xticks(np.arange(1, len(labels) + 1))\n",
    "    ax.set_xticklabels(labels)\n",
    "    ax.set_xlim(0.25, len(labels) + 0.75)\n",
    "    \n",
    "def plot_violin_graph(list_of_data, title):\n",
    "    # Create a figure instance\n",
    "    label = [\"fold 0\", \"fold 1\", \"fold 2\", \"fold 3\"]\n",
    "    fig = plt.figure()\n",
    "  \n",
    "    # Create an axes instance\n",
    "    ax = fig.gca()\n",
    "    ax.set_title(title)\n",
    "    set_axis_style(ax, label)\n",
    "    # Create the violinplot\n",
    "    violinplot = ax.violinplot(list_of_data)\n",
    "    plt.show()"
   ]
  },
  {
   "cell_type": "markdown",
   "id": "noble-metropolitan",
   "metadata": {},
   "source": [
    "### Cosine Similarity"
   ]
  },
  {
   "cell_type": "code",
   "execution_count": 6,
   "id": "southern-transcript",
   "metadata": {},
   "outputs": [],
   "source": [
    "algo_cossine = KNNBaseline(k=7, sim_options={\"name\": \"cosine\", \"user_based\": False})"
   ]
  },
  {
   "cell_type": "code",
   "execution_count": 7,
   "id": "generous-stocks",
   "metadata": {},
   "outputs": [
    {
     "name": "stdout",
     "output_type": "stream",
     "text": [
      "Estimating biases using als...\n",
      "Computing the cosine similarity matrix...\n",
      "Done computing similarity matrix.\n",
      "RMSE: 2.1522\n",
      "MSE: 4.6319\n",
      "MAE:  1.4710\n",
      "FCP:  0.6754\n",
      "Estimating biases using als...\n",
      "Computing the cosine similarity matrix...\n",
      "Done computing similarity matrix.\n",
      "RMSE: 2.1540\n",
      "MSE: 4.6399\n",
      "MAE:  1.4730\n",
      "FCP:  0.6761\n",
      "Estimating biases using als...\n",
      "Computing the cosine similarity matrix...\n",
      "Done computing similarity matrix.\n",
      "RMSE: 2.1551\n",
      "MSE: 4.6446\n",
      "MAE:  1.4728\n",
      "FCP:  0.6753\n",
      "Estimating biases using als...\n",
      "Computing the cosine similarity matrix...\n",
      "Done computing similarity matrix.\n",
      "RMSE: 2.1556\n",
      "MSE: 4.6465\n",
      "MAE:  1.4729\n",
      "FCP:  0.6752\n",
      "Estimating biases using als...\n",
      "Computing the cosine similarity matrix...\n",
      "Done computing similarity matrix.\n",
      "RMSE: 2.1575\n",
      "MSE: 4.6548\n",
      "MAE:  1.4743\n",
      "FCP:  0.6748\n"
     ]
    }
   ],
   "source": [
    "predictions_cosine = predict_and_error(data, algo_cossine, path=\"../predictions/knn_baseline/anime_type_tv/no_filter/knn_baseline_cosine\")"
   ]
  },
  {
   "cell_type": "markdown",
   "id": "finite-newport",
   "metadata": {},
   "source": [
    "### Mean Squared Difference"
   ]
  },
  {
   "cell_type": "code",
   "execution_count": 8,
   "id": "productive-fairy",
   "metadata": {},
   "outputs": [],
   "source": [
    "algo_mds = KNNBaseline(k=7, sim_options={\"name\": \"msd\", \"user_based\": False})"
   ]
  },
  {
   "cell_type": "code",
   "execution_count": 9,
   "id": "accredited-charm",
   "metadata": {},
   "outputs": [
    {
     "name": "stdout",
     "output_type": "stream",
     "text": [
      "Estimating biases using als...\n",
      "Computing the msd similarity matrix...\n",
      "Done computing similarity matrix.\n",
      "RMSE: 2.1568\n",
      "MSE: 4.6520\n",
      "MAE:  1.4708\n",
      "FCP:  0.6742\n",
      "Estimating biases using als...\n",
      "Computing the msd similarity matrix...\n",
      "Done computing similarity matrix.\n",
      "RMSE: 2.1552\n",
      "MSE: 4.6447\n",
      "MAE:  1.4698\n",
      "FCP:  0.6728\n",
      "Estimating biases using als...\n",
      "Computing the msd similarity matrix...\n",
      "Done computing similarity matrix.\n",
      "RMSE: 2.1557\n",
      "MSE: 4.6471\n",
      "MAE:  1.4719\n",
      "FCP:  0.6737\n",
      "Estimating biases using als...\n",
      "Computing the msd similarity matrix...\n",
      "Done computing similarity matrix.\n",
      "RMSE: 2.1554\n",
      "MSE: 4.6457\n",
      "MAE:  1.4718\n",
      "FCP:  0.6737\n",
      "Estimating biases using als...\n",
      "Computing the msd similarity matrix...\n",
      "Done computing similarity matrix.\n",
      "RMSE: 2.1591\n",
      "MSE: 4.6618\n",
      "MAE:  1.4733\n",
      "FCP:  0.6720\n"
     ]
    }
   ],
   "source": [
    "predictions_msd = predict_and_error(data, algo_mds, path=\"../predictions/knn_baseline/anime_type_tv/no_filter/knn_baseline_msd\")"
   ]
  },
  {
   "cell_type": "markdown",
   "id": "desirable-nudist",
   "metadata": {},
   "source": [
    "### Pearson"
   ]
  },
  {
   "cell_type": "code",
   "execution_count": 10,
   "id": "precise-species",
   "metadata": {},
   "outputs": [],
   "source": [
    "algo_pearson = KNNBaseline(k=7, sim_options={\"name\": \"pearson\", \"user_based\": False})"
   ]
  },
  {
   "cell_type": "code",
   "execution_count": 11,
   "id": "rough-cincinnati",
   "metadata": {},
   "outputs": [
    {
     "name": "stdout",
     "output_type": "stream",
     "text": [
      "Estimating biases using als...\n",
      "Computing the pearson similarity matrix...\n",
      "Done computing similarity matrix.\n",
      "RMSE: 2.1683\n",
      "MSE: 4.7017\n",
      "MAE:  1.4854\n",
      "FCP:  0.6689\n",
      "Estimating biases using als...\n",
      "Computing the pearson similarity matrix...\n",
      "Done computing similarity matrix.\n",
      "RMSE: 2.1724\n",
      "MSE: 4.7194\n",
      "MAE:  1.4889\n",
      "FCP:  0.6684\n",
      "Estimating biases using als...\n",
      "Computing the pearson similarity matrix...\n",
      "Done computing similarity matrix.\n",
      "RMSE: 2.1648\n",
      "MSE: 4.6862\n",
      "MAE:  1.4845\n",
      "FCP:  0.6697\n",
      "Estimating biases using als...\n",
      "Computing the pearson similarity matrix...\n",
      "Done computing similarity matrix.\n",
      "RMSE: 2.1651\n",
      "MSE: 4.6877\n",
      "MAE:  1.4832\n",
      "FCP:  0.6687\n",
      "Estimating biases using als...\n",
      "Computing the pearson similarity matrix...\n",
      "Done computing similarity matrix.\n",
      "RMSE: 2.1646\n",
      "MSE: 4.6856\n",
      "MAE:  1.4843\n",
      "FCP:  0.6702\n"
     ]
    }
   ],
   "source": [
    "predictions_pearson = predict_and_error(data, algo_pearson, path=\"../predictions/knn_baseline/anime_type_tv/no_filter/knn_baseline_pearson\")"
   ]
  },
  {
   "cell_type": "markdown",
   "id": "intense-shanghai",
   "metadata": {},
   "source": [
    "### Pearson Baseline"
   ]
  },
  {
   "cell_type": "code",
   "execution_count": 12,
   "id": "recognized-fifteen",
   "metadata": {},
   "outputs": [],
   "source": [
    "algo_pearson_baseline = KNNBaseline(k=7, sim_options={\"name\": \"pearson_baseline\", \"user_based\": False})"
   ]
  },
  {
   "cell_type": "code",
   "execution_count": 13,
   "id": "fourth-township",
   "metadata": {},
   "outputs": [
    {
     "name": "stdout",
     "output_type": "stream",
     "text": [
      "Estimating biases using als...\n",
      "Computing the pearson_baseline similarity matrix...\n",
      "Done computing similarity matrix.\n",
      "RMSE: 2.0542\n",
      "MSE: 4.2195\n",
      "MAE:  1.3826\n",
      "FCP:  0.7171\n",
      "Estimating biases using als...\n",
      "Computing the pearson_baseline similarity matrix...\n",
      "Done computing similarity matrix.\n",
      "RMSE: 2.0549\n",
      "MSE: 4.2225\n",
      "MAE:  1.3835\n",
      "FCP:  0.7159\n",
      "Estimating biases using als...\n",
      "Computing the pearson_baseline similarity matrix...\n",
      "Done computing similarity matrix.\n",
      "RMSE: 2.0381\n",
      "MSE: 4.1540\n",
      "MAE:  1.3756\n",
      "FCP:  0.7163\n",
      "Estimating biases using als...\n",
      "Computing the pearson_baseline similarity matrix...\n",
      "Done computing similarity matrix.\n",
      "RMSE: 2.0489\n",
      "MSE: 4.1979\n",
      "MAE:  1.3803\n",
      "FCP:  0.7178\n",
      "Estimating biases using als...\n",
      "Computing the pearson_baseline similarity matrix...\n",
      "Done computing similarity matrix.\n",
      "RMSE: 2.0475\n",
      "MSE: 4.1921\n",
      "MAE:  1.3778\n",
      "FCP:  0.7176\n"
     ]
    }
   ],
   "source": [
    "predictions_pearson_baseline = predict_and_error(data, algo_pearson_baseline, path=\"../predictions/knn_baseline/anime_type_tv/no_filter/knn_baseline_pearson_baseline\")"
   ]
  },
  {
   "cell_type": "markdown",
   "id": "6b0682fe",
   "metadata": {},
   "source": [
    "# Filter grade -1"
   ]
  },
  {
   "cell_type": "markdown",
   "id": "b69500f2",
   "metadata": {},
   "source": [
    "### Cossine"
   ]
  },
  {
   "cell_type": "code",
   "execution_count": 14,
   "id": "26ff7210",
   "metadata": {},
   "outputs": [],
   "source": [
    "base_df_without_negative = filter_animes_without_grade(base_df)"
   ]
  },
  {
   "cell_type": "code",
   "execution_count": 15,
   "id": "8bc66b8f",
   "metadata": {},
   "outputs": [
    {
     "name": "stdout",
     "output_type": "stream",
     "text": [
      "Estimating biases using als...\n",
      "Computing the cosine similarity matrix...\n",
      "Done computing similarity matrix.\n",
      "RMSE: 2.1528\n",
      "MSE: 4.6345\n",
      "MAE:  1.4717\n",
      "FCP:  0.6751\n",
      "Estimating biases using als...\n",
      "Computing the cosine similarity matrix...\n",
      "Done computing similarity matrix.\n",
      "RMSE: 2.1548\n",
      "MSE: 4.6434\n",
      "MAE:  1.4725\n",
      "FCP:  0.6738\n",
      "Estimating biases using als...\n",
      "Computing the cosine similarity matrix...\n",
      "Done computing similarity matrix.\n",
      "RMSE: 2.1534\n",
      "MSE: 4.6370\n",
      "MAE:  1.4718\n",
      "FCP:  0.6756\n",
      "Estimating biases using als...\n",
      "Computing the cosine similarity matrix...\n",
      "Done computing similarity matrix.\n",
      "RMSE: 2.1524\n",
      "MSE: 4.6329\n",
      "MAE:  1.4719\n",
      "FCP:  0.6756\n",
      "Estimating biases using als...\n",
      "Computing the cosine similarity matrix...\n",
      "Done computing similarity matrix.\n",
      "RMSE: 2.1586\n",
      "MSE: 4.6596\n",
      "MAE:  1.4755\n",
      "FCP:  0.6750\n"
     ]
    }
   ],
   "source": [
    "predictions_cosine = predict_and_error(data, algo_cossine, path=\"../predictions/knn_baseline/anime_type_tv/with_filter_remove_negative/knn_baseline_cosine\")"
   ]
  },
  {
   "cell_type": "markdown",
   "id": "728f910e",
   "metadata": {},
   "source": [
    "### Msd"
   ]
  },
  {
   "cell_type": "code",
   "execution_count": 16,
   "id": "81c2dbda",
   "metadata": {},
   "outputs": [
    {
     "name": "stdout",
     "output_type": "stream",
     "text": [
      "Estimating biases using als...\n",
      "Computing the msd similarity matrix...\n",
      "Done computing similarity matrix.\n",
      "RMSE: 2.1567\n",
      "MSE: 4.6514\n",
      "MAE:  1.4722\n",
      "FCP:  0.6734\n",
      "Estimating biases using als...\n",
      "Computing the msd similarity matrix...\n",
      "Done computing similarity matrix.\n",
      "RMSE: 2.1572\n",
      "MSE: 4.6535\n",
      "MAE:  1.4720\n",
      "FCP:  0.6733\n",
      "Estimating biases using als...\n",
      "Computing the msd similarity matrix...\n",
      "Done computing similarity matrix.\n",
      "RMSE: 2.1575\n",
      "MSE: 4.6549\n",
      "MAE:  1.4722\n",
      "FCP:  0.6737\n",
      "Estimating biases using als...\n",
      "Computing the msd similarity matrix...\n",
      "Done computing similarity matrix.\n",
      "RMSE: 2.1563\n",
      "MSE: 4.6495\n",
      "MAE:  1.4717\n",
      "FCP:  0.6732\n",
      "Estimating biases using als...\n",
      "Computing the msd similarity matrix...\n",
      "Done computing similarity matrix.\n",
      "RMSE: 2.1569\n",
      "MSE: 4.6522\n",
      "MAE:  1.4719\n",
      "FCP:  0.6723\n"
     ]
    }
   ],
   "source": [
    "predictions_msd = predict_and_error(data, algo_mds, path=\"../predictions/knn_baseline/anime_type_tv/with_filter_remove_negative/knn_baseline_msd\")"
   ]
  },
  {
   "cell_type": "markdown",
   "id": "1c8371a9",
   "metadata": {},
   "source": [
    "### Pearson"
   ]
  },
  {
   "cell_type": "code",
   "execution_count": 17,
   "id": "dad0e837",
   "metadata": {},
   "outputs": [
    {
     "name": "stdout",
     "output_type": "stream",
     "text": [
      "Estimating biases using als...\n",
      "Computing the pearson similarity matrix...\n",
      "Done computing similarity matrix.\n",
      "RMSE: 2.1666\n",
      "MSE: 4.6940\n",
      "MAE:  1.4846\n",
      "FCP:  0.6699\n",
      "Estimating biases using als...\n",
      "Computing the pearson similarity matrix...\n",
      "Done computing similarity matrix.\n",
      "RMSE: 2.1671\n",
      "MSE: 4.6964\n",
      "MAE:  1.4858\n",
      "FCP:  0.6691\n",
      "Estimating biases using als...\n",
      "Computing the pearson similarity matrix...\n",
      "Done computing similarity matrix.\n",
      "RMSE: 2.1636\n",
      "MSE: 4.6810\n",
      "MAE:  1.4831\n",
      "FCP:  0.6693\n",
      "Estimating biases using als...\n",
      "Computing the pearson similarity matrix...\n",
      "Done computing similarity matrix.\n",
      "RMSE: 2.1655\n",
      "MSE: 4.6895\n",
      "MAE:  1.4843\n",
      "FCP:  0.6686\n",
      "Estimating biases using als...\n",
      "Computing the pearson similarity matrix...\n",
      "Done computing similarity matrix.\n",
      "RMSE: 2.1728\n",
      "MSE: 4.7210\n",
      "MAE:  1.4886\n",
      "FCP:  0.6694\n"
     ]
    }
   ],
   "source": [
    "predictions_pearson = predict_and_error(data, algo_pearson, path=\"../predictions/knn_baseline/anime_type_tv/with_filter_remove_negative/knn_baseline_pearson\")"
   ]
  },
  {
   "cell_type": "markdown",
   "id": "2022120e",
   "metadata": {},
   "source": [
    "### Pearson Baseline"
   ]
  },
  {
   "cell_type": "code",
   "execution_count": 18,
   "id": "67bfcec5",
   "metadata": {},
   "outputs": [
    {
     "name": "stdout",
     "output_type": "stream",
     "text": [
      "Estimating biases using als...\n",
      "Computing the pearson_baseline similarity matrix...\n",
      "Done computing similarity matrix.\n",
      "RMSE: 2.0514\n",
      "MSE: 4.2084\n",
      "MAE:  1.3805\n",
      "FCP:  0.7178\n",
      "Estimating biases using als...\n",
      "Computing the pearson_baseline similarity matrix...\n",
      "Done computing similarity matrix.\n",
      "RMSE: 2.0485\n",
      "MSE: 4.1965\n",
      "MAE:  1.3805\n",
      "FCP:  0.7177\n",
      "Estimating biases using als...\n",
      "Computing the pearson_baseline similarity matrix...\n",
      "Done computing similarity matrix.\n",
      "RMSE: 2.0497\n",
      "MSE: 4.2014\n",
      "MAE:  1.3795\n",
      "FCP:  0.7163\n",
      "Estimating biases using als...\n",
      "Computing the pearson_baseline similarity matrix...\n",
      "Done computing similarity matrix.\n",
      "RMSE: 2.0492\n",
      "MSE: 4.1991\n",
      "MAE:  1.3801\n",
      "FCP:  0.7175\n",
      "Estimating biases using als...\n",
      "Computing the pearson_baseline similarity matrix...\n",
      "Done computing similarity matrix.\n",
      "RMSE: 2.0469\n",
      "MSE: 4.1897\n",
      "MAE:  1.3797\n",
      "FCP:  0.7165\n"
     ]
    }
   ],
   "source": [
    "predictions_pearson_baseline = predict_and_error(data, algo_pearson_baseline, path=\"../predictions/knn_baseline/anime_type_tv/with_filter_remove_negative/knn_baseline_pearson_baseline\")"
   ]
  },
  {
   "cell_type": "code",
   "execution_count": null,
   "id": "dcc91f9a",
   "metadata": {},
   "outputs": [],
   "source": []
  }
 ],
 "metadata": {
  "kernelspec": {
   "display_name": "Python 3",
   "language": "python",
   "name": "python3"
  },
  "language_info": {
   "codemirror_mode": {
    "name": "ipython",
    "version": 3
   },
   "file_extension": ".py",
   "mimetype": "text/x-python",
   "name": "python",
   "nbconvert_exporter": "python",
   "pygments_lexer": "ipython3",
   "version": "3.6.5"
  }
 },
 "nbformat": 4,
 "nbformat_minor": 5
}
