{
 "cells": [
  {
   "cell_type": "code",
   "execution_count": 1,
   "id": "e3a39540",
   "metadata": {},
   "outputs": [],
   "source": [
    "import pandas as pd\n",
    "import numpy as np\n",
    "import matplotlib.pyplot as plt\n",
    "import seaborn as sns"
   ]
  },
  {
   "cell_type": "code",
   "execution_count": 2,
   "id": "4c3542b5",
   "metadata": {},
   "outputs": [],
   "source": [
    "def round_est_values(df):\n",
    "    round_actual = np.round(df[\"est\"], decimals=0)\n",
    "    round_actual = round_actual.reset_index()\n",
    "    df = df.reset_index()[[\"index\", \"actual\", \"details\"]]\n",
    "    df = df.merge(round_actual, on=\"index\", how=\"left\")\n",
    "    df = df.set_index(\"index\")\n",
    "    grouped = df.groupby(\"est\", as_index=False).count()\n",
    "    return grouped"
   ]
  },
  {
   "cell_type": "code",
   "execution_count": 3,
   "id": "22c87c14",
   "metadata": {},
   "outputs": [],
   "source": [
    "nmf_0 = pd.read_parquet(f\"../predictions/nmf/anime_type_tv/no_filter/nmf_0.parquet\")\n",
    "nmf_1 = pd.read_parquet(f\"../predictions/nmf/anime_type_tv/no_filter/nmf_1.parquet\")\n",
    "nmf_2 = pd.read_parquet(f\"../predictions/nmf/anime_type_tv/no_filter/nmf_2.parquet\")\n",
    "nmf_3 = pd.read_parquet(f\"../predictions/nmf/anime_type_tv/no_filter/nmf_3.parquet\")\n",
    "nmf_4 = pd.read_parquet(f\"../predictions/nmf/anime_type_tv/no_filter/nmf_4.parquet\")\n",
    "\n",
    "df = pd.concat([nmf_0, nmf_1, nmf_2, nmf_3, nmf_4])"
   ]
  },
  {
   "cell_type": "markdown",
   "id": "47fffb85",
   "metadata": {},
   "source": [
    "### NMF"
   ]
  },
  {
   "cell_type": "markdown",
   "id": "d24ba1fb",
   "metadata": {},
   "source": [
    "Os gráficos são comparativo da nota real VS a nota predita. Filtrando cada nota real (de 1 a 10), quais são as notas preditas por cada algoritmo usando similaridade cosseno"
   ]
  },
  {
   "cell_type": "code",
   "execution_count": 4,
   "id": "3d997823",
   "metadata": {},
   "outputs": [
    {
     "name": "stdout",
     "output_type": "stream",
     "text": [
      "    est    actual   details\n",
      "0   1.0  23692841  23692841\n",
      "1   2.0   1174700   1174700\n",
      "2   3.0    483410    483410\n",
      "3   4.0    250955    250955\n",
      "4   5.0    152860    152860\n",
      "5   6.0    123090    123090\n",
      "6   7.0     71970     71970\n",
      "7   8.0     53990     53990\n",
      "8   9.0     42130     42130\n",
      "9  10.0    372030    372030\n"
     ]
    }
   ],
   "source": [
    "df_grouped = round_est_values(df)\n",
    "print(df_grouped)"
   ]
  },
  {
   "cell_type": "code",
   "execution_count": 5,
   "id": "c15d3c5d",
   "metadata": {},
   "outputs": [
    {
     "data": {
      "text/plain": [
       "<AxesSubplot:title={'center':'Distribuição valores preditos - nmf'}, xlabel='est'>"
      ]
     },
     "execution_count": 5,
     "metadata": {},
     "output_type": "execute_result"
    },
    {
     "data": {
      "image/png": "[encoded data removed]",
      "text/plain": [
       "<Figure size 432x288 with 1 Axes>"
      ]
     },
     "metadata": {
      "needs_background": "light"
     },
     "output_type": "display_data"
    }
   ],
   "source": [
    "df_grouped.plot.bar(x='est', y='actual', title=\"Distribuição valores preditos - nmf\")"
   ]
  },
  {
   "cell_type": "code",
   "execution_count": 6,
   "id": "3d4fb94a",
   "metadata": {},
   "outputs": [
    {
     "name": "stdout",
     "output_type": "stream",
     "text": [
      "    est  actual  details\n",
      "0   1.0    7424     7424\n",
      "1   2.0     317      317\n",
      "2   3.0     145      145\n",
      "3   4.0      71       71\n",
      "4   5.0      50       50\n",
      "5   6.0      45       45\n",
      "6   7.0      33       33\n",
      "7   8.0      14       14\n",
      "8   9.0      20       20\n",
      "9  10.0     110      110\n"
     ]
    }
   ],
   "source": [
    "df_actual_1 = df.loc[df[\"actual\"] == 1]\n",
    "plot_counter = round_est_values(df_actual_1)\n",
    "print(plot_counter)"
   ]
  },
  {
   "cell_type": "code",
   "execution_count": 7,
   "id": "4e504e37",
   "metadata": {},
   "outputs": [
    {
     "data": {
      "text/plain": [
       "<AxesSubplot:title={'center':'Actual 1 counter'}, xlabel='est'>"
      ]
     },
     "execution_count": 7,
     "metadata": {},
     "output_type": "execute_result"
    },
    {
     "data": {
      "image/png": "[encoded data removed]",
      "text/plain": [
       "<Figure size 432x288 with 1 Axes>"
      ]
     },
     "metadata": {
      "needs_background": "light"
     },
     "output_type": "display_data"
    }
   ],
   "source": [
    "plot_counter.plot.bar(x='est', y='actual', title=\"Actual 1 counter\")"
   ]
  },
  {
   "cell_type": "code",
   "execution_count": 8,
   "id": "d5b3e881",
   "metadata": {},
   "outputs": [
    {
     "name": "stdout",
     "output_type": "stream",
     "text": [
      "    est  actual  details\n",
      "0   1.0   11406    11406\n",
      "1   2.0     573      573\n",
      "2   3.0     267      267\n",
      "3   4.0     149      149\n",
      "4   5.0      73       73\n",
      "5   6.0      58       58\n",
      "6   7.0      50       50\n",
      "7   8.0      43       43\n",
      "8   9.0      21       21\n",
      "9  10.0     196      196\n"
     ]
    }
   ],
   "source": [
    "df_actual_2 = df.loc[df[\"actual\"] == 2]\n",
    "plot_counter_2 = round_est_values(df_actual_2)\n",
    "print(plot_counter_2)"
   ]
  },
  {
   "cell_type": "code",
   "execution_count": 9,
   "id": "47097ce1",
   "metadata": {},
   "outputs": [
    {
     "data": {
      "text/plain": [
       "<AxesSubplot:title={'center':'Actual 2 counter'}, xlabel='est'>"
      ]
     },
     "execution_count": 9,
     "metadata": {},
     "output_type": "execute_result"
    },
    {
     "data": {
      "image/png": "[encoded data removed]",
      "text/plain": [
       "<Figure size 432x288 with 1 Axes>"
      ]
     },
     "metadata": {
      "needs_background": "light"
     },
     "output_type": "display_data"
    }
   ],
   "source": [
    "plot_counter_2.plot.bar(x='est', y='actual', title=\"Actual 2 counter\")"
   ]
  },
  {
   "cell_type": "code",
   "execution_count": 10,
   "id": "148743c3",
   "metadata": {},
   "outputs": [
    {
     "name": "stdout",
     "output_type": "stream",
     "text": [
      "    est  actual  details\n",
      "0   1.0   21720    21720\n",
      "1   2.0    1153     1153\n",
      "2   3.0     504      504\n",
      "3   4.0     257      257\n",
      "4   5.0     140      140\n",
      "5   6.0     118      118\n",
      "6   7.0      76       76\n",
      "7   8.0      68       68\n",
      "8   9.0      39       39\n",
      "9  10.0     403      403\n"
     ]
    }
   ],
   "source": [
    "df_actual_3 = df.loc[df[\"actual\"] == 3]\n",
    "plot_counter_3 = round_est_values(df_actual_3)\n",
    "print(plot_counter_3)"
   ]
  },
  {
   "cell_type": "code",
   "execution_count": 11,
   "id": "766a09da",
   "metadata": {},
   "outputs": [
    {
     "data": {
      "text/plain": [
       "<AxesSubplot:title={'center':'Actual 3 counter'}, xlabel='est'>"
      ]
     },
     "execution_count": 11,
     "metadata": {},
     "output_type": "execute_result"
    },
    {
     "data": {
      "image/png": "[encoded data removed]",
      "text/plain": [
       "<Figure size 432x288 with 1 Axes>"
      ]
     },
     "metadata": {
      "needs_background": "light"
     },
     "output_type": "display_data"
    }
   ],
   "source": [
    "plot_counter_3.plot.bar(x='est', y='actual', title=\"Actual 3 counter\")"
   ]
  },
  {
   "cell_type": "code",
   "execution_count": 12,
   "id": "9763368d",
   "metadata": {},
   "outputs": [
    {
     "name": "stdout",
     "output_type": "stream",
     "text": [
      "    est  actual  details\n",
      "0   1.0   57754    57754\n",
      "1   2.0    3325     3325\n",
      "2   3.0    1404     1404\n",
      "3   4.0     745      745\n",
      "4   5.0     437      437\n",
      "5   6.0     285      285\n",
      "6   7.0     222      222\n",
      "7   8.0     166      166\n",
      "8   9.0     140      140\n",
      "9  10.0    1085     1085\n"
     ]
    }
   ],
   "source": [
    "df_actual_4 = df.loc[df[\"actual\"] == 4]\n",
    "plot_counter_4 = round_est_values(df_actual_4)\n",
    "print(plot_counter_4)"
   ]
  },
  {
   "cell_type": "code",
   "execution_count": 13,
   "id": "8f31ee3c",
   "metadata": {},
   "outputs": [
    {
     "data": {
      "text/plain": [
       "<AxesSubplot:title={'center':'Actual 4 counter'}, xlabel='est'>"
      ]
     },
     "execution_count": 13,
     "metadata": {},
     "output_type": "execute_result"
    },
    {
     "data": {
      "image/png": "[encoded data removed]",
      "text/plain": [
       "<Figure size 432x288 with 1 Axes>"
      ]
     },
     "metadata": {
      "needs_background": "light"
     },
     "output_type": "display_data"
    }
   ],
   "source": [
    "plot_counter_4.plot.bar(x='est', y='actual', title=\"Actual 4 counter\")"
   ]
  },
  {
   "cell_type": "code",
   "execution_count": 14,
   "id": "d47b8a66",
   "metadata": {},
   "outputs": [
    {
     "name": "stdout",
     "output_type": "stream",
     "text": [
      "    est  actual  details\n",
      "0   1.0  167571   167571\n",
      "1   2.0   10160    10160\n",
      "2   3.0    4303     4303\n",
      "3   4.0    2230     2230\n",
      "4   5.0    1483     1483\n",
      "5   6.0    1033     1033\n",
      "6   7.0     632      632\n",
      "7   8.0     472      472\n",
      "8   9.0     412      412\n",
      "9  10.0    3229     3229\n"
     ]
    }
   ],
   "source": [
    "df_actual_5 = df.loc[df[\"actual\"] == 5]\n",
    "plot_counter_5 = round_est_values(df_actual_5)\n",
    "print(plot_counter_5)"
   ]
  },
  {
   "cell_type": "code",
   "execution_count": 15,
   "id": "186b4675",
   "metadata": {},
   "outputs": [
    {
     "data": {
      "text/plain": [
       "<AxesSubplot:title={'center':'Actual 5 counter'}, xlabel='est'>"
      ]
     },
     "execution_count": 15,
     "metadata": {},
     "output_type": "execute_result"
    },
    {
     "data": {
      "image/png": "[encoded data removed]",
      "text/plain": [
       "<Figure size 432x288 with 1 Axes>"
      ]
     },
     "metadata": {
      "needs_background": "light"
     },
     "output_type": "display_data"
    }
   ],
   "source": [
    "plot_counter_5.plot.bar(x='est', y='actual', title=\"Actual 5 counter\")"
   ]
  },
  {
   "cell_type": "code",
   "execution_count": 16,
   "id": "9c133b82",
   "metadata": {},
   "outputs": [
    {
     "name": "stdout",
     "output_type": "stream",
     "text": [
      "    est  actual  details\n",
      "0   1.0  457445   457445\n",
      "1   2.0   28394    28394\n",
      "2   3.0   11771    11771\n",
      "3   4.0    6043     6043\n",
      "4   5.0    3718     3718\n",
      "5   6.0    2603     2603\n",
      "6   7.0    1667     1667\n",
      "7   8.0    1391     1391\n",
      "8   9.0    1044     1044\n",
      "9  10.0    8666     8666\n"
     ]
    }
   ],
   "source": [
    "df_actual_6 = df.loc[df[\"actual\"] == 6]\n",
    "plot_counter_6 = round_est_values(df_actual_6)\n",
    "print(plot_counter_6)"
   ]
  },
  {
   "cell_type": "code",
   "execution_count": 17,
   "id": "047fbe05",
   "metadata": {},
   "outputs": [
    {
     "data": {
      "text/plain": [
       "<AxesSubplot:title={'center':'Actual 6 counter'}, xlabel='est'>"
      ]
     },
     "execution_count": 17,
     "metadata": {},
     "output_type": "execute_result"
    },
    {
     "data": {
      "image/png": "[encoded data removed]",
      "text/plain": [
       "<Figure size 432x288 with 1 Axes>"
      ]
     },
     "metadata": {
      "needs_background": "light"
     },
     "output_type": "display_data"
    }
   ],
   "source": [
    "plot_counter_6.plot.bar(x='est', y='actual', title=\"Actual 6 counter\")"
   ]
  },
  {
   "cell_type": "code",
   "execution_count": 18,
   "id": "0946827e",
   "metadata": {},
   "outputs": [
    {
     "name": "stdout",
     "output_type": "stream",
     "text": [
      "    est   actual  details\n",
      "0   1.0  1363434  1363434\n",
      "1   2.0    82969    82969\n",
      "2   3.0    34923    34923\n",
      "3   4.0    17962    17962\n",
      "4   5.0    10946    10946\n",
      "5   6.0     7657     7657\n",
      "6   7.0     5153     5153\n",
      "7   8.0     3813     3813\n",
      "8   9.0     3178     3178\n",
      "9  10.0    25479    25479\n"
     ]
    }
   ],
   "source": [
    "df_actual_7 = df.loc[df[\"actual\"] == 7]\n",
    "plot_counter_7 = round_est_values(df_actual_7)\n",
    "print(plot_counter_7)"
   ]
  },
  {
   "cell_type": "code",
   "execution_count": 19,
   "id": "2dd5d395",
   "metadata": {},
   "outputs": [
    {
     "data": {
      "text/plain": [
       "<AxesSubplot:title={'center':'Actual 7 counter'}, xlabel='est'>"
      ]
     },
     "execution_count": 19,
     "metadata": {},
     "output_type": "execute_result"
    },
    {
     "data": {
      "image/png": "[encoded data removed]",
      "text/plain": [
       "<Figure size 432x288 with 1 Axes>"
      ]
     },
     "metadata": {
      "needs_background": "light"
     },
     "output_type": "display_data"
    }
   ],
   "source": [
    "plot_counter_7.plot.bar(x='est', y='actual', title=\"Actual 7 counter\")"
   ]
  },
  {
   "cell_type": "code",
   "execution_count": 20,
   "id": "32591dc0",
   "metadata": {},
   "outputs": [
    {
     "name": "stdout",
     "output_type": "stream",
     "text": [
      "    est   actual  details\n",
      "0   1.0  1931153  1931153\n",
      "1   2.0   112261   112261\n",
      "2   3.0    45765    45765\n",
      "3   4.0    23604    23604\n",
      "4   5.0    14179    14179\n",
      "5   6.0    10611    10611\n",
      "6   7.0     6621     6621\n",
      "7   8.0     5007     5007\n",
      "8   9.0     3915     3915\n",
      "9  10.0    34398    34398\n"
     ]
    }
   ],
   "source": [
    "df_actual_8 = df.loc[df[\"actual\"] == 8]\n",
    "plot_counter_8 = round_est_values(df_actual_8)\n",
    "print(plot_counter_8)"
   ]
  },
  {
   "cell_type": "code",
   "execution_count": 21,
   "id": "677f6ea0",
   "metadata": {},
   "outputs": [
    {
     "data": {
      "text/plain": [
       "<AxesSubplot:title={'center':'Actual 8 counter'}, xlabel='est'>"
      ]
     },
     "execution_count": 21,
     "metadata": {},
     "output_type": "execute_result"
    },
    {
     "data": {
      "image/png": "[encoded data removed]",
      "text/plain": [
       "<Figure size 432x288 with 1 Axes>"
      ]
     },
     "metadata": {
      "needs_background": "light"
     },
     "output_type": "display_data"
    }
   ],
   "source": [
    "plot_counter_8.plot.bar(x='est', y='actual', title=\"Actual 8 counter\")"
   ]
  },
  {
   "cell_type": "code",
   "execution_count": 22,
   "id": "79d11434",
   "metadata": {},
   "outputs": [
    {
     "name": "stdout",
     "output_type": "stream",
     "text": [
      "    est   actual  details\n",
      "0   1.0  1372797  1372797\n",
      "1   2.0    76388    76388\n",
      "2   3.0    30874    30874\n",
      "3   4.0    16203    16203\n",
      "4   5.0     9685     9685\n",
      "5   6.0     7933     7933\n",
      "6   7.0     4540     4540\n",
      "7   8.0     3441     3441\n",
      "8   9.0     2476     2476\n",
      "9  10.0    23901    23901\n"
     ]
    }
   ],
   "source": [
    "df_actua_9 = df.loc[df[\"actual\"] == 9]\n",
    "plot_counter_9 = round_est_values(df_actua_9)\n",
    "print(plot_counter_9)"
   ]
  },
  {
   "cell_type": "code",
   "execution_count": 23,
   "id": "8195813e",
   "metadata": {},
   "outputs": [
    {
     "data": {
      "text/plain": [
       "<AxesSubplot:title={'center':'Actual 9 counter'}, xlabel='est'>"
      ]
     },
     "execution_count": 23,
     "metadata": {},
     "output_type": "execute_result"
    },
    {
     "data": {
      "image/png": "[encoded data removed]",
      "text/plain": [
       "<Figure size 432x288 with 1 Axes>"
      ]
     },
     "metadata": {
      "needs_background": "light"
     },
     "output_type": "display_data"
    }
   ],
   "source": [
    "plot_counter_9.plot.bar(x='est', y='actual', title=\"Actual 9 counter\")"
   ]
  },
  {
   "cell_type": "code",
   "execution_count": 24,
   "id": "7ee69a50",
   "metadata": {},
   "outputs": [
    {
     "name": "stdout",
     "output_type": "stream",
     "text": [
      "    est  actual  details\n",
      "0   1.0  931350   931350\n",
      "1   2.0   50376    50376\n",
      "2   3.0   20312    20312\n",
      "3   4.0   10709    10709\n",
      "4   5.0    6552     6552\n",
      "5   6.0    6630     6630\n",
      "6   7.0    3173     3173\n",
      "7   8.0    2239     2239\n",
      "8   9.0    1712     1712\n",
      "9  10.0   16428    16428\n"
     ]
    }
   ],
   "source": [
    "df_actua_10 = df.loc[df[\"actual\"] == 10]\n",
    "plot_counter_10 = round_est_values(df_actua_10)\n",
    "print(plot_counter_10)"
   ]
  },
  {
   "cell_type": "code",
   "execution_count": 25,
   "id": "57c550c6",
   "metadata": {},
   "outputs": [
    {
     "data": {
      "text/plain": [
       "<AxesSubplot:title={'center':'Actual 10 counter'}, xlabel='est'>"
      ]
     },
     "execution_count": 25,
     "metadata": {},
     "output_type": "execute_result"
    },
    {
     "data": {
      "image/png": "[encoded data removed]",
      "text/plain": [
       "<Figure size 432x288 with 1 Axes>"
      ]
     },
     "metadata": {
      "needs_background": "light"
     },
     "output_type": "display_data"
    }
   ],
   "source": [
    "plot_counter_10.plot.bar(x='est', y='actual', title=\"Actual 10 counter\")"
   ]
  },
  {
   "cell_type": "code",
   "execution_count": 26,
   "id": "4b7463f0",
   "metadata": {},
   "outputs": [],
   "source": [
    "round_df = np.round(df[\"est\"], decimals=0)\n",
    "round_df = round_df.reset_index()\n",
    "df = df.reset_index()[[\"index\", \"actual\", \"details\"]]\n",
    "df = df.merge(round_df, on=\"index\", how=\"left\")"
   ]
  },
  {
   "cell_type": "code",
   "execution_count": 27,
   "id": "76110117",
   "metadata": {},
   "outputs": [
    {
     "name": "stdout",
     "output_type": "stream",
     "text": [
      "    est    actual   details\n",
      "0   1.0  23692841  23692841\n",
      "1   2.0   1174700   1174700\n",
      "2   3.0    483410    483410\n",
      "3   4.0    250955    250955\n",
      "4   5.0    152860    152860\n",
      "5   6.0    123090    123090\n",
      "6   7.0     71970     71970\n",
      "7   8.0     53990     53990\n",
      "8   9.0     42130     42130\n",
      "9  10.0    372030    372030\n"
     ]
    }
   ],
   "source": [
    "df = df.set_index(\"index\")\n",
    "plot_df = df.groupby(\"est\", as_index=False).count()\n",
    "print(plot_df)"
   ]
  },
  {
   "cell_type": "code",
   "execution_count": 28,
   "id": "4df0ebc3",
   "metadata": {},
   "outputs": [],
   "source": [
    "def plot_violin_graph_base(list_of_data, title):\n",
    "    # Create a figure instance\n",
    "    fig = plt.figure()\n",
    "  \n",
    "    # Create an axes instance\n",
    "    ax = fig.gca()\n",
    "    ax.set_title(title)\n",
    "    # Create the violinplot\n",
    "    violinplot = ax.violinplot(list_of_data)\n",
    "    plt.show()"
   ]
  },
  {
   "cell_type": "markdown",
   "id": "3c0fc682",
   "metadata": {},
   "source": [
    "Gráfico para o estudo de como está distribuição de notas preditas"
   ]
  },
  {
   "cell_type": "code",
   "execution_count": 29,
   "id": "9baa64dc",
   "metadata": {},
   "outputs": [
    {
     "data": {
      "image/png": "[encoded data removed]",
      "text/plain": [
       "<Figure size 432x288 with 1 Axes>"
      ]
     },
     "metadata": {
      "needs_background": "light"
     },
     "output_type": "display_data"
    }
   ],
   "source": [
    "est_df = df[\"est\"].tolist()\n",
    "plot_violin_graph_base(est_df, title=\"all folds estimation\")"
   ]
  },
  {
   "cell_type": "markdown",
   "id": "dd1a5864",
   "metadata": {},
   "source": [
    "é notório também que as notas reais estão amis concentradas entre 6 e 8, o que infuencia na predição. O algoritmo tende a acertar mais quando com essas notas e errar com notas entre 1 e 4"
   ]
  },
  {
   "cell_type": "code",
   "execution_count": 30,
   "id": "23f2a141",
   "metadata": {},
   "outputs": [
    {
     "data": {
      "image/png": "[encoded data removed]",
      "text/plain": [
       "<Figure size 432x288 with 1 Axes>"
      ]
     },
     "metadata": {
      "needs_background": "light"
     },
     "output_type": "display_data"
    }
   ],
   "source": [
    "est_df = df[\"actual\"].tolist()\n",
    "plot_violin_graph_base(est_df, title=\"all folds actual\")"
   ]
  },
  {
   "cell_type": "markdown",
   "id": "88cb15b1",
   "metadata": {},
   "source": [
    "# Removing negative grades"
   ]
  },
  {
   "cell_type": "markdown",
   "id": "afce69a1",
   "metadata": {},
   "source": [
    "### NMF"
   ]
  },
  {
   "cell_type": "code",
   "execution_count": 31,
   "id": "1cd1663f",
   "metadata": {},
   "outputs": [],
   "source": [
    "nmf_0 = pd.read_parquet(f\"../predictions/nmf/anime_type_tv/with_filter_remove_negative/nmf_0.parquet\")\n",
    "nmf_1 = pd.read_parquet(f\"../predictions/nmf/anime_type_tv/with_filter_remove_negative/nmf_1.parquet\")\n",
    "nmf_2 = pd.read_parquet(f\"../predictions/nmf/anime_type_tv/with_filter_remove_negative/nmf_2.parquet\")\n",
    "nmf_3 = pd.read_parquet(f\"../predictions/nmf/anime_type_tv/with_filter_remove_negative/nmf_3.parquet\")\n",
    "nmf_4 = pd.read_parquet(f\"../predictions/nmf/anime_type_tv/with_filter_remove_negative/nmf_4.parquet\")\n",
    "\n",
    "nmf = pd.concat([nmf_0, nmf_1, nmf_2, nmf_3, nmf_4])"
   ]
  },
  {
   "cell_type": "code",
   "execution_count": 32,
   "id": "92150b0d",
   "metadata": {},
   "outputs": [
    {
     "name": "stdout",
     "output_type": "stream",
     "text": [
      "    est    actual   details\n",
      "0   1.0  23456706  23456706\n",
      "1   2.0   1223785   1223785\n",
      "2   3.0    535480    535480\n",
      "3   4.0    289280    289280\n",
      "4   5.0    178855    178855\n",
      "5   6.0    140020    140020\n",
      "6   7.0     85350     85350\n",
      "7   8.0     62370     62370\n",
      "8   9.0     49205     49205\n",
      "9  10.0    396925    396925\n"
     ]
    }
   ],
   "source": [
    "df_grouped = round_est_values(nmf)\n",
    "print(df_grouped)"
   ]
  },
  {
   "cell_type": "code",
   "execution_count": 33,
   "id": "0bd61861",
   "metadata": {},
   "outputs": [
    {
     "data": {
      "text/plain": [
       "<AxesSubplot:title={'center':'Distribuição valores preditos (filtro -1) - nmf'}, xlabel='est'>"
      ]
     },
     "execution_count": 33,
     "metadata": {},
     "output_type": "execute_result"
    },
    {
     "data": {
      "image/png": "[encoded data removed]",
      "text/plain": [
       "<Figure size 432x288 with 1 Axes>"
      ]
     },
     "metadata": {
      "needs_background": "light"
     },
     "output_type": "display_data"
    }
   ],
   "source": [
    "df_grouped.plot.bar(x='est', y='actual', title=\"Distribuição valores preditos (filtro -1) - nmf\")"
   ]
  },
  {
   "cell_type": "code",
   "execution_count": 34,
   "id": "aab96e47",
   "metadata": {},
   "outputs": [
    {
     "name": "stdout",
     "output_type": "stream",
     "text": [
      "    est  actual  details\n",
      "0   1.0    7330     7330\n",
      "1   2.0     378      378\n",
      "2   3.0     159      159\n",
      "3   4.0      96       96\n",
      "4   5.0      67       67\n",
      "5   6.0      38       38\n",
      "6   7.0      26       26\n",
      "7   8.0      20       20\n",
      "8   9.0      11       11\n",
      "9  10.0     124      124\n"
     ]
    }
   ],
   "source": [
    "df_actual_with_filter_1 = nmf.loc[nmf[\"actual\"] == 1]\n",
    "df_actual_with_filter_1_plot = round_est_values(df_actual_with_filter_1)\n",
    "print(df_actual_with_filter_1_plot)"
   ]
  },
  {
   "cell_type": "code",
   "execution_count": 35,
   "id": "484d11a3",
   "metadata": {},
   "outputs": [
    {
     "data": {
      "text/plain": [
       "<AxesSubplot:title={'center':'Actual 1 counter (filter -1)'}, xlabel='est'>"
      ]
     },
     "execution_count": 35,
     "metadata": {},
     "output_type": "execute_result"
    },
    {
     "data": {
      "image/png": "[encoded data removed]",
      "text/plain": [
       "<Figure size 432x288 with 1 Axes>"
      ]
     },
     "metadata": {
      "needs_background": "light"
     },
     "output_type": "display_data"
    }
   ],
   "source": [
    "df_actual_with_filter_1_plot.plot.bar(x='est', y='actual', title=\"Actual 1 counter (filter -1)\")"
   ]
  },
  {
   "cell_type": "code",
   "execution_count": 36,
   "id": "a3cb317d",
   "metadata": {},
   "outputs": [
    {
     "name": "stdout",
     "output_type": "stream",
     "text": [
      "    est  actual  details\n",
      "0   1.0   11213    11213\n",
      "1   2.0     664      664\n",
      "2   3.0     307      307\n",
      "3   4.0     148      148\n",
      "4   5.0     104      104\n",
      "5   6.0      64       64\n",
      "6   7.0      50       50\n",
      "7   8.0      27       27\n",
      "8   9.0      27       27\n",
      "9  10.0     214      214\n"
     ]
    }
   ],
   "source": [
    "df_actual_with_filter_2 = nmf.loc[nmf[\"actual\"] == 2]\n",
    "df_actual_with_filter_2_plot = round_est_values(df_actual_with_filter_2)\n",
    "print(df_actual_with_filter_2_plot)"
   ]
  },
  {
   "cell_type": "code",
   "execution_count": 37,
   "id": "3f4e8876",
   "metadata": {},
   "outputs": [
    {
     "data": {
      "text/plain": [
       "<AxesSubplot:title={'center':'Actual 2 counter (filter -1)'}, xlabel='est'>"
      ]
     },
     "execution_count": 37,
     "metadata": {},
     "output_type": "execute_result"
    },
    {
     "data": {
      "image/png": "[encoded data removed]",
      "text/plain": [
       "<Figure size 432x288 with 1 Axes>"
      ]
     },
     "metadata": {
      "needs_background": "light"
     },
     "output_type": "display_data"
    }
   ],
   "source": [
    "df_actual_with_filter_2_plot.plot.bar(x='est', y='actual', title=\"Actual 2 counter (filter -1)\")"
   ]
  },
  {
   "cell_type": "code",
   "execution_count": 38,
   "id": "69d2c1aa",
   "metadata": {},
   "outputs": [
    {
     "name": "stdout",
     "output_type": "stream",
     "text": [
      "    est  actual  details\n",
      "0   1.0   21487    21487\n",
      "1   2.0    1235     1235\n",
      "2   3.0     571      571\n",
      "3   4.0     296      296\n",
      "4   5.0     187      187\n",
      "5   6.0     156      156\n",
      "6   7.0      86       86\n",
      "7   8.0      66       66\n",
      "8   9.0      55       55\n",
      "9  10.0     427      427\n"
     ]
    }
   ],
   "source": [
    "df_actual_with_filter_3 = nmf.loc[nmf[\"actual\"] == 3]\n",
    "df_actual_with_filter_3_plot = round_est_values(df_actual_with_filter_3)\n",
    "print(df_actual_with_filter_3_plot)"
   ]
  },
  {
   "cell_type": "code",
   "execution_count": 39,
   "id": "f134350c",
   "metadata": {},
   "outputs": [
    {
     "data": {
      "text/plain": [
       "<AxesSubplot:title={'center':'Actual 3 counter (filter -1)'}, xlabel='est'>"
      ]
     },
     "execution_count": 39,
     "metadata": {},
     "output_type": "execute_result"
    },
    {
     "data": {
      "image/png": "[encoded data removed]",
      "text/plain": [
       "<Figure size 432x288 with 1 Axes>"
      ]
     },
     "metadata": {
      "needs_background": "light"
     },
     "output_type": "display_data"
    }
   ],
   "source": [
    "df_actual_with_filter_3_plot.plot.bar(x='est', y='actual', title=\"Actual 3 counter (filter -1)\")"
   ]
  },
  {
   "cell_type": "code",
   "execution_count": 40,
   "id": "81478902",
   "metadata": {},
   "outputs": [
    {
     "name": "stdout",
     "output_type": "stream",
     "text": [
      "    est  actual  details\n",
      "0   1.0   56953    56953\n",
      "1   2.0    3546     3546\n",
      "2   3.0    1553     1553\n",
      "3   4.0     803      803\n",
      "4   5.0     529      529\n",
      "5   6.0     364      364\n",
      "6   7.0     247      247\n",
      "7   8.0     189      189\n",
      "8   9.0     137      137\n",
      "9  10.0    1170     1170\n"
     ]
    }
   ],
   "source": [
    "df_actual_with_filter_4 = nmf.loc[nmf[\"actual\"] == 4]\n",
    "df_actual_with_filter_4_plot = round_est_values(df_actual_with_filter_4)\n",
    "print(df_actual_with_filter_4_plot)"
   ]
  },
  {
   "cell_type": "code",
   "execution_count": 41,
   "id": "51923082",
   "metadata": {},
   "outputs": [
    {
     "data": {
      "text/plain": [
       "<AxesSubplot:title={'center':'Actual 4 counter (filter -1)'}, xlabel='est'>"
      ]
     },
     "execution_count": 41,
     "metadata": {},
     "output_type": "execute_result"
    },
    {
     "data": {
      "image/png": "[encoded data removed]",
      "text/plain": [
       "<Figure size 432x288 with 1 Axes>"
      ]
     },
     "metadata": {
      "needs_background": "light"
     },
     "output_type": "display_data"
    }
   ],
   "source": [
    "df_actual_with_filter_4_plot.plot.bar(x='est', y='actual', title=\"Actual 4 counter (filter -1)\")"
   ]
  },
  {
   "cell_type": "code",
   "execution_count": 42,
   "id": "06daddb0",
   "metadata": {},
   "outputs": [
    {
     "name": "stdout",
     "output_type": "stream",
     "text": [
      "    est  actual  details\n",
      "0   1.0  165774   165774\n",
      "1   2.0   10344    10344\n",
      "2   3.0    4545     4545\n",
      "3   4.0    2460     2460\n",
      "4   5.0    1590     1590\n",
      "5   6.0    1096     1096\n",
      "6   7.0     767      767\n",
      "7   8.0     548      548\n",
      "8   9.0     445      445\n",
      "9  10.0    3600     3600\n"
     ]
    }
   ],
   "source": [
    "df_actual_with_filter_5 = nmf.loc[nmf[\"actual\"] == 5]\n",
    "df_actual_with_filter_5_plot = round_est_values(df_actual_with_filter_5)\n",
    "print(df_actual_with_filter_5_plot)"
   ]
  },
  {
   "cell_type": "code",
   "execution_count": 43,
   "id": "d3563afd",
   "metadata": {},
   "outputs": [
    {
     "data": {
      "text/plain": [
       "<AxesSubplot:title={'center':'Actual 5 counter (filter -1)'}, xlabel='est'>"
      ]
     },
     "execution_count": 43,
     "metadata": {},
     "output_type": "execute_result"
    },
    {
     "data": {
      "image/png": "[encoded data removed]",
      "text/plain": [
       "<Figure size 432x288 with 1 Axes>"
      ]
     },
     "metadata": {
      "needs_background": "light"
     },
     "output_type": "display_data"
    }
   ],
   "source": [
    "df_actual_with_filter_5_plot.plot.bar(x='est', y='actual', title=\"Actual 5 counter (filter -1)\")"
   ]
  },
  {
   "cell_type": "code",
   "execution_count": 44,
   "id": "c7717855",
   "metadata": {},
   "outputs": [
    {
     "name": "stdout",
     "output_type": "stream",
     "text": [
      "    est  actual  details\n",
      "0   1.0  450807   450807\n",
      "1   2.0   29452    29452\n",
      "2   3.0   12865    12865\n",
      "3   4.0    7010     7010\n",
      "4   5.0    4350     4350\n",
      "5   6.0    2897     2897\n",
      "6   7.0    2150     2150\n",
      "7   8.0    1621     1621\n",
      "8   9.0    1202     1202\n",
      "9  10.0   10010    10010\n"
     ]
    }
   ],
   "source": [
    "df_actual_with_filter_6 = nmf.loc[nmf[\"actual\"] == 6]\n",
    "df_actual_with_filter_6_plot = round_est_values(df_actual_with_filter_6)\n",
    "print(df_actual_with_filter_6_plot)"
   ]
  },
  {
   "cell_type": "code",
   "execution_count": 45,
   "id": "f9b94eb1",
   "metadata": {},
   "outputs": [
    {
     "data": {
      "text/plain": [
       "<AxesSubplot:title={'center':'Actual 6 counter (filter -1)'}, xlabel='est'>"
      ]
     },
     "execution_count": 45,
     "metadata": {},
     "output_type": "execute_result"
    },
    {
     "data": {
      "image/png": "[encoded data removed]",
      "text/plain": [
       "<Figure size 432x288 with 1 Axes>"
      ]
     },
     "metadata": {
      "needs_background": "light"
     },
     "output_type": "display_data"
    }
   ],
   "source": [
    "df_actual_with_filter_6_plot.plot.bar(x='est', y='actual', title=\"Actual 6 counter (filter -1)\")"
   ]
  },
  {
   "cell_type": "code",
   "execution_count": 46,
   "id": "13434d13",
   "metadata": {},
   "outputs": [
    {
     "name": "stdout",
     "output_type": "stream",
     "text": [
      "    est   actual  details\n",
      "0   1.0  1347892  1347892\n",
      "1   2.0    85329    85329\n",
      "2   3.0    38141    38141\n",
      "3   4.0    20544    20544\n",
      "4   5.0    12457    12457\n",
      "5   6.0     9076     9076\n",
      "6   7.0     5901     5901\n",
      "7   8.0     4619     4619\n",
      "8   9.0     3516     3516\n",
      "9  10.0    27771    27771\n"
     ]
    }
   ],
   "source": [
    "df_actual_with_filter_7 = nmf.loc[nmf[\"actual\"] == 7]\n",
    "df_actual_with_filter_7_plot = round_est_values(df_actual_with_filter_7)\n",
    "print(df_actual_with_filter_7_plot)"
   ]
  },
  {
   "cell_type": "code",
   "execution_count": 47,
   "id": "e531bc2f",
   "metadata": {},
   "outputs": [
    {
     "data": {
      "text/plain": [
       "<AxesSubplot:title={'center':'Actual 7 counter (filter -1)'}, xlabel='est'>"
      ]
     },
     "execution_count": 47,
     "metadata": {},
     "output_type": "execute_result"
    },
    {
     "data": {
      "image/png": "[encoded data removed]",
      "text/plain": [
       "<Figure size 432x288 with 1 Axes>"
      ]
     },
     "metadata": {
      "needs_background": "light"
     },
     "output_type": "display_data"
    }
   ],
   "source": [
    "df_actual_with_filter_7_plot.plot.bar(x='est', y='actual', title=\"Actual 7 counter (filter -1)\")"
   ]
  },
  {
   "cell_type": "code",
   "execution_count": 48,
   "id": "cd794856",
   "metadata": {},
   "outputs": [
    {
     "name": "stdout",
     "output_type": "stream",
     "text": [
      "    est   actual  details\n",
      "0   1.0  1910114  1910114\n",
      "1   2.0   116893   116893\n",
      "2   3.0    51056    51056\n",
      "3   4.0    27504    27504\n",
      "4   5.0    16750    16750\n",
      "5   6.0    12304    12304\n",
      "6   7.0     7869     7869\n",
      "7   8.0     5646     5646\n",
      "8   9.0     4571     4571\n",
      "9  10.0    36947    36947\n"
     ]
    }
   ],
   "source": [
    "df_actual_with_filter_8 = nmf.loc[nmf[\"actual\"] == 8]\n",
    "df_actual_with_filter_8_plot = round_est_values(df_actual_with_filter_8)\n",
    "print(df_actual_with_filter_8_plot)"
   ]
  },
  {
   "cell_type": "code",
   "execution_count": 49,
   "id": "76e9b15a",
   "metadata": {},
   "outputs": [
    {
     "data": {
      "text/plain": [
       "<AxesSubplot:title={'center':'Actual 8 counter (filter -1)'}, xlabel='est'>"
      ]
     },
     "execution_count": 49,
     "metadata": {},
     "output_type": "execute_result"
    },
    {
     "data": {
      "image/png": "[encoded data removed]",
      "text/plain": [
       "<Figure size 432x288 with 1 Axes>"
      ]
     },
     "metadata": {
      "needs_background": "light"
     },
     "output_type": "display_data"
    }
   ],
   "source": [
    "df_actual_with_filter_8_plot.plot.bar(x='est', y='actual', title=\"Actual 8 counter (filter -1)\")"
   ]
  },
  {
   "cell_type": "code",
   "execution_count": 50,
   "id": "dc00696a",
   "metadata": {},
   "outputs": [
    {
     "name": "stdout",
     "output_type": "stream",
     "text": [
      "    est   actual  details\n",
      "0   1.0  1359073  1359073\n",
      "1   2.0    79678    79678\n",
      "2   3.0    34642    34642\n",
      "3   4.0    18684    18684\n",
      "4   5.0    11398    11398\n",
      "5   6.0     8870     8870\n",
      "6   7.0     5691     5691\n",
      "7   8.0     3911     3911\n",
      "8   9.0     3247     3247\n",
      "9  10.0    24678    24678\n"
     ]
    }
   ],
   "source": [
    "df_actual_with_filter_9 = nmf.loc[nmf[\"actual\"] == 9]\n",
    "df_actual_with_filter_9_plot = round_est_values(df_actual_with_filter_9)\n",
    "print(df_actual_with_filter_9_plot)"
   ]
  },
  {
   "cell_type": "code",
   "execution_count": 51,
   "id": "06841515",
   "metadata": {},
   "outputs": [
    {
     "data": {
      "text/plain": [
       "<AxesSubplot:title={'center':'Actual 9 counter (filter -1)'}, xlabel='est'>"
      ]
     },
     "execution_count": 51,
     "metadata": {},
     "output_type": "execute_result"
    },
    {
     "data": {
      "image/png": "[encoded data removed]",
      "text/plain": [
       "<Figure size 432x288 with 1 Axes>"
      ]
     },
     "metadata": {
      "needs_background": "light"
     },
     "output_type": "display_data"
    }
   ],
   "source": [
    "df_actual_with_filter_9_plot.plot.bar(x='est', y='actual', title=\"Actual 9 counter (filter -1)\")"
   ]
  },
  {
   "cell_type": "code",
   "execution_count": 52,
   "id": "c3df8a5e",
   "metadata": {},
   "outputs": [
    {
     "name": "stdout",
     "output_type": "stream",
     "text": [
      "    est  actual  details\n",
      "0   1.0  920765   920765\n",
      "1   2.0   53052    53052\n",
      "2   3.0   22791    22791\n",
      "3   4.0   12357    12357\n",
      "4   5.0    7721     7721\n",
      "5   6.0    7300     7300\n",
      "6   7.0    3593     3593\n",
      "7   8.0    2586     2586\n",
      "8   9.0    2068     2068\n",
      "9  10.0   16416    16416\n"
     ]
    }
   ],
   "source": [
    "df_actual_with_filter_10 = nmf.loc[nmf[\"actual\"] == 10]\n",
    "df_actual_with_filter_10_plot = round_est_values(df_actual_with_filter_10)\n",
    "print(df_actual_with_filter_10_plot)"
   ]
  },
  {
   "cell_type": "code",
   "execution_count": 53,
   "id": "6b0fbf3c",
   "metadata": {},
   "outputs": [
    {
     "data": {
      "text/plain": [
       "<AxesSubplot:title={'center':'Actual 10 counter (filter -1)'}, xlabel='est'>"
      ]
     },
     "execution_count": 53,
     "metadata": {},
     "output_type": "execute_result"
    },
    {
     "data": {
      "image/png": "[encoded data removed]",
      "text/plain": [
       "<Figure size 432x288 with 1 Axes>"
      ]
     },
     "metadata": {
      "needs_background": "light"
     },
     "output_type": "display_data"
    }
   ],
   "source": [
    "df_actual_with_filter_10_plot.plot.bar(x='est', y='actual', title=\"Actual 10 counter (filter -1)\")"
   ]
  },
  {
   "cell_type": "code",
   "execution_count": 54,
   "id": "28581003",
   "metadata": {},
   "outputs": [],
   "source": [
    "round_df = np.round(nmf[\"est\"], decimals=0)\n",
    "round_df = round_df.reset_index()\n",
    "nmf = nmf.reset_index()[[\"index\", \"actual\", \"details\"]]\n",
    "nmf = nmf.merge(round_df, on=\"index\", how=\"left\")\n",
    "nmf = nmf.set_index(\"index\")"
   ]
  },
  {
   "cell_type": "code",
   "execution_count": 55,
   "id": "e22bca6b",
   "metadata": {},
   "outputs": [
    {
     "data": {
      "image/png": "[encoded data removed]",
      "text/plain": [
       "<Figure size 432x288 with 1 Axes>"
      ]
     },
     "metadata": {
      "needs_background": "light"
     },
     "output_type": "display_data"
    }
   ],
   "source": [
    "est_df = nmf[\"est\"].tolist()\n",
    "plot_violin_graph_base(est_df, title=\"Estimation (filter -1)\")"
   ]
  },
  {
   "cell_type": "code",
   "execution_count": null,
   "id": "78426101",
   "metadata": {},
   "outputs": [],
   "source": []
  },
  {
   "cell_type": "code",
   "execution_count": null,
   "id": "b94c8f39",
   "metadata": {},
   "outputs": [],
   "source": []
  }
 ],
 "metadata": {
  "kernelspec": {
   "display_name": "Python 3",
   "language": "python",
   "name": "python3"
  },
  "language_info": {
   "codemirror_mode": {
    "name": "ipython",
    "version": 3
   },
   "file_extension": ".py",
   "mimetype": "text/x-python",
   "name": "python",
   "nbconvert_exporter": "python",
   "pygments_lexer": "ipython3",
   "version": "3.6.5"
  }
 },
 "nbformat": 4,
 "nbformat_minor": 5
}
